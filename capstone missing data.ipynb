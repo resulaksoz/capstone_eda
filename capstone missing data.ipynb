{
 "cells": [
  {
   "cell_type": "code",
   "execution_count": 1,
   "id": "a3d2c3e0",
   "metadata": {},
   "outputs": [],
   "source": [
    "import pandas as pd\n",
    "import numpy as np\n"
   ]
  },
  {
   "cell_type": "code",
   "execution_count": 2,
   "id": "47759d85",
   "metadata": {},
   "outputs": [],
   "source": [
    "pd.options.display.max_rows = 100\n",
    "pd.options.display.max_columns = 100"
   ]
  },
  {
   "cell_type": "code",
   "execution_count": 3,
   "id": "34d5e9cf",
   "metadata": {},
   "outputs": [],
   "source": [
    "df=pd.read_csv('clean_scout_auto.csv')\n"
   ]
  },
  {
   "cell_type": "code",
   "execution_count": 4,
   "id": "c233b5d3",
   "metadata": {},
   "outputs": [
    {
     "data": {
      "text/html": [
       "<div>\n",
       "<style scoped>\n",
       "    .dataframe tbody tr th:only-of-type {\n",
       "        vertical-align: middle;\n",
       "    }\n",
       "\n",
       "    .dataframe tbody tr th {\n",
       "        vertical-align: top;\n",
       "    }\n",
       "\n",
       "    .dataframe thead th {\n",
       "        text-align: right;\n",
       "    }\n",
       "</style>\n",
       "<table border=\"1\" class=\"dataframe\">\n",
       "  <thead>\n",
       "    <tr style=\"text-align: right;\">\n",
       "      <th></th>\n",
       "      <th>13753</th>\n",
       "      <th>14157</th>\n",
       "      <th>11738</th>\n",
       "      <th>4295</th>\n",
       "    </tr>\n",
       "  </thead>\n",
       "  <tbody>\n",
       "    <tr>\n",
       "      <th>brand_model</th>\n",
       "      <td>Renault Clio</td>\n",
       "      <td>Renault Clio</td>\n",
       "      <td>Opel Insignia</td>\n",
       "      <td>Audi A3</td>\n",
       "    </tr>\n",
       "    <tr>\n",
       "      <th>body_type</th>\n",
       "      <td>Transporter</td>\n",
       "      <td>Compact</td>\n",
       "      <td>Sedans</td>\n",
       "      <td>Sedans</td>\n",
       "    </tr>\n",
       "    <tr>\n",
       "      <th>price</th>\n",
       "      <td>6200</td>\n",
       "      <td>9870</td>\n",
       "      <td>16990</td>\n",
       "      <td>17990</td>\n",
       "    </tr>\n",
       "    <tr>\n",
       "      <th>age</th>\n",
       "      <td>3.0</td>\n",
       "      <td>0.0</td>\n",
       "      <td>2.0</td>\n",
       "      <td>2.0</td>\n",
       "    </tr>\n",
       "    <tr>\n",
       "      <th>km</th>\n",
       "      <td>99000.0</td>\n",
       "      <td>10.0</td>\n",
       "      <td>16145.0</td>\n",
       "      <td>28000.0</td>\n",
       "    </tr>\n",
       "    <tr>\n",
       "      <th>Fuel</th>\n",
       "      <td>Diesel</td>\n",
       "      <td>Benzine</td>\n",
       "      <td>Benzine</td>\n",
       "      <td>Diesel</td>\n",
       "    </tr>\n",
       "    <tr>\n",
       "      <th>Type</th>\n",
       "      <td>Used</td>\n",
       "      <td>Pre-registered</td>\n",
       "      <td>Used</td>\n",
       "      <td>Used</td>\n",
       "    </tr>\n",
       "    <tr>\n",
       "      <th>prev_owner</th>\n",
       "      <td>NaN</td>\n",
       "      <td>1.0</td>\n",
       "      <td>1.0</td>\n",
       "      <td>1.0</td>\n",
       "    </tr>\n",
       "    <tr>\n",
       "      <th>Body Color</th>\n",
       "      <td>White</td>\n",
       "      <td>White</td>\n",
       "      <td>White</td>\n",
       "      <td>Black</td>\n",
       "    </tr>\n",
       "    <tr>\n",
       "      <th>Paint Type</th>\n",
       "      <td>NaN</td>\n",
       "      <td>NaN</td>\n",
       "      <td>NaN</td>\n",
       "      <td>Metallic</td>\n",
       "    </tr>\n",
       "    <tr>\n",
       "      <th>Gearing Type</th>\n",
       "      <td>Manual</td>\n",
       "      <td>Manual</td>\n",
       "      <td>Manual</td>\n",
       "      <td>Manual</td>\n",
       "    </tr>\n",
       "    <tr>\n",
       "      <th>hp</th>\n",
       "      <td>66.0</td>\n",
       "      <td>54.0</td>\n",
       "      <td>103.0</td>\n",
       "      <td>81.0</td>\n",
       "    </tr>\n",
       "    <tr>\n",
       "      <th>Consumption_comb</th>\n",
       "      <td>NaN</td>\n",
       "      <td>5.6</td>\n",
       "      <td>6.2</td>\n",
       "      <td>4.0</td>\n",
       "    </tr>\n",
       "    <tr>\n",
       "      <th>Consumption_city</th>\n",
       "      <td>NaN</td>\n",
       "      <td>7.2</td>\n",
       "      <td>7.7</td>\n",
       "      <td>4.7</td>\n",
       "    </tr>\n",
       "    <tr>\n",
       "      <th>Consumption_country</th>\n",
       "      <td>NaN</td>\n",
       "      <td>4.7</td>\n",
       "      <td>5.3</td>\n",
       "      <td>3.6</td>\n",
       "    </tr>\n",
       "    <tr>\n",
       "      <th>Comfort &amp; Convenience</th>\n",
       "      <td>Air conditioning, Cruise control</td>\n",
       "      <td>Cruise control, Electrical side mirrors, Power...</td>\n",
       "      <td>Air conditioning, Armrest, Electrically adjust...</td>\n",
       "      <td>Air conditioning, Armrest, Automatic climate c...</td>\n",
       "    </tr>\n",
       "    <tr>\n",
       "      <th>Entertainment &amp; Media</th>\n",
       "      <td>NaN</td>\n",
       "      <td>On-board computer</td>\n",
       "      <td>Bluetooth, Digital radio, Hands-free equipment...</td>\n",
       "      <td>Bluetooth, CD player, On-board computer, Radio...</td>\n",
       "    </tr>\n",
       "    <tr>\n",
       "      <th>Safety &amp; Security</th>\n",
       "      <td>Central door lock, Fog lights</td>\n",
       "      <td>ABS, Central door lock, Daytime running lights...</td>\n",
       "      <td>ABS, Adaptive Cruise Control, Adaptive headlig...</td>\n",
       "      <td>ABS, Central door lock, Central door lock with...</td>\n",
       "    </tr>\n",
       "    <tr>\n",
       "      <th>Extras</th>\n",
       "      <td>NaN</td>\n",
       "      <td>Catalytic Converter</td>\n",
       "      <td>Alloy wheels, Roof rack, Touch screen</td>\n",
       "      <td>Alloy wheels, Ski bag, Voice Control</td>\n",
       "    </tr>\n",
       "    <tr>\n",
       "      <th>Upholstery_type</th>\n",
       "      <td>NaN</td>\n",
       "      <td>Cloth</td>\n",
       "      <td>Cloth</td>\n",
       "      <td>Cloth</td>\n",
       "    </tr>\n",
       "    <tr>\n",
       "      <th>Upholstery_color</th>\n",
       "      <td>NaN</td>\n",
       "      <td>Other</td>\n",
       "      <td>Black</td>\n",
       "      <td>Grey</td>\n",
       "    </tr>\n",
       "    <tr>\n",
       "      <th>vat</th>\n",
       "      <td>NaN</td>\n",
       "      <td>VAT deductible</td>\n",
       "      <td>VAT deductible</td>\n",
       "      <td>NaN</td>\n",
       "    </tr>\n",
       "    <tr>\n",
       "      <th>Warranty</th>\n",
       "      <td>3.0</td>\n",
       "      <td>NaN</td>\n",
       "      <td>NaN</td>\n",
       "      <td>12.0</td>\n",
       "    </tr>\n",
       "    <tr>\n",
       "      <th>Body Color Original</th>\n",
       "      <td>Blanc</td>\n",
       "      <td>Arktis-Weiß (369)</td>\n",
       "      <td>Schneeweiß</td>\n",
       "      <td>NaN</td>\n",
       "    </tr>\n",
       "    <tr>\n",
       "      <th>Nr. of Doors</th>\n",
       "      <td>NaN</td>\n",
       "      <td>5.0</td>\n",
       "      <td>4.0</td>\n",
       "      <td>5.0</td>\n",
       "    </tr>\n",
       "    <tr>\n",
       "      <th>Nr. of Seats</th>\n",
       "      <td>NaN</td>\n",
       "      <td>5.0</td>\n",
       "      <td>5.0</td>\n",
       "      <td>5.0</td>\n",
       "    </tr>\n",
       "    <tr>\n",
       "      <th>Displacement</th>\n",
       "      <td>NaN</td>\n",
       "      <td>1149.0</td>\n",
       "      <td>1490.0</td>\n",
       "      <td>1598.0</td>\n",
       "    </tr>\n",
       "    <tr>\n",
       "      <th>Cylinders</th>\n",
       "      <td>NaN</td>\n",
       "      <td>NaN</td>\n",
       "      <td>NaN</td>\n",
       "      <td>4.0</td>\n",
       "    </tr>\n",
       "    <tr>\n",
       "      <th>Weight</th>\n",
       "      <td>NaN</td>\n",
       "      <td>1052.0</td>\n",
       "      <td>NaN</td>\n",
       "      <td>1385.0</td>\n",
       "    </tr>\n",
       "    <tr>\n",
       "      <th>Drive chain</th>\n",
       "      <td>NaN</td>\n",
       "      <td>front</td>\n",
       "      <td>NaN</td>\n",
       "      <td>front</td>\n",
       "    </tr>\n",
       "    <tr>\n",
       "      <th>CO2 Emission</th>\n",
       "      <td>NaN</td>\n",
       "      <td>133.0</td>\n",
       "      <td>141.0</td>\n",
       "      <td>105.0</td>\n",
       "    </tr>\n",
       "    <tr>\n",
       "      <th>Emission Class</th>\n",
       "      <td>NaN</td>\n",
       "      <td>Euro 6</td>\n",
       "      <td>Euro 6</td>\n",
       "      <td>Euro 6</td>\n",
       "    </tr>\n",
       "    <tr>\n",
       "      <th>Gears</th>\n",
       "      <td>NaN</td>\n",
       "      <td>5.0</td>\n",
       "      <td>NaN</td>\n",
       "      <td>6.0</td>\n",
       "    </tr>\n",
       "  </tbody>\n",
       "</table>\n",
       "</div>"
      ],
      "text/plain": [
       "                                                  13753  \\\n",
       "brand_model                                Renault Clio   \n",
       "body_type                                   Transporter   \n",
       "price                                              6200   \n",
       "age                                                 3.0   \n",
       "km                                              99000.0   \n",
       "Fuel                                             Diesel   \n",
       "Type                                               Used   \n",
       "prev_owner                                          NaN   \n",
       "Body Color                                        White   \n",
       "Paint Type                                          NaN   \n",
       "Gearing Type                                     Manual   \n",
       "hp                                                 66.0   \n",
       "Consumption_comb                                    NaN   \n",
       "Consumption_city                                    NaN   \n",
       "Consumption_country                                 NaN   \n",
       "Comfort & Convenience  Air conditioning, Cruise control   \n",
       "Entertainment & Media                               NaN   \n",
       "Safety & Security         Central door lock, Fog lights   \n",
       "Extras                                              NaN   \n",
       "Upholstery_type                                     NaN   \n",
       "Upholstery_color                                    NaN   \n",
       "vat                                                 NaN   \n",
       "Warranty                                            3.0   \n",
       "Body Color Original                               Blanc   \n",
       "Nr. of Doors                                        NaN   \n",
       "Nr. of Seats                                        NaN   \n",
       "Displacement                                        NaN   \n",
       "Cylinders                                           NaN   \n",
       "Weight                                              NaN   \n",
       "Drive chain                                         NaN   \n",
       "CO2 Emission                                        NaN   \n",
       "Emission Class                                      NaN   \n",
       "Gears                                               NaN   \n",
       "\n",
       "                                                                   14157  \\\n",
       "brand_model                                                 Renault Clio   \n",
       "body_type                                                        Compact   \n",
       "price                                                               9870   \n",
       "age                                                                  0.0   \n",
       "km                                                                  10.0   \n",
       "Fuel                                                             Benzine   \n",
       "Type                                                      Pre-registered   \n",
       "prev_owner                                                           1.0   \n",
       "Body Color                                                         White   \n",
       "Paint Type                                                           NaN   \n",
       "Gearing Type                                                      Manual   \n",
       "hp                                                                  54.0   \n",
       "Consumption_comb                                                     5.6   \n",
       "Consumption_city                                                     7.2   \n",
       "Consumption_country                                                  4.7   \n",
       "Comfort & Convenience  Cruise control, Electrical side mirrors, Power...   \n",
       "Entertainment & Media                                  On-board computer   \n",
       "Safety & Security      ABS, Central door lock, Daytime running lights...   \n",
       "Extras                                               Catalytic Converter   \n",
       "Upholstery_type                                                    Cloth   \n",
       "Upholstery_color                                                   Other   \n",
       "vat                                                       VAT deductible   \n",
       "Warranty                                                             NaN   \n",
       "Body Color Original                                    Arktis-Weiß (369)   \n",
       "Nr. of Doors                                                         5.0   \n",
       "Nr. of Seats                                                         5.0   \n",
       "Displacement                                                      1149.0   \n",
       "Cylinders                                                            NaN   \n",
       "Weight                                                            1052.0   \n",
       "Drive chain                                                        front   \n",
       "CO2 Emission                                                       133.0   \n",
       "Emission Class                                                    Euro 6   \n",
       "Gears                                                                5.0   \n",
       "\n",
       "                                                                   11738  \\\n",
       "brand_model                                                Opel Insignia   \n",
       "body_type                                                         Sedans   \n",
       "price                                                              16990   \n",
       "age                                                                  2.0   \n",
       "km                                                               16145.0   \n",
       "Fuel                                                             Benzine   \n",
       "Type                                                                Used   \n",
       "prev_owner                                                           1.0   \n",
       "Body Color                                                         White   \n",
       "Paint Type                                                           NaN   \n",
       "Gearing Type                                                      Manual   \n",
       "hp                                                                 103.0   \n",
       "Consumption_comb                                                     6.2   \n",
       "Consumption_city                                                     7.7   \n",
       "Consumption_country                                                  5.3   \n",
       "Comfort & Convenience  Air conditioning, Armrest, Electrically adjust...   \n",
       "Entertainment & Media  Bluetooth, Digital radio, Hands-free equipment...   \n",
       "Safety & Security      ABS, Adaptive Cruise Control, Adaptive headlig...   \n",
       "Extras                             Alloy wheels, Roof rack, Touch screen   \n",
       "Upholstery_type                                                    Cloth   \n",
       "Upholstery_color                                                   Black   \n",
       "vat                                                       VAT deductible   \n",
       "Warranty                                                             NaN   \n",
       "Body Color Original                                           Schneeweiß   \n",
       "Nr. of Doors                                                         4.0   \n",
       "Nr. of Seats                                                         5.0   \n",
       "Displacement                                                      1490.0   \n",
       "Cylinders                                                            NaN   \n",
       "Weight                                                               NaN   \n",
       "Drive chain                                                          NaN   \n",
       "CO2 Emission                                                       141.0   \n",
       "Emission Class                                                    Euro 6   \n",
       "Gears                                                                NaN   \n",
       "\n",
       "                                                                   4295   \n",
       "brand_model                                                      Audi A3  \n",
       "body_type                                                         Sedans  \n",
       "price                                                              17990  \n",
       "age                                                                  2.0  \n",
       "km                                                               28000.0  \n",
       "Fuel                                                              Diesel  \n",
       "Type                                                                Used  \n",
       "prev_owner                                                           1.0  \n",
       "Body Color                                                         Black  \n",
       "Paint Type                                                      Metallic  \n",
       "Gearing Type                                                      Manual  \n",
       "hp                                                                  81.0  \n",
       "Consumption_comb                                                     4.0  \n",
       "Consumption_city                                                     4.7  \n",
       "Consumption_country                                                  3.6  \n",
       "Comfort & Convenience  Air conditioning, Armrest, Automatic climate c...  \n",
       "Entertainment & Media  Bluetooth, CD player, On-board computer, Radio...  \n",
       "Safety & Security      ABS, Central door lock, Central door lock with...  \n",
       "Extras                              Alloy wheels, Ski bag, Voice Control  \n",
       "Upholstery_type                                                    Cloth  \n",
       "Upholstery_color                                                    Grey  \n",
       "vat                                                                  NaN  \n",
       "Warranty                                                            12.0  \n",
       "Body Color Original                                                  NaN  \n",
       "Nr. of Doors                                                         5.0  \n",
       "Nr. of Seats                                                         5.0  \n",
       "Displacement                                                      1598.0  \n",
       "Cylinders                                                            4.0  \n",
       "Weight                                                            1385.0  \n",
       "Drive chain                                                        front  \n",
       "CO2 Emission                                                       105.0  \n",
       "Emission Class                                                    Euro 6  \n",
       "Gears                                                                6.0  "
      ]
     },
     "execution_count": 4,
     "metadata": {},
     "output_type": "execute_result"
    }
   ],
   "source": [
    "df.sample(4).T"
   ]
  },
  {
   "cell_type": "code",
   "execution_count": 5,
   "id": "eb9b0b67",
   "metadata": {},
   "outputs": [
    {
     "data": {
      "text/plain": [
       "(15919, 33)"
      ]
     },
     "execution_count": 5,
     "metadata": {},
     "output_type": "execute_result"
    }
   ],
   "source": [
    "df.shape"
   ]
  },
  {
   "cell_type": "code",
   "execution_count": 6,
   "id": "7851b8fb",
   "metadata": {
    "scrolled": false
   },
   "outputs": [
    {
     "data": {
      "text/plain": [
       "brand_model                  0\n",
       "body_type                   60\n",
       "price                        0\n",
       "age                       1597\n",
       "km                        1024\n",
       "Fuel                         0\n",
       "Type                         2\n",
       "prev_owner                6828\n",
       "Body Color                 597\n",
       "Paint Type                5772\n",
       "Gearing Type                 0\n",
       "hp                          88\n",
       "Consumption_comb          2085\n",
       "Consumption_city          2466\n",
       "Consumption_country       2418\n",
       "Comfort & Convenience      920\n",
       "Entertainment & Media     1374\n",
       "Safety & Security          982\n",
       "Extras                    2962\n",
       "Upholstery_type           4503\n",
       "Upholstery_color          5022\n",
       "vat                       4513\n",
       "Warranty                 11066\n",
       "Body Color Original       3774\n",
       "Nr. of Doors               212\n",
       "Nr. of Seats               977\n",
       "Displacement              3437\n",
       "Cylinders                 5680\n",
       "Weight                    6974\n",
       "Drive chain               6858\n",
       "CO2 Emission              2436\n",
       "Emission Class            3628\n",
       "Gears                     4712\n",
       "dtype: int64"
      ]
     },
     "execution_count": 6,
     "metadata": {},
     "output_type": "execute_result"
    }
   ],
   "source": [
    "df.isnull().sum()"
   ]
  },
  {
   "cell_type": "code",
   "execution_count": 7,
   "id": "64aa9d6c",
   "metadata": {},
   "outputs": [],
   "source": [
    "df=df.dropna(thresh=13).drop_duplicates(subset=None, keep='first', inplace=False).reset_index(drop=True)\n",
    "##with this code we dropped rows that either duplicates or  70% of empty. "
   ]
  },
  {
   "cell_type": "code",
   "execution_count": 8,
   "id": "7c779923",
   "metadata": {},
   "outputs": [
    {
     "data": {
      "text/plain": [
       "Index(['brand_model', 'body_type', 'price', 'age', 'km', 'Fuel', 'Type',\n",
       "       'prev_owner', 'Body Color', 'Paint Type', 'Gearing Type', 'hp',\n",
       "       'Consumption_comb', 'Consumption_city', 'Consumption_country',\n",
       "       'Comfort & Convenience', 'Entertainment & Media', 'Safety & Security',\n",
       "       'Extras', 'Upholstery_type', 'Upholstery_color', 'vat', 'Warranty',\n",
       "       'Body Color Original', 'Nr. of Doors', 'Nr. of Seats', 'Displacement',\n",
       "       'Cylinders', 'Weight', 'Drive chain', 'CO2 Emission', 'Emission Class',\n",
       "       'Gears'],\n",
       "      dtype='object')"
      ]
     },
     "execution_count": 8,
     "metadata": {},
     "output_type": "execute_result"
    }
   ],
   "source": [
    "df.columns"
   ]
  },
  {
   "cell_type": "markdown",
   "id": "55af4b9d",
   "metadata": {},
   "source": [
    "# Firstly, we will handle missing values in the categorical columns."
   ]
  },
  {
   "cell_type": "markdown",
   "id": "67f7c817",
   "metadata": {},
   "source": [
    "## brand_model"
   ]
  },
  {
   "cell_type": "code",
   "execution_count": 9,
   "id": "3932fdfb",
   "metadata": {
    "scrolled": true
   },
   "outputs": [
    {
     "data": {
      "text/plain": [
       "Audi A3           2808\n",
       "Opel Insignia     2411\n",
       "Audi A1           2394\n",
       "Opel Astra        2319\n",
       "Opel Corsa        2051\n",
       "Renault Clio      1486\n",
       "Renault Espace     872\n",
       "Renault Duster      34\n",
       "Audi A2              1\n",
       "Name: brand_model, dtype: int64"
      ]
     },
     "execution_count": 9,
     "metadata": {},
     "output_type": "execute_result"
    }
   ],
   "source": [
    "df['brand_model'].value_counts()"
   ]
  },
  {
   "cell_type": "code",
   "execution_count": 10,
   "id": "c49077ee",
   "metadata": {},
   "outputs": [
    {
     "data": {
      "text/plain": [
       "0"
      ]
     },
     "execution_count": 10,
     "metadata": {},
     "output_type": "execute_result"
    }
   ],
   "source": [
    "df['brand_model'].isnull().sum()\n",
    "#There is no missing value."
   ]
  },
  {
   "cell_type": "markdown",
   "id": "1f4d6f92",
   "metadata": {},
   "source": [
    "## 'body_type'"
   ]
  },
  {
   "cell_type": "code",
   "execution_count": 11,
   "id": "36c792eb",
   "metadata": {},
   "outputs": [
    {
     "data": {
      "text/plain": [
       "Sedans           7203\n",
       "Station wagon    3302\n",
       "Compact          2683\n",
       "Van               698\n",
       "Other             272\n",
       "Transporter        86\n",
       "Off-Road           56\n",
       "NaN                44\n",
       "Coupe              24\n",
       "Convertible         8\n",
       "Name: body_type, dtype: int64"
      ]
     },
     "execution_count": 11,
     "metadata": {},
     "output_type": "execute_result"
    }
   ],
   "source": [
    "df['body_type'].value_counts(dropna=False)"
   ]
  },
  {
   "cell_type": "code",
   "execution_count": 12,
   "id": "4842d3fa",
   "metadata": {},
   "outputs": [],
   "source": [
    "df[\"body_type\"].fillna(df.groupby(['brand_model'])['body_type'].transform(lambda x: x.mode()[0]),inplace=True)\n"
   ]
  },
  {
   "cell_type": "code",
   "execution_count": 13,
   "id": "96020e8c",
   "metadata": {},
   "outputs": [
    {
     "data": {
      "text/plain": [
       "Sedans           7221\n",
       "Station wagon    3305\n",
       "Compact          2685\n",
       "Van               719\n",
       "Other             272\n",
       "Transporter        86\n",
       "Off-Road           56\n",
       "Coupe              24\n",
       "Convertible         8\n",
       "Name: body_type, dtype: int64"
      ]
     },
     "execution_count": 13,
     "metadata": {},
     "output_type": "execute_result"
    }
   ],
   "source": [
    "df['body_type'].value_counts(dropna=False)"
   ]
  },
  {
   "cell_type": "markdown",
   "id": "1fcd99bf",
   "metadata": {},
   "source": [
    "## 'age'"
   ]
  },
  {
   "cell_type": "code",
   "execution_count": 14,
   "id": "df650c68",
   "metadata": {},
   "outputs": [
    {
     "data": {
      "text/plain": [
       "1.0    4291\n",
       "3.0    3304\n",
       "2.0    2887\n",
       "0.0    2515\n",
       "NaN    1379\n",
       "Name: age, dtype: int64"
      ]
     },
     "execution_count": 14,
     "metadata": {},
     "output_type": "execute_result"
    }
   ],
   "source": [
    "df['age'].value_counts(dropna=False)"
   ]
  },
  {
   "cell_type": "code",
   "execution_count": 15,
   "id": "78c2c0c5",
   "metadata": {},
   "outputs": [
    {
     "data": {
      "text/html": [
       "<div>\n",
       "<style scoped>\n",
       "    .dataframe tbody tr th:only-of-type {\n",
       "        vertical-align: middle;\n",
       "    }\n",
       "\n",
       "    .dataframe tbody tr th {\n",
       "        vertical-align: top;\n",
       "    }\n",
       "\n",
       "    .dataframe thead th {\n",
       "        text-align: right;\n",
       "    }\n",
       "</style>\n",
       "<table border=\"1\" class=\"dataframe\">\n",
       "  <thead>\n",
       "    <tr style=\"text-align: right;\">\n",
       "      <th></th>\n",
       "      <th>count</th>\n",
       "      <th>mean</th>\n",
       "      <th>std</th>\n",
       "      <th>min</th>\n",
       "      <th>25%</th>\n",
       "      <th>50%</th>\n",
       "      <th>75%</th>\n",
       "      <th>max</th>\n",
       "    </tr>\n",
       "    <tr>\n",
       "      <th>age</th>\n",
       "      <th></th>\n",
       "      <th></th>\n",
       "      <th></th>\n",
       "      <th></th>\n",
       "      <th></th>\n",
       "      <th></th>\n",
       "      <th></th>\n",
       "      <th></th>\n",
       "    </tr>\n",
       "  </thead>\n",
       "  <tbody>\n",
       "    <tr>\n",
       "      <th>0.0</th>\n",
       "      <td>2383.0</td>\n",
       "      <td>2321.785984</td>\n",
       "      <td>5654.828329</td>\n",
       "      <td>1.0</td>\n",
       "      <td>10.00</td>\n",
       "      <td>100.0</td>\n",
       "      <td>3260.00</td>\n",
       "      <td>127022.0</td>\n",
       "    </tr>\n",
       "    <tr>\n",
       "      <th>1.0</th>\n",
       "      <td>4257.0</td>\n",
       "      <td>18065.451492</td>\n",
       "      <td>10923.387997</td>\n",
       "      <td>1.0</td>\n",
       "      <td>9999.00</td>\n",
       "      <td>17919.0</td>\n",
       "      <td>25055.00</td>\n",
       "      <td>136000.0</td>\n",
       "    </tr>\n",
       "    <tr>\n",
       "      <th>2.0</th>\n",
       "      <td>2886.0</td>\n",
       "      <td>42351.321899</td>\n",
       "      <td>28609.934911</td>\n",
       "      <td>1.0</td>\n",
       "      <td>22000.00</td>\n",
       "      <td>35448.5</td>\n",
       "      <td>56436.75</td>\n",
       "      <td>317000.0</td>\n",
       "    </tr>\n",
       "    <tr>\n",
       "      <th>3.0</th>\n",
       "      <td>3304.0</td>\n",
       "      <td>76638.800545</td>\n",
       "      <td>39670.274297</td>\n",
       "      <td>10.0</td>\n",
       "      <td>46683.75</td>\n",
       "      <td>72000.0</td>\n",
       "      <td>98694.00</td>\n",
       "      <td>291800.0</td>\n",
       "    </tr>\n",
       "  </tbody>\n",
       "</table>\n",
       "</div>"
      ],
      "text/plain": [
       "      count          mean           std   min       25%      50%       75%  \\\n",
       "age                                                                          \n",
       "0.0  2383.0   2321.785984   5654.828329   1.0     10.00    100.0   3260.00   \n",
       "1.0  4257.0  18065.451492  10923.387997   1.0   9999.00  17919.0  25055.00   \n",
       "2.0  2886.0  42351.321899  28609.934911   1.0  22000.00  35448.5  56436.75   \n",
       "3.0  3304.0  76638.800545  39670.274297  10.0  46683.75  72000.0  98694.00   \n",
       "\n",
       "          max  \n",
       "age            \n",
       "0.0  127022.0  \n",
       "1.0  136000.0  \n",
       "2.0  317000.0  \n",
       "3.0  291800.0  "
      ]
     },
     "execution_count": 15,
     "metadata": {},
     "output_type": "execute_result"
    }
   ],
   "source": [
    "df.groupby('age')['km'].describe()"
   ]
  },
  {
   "cell_type": "code",
   "execution_count": 16,
   "id": "81049b36",
   "metadata": {},
   "outputs": [],
   "source": [
    "df.loc[df['km']<8000,'age']=df.loc[df['km']<8000,'age'].replace(np.nan,0)\n",
    "df.loc[(df['km']>=8000)&(df['km']<26000),'age']=df.loc[(df['km']>=8000)&(df['km']<26000),'age'].replace(np.nan,1)\n",
    "df.loc[(df['km']>=26000)&(df['km']<55000),'age']=df.loc[(df['km']>=26000)&(df['km']<55000),'age'].replace(np.nan,2)\n",
    "df.loc[df['km']>=55000,'age']=df.loc[df['km']>=55000,'age'].replace(np.nan,3)\n"
   ]
  },
  {
   "cell_type": "code",
   "execution_count": 17,
   "id": "7996771f",
   "metadata": {},
   "outputs": [
    {
     "data": {
      "text/plain": [
       "1.0    4297\n",
       "3.0    3309\n",
       "0.0    3155\n",
       "2.0    2890\n",
       "NaN     725\n",
       "Name: age, dtype: int64"
      ]
     },
     "execution_count": 17,
     "metadata": {},
     "output_type": "execute_result"
    }
   ],
   "source": [
    "df['age'].value_counts(dropna=False)\n",
    "##Because missing 'km' values, we still have a lot of 'NaN' values. "
   ]
  },
  {
   "cell_type": "code",
   "execution_count": 18,
   "id": "53e131e7",
   "metadata": {},
   "outputs": [],
   "source": [
    "df.loc[df['price']>27000,'age']=df.loc[df['price']>27000,'age'].fillna(df.loc[df['price']>27000].groupby(['brand_model','body_type'])['age'].transform(lambda x : x.mode()[0]))"
   ]
  },
  {
   "cell_type": "code",
   "execution_count": 19,
   "id": "c9b599d0",
   "metadata": {},
   "outputs": [],
   "source": [
    "\n",
    "df.loc[(df['price']<=27000)&(df['price']>18000),'age']=df.loc[(df['price']<=27000)&(df['price']>18000),'age'].fillna(df.loc[(df['price']<=27000)&(df['price']>18000)].groupby(['brand_model','body_type'])['age'].transform(lambda x : x.mode()[0]))"
   ]
  },
  {
   "cell_type": "code",
   "execution_count": 20,
   "id": "819cf7b8",
   "metadata": {},
   "outputs": [],
   "source": [
    "df.loc[(df['price']<=18000)&(df['price']>10000),'age']=df.loc[(df['price']<=18000)&(df['price']>10000),'age'].fillna(df.loc[(df['price']<=18000)&(df['price']>10000)].groupby(['brand_model','body_type'])['age'].transform(lambda x : x.mode()[0]))"
   ]
  },
  {
   "cell_type": "code",
   "execution_count": 21,
   "id": "e298e113",
   "metadata": {},
   "outputs": [],
   "source": [
    "df.loc[(df['price']<=10000),'age']=df.loc[(df['price']<=10000),'age'].fillna(df.loc[(df['price']<=10000)].groupby(['brand_model','body_type'])['age'].transform(lambda x : x.mode()[0]))"
   ]
  },
  {
   "cell_type": "code",
   "execution_count": 22,
   "id": "651cffaf",
   "metadata": {},
   "outputs": [
    {
     "data": {
      "text/plain": [
       "1.0    4500\n",
       "0.0    3649\n",
       "3.0    3326\n",
       "2.0    2901\n",
       "Name: age, dtype: int64"
      ]
     },
     "execution_count": 22,
     "metadata": {},
     "output_type": "execute_result"
    }
   ],
   "source": [
    "df['age'].value_counts(dropna=False)\n",
    "##in the last part we categorized the column according to price and taked mode()\n"
   ]
  },
  {
   "cell_type": "code",
   "execution_count": 23,
   "id": "11e56173",
   "metadata": {},
   "outputs": [
    {
     "data": {
      "text/html": [
       "<div>\n",
       "<style scoped>\n",
       "    .dataframe tbody tr th:only-of-type {\n",
       "        vertical-align: middle;\n",
       "    }\n",
       "\n",
       "    .dataframe tbody tr th {\n",
       "        vertical-align: top;\n",
       "    }\n",
       "\n",
       "    .dataframe thead th {\n",
       "        text-align: right;\n",
       "    }\n",
       "</style>\n",
       "<table border=\"1\" class=\"dataframe\">\n",
       "  <thead>\n",
       "    <tr style=\"text-align: right;\">\n",
       "      <th></th>\n",
       "      <th>count</th>\n",
       "      <th>mean</th>\n",
       "      <th>std</th>\n",
       "      <th>min</th>\n",
       "      <th>25%</th>\n",
       "      <th>50%</th>\n",
       "      <th>75%</th>\n",
       "      <th>max</th>\n",
       "    </tr>\n",
       "    <tr>\n",
       "      <th>age</th>\n",
       "      <th></th>\n",
       "      <th></th>\n",
       "      <th></th>\n",
       "      <th></th>\n",
       "      <th></th>\n",
       "      <th></th>\n",
       "      <th></th>\n",
       "      <th></th>\n",
       "    </tr>\n",
       "  </thead>\n",
       "  <tbody>\n",
       "    <tr>\n",
       "      <th>0.0</th>\n",
       "      <td>3023.0</td>\n",
       "      <td>1843.127688</td>\n",
       "      <td>5108.966021</td>\n",
       "      <td>0.0</td>\n",
       "      <td>10.0</td>\n",
       "      <td>20.0</td>\n",
       "      <td>2000.0</td>\n",
       "      <td>127022.0</td>\n",
       "    </tr>\n",
       "    <tr>\n",
       "      <th>1.0</th>\n",
       "      <td>4263.0</td>\n",
       "      <td>18065.294159</td>\n",
       "      <td>10917.287222</td>\n",
       "      <td>1.0</td>\n",
       "      <td>9999.5</td>\n",
       "      <td>17922.0</td>\n",
       "      <td>25051.5</td>\n",
       "      <td>136000.0</td>\n",
       "    </tr>\n",
       "    <tr>\n",
       "      <th>2.0</th>\n",
       "      <td>2889.0</td>\n",
       "      <td>42344.106957</td>\n",
       "      <td>28596.149060</td>\n",
       "      <td>1.0</td>\n",
       "      <td>22000.0</td>\n",
       "      <td>35427.0</td>\n",
       "      <td>56340.0</td>\n",
       "      <td>317000.0</td>\n",
       "    </tr>\n",
       "    <tr>\n",
       "      <th>3.0</th>\n",
       "      <td>3309.0</td>\n",
       "      <td>76648.400121</td>\n",
       "      <td>39642.231389</td>\n",
       "      <td>10.0</td>\n",
       "      <td>46752.0</td>\n",
       "      <td>72000.0</td>\n",
       "      <td>98694.0</td>\n",
       "      <td>291800.0</td>\n",
       "    </tr>\n",
       "  </tbody>\n",
       "</table>\n",
       "</div>"
      ],
      "text/plain": [
       "      count          mean           std   min      25%      50%      75%  \\\n",
       "age                                                                        \n",
       "0.0  3023.0   1843.127688   5108.966021   0.0     10.0     20.0   2000.0   \n",
       "1.0  4263.0  18065.294159  10917.287222   1.0   9999.5  17922.0  25051.5   \n",
       "2.0  2889.0  42344.106957  28596.149060   1.0  22000.0  35427.0  56340.0   \n",
       "3.0  3309.0  76648.400121  39642.231389  10.0  46752.0  72000.0  98694.0   \n",
       "\n",
       "          max  \n",
       "age            \n",
       "0.0  127022.0  \n",
       "1.0  136000.0  \n",
       "2.0  317000.0  \n",
       "3.0  291800.0  "
      ]
     },
     "execution_count": 23,
     "metadata": {},
     "output_type": "execute_result"
    }
   ],
   "source": [
    "df.groupby('age')['km'].describe()"
   ]
  },
  {
   "cell_type": "code",
   "execution_count": 24,
   "id": "10b54813",
   "metadata": {},
   "outputs": [
    {
     "data": {
      "text/plain": [
       "brand_model     age\n",
       "Audi A1         0.0    23971.763006\n",
       "                1.0    18416.960055\n",
       "                2.0    16669.723618\n",
       "                3.0    14472.434256\n",
       "Audi A2         1.0    28200.000000\n",
       "Audi A3         0.0    25023.807453\n",
       "                1.0    22711.603750\n",
       "                2.0    19972.381173\n",
       "                3.0    16581.198324\n",
       "Opel Astra      0.0    21763.698835\n",
       "                1.0    16190.545703\n",
       "                2.0    13111.987680\n",
       "                3.0    11356.345382\n",
       "Opel Corsa      0.0    13709.103393\n",
       "                1.0    11326.252585\n",
       "                2.0     9261.165746\n",
       "                3.0     8249.043257\n",
       "Opel Insignia   0.0    33703.492593\n",
       "                1.0    21750.525403\n",
       "                2.0    16986.620038\n",
       "                3.0    13684.487850\n",
       "Renault Clio    0.0    12096.525773\n",
       "                1.0    14369.170254\n",
       "                2.0    10838.333333\n",
       "                3.0     9450.802360\n",
       "Renault Duster  0.0    13230.176471\n",
       "Renault Espace  0.0    40410.381579\n",
       "                1.0    32068.391837\n",
       "                2.0    26806.727273\n",
       "                3.0    22004.003745\n",
       "Name: price, dtype: float64"
      ]
     },
     "execution_count": 24,
     "metadata": {},
     "output_type": "execute_result"
    }
   ],
   "source": [
    "df.groupby(['brand_model','age'])['price'].mean().T"
   ]
  },
  {
   "cell_type": "markdown",
   "id": "49b60665",
   "metadata": {},
   "source": [
    "## Fuel"
   ]
  },
  {
   "cell_type": "code",
   "execution_count": 25,
   "id": "094d1384",
   "metadata": {},
   "outputs": [
    {
     "data": {
      "text/plain": [
       "Benzine    7724\n",
       "Diesel     6580\n",
       "LPG          59\n",
       "Other        13\n",
       "Name: Fuel, dtype: int64"
      ]
     },
     "execution_count": 25,
     "metadata": {},
     "output_type": "execute_result"
    }
   ],
   "source": [
    "df['Fuel'].value_counts(dropna=False)"
   ]
  },
  {
   "cell_type": "code",
   "execution_count": 26,
   "id": "2e36615f",
   "metadata": {},
   "outputs": [
    {
     "data": {
      "text/plain": [
       "0"
      ]
     },
     "execution_count": 26,
     "metadata": {},
     "output_type": "execute_result"
    }
   ],
   "source": [
    "df['Fuel'].isnull().sum()\n",
    "#There is no missing value"
   ]
  },
  {
   "cell_type": "markdown",
   "id": "617a6bbf",
   "metadata": {},
   "source": [
    "## Type"
   ]
  },
  {
   "cell_type": "code",
   "execution_count": 27,
   "id": "4dc58a4f",
   "metadata": {},
   "outputs": [
    {
     "data": {
      "text/plain": [
       "Used              10158\n",
       "New                1417\n",
       "Pre-registered     1112\n",
       "Employee's car      907\n",
       "Demonstration       780\n",
       "NaN                   2\n",
       "Name: Type, dtype: int64"
      ]
     },
     "execution_count": 27,
     "metadata": {},
     "output_type": "execute_result"
    }
   ],
   "source": [
    "df['Type'].value_counts(dropna=False)"
   ]
  },
  {
   "cell_type": "code",
   "execution_count": 28,
   "id": "993f1c9b",
   "metadata": {},
   "outputs": [
    {
     "data": {
      "text/html": [
       "<div>\n",
       "<style scoped>\n",
       "    .dataframe tbody tr th:only-of-type {\n",
       "        vertical-align: middle;\n",
       "    }\n",
       "\n",
       "    .dataframe tbody tr th {\n",
       "        vertical-align: top;\n",
       "    }\n",
       "\n",
       "    .dataframe thead th {\n",
       "        text-align: right;\n",
       "    }\n",
       "</style>\n",
       "<table border=\"1\" class=\"dataframe\">\n",
       "  <thead>\n",
       "    <tr style=\"text-align: right;\">\n",
       "      <th></th>\n",
       "      <th>2523</th>\n",
       "      <th>4803</th>\n",
       "    </tr>\n",
       "  </thead>\n",
       "  <tbody>\n",
       "    <tr>\n",
       "      <th>brand_model</th>\n",
       "      <td>Audi A3</td>\n",
       "      <td>Audi A3</td>\n",
       "    </tr>\n",
       "    <tr>\n",
       "      <th>body_type</th>\n",
       "      <td>Sedans</td>\n",
       "      <td>Sedans</td>\n",
       "    </tr>\n",
       "    <tr>\n",
       "      <th>price</th>\n",
       "      <td>17900</td>\n",
       "      <td>25400</td>\n",
       "    </tr>\n",
       "    <tr>\n",
       "      <th>age</th>\n",
       "      <td>3.0</td>\n",
       "      <td>1.0</td>\n",
       "    </tr>\n",
       "    <tr>\n",
       "      <th>km</th>\n",
       "      <td>115137.0</td>\n",
       "      <td>NaN</td>\n",
       "    </tr>\n",
       "    <tr>\n",
       "      <th>Fuel</th>\n",
       "      <td>Diesel</td>\n",
       "      <td>Diesel</td>\n",
       "    </tr>\n",
       "    <tr>\n",
       "      <th>Type</th>\n",
       "      <td>NaN</td>\n",
       "      <td>NaN</td>\n",
       "    </tr>\n",
       "    <tr>\n",
       "      <th>prev_owner</th>\n",
       "      <td>NaN</td>\n",
       "      <td>NaN</td>\n",
       "    </tr>\n",
       "    <tr>\n",
       "      <th>Body Color</th>\n",
       "      <td>White</td>\n",
       "      <td>Grey</td>\n",
       "    </tr>\n",
       "    <tr>\n",
       "      <th>Paint Type</th>\n",
       "      <td>NaN</td>\n",
       "      <td>NaN</td>\n",
       "    </tr>\n",
       "    <tr>\n",
       "      <th>Gearing Type</th>\n",
       "      <td>Automatic</td>\n",
       "      <td>Automatic</td>\n",
       "    </tr>\n",
       "    <tr>\n",
       "      <th>hp</th>\n",
       "      <td>110.0</td>\n",
       "      <td>85.0</td>\n",
       "    </tr>\n",
       "    <tr>\n",
       "      <th>Consumption_comb</th>\n",
       "      <td>4.5</td>\n",
       "      <td>3.9</td>\n",
       "    </tr>\n",
       "    <tr>\n",
       "      <th>Consumption_city</th>\n",
       "      <td>5.3</td>\n",
       "      <td>4.0</td>\n",
       "    </tr>\n",
       "    <tr>\n",
       "      <th>Consumption_country</th>\n",
       "      <td>4.0</td>\n",
       "      <td>3.7</td>\n",
       "    </tr>\n",
       "    <tr>\n",
       "      <th>Comfort &amp; Convenience</th>\n",
       "      <td>Air conditioning</td>\n",
       "      <td>Air conditioning</td>\n",
       "    </tr>\n",
       "    <tr>\n",
       "      <th>Entertainment &amp; Media</th>\n",
       "      <td>Bluetooth, Hands-free equipment</td>\n",
       "      <td>Bluetooth, Hands-free equipment</td>\n",
       "    </tr>\n",
       "    <tr>\n",
       "      <th>Safety &amp; Security</th>\n",
       "      <td>ABS, Central door lock, Driver-side airbag, Is...</td>\n",
       "      <td>ABS, Central door lock, Driver-side airbag, Is...</td>\n",
       "    </tr>\n",
       "    <tr>\n",
       "      <th>Extras</th>\n",
       "      <td>Alloy wheels, Sport seats, Sport suspension</td>\n",
       "      <td>Alloy wheels</td>\n",
       "    </tr>\n",
       "    <tr>\n",
       "      <th>Upholstery_type</th>\n",
       "      <td>Cloth</td>\n",
       "      <td>Cloth</td>\n",
       "    </tr>\n",
       "    <tr>\n",
       "      <th>Upholstery_color</th>\n",
       "      <td>Other</td>\n",
       "      <td>Other</td>\n",
       "    </tr>\n",
       "    <tr>\n",
       "      <th>vat</th>\n",
       "      <td>NaN</td>\n",
       "      <td>NaN</td>\n",
       "    </tr>\n",
       "    <tr>\n",
       "      <th>Warranty</th>\n",
       "      <td>NaN</td>\n",
       "      <td>NaN</td>\n",
       "    </tr>\n",
       "    <tr>\n",
       "      <th>Body Color Original</th>\n",
       "      <td>NaN</td>\n",
       "      <td>NaN</td>\n",
       "    </tr>\n",
       "    <tr>\n",
       "      <th>Nr. of Doors</th>\n",
       "      <td>5.0</td>\n",
       "      <td>5.0</td>\n",
       "    </tr>\n",
       "    <tr>\n",
       "      <th>Nr. of Seats</th>\n",
       "      <td>5.0</td>\n",
       "      <td>5.0</td>\n",
       "    </tr>\n",
       "    <tr>\n",
       "      <th>Displacement</th>\n",
       "      <td>1968.0</td>\n",
       "      <td>1598.0</td>\n",
       "    </tr>\n",
       "    <tr>\n",
       "      <th>Cylinders</th>\n",
       "      <td>4.0</td>\n",
       "      <td>4.0</td>\n",
       "    </tr>\n",
       "    <tr>\n",
       "      <th>Weight</th>\n",
       "      <td>NaN</td>\n",
       "      <td>NaN</td>\n",
       "    </tr>\n",
       "    <tr>\n",
       "      <th>Drive chain</th>\n",
       "      <td>front</td>\n",
       "      <td>front</td>\n",
       "    </tr>\n",
       "    <tr>\n",
       "      <th>CO2 Emission</th>\n",
       "      <td>118.0</td>\n",
       "      <td>103.0</td>\n",
       "    </tr>\n",
       "    <tr>\n",
       "      <th>Emission Class</th>\n",
       "      <td>Euro 6</td>\n",
       "      <td>Euro 6</td>\n",
       "    </tr>\n",
       "    <tr>\n",
       "      <th>Gears</th>\n",
       "      <td>6.0</td>\n",
       "      <td>7.0</td>\n",
       "    </tr>\n",
       "  </tbody>\n",
       "</table>\n",
       "</div>"
      ],
      "text/plain": [
       "                                                                    2523  \\\n",
       "brand_model                                                      Audi A3   \n",
       "body_type                                                         Sedans   \n",
       "price                                                              17900   \n",
       "age                                                                  3.0   \n",
       "km                                                              115137.0   \n",
       "Fuel                                                              Diesel   \n",
       "Type                                                                 NaN   \n",
       "prev_owner                                                           NaN   \n",
       "Body Color                                                         White   \n",
       "Paint Type                                                           NaN   \n",
       "Gearing Type                                                   Automatic   \n",
       "hp                                                                 110.0   \n",
       "Consumption_comb                                                     4.5   \n",
       "Consumption_city                                                     5.3   \n",
       "Consumption_country                                                  4.0   \n",
       "Comfort & Convenience                                   Air conditioning   \n",
       "Entertainment & Media                    Bluetooth, Hands-free equipment   \n",
       "Safety & Security      ABS, Central door lock, Driver-side airbag, Is...   \n",
       "Extras                       Alloy wheels, Sport seats, Sport suspension   \n",
       "Upholstery_type                                                    Cloth   \n",
       "Upholstery_color                                                   Other   \n",
       "vat                                                                  NaN   \n",
       "Warranty                                                             NaN   \n",
       "Body Color Original                                                  NaN   \n",
       "Nr. of Doors                                                         5.0   \n",
       "Nr. of Seats                                                         5.0   \n",
       "Displacement                                                      1968.0   \n",
       "Cylinders                                                            4.0   \n",
       "Weight                                                               NaN   \n",
       "Drive chain                                                        front   \n",
       "CO2 Emission                                                       118.0   \n",
       "Emission Class                                                    Euro 6   \n",
       "Gears                                                                6.0   \n",
       "\n",
       "                                                                    4803  \n",
       "brand_model                                                      Audi A3  \n",
       "body_type                                                         Sedans  \n",
       "price                                                              25400  \n",
       "age                                                                  1.0  \n",
       "km                                                                   NaN  \n",
       "Fuel                                                              Diesel  \n",
       "Type                                                                 NaN  \n",
       "prev_owner                                                           NaN  \n",
       "Body Color                                                          Grey  \n",
       "Paint Type                                                           NaN  \n",
       "Gearing Type                                                   Automatic  \n",
       "hp                                                                  85.0  \n",
       "Consumption_comb                                                     3.9  \n",
       "Consumption_city                                                     4.0  \n",
       "Consumption_country                                                  3.7  \n",
       "Comfort & Convenience                                   Air conditioning  \n",
       "Entertainment & Media                    Bluetooth, Hands-free equipment  \n",
       "Safety & Security      ABS, Central door lock, Driver-side airbag, Is...  \n",
       "Extras                                                      Alloy wheels  \n",
       "Upholstery_type                                                    Cloth  \n",
       "Upholstery_color                                                   Other  \n",
       "vat                                                                  NaN  \n",
       "Warranty                                                             NaN  \n",
       "Body Color Original                                                  NaN  \n",
       "Nr. of Doors                                                         5.0  \n",
       "Nr. of Seats                                                         5.0  \n",
       "Displacement                                                      1598.0  \n",
       "Cylinders                                                            4.0  \n",
       "Weight                                                               NaN  \n",
       "Drive chain                                                        front  \n",
       "CO2 Emission                                                       103.0  \n",
       "Emission Class                                                    Euro 6  \n",
       "Gears                                                                7.0  "
      ]
     },
     "execution_count": 28,
     "metadata": {},
     "output_type": "execute_result"
    }
   ],
   "source": [
    "df.loc[df['Type'].isnull()].T"
   ]
  },
  {
   "cell_type": "code",
   "execution_count": 29,
   "id": "042d2ecf",
   "metadata": {},
   "outputs": [],
   "source": [
    "df.loc[df['price']>24000,'Type']=df.loc[df['price']>24000,'Type'].replace(np.nan,'New')\n",
    "df.loc[df['price']<24000,'Type']=df.loc[df['price']<24000,'Type'].replace(np.nan,'Used')"
   ]
  },
  {
   "cell_type": "code",
   "execution_count": 30,
   "id": "51f7c26e",
   "metadata": {},
   "outputs": [
    {
     "data": {
      "text/plain": [
       "Used              10159\n",
       "New                1418\n",
       "Pre-registered     1112\n",
       "Employee's car      907\n",
       "Demonstration       780\n",
       "Name: Type, dtype: int64"
      ]
     },
     "execution_count": 30,
     "metadata": {},
     "output_type": "execute_result"
    }
   ],
   "source": [
    "df['Type'].value_counts(dropna=False)\n",
    "# We filled the missing values according to price column."
   ]
  },
  {
   "cell_type": "markdown",
   "id": "3bb9ca01",
   "metadata": {},
   "source": [
    "## prev_owner"
   ]
  },
  {
   "cell_type": "code",
   "execution_count": 31,
   "id": "af1da906",
   "metadata": {},
   "outputs": [
    {
     "data": {
      "text/plain": [
       "1.0    7726\n",
       "NaN    5990\n",
       "2.0     641\n",
       "3.0      17\n",
       "4.0       2\n",
       "Name: prev_owner, dtype: int64"
      ]
     },
     "execution_count": 31,
     "metadata": {},
     "output_type": "execute_result"
    }
   ],
   "source": [
    "df['prev_owner'].value_counts(dropna=False)"
   ]
  },
  {
   "cell_type": "code",
   "execution_count": 32,
   "id": "22b8b926",
   "metadata": {},
   "outputs": [],
   "source": [
    "df.loc[df['Type']=='New','prev_owner']=df.loc[df['Type']=='New','prev_owner'].replace(np.nan,0)"
   ]
  },
  {
   "cell_type": "code",
   "execution_count": 33,
   "id": "18a31020",
   "metadata": {},
   "outputs": [
    {
     "data": {
      "text/plain": [
       "1.0    7726\n",
       "NaN    4587\n",
       "0.0    1403\n",
       "2.0     641\n",
       "3.0      17\n",
       "4.0       2\n",
       "Name: prev_owner, dtype: int64"
      ]
     },
     "execution_count": 33,
     "metadata": {},
     "output_type": "execute_result"
    }
   ],
   "source": [
    "df['prev_owner'].value_counts(dropna=False)"
   ]
  },
  {
   "cell_type": "code",
   "execution_count": 34,
   "id": "c5bc625d",
   "metadata": {},
   "outputs": [],
   "source": [
    "df.loc[(df['age']==0)&(df['km']<5000),'prev_owner']=df.loc[(df['age']==0)&(df['km']<5000),'prev_owner'].replace(np.nan,1)"
   ]
  },
  {
   "cell_type": "code",
   "execution_count": 35,
   "id": "e546dc6d",
   "metadata": {},
   "outputs": [
    {
     "data": {
      "text/plain": [
       "1.0    8526\n",
       "NaN    3787\n",
       "0.0    1403\n",
       "2.0     641\n",
       "3.0      17\n",
       "4.0       2\n",
       "Name: prev_owner, dtype: int64"
      ]
     },
     "execution_count": 35,
     "metadata": {},
     "output_type": "execute_result"
    }
   ],
   "source": [
    "df['prev_owner'].value_counts(dropna=False)"
   ]
  },
  {
   "cell_type": "code",
   "execution_count": 36,
   "id": "a17aecbc",
   "metadata": {},
   "outputs": [],
   "source": [
    "df['prev_owner']=df['prev_owner'].fillna(df.groupby(['age'])['prev_owner'].transform(lambda x : x.mode()[0]))"
   ]
  },
  {
   "cell_type": "code",
   "execution_count": 37,
   "id": "351888f7",
   "metadata": {},
   "outputs": [
    {
     "data": {
      "text/plain": [
       "1.0    12313\n",
       "0.0     1403\n",
       "2.0      641\n",
       "3.0       17\n",
       "4.0        2\n",
       "Name: prev_owner, dtype: int64"
      ]
     },
     "execution_count": 37,
     "metadata": {},
     "output_type": "execute_result"
    }
   ],
   "source": [
    "df['prev_owner'].value_counts(dropna=False)"
   ]
  },
  {
   "cell_type": "markdown",
   "id": "5a66c747",
   "metadata": {},
   "source": [
    "## Body Color"
   ]
  },
  {
   "cell_type": "code",
   "execution_count": 38,
   "id": "fbf5f890",
   "metadata": {},
   "outputs": [
    {
     "data": {
      "text/plain": [
       "518"
      ]
     },
     "execution_count": 38,
     "metadata": {},
     "output_type": "execute_result"
    }
   ],
   "source": [
    "df['Body Color'].isnull().sum()"
   ]
  },
  {
   "cell_type": "code",
   "execution_count": 39,
   "id": "6d09312d",
   "metadata": {},
   "outputs": [
    {
     "data": {
      "text/plain": [
       "Black     3451\n",
       "Grey      3157\n",
       "White     2970\n",
       "Silver    1535\n",
       "Blue      1321\n",
       "Red        843\n",
       "NaN        518\n",
       "Brown      263\n",
       "Green      145\n",
       "Beige       96\n",
       "Yellow      48\n",
       "Violet      18\n",
       "Bronze       6\n",
       "Orange       3\n",
       "Gold         2\n",
       "Name: Body Color, dtype: int64"
      ]
     },
     "execution_count": 39,
     "metadata": {},
     "output_type": "execute_result"
    }
   ],
   "source": [
    "df['Body Color'].value_counts(dropna=False)"
   ]
  },
  {
   "cell_type": "code",
   "execution_count": 40,
   "id": "9142a529",
   "metadata": {},
   "outputs": [],
   "source": [
    "df['Body Color']=df['Body Color'].fillna(method='ffill')"
   ]
  },
  {
   "cell_type": "code",
   "execution_count": 41,
   "id": "6dd3201d",
   "metadata": {},
   "outputs": [
    {
     "data": {
      "text/plain": [
       "Index(['brand_model', 'body_type', 'price', 'age', 'km', 'Fuel', 'Type',\n",
       "       'prev_owner', 'Body Color', 'Paint Type', 'Gearing Type', 'hp',\n",
       "       'Consumption_comb', 'Consumption_city', 'Consumption_country',\n",
       "       'Comfort & Convenience', 'Entertainment & Media', 'Safety & Security',\n",
       "       'Extras', 'Upholstery_type', 'Upholstery_color', 'vat', 'Warranty',\n",
       "       'Body Color Original', 'Nr. of Doors', 'Nr. of Seats', 'Displacement',\n",
       "       'Cylinders', 'Weight', 'Drive chain', 'CO2 Emission', 'Emission Class',\n",
       "       'Gears'],\n",
       "      dtype='object')"
      ]
     },
     "execution_count": 41,
     "metadata": {},
     "output_type": "execute_result"
    }
   ],
   "source": [
    "df.columns"
   ]
  },
  {
   "cell_type": "code",
   "execution_count": 42,
   "id": "2dd980fa",
   "metadata": {},
   "outputs": [
    {
     "data": {
      "text/plain": [
       "Black     3570\n",
       "Grey      3245\n",
       "White     3081\n",
       "Silver    1586\n",
       "Blue      1410\n",
       "Red        878\n",
       "Brown      272\n",
       "Green      153\n",
       "Beige      100\n",
       "Yellow      51\n",
       "Violet      19\n",
       "Bronze       6\n",
       "Orange       3\n",
       "Gold         2\n",
       "Name: Body Color, dtype: int64"
      ]
     },
     "execution_count": 42,
     "metadata": {},
     "output_type": "execute_result"
    }
   ],
   "source": [
    "df['Body Color'].value_counts(dropna=False)"
   ]
  },
  {
   "cell_type": "markdown",
   "id": "78d031e1",
   "metadata": {},
   "source": [
    "## Paint Type"
   ]
  },
  {
   "cell_type": "code",
   "execution_count": 43,
   "id": "3f068fce",
   "metadata": {},
   "outputs": [
    {
     "data": {
      "text/plain": [
       "Metallic       8999\n",
       "NaN            5046\n",
       "Uni/basic       325\n",
       "Perl effect       6\n",
       "Name: Paint Type, dtype: int64"
      ]
     },
     "execution_count": 43,
     "metadata": {},
     "output_type": "execute_result"
    }
   ],
   "source": [
    "df['Paint Type'].value_counts(dropna=False)"
   ]
  },
  {
   "cell_type": "code",
   "execution_count": 44,
   "id": "2068c27f",
   "metadata": {},
   "outputs": [],
   "source": [
    "df['Paint Type']=df['Paint Type'].fillna(method='ffill')"
   ]
  },
  {
   "cell_type": "markdown",
   "id": "8678e445",
   "metadata": {},
   "source": [
    "## Gearing Type"
   ]
  },
  {
   "cell_type": "code",
   "execution_count": 45,
   "id": "5415b009",
   "metadata": {},
   "outputs": [
    {
     "data": {
      "text/plain": [
       "Manual            7304\n",
       "Automatic         6607\n",
       "Semi-automatic     465\n",
       "Name: Gearing Type, dtype: int64"
      ]
     },
     "execution_count": 45,
     "metadata": {},
     "output_type": "execute_result"
    }
   ],
   "source": [
    "df['Gearing Type'].value_counts(dropna=False)"
   ]
  },
  {
   "cell_type": "code",
   "execution_count": 46,
   "id": "2e199306",
   "metadata": {},
   "outputs": [
    {
     "data": {
      "text/plain": [
       "0"
      ]
     },
     "execution_count": 46,
     "metadata": {},
     "output_type": "execute_result"
    }
   ],
   "source": [
    "df['Gearing Type'].isnull().sum()"
   ]
  },
  {
   "cell_type": "markdown",
   "id": "92f7e5b3",
   "metadata": {},
   "source": [
    "## hp"
   ]
  },
  {
   "cell_type": "code",
   "execution_count": 47,
   "id": "d5d1a6f5",
   "metadata": {},
   "outputs": [
    {
     "data": {
      "text/plain": [
       "63"
      ]
     },
     "execution_count": 47,
     "metadata": {},
     "output_type": "execute_result"
    }
   ],
   "source": [
    "df['hp'].isnull().sum()"
   ]
  },
  {
   "cell_type": "code",
   "execution_count": 48,
   "id": "7ef36cd6",
   "metadata": {},
   "outputs": [
    {
     "data": {
      "text/plain": [
       "85.0     2297\n",
       "66.0     1983\n",
       "81.0     1250\n",
       "100.0    1228\n",
       "110.0    1028\n",
       "70.0      834\n",
       "125.0     667\n",
       "51.0      609\n",
       "55.0      471\n",
       "118.0     459\n",
       "92.0      395\n",
       "121.0     384\n",
       "77.0      330\n",
       "147.0     328\n",
       "54.0      246\n",
       "103.0     215\n",
       "56.0      213\n",
       "87.0      187\n",
       "165.0     176\n",
       "88.0      162\n",
       "60.0      160\n",
       "162.0      80\n",
       "96.0       70\n",
       "NaN        63\n",
       "71.0       57\n",
       "74.0       55\n",
       "154.0      39\n",
       "67.0       34\n",
       "101.0      31\n",
       "119.0      30\n",
       "122.0      29\n",
       "135.0      22\n",
       "52.0       21\n",
       "82.0       20\n",
       "1.0        20\n",
       "78.0       20\n",
       "146.0      18\n",
       "294.0      18\n",
       "141.0      16\n",
       "104.0       8\n",
       "120.0       8\n",
       "191.0       7\n",
       "117.0       6\n",
       "112.0       6\n",
       "184.0       5\n",
       "57.0        4\n",
       "65.0        4\n",
       "155.0       4\n",
       "76.0        4\n",
       "90.0        4\n",
       "168.0       3\n",
       "98.0        3\n",
       "149.0       3\n",
       "80.0        3\n",
       "93.0        3\n",
       "53.0        2\n",
       "86.0        2\n",
       "140.0       2\n",
       "150.0       2\n",
       "228.0       2\n",
       "270.0       2\n",
       "143.0       2\n",
       "167.0       2\n",
       "40.0        2\n",
       "89.0        2\n",
       "127.0       2\n",
       "123.0       1\n",
       "75.0        1\n",
       "115.0       1\n",
       "195.0       1\n",
       "132.0       1\n",
       "163.0       1\n",
       "84.0        1\n",
       "4.0         1\n",
       "164.0       1\n",
       "63.0        1\n",
       "137.0       1\n",
       "44.0        1\n",
       "133.0       1\n",
       "239.0       1\n",
       "Name: hp, dtype: int64"
      ]
     },
     "execution_count": 48,
     "metadata": {},
     "output_type": "execute_result"
    }
   ],
   "source": [
    "df['hp'].value_counts(dropna=False)"
   ]
  },
  {
   "cell_type": "code",
   "execution_count": 49,
   "id": "8c4cff44",
   "metadata": {},
   "outputs": [],
   "source": [
    "df['hp']=df['hp'].fillna(df.groupby(['brand_model','body_type','Fuel'])['prev_owner'].transform(lambda x : x.mode()[0]))"
   ]
  },
  {
   "cell_type": "code",
   "execution_count": 50,
   "id": "c60a1bf7",
   "metadata": {},
   "outputs": [
    {
     "data": {
      "text/plain": [
       "0"
      ]
     },
     "execution_count": 50,
     "metadata": {},
     "output_type": "execute_result"
    }
   ],
   "source": [
    "df['hp'].isnull().sum()"
   ]
  },
  {
   "cell_type": "markdown",
   "id": "c6b4462f",
   "metadata": {},
   "source": [
    "## Comfort & Convenience"
   ]
  },
  {
   "cell_type": "code",
   "execution_count": 51,
   "id": "7eabc10f",
   "metadata": {},
   "outputs": [
    {
     "data": {
      "text/plain": [
       "731"
      ]
     },
     "execution_count": 51,
     "metadata": {},
     "output_type": "execute_result"
    }
   ],
   "source": [
    "df['Comfort & Convenience'].isnull().sum()"
   ]
  },
  {
   "cell_type": "code",
   "execution_count": 52,
   "id": "472da3fa",
   "metadata": {},
   "outputs": [
    {
     "data": {
      "text/plain": [
       "NaN                                                                                                                                                                                                                                                                                                                                                                                                                                                                                                                        731\n",
       "Air conditioning, Electrical side mirrors, Hill Holder, Power windows                                                                                                                                                                                                                                                                                                                                                                                                                                                      182\n",
       "Air conditioning, Electrical side mirrors, Power windows                                                                                                                                                                                                                                                                                                                                                                                                                                                                   129\n",
       "Air conditioning, Power windows                                                                                                                                                                                                                                                                                                                                                                                                                                                                                            113\n",
       "Air conditioning, Armrest, Automatic climate control, Cruise control, Electrical side mirrors, Leather steering wheel, Light sensor, Lumbar support, Multi-function steering wheel, Navigation system, Park Distance Control, Parking assist system sensors front, Parking assist system sensors rear, Power windows, Rain sensor, Seat heating, Start-stop system                                                                                                                                                         105\n",
       "                                                                                                                                                                                                                                                                                                                                                                                                                                                                                                                          ... \n",
       "Air conditioning, Armrest, Automatic climate control, Cruise control, Electrically adjustable seats, Leather steering wheel, Multi-function steering wheel, Navigation system, Park Distance Control, Parking assist system sensors front, Parking assist system sensors rear, Power windows, Start-stop system, Tinted windows                                                                                                                                                                                              1\n",
       "Air conditioning, Armrest, Automatic climate control, Cruise control, Electrical side mirrors, Heated steering wheel, Hill Holder, Leather steering wheel, Light sensor, Lumbar support, Multi-function steering wheel, Navigation system, Park Distance Control, Parking assist system sensors front, Parking assist system sensors rear, Power windows, Seat heating, Split rear seats, Start-stop system                                                                                                                  1\n",
       "Air conditioning, Armrest, Cruise control, Electrical side mirrors, Light sensor, Power windows                                                                                                                                                                                                                                                                                                                                                                                                                              1\n",
       "Air conditioning, Cruise control, Electrical side mirrors, Multi-function steering wheel, Navigation system, Park Distance Control, Parking assist system sensors front, Parking assist system sensors rear, Power windows                                                                                                                                                                                                                                                                                                   1\n",
       "Air conditioning, Automatic climate control, Cruise control, Electrically heated windshield, Electrical side mirrors, Electric tailgate, Heads-up display, Heated steering wheel, Hill Holder, Keyless central door lock, Leather steering wheel, Light sensor, Lumbar support, Navigation system, Park Distance Control, Parking assist system camera, Parking assist system self-steering, Parking assist system sensors front, Parking assist system sensors rear, Power windows, Rain sensor, Seat heating, Sunroof      1\n",
       "Name: Comfort & Convenience, Length: 6199, dtype: int64"
      ]
     },
     "execution_count": 52,
     "metadata": {},
     "output_type": "execute_result"
    }
   ],
   "source": [
    "df['Comfort & Convenience'].value_counts(dropna=False)"
   ]
  },
  {
   "cell_type": "code",
   "execution_count": 53,
   "id": "5478ef56",
   "metadata": {},
   "outputs": [
    {
     "data": {
      "text/html": [
       "<div>\n",
       "<style scoped>\n",
       "    .dataframe tbody tr th:only-of-type {\n",
       "        vertical-align: middle;\n",
       "    }\n",
       "\n",
       "    .dataframe tbody tr th {\n",
       "        vertical-align: top;\n",
       "    }\n",
       "\n",
       "    .dataframe thead th {\n",
       "        text-align: right;\n",
       "    }\n",
       "</style>\n",
       "<table border=\"1\" class=\"dataframe\">\n",
       "  <thead>\n",
       "    <tr style=\"text-align: right;\">\n",
       "      <th></th>\n",
       "      <th>brand_model</th>\n",
       "      <th>body_type</th>\n",
       "      <th>price</th>\n",
       "      <th>age</th>\n",
       "      <th>km</th>\n",
       "      <th>Fuel</th>\n",
       "      <th>Type</th>\n",
       "      <th>prev_owner</th>\n",
       "      <th>Body Color</th>\n",
       "      <th>Paint Type</th>\n",
       "      <th>Gearing Type</th>\n",
       "      <th>hp</th>\n",
       "      <th>Consumption_comb</th>\n",
       "      <th>Consumption_city</th>\n",
       "      <th>Consumption_country</th>\n",
       "      <th>Comfort &amp; Convenience</th>\n",
       "      <th>Entertainment &amp; Media</th>\n",
       "      <th>Safety &amp; Security</th>\n",
       "      <th>Extras</th>\n",
       "      <th>Upholstery_type</th>\n",
       "      <th>Upholstery_color</th>\n",
       "      <th>vat</th>\n",
       "      <th>Warranty</th>\n",
       "      <th>Body Color Original</th>\n",
       "      <th>Nr. of Doors</th>\n",
       "      <th>Nr. of Seats</th>\n",
       "      <th>Displacement</th>\n",
       "      <th>Cylinders</th>\n",
       "      <th>Weight</th>\n",
       "      <th>Drive chain</th>\n",
       "      <th>CO2 Emission</th>\n",
       "      <th>Emission Class</th>\n",
       "      <th>Gears</th>\n",
       "    </tr>\n",
       "  </thead>\n",
       "  <tbody>\n",
       "    <tr>\n",
       "      <th>9</th>\n",
       "      <td>Audi A1</td>\n",
       "      <td>Sedans</td>\n",
       "      <td>17990</td>\n",
       "      <td>2.0</td>\n",
       "      <td>16103.0</td>\n",
       "      <td>Benzine</td>\n",
       "      <td>Used</td>\n",
       "      <td>1.0</td>\n",
       "      <td>White</td>\n",
       "      <td>Metallic</td>\n",
       "      <td>Automatic</td>\n",
       "      <td>70.0</td>\n",
       "      <td>NaN</td>\n",
       "      <td>NaN</td>\n",
       "      <td>NaN</td>\n",
       "      <td>NaN</td>\n",
       "      <td>NaN</td>\n",
       "      <td>NaN</td>\n",
       "      <td>NaN</td>\n",
       "      <td>NaN</td>\n",
       "      <td>NaN</td>\n",
       "      <td>NaN</td>\n",
       "      <td>3.0</td>\n",
       "      <td>Blanc</td>\n",
       "      <td>5.0</td>\n",
       "      <td>4.0</td>\n",
       "      <td>NaN</td>\n",
       "      <td>NaN</td>\n",
       "      <td>NaN</td>\n",
       "      <td>NaN</td>\n",
       "      <td>NaN</td>\n",
       "      <td>NaN</td>\n",
       "      <td>7.0</td>\n",
       "    </tr>\n",
       "    <tr>\n",
       "      <th>30</th>\n",
       "      <td>Audi A1</td>\n",
       "      <td>Compact</td>\n",
       "      <td>11290</td>\n",
       "      <td>3.0</td>\n",
       "      <td>38400.0</td>\n",
       "      <td>Diesel</td>\n",
       "      <td>Used</td>\n",
       "      <td>1.0</td>\n",
       "      <td>Black</td>\n",
       "      <td>Metallic</td>\n",
       "      <td>Manual</td>\n",
       "      <td>66.0</td>\n",
       "      <td>3.0</td>\n",
       "      <td>3.0</td>\n",
       "      <td>3.0</td>\n",
       "      <td>NaN</td>\n",
       "      <td>NaN</td>\n",
       "      <td>NaN</td>\n",
       "      <td>NaN</td>\n",
       "      <td>NaN</td>\n",
       "      <td>NaN</td>\n",
       "      <td>NaN</td>\n",
       "      <td>12.0</td>\n",
       "      <td>Negro</td>\n",
       "      <td>5.0</td>\n",
       "      <td>5.0</td>\n",
       "      <td>1422.0</td>\n",
       "      <td>3.0</td>\n",
       "      <td>1195.0</td>\n",
       "      <td>front</td>\n",
       "      <td>NaN</td>\n",
       "      <td>NaN</td>\n",
       "      <td>5.0</td>\n",
       "    </tr>\n",
       "    <tr>\n",
       "      <th>53</th>\n",
       "      <td>Audi A1</td>\n",
       "      <td>Compact</td>\n",
       "      <td>11100</td>\n",
       "      <td>3.0</td>\n",
       "      <td>111670.0</td>\n",
       "      <td>Diesel</td>\n",
       "      <td>Used</td>\n",
       "      <td>1.0</td>\n",
       "      <td>Black</td>\n",
       "      <td>Metallic</td>\n",
       "      <td>Manual</td>\n",
       "      <td>85.0</td>\n",
       "      <td>3.0</td>\n",
       "      <td>4.0</td>\n",
       "      <td>3.0</td>\n",
       "      <td>NaN</td>\n",
       "      <td>NaN</td>\n",
       "      <td>NaN</td>\n",
       "      <td>NaN</td>\n",
       "      <td>NaN</td>\n",
       "      <td>NaN</td>\n",
       "      <td>NaN</td>\n",
       "      <td>12.0</td>\n",
       "      <td>Negro</td>\n",
       "      <td>5.0</td>\n",
       "      <td>5.0</td>\n",
       "      <td>1598.0</td>\n",
       "      <td>4.0</td>\n",
       "      <td>1250.0</td>\n",
       "      <td>front</td>\n",
       "      <td>NaN</td>\n",
       "      <td>NaN</td>\n",
       "      <td>5.0</td>\n",
       "    </tr>\n",
       "    <tr>\n",
       "      <th>165</th>\n",
       "      <td>Audi A1</td>\n",
       "      <td>Sedans</td>\n",
       "      <td>17500</td>\n",
       "      <td>2.0</td>\n",
       "      <td>15000.0</td>\n",
       "      <td>Benzine</td>\n",
       "      <td>Used</td>\n",
       "      <td>1.0</td>\n",
       "      <td>Blue</td>\n",
       "      <td>Metallic</td>\n",
       "      <td>Automatic</td>\n",
       "      <td>70.0</td>\n",
       "      <td>4.4</td>\n",
       "      <td>5.4</td>\n",
       "      <td>3.8</td>\n",
       "      <td>NaN</td>\n",
       "      <td>NaN</td>\n",
       "      <td>NaN</td>\n",
       "      <td>Alloy wheels</td>\n",
       "      <td>NaN</td>\n",
       "      <td>NaN</td>\n",
       "      <td>NaN</td>\n",
       "      <td>NaN</td>\n",
       "      <td>NaN</td>\n",
       "      <td>5.0</td>\n",
       "      <td>4.0</td>\n",
       "      <td>NaN</td>\n",
       "      <td>3.0</td>\n",
       "      <td>1165.0</td>\n",
       "      <td>NaN</td>\n",
       "      <td>102.0</td>\n",
       "      <td>Euro 6</td>\n",
       "      <td>7.0</td>\n",
       "    </tr>\n",
       "    <tr>\n",
       "      <th>188</th>\n",
       "      <td>Audi A1</td>\n",
       "      <td>Compact</td>\n",
       "      <td>17900</td>\n",
       "      <td>3.0</td>\n",
       "      <td>11300.0</td>\n",
       "      <td>Diesel</td>\n",
       "      <td>Used</td>\n",
       "      <td>1.0</td>\n",
       "      <td>Grey</td>\n",
       "      <td>Metallic</td>\n",
       "      <td>Automatic</td>\n",
       "      <td>66.0</td>\n",
       "      <td>NaN</td>\n",
       "      <td>NaN</td>\n",
       "      <td>NaN</td>\n",
       "      <td>NaN</td>\n",
       "      <td>NaN</td>\n",
       "      <td>NaN</td>\n",
       "      <td>NaN</td>\n",
       "      <td>NaN</td>\n",
       "      <td>NaN</td>\n",
       "      <td>NaN</td>\n",
       "      <td>12.0</td>\n",
       "      <td>Gris Metalizado</td>\n",
       "      <td>5.0</td>\n",
       "      <td>4.0</td>\n",
       "      <td>NaN</td>\n",
       "      <td>NaN</td>\n",
       "      <td>NaN</td>\n",
       "      <td>NaN</td>\n",
       "      <td>NaN</td>\n",
       "      <td>NaN</td>\n",
       "      <td>7.0</td>\n",
       "    </tr>\n",
       "    <tr>\n",
       "      <th>...</th>\n",
       "      <td>...</td>\n",
       "      <td>...</td>\n",
       "      <td>...</td>\n",
       "      <td>...</td>\n",
       "      <td>...</td>\n",
       "      <td>...</td>\n",
       "      <td>...</td>\n",
       "      <td>...</td>\n",
       "      <td>...</td>\n",
       "      <td>...</td>\n",
       "      <td>...</td>\n",
       "      <td>...</td>\n",
       "      <td>...</td>\n",
       "      <td>...</td>\n",
       "      <td>...</td>\n",
       "      <td>...</td>\n",
       "      <td>...</td>\n",
       "      <td>...</td>\n",
       "      <td>...</td>\n",
       "      <td>...</td>\n",
       "      <td>...</td>\n",
       "      <td>...</td>\n",
       "      <td>...</td>\n",
       "      <td>...</td>\n",
       "      <td>...</td>\n",
       "      <td>...</td>\n",
       "      <td>...</td>\n",
       "      <td>...</td>\n",
       "      <td>...</td>\n",
       "      <td>...</td>\n",
       "      <td>...</td>\n",
       "      <td>...</td>\n",
       "      <td>...</td>\n",
       "    </tr>\n",
       "    <tr>\n",
       "      <th>14258</th>\n",
       "      <td>Renault Espace</td>\n",
       "      <td>Van</td>\n",
       "      <td>33990</td>\n",
       "      <td>1.0</td>\n",
       "      <td>10803.0</td>\n",
       "      <td>Diesel</td>\n",
       "      <td>Used</td>\n",
       "      <td>1.0</td>\n",
       "      <td>Grey</td>\n",
       "      <td>Metallic</td>\n",
       "      <td>Automatic</td>\n",
       "      <td>1.0</td>\n",
       "      <td>4.6</td>\n",
       "      <td>NaN</td>\n",
       "      <td>NaN</td>\n",
       "      <td>NaN</td>\n",
       "      <td>NaN</td>\n",
       "      <td>NaN</td>\n",
       "      <td>NaN</td>\n",
       "      <td>NaN</td>\n",
       "      <td>NaN</td>\n",
       "      <td>VAT deductible</td>\n",
       "      <td>12.0</td>\n",
       "      <td>gris</td>\n",
       "      <td>5.0</td>\n",
       "      <td>NaN</td>\n",
       "      <td>NaN</td>\n",
       "      <td>NaN</td>\n",
       "      <td>NaN</td>\n",
       "      <td>NaN</td>\n",
       "      <td>NaN</td>\n",
       "      <td>NaN</td>\n",
       "      <td>NaN</td>\n",
       "    </tr>\n",
       "    <tr>\n",
       "      <th>14270</th>\n",
       "      <td>Renault Espace</td>\n",
       "      <td>Van</td>\n",
       "      <td>44500</td>\n",
       "      <td>0.0</td>\n",
       "      <td>9000.0</td>\n",
       "      <td>Diesel</td>\n",
       "      <td>Used</td>\n",
       "      <td>1.0</td>\n",
       "      <td>Blue</td>\n",
       "      <td>Metallic</td>\n",
       "      <td>Automatic</td>\n",
       "      <td>147.0</td>\n",
       "      <td>NaN</td>\n",
       "      <td>NaN</td>\n",
       "      <td>NaN</td>\n",
       "      <td>NaN</td>\n",
       "      <td>NaN</td>\n",
       "      <td>NaN</td>\n",
       "      <td>NaN</td>\n",
       "      <td>NaN</td>\n",
       "      <td>NaN</td>\n",
       "      <td>NaN</td>\n",
       "      <td>NaN</td>\n",
       "      <td>bleu</td>\n",
       "      <td>5.0</td>\n",
       "      <td>7.0</td>\n",
       "      <td>NaN</td>\n",
       "      <td>NaN</td>\n",
       "      <td>NaN</td>\n",
       "      <td>NaN</td>\n",
       "      <td>NaN</td>\n",
       "      <td>NaN</td>\n",
       "      <td>NaN</td>\n",
       "    </tr>\n",
       "    <tr>\n",
       "      <th>14271</th>\n",
       "      <td>Renault Espace</td>\n",
       "      <td>Compact</td>\n",
       "      <td>43000</td>\n",
       "      <td>0.0</td>\n",
       "      <td>1000.0</td>\n",
       "      <td>Diesel</td>\n",
       "      <td>Used</td>\n",
       "      <td>1.0</td>\n",
       "      <td>Black</td>\n",
       "      <td>Metallic</td>\n",
       "      <td>Automatic</td>\n",
       "      <td>147.0</td>\n",
       "      <td>NaN</td>\n",
       "      <td>NaN</td>\n",
       "      <td>NaN</td>\n",
       "      <td>NaN</td>\n",
       "      <td>NaN</td>\n",
       "      <td>NaN</td>\n",
       "      <td>NaN</td>\n",
       "      <td>NaN</td>\n",
       "      <td>NaN</td>\n",
       "      <td>NaN</td>\n",
       "      <td>24.0</td>\n",
       "      <td>Negro Amatista (metalizado esp</td>\n",
       "      <td>5.0</td>\n",
       "      <td>5.0</td>\n",
       "      <td>NaN</td>\n",
       "      <td>NaN</td>\n",
       "      <td>NaN</td>\n",
       "      <td>NaN</td>\n",
       "      <td>NaN</td>\n",
       "      <td>NaN</td>\n",
       "      <td>6.0</td>\n",
       "    </tr>\n",
       "    <tr>\n",
       "      <th>14317</th>\n",
       "      <td>Renault Espace</td>\n",
       "      <td>Van</td>\n",
       "      <td>43911</td>\n",
       "      <td>0.0</td>\n",
       "      <td>NaN</td>\n",
       "      <td>Diesel</td>\n",
       "      <td>New</td>\n",
       "      <td>0.0</td>\n",
       "      <td>Black</td>\n",
       "      <td>Metallic</td>\n",
       "      <td>Automatic</td>\n",
       "      <td>147.0</td>\n",
       "      <td>5.0</td>\n",
       "      <td>5.0</td>\n",
       "      <td>4.0</td>\n",
       "      <td>NaN</td>\n",
       "      <td>NaN</td>\n",
       "      <td>NaN</td>\n",
       "      <td>NaN</td>\n",
       "      <td>NaN</td>\n",
       "      <td>NaN</td>\n",
       "      <td>NaN</td>\n",
       "      <td>NaN</td>\n",
       "      <td>NaN</td>\n",
       "      <td>5.0</td>\n",
       "      <td>5.0</td>\n",
       "      <td>1997.0</td>\n",
       "      <td>4.0</td>\n",
       "      <td>1659.0</td>\n",
       "      <td>front</td>\n",
       "      <td>NaN</td>\n",
       "      <td>NaN</td>\n",
       "      <td>6.0</td>\n",
       "    </tr>\n",
       "    <tr>\n",
       "      <th>14327</th>\n",
       "      <td>Renault Espace</td>\n",
       "      <td>Van</td>\n",
       "      <td>43315</td>\n",
       "      <td>0.0</td>\n",
       "      <td>NaN</td>\n",
       "      <td>Benzine</td>\n",
       "      <td>New</td>\n",
       "      <td>0.0</td>\n",
       "      <td>White</td>\n",
       "      <td>Metallic</td>\n",
       "      <td>Automatic</td>\n",
       "      <td>165.0</td>\n",
       "      <td>6.0</td>\n",
       "      <td>8.0</td>\n",
       "      <td>5.0</td>\n",
       "      <td>NaN</td>\n",
       "      <td>NaN</td>\n",
       "      <td>NaN</td>\n",
       "      <td>NaN</td>\n",
       "      <td>NaN</td>\n",
       "      <td>NaN</td>\n",
       "      <td>NaN</td>\n",
       "      <td>NaN</td>\n",
       "      <td>NaN</td>\n",
       "      <td>5.0</td>\n",
       "      <td>5.0</td>\n",
       "      <td>1798.0</td>\n",
       "      <td>4.0</td>\n",
       "      <td>1609.0</td>\n",
       "      <td>front</td>\n",
       "      <td>NaN</td>\n",
       "      <td>NaN</td>\n",
       "      <td>7.0</td>\n",
       "    </tr>\n",
       "  </tbody>\n",
       "</table>\n",
       "<p>731 rows × 33 columns</p>\n",
       "</div>"
      ],
      "text/plain": [
       "          brand_model body_type  price  age        km     Fuel  Type  \\\n",
       "9             Audi A1    Sedans  17990  2.0   16103.0  Benzine  Used   \n",
       "30            Audi A1   Compact  11290  3.0   38400.0   Diesel  Used   \n",
       "53            Audi A1   Compact  11100  3.0  111670.0   Diesel  Used   \n",
       "165           Audi A1    Sedans  17500  2.0   15000.0  Benzine  Used   \n",
       "188           Audi A1   Compact  17900  3.0   11300.0   Diesel  Used   \n",
       "...               ...       ...    ...  ...       ...      ...   ...   \n",
       "14258  Renault Espace       Van  33990  1.0   10803.0   Diesel  Used   \n",
       "14270  Renault Espace       Van  44500  0.0    9000.0   Diesel  Used   \n",
       "14271  Renault Espace   Compact  43000  0.0    1000.0   Diesel  Used   \n",
       "14317  Renault Espace       Van  43911  0.0       NaN   Diesel   New   \n",
       "14327  Renault Espace       Van  43315  0.0       NaN  Benzine   New   \n",
       "\n",
       "       prev_owner Body Color Paint Type Gearing Type     hp  Consumption_comb  \\\n",
       "9             1.0      White   Metallic    Automatic   70.0               NaN   \n",
       "30            1.0      Black   Metallic       Manual   66.0               3.0   \n",
       "53            1.0      Black   Metallic       Manual   85.0               3.0   \n",
       "165           1.0       Blue   Metallic    Automatic   70.0               4.4   \n",
       "188           1.0       Grey   Metallic    Automatic   66.0               NaN   \n",
       "...           ...        ...        ...          ...    ...               ...   \n",
       "14258         1.0       Grey   Metallic    Automatic    1.0               4.6   \n",
       "14270         1.0       Blue   Metallic    Automatic  147.0               NaN   \n",
       "14271         1.0      Black   Metallic    Automatic  147.0               NaN   \n",
       "14317         0.0      Black   Metallic    Automatic  147.0               5.0   \n",
       "14327         0.0      White   Metallic    Automatic  165.0               6.0   \n",
       "\n",
       "       Consumption_city  Consumption_country Comfort & Convenience  \\\n",
       "9                   NaN                  NaN                   NaN   \n",
       "30                  3.0                  3.0                   NaN   \n",
       "53                  4.0                  3.0                   NaN   \n",
       "165                 5.4                  3.8                   NaN   \n",
       "188                 NaN                  NaN                   NaN   \n",
       "...                 ...                  ...                   ...   \n",
       "14258               NaN                  NaN                   NaN   \n",
       "14270               NaN                  NaN                   NaN   \n",
       "14271               NaN                  NaN                   NaN   \n",
       "14317               5.0                  4.0                   NaN   \n",
       "14327               8.0                  5.0                   NaN   \n",
       "\n",
       "      Entertainment & Media Safety & Security        Extras Upholstery_type  \\\n",
       "9                       NaN               NaN           NaN             NaN   \n",
       "30                      NaN               NaN           NaN             NaN   \n",
       "53                      NaN               NaN           NaN             NaN   \n",
       "165                     NaN               NaN  Alloy wheels             NaN   \n",
       "188                     NaN               NaN           NaN             NaN   \n",
       "...                     ...               ...           ...             ...   \n",
       "14258                   NaN               NaN           NaN             NaN   \n",
       "14270                   NaN               NaN           NaN             NaN   \n",
       "14271                   NaN               NaN           NaN             NaN   \n",
       "14317                   NaN               NaN           NaN             NaN   \n",
       "14327                   NaN               NaN           NaN             NaN   \n",
       "\n",
       "      Upholstery_color             vat  Warranty  \\\n",
       "9                  NaN             NaN       3.0   \n",
       "30                 NaN             NaN      12.0   \n",
       "53                 NaN             NaN      12.0   \n",
       "165                NaN             NaN       NaN   \n",
       "188                NaN             NaN      12.0   \n",
       "...                ...             ...       ...   \n",
       "14258              NaN  VAT deductible      12.0   \n",
       "14270              NaN             NaN       NaN   \n",
       "14271              NaN             NaN      24.0   \n",
       "14317              NaN             NaN       NaN   \n",
       "14327              NaN             NaN       NaN   \n",
       "\n",
       "                  Body Color Original  Nr. of Doors  Nr. of Seats  \\\n",
       "9                               Blanc           5.0           4.0   \n",
       "30                              Negro           5.0           5.0   \n",
       "53                              Negro           5.0           5.0   \n",
       "165                               NaN           5.0           4.0   \n",
       "188                   Gris Metalizado           5.0           4.0   \n",
       "...                               ...           ...           ...   \n",
       "14258                            gris           5.0           NaN   \n",
       "14270                            bleu           5.0           7.0   \n",
       "14271  Negro Amatista (metalizado esp           5.0           5.0   \n",
       "14317                             NaN           5.0           5.0   \n",
       "14327                             NaN           5.0           5.0   \n",
       "\n",
       "       Displacement  Cylinders  Weight Drive chain  CO2 Emission  \\\n",
       "9               NaN        NaN     NaN         NaN           NaN   \n",
       "30           1422.0        3.0  1195.0       front           NaN   \n",
       "53           1598.0        4.0  1250.0       front           NaN   \n",
       "165             NaN        3.0  1165.0         NaN         102.0   \n",
       "188             NaN        NaN     NaN         NaN           NaN   \n",
       "...             ...        ...     ...         ...           ...   \n",
       "14258           NaN        NaN     NaN         NaN           NaN   \n",
       "14270           NaN        NaN     NaN         NaN           NaN   \n",
       "14271           NaN        NaN     NaN         NaN           NaN   \n",
       "14317        1997.0        4.0  1659.0       front           NaN   \n",
       "14327        1798.0        4.0  1609.0       front           NaN   \n",
       "\n",
       "      Emission Class  Gears  \n",
       "9                NaN    7.0  \n",
       "30               NaN    5.0  \n",
       "53               NaN    5.0  \n",
       "165           Euro 6    7.0  \n",
       "188              NaN    7.0  \n",
       "...              ...    ...  \n",
       "14258            NaN    NaN  \n",
       "14270            NaN    NaN  \n",
       "14271            NaN    6.0  \n",
       "14317            NaN    6.0  \n",
       "14327            NaN    7.0  \n",
       "\n",
       "[731 rows x 33 columns]"
      ]
     },
     "execution_count": 53,
     "metadata": {},
     "output_type": "execute_result"
    }
   ],
   "source": [
    "df.loc[df['Comfort & Convenience'].isnull()]"
   ]
  },
  {
   "cell_type": "code",
   "execution_count": 54,
   "id": "50ad9bbb",
   "metadata": {},
   "outputs": [],
   "source": [
    "df['Comfort & Convenience']=df['Comfort & Convenience'].fillna(df['Comfort & Convenience'].mode()[0])"
   ]
  },
  {
   "cell_type": "code",
   "execution_count": 55,
   "id": "85663615",
   "metadata": {},
   "outputs": [
    {
     "data": {
      "text/plain": [
       "0"
      ]
     },
     "execution_count": 55,
     "metadata": {},
     "output_type": "execute_result"
    }
   ],
   "source": [
    "df['Comfort & Convenience'].isnull().sum()"
   ]
  },
  {
   "cell_type": "markdown",
   "id": "0a0172b0",
   "metadata": {},
   "source": [
    "## Entertainment & Media"
   ]
  },
  {
   "cell_type": "code",
   "execution_count": 56,
   "id": "de5614f3",
   "metadata": {},
   "outputs": [
    {
     "data": {
      "text/plain": [
       "1115"
      ]
     },
     "execution_count": 56,
     "metadata": {},
     "output_type": "execute_result"
    }
   ],
   "source": [
    "df['Entertainment & Media'].isnull().sum()"
   ]
  },
  {
   "cell_type": "code",
   "execution_count": 57,
   "id": "648c769f",
   "metadata": {},
   "outputs": [],
   "source": [
    "df['Entertainment & Media']=df['Entertainment & Media'].fillna(df['Entertainment & Media'].mode()[0])"
   ]
  },
  {
   "cell_type": "markdown",
   "id": "771f4683",
   "metadata": {},
   "source": [
    "## Safety & Security"
   ]
  },
  {
   "cell_type": "code",
   "execution_count": 58,
   "id": "a493bd0a",
   "metadata": {},
   "outputs": [
    {
     "data": {
      "text/plain": [
       "770"
      ]
     },
     "execution_count": 58,
     "metadata": {},
     "output_type": "execute_result"
    }
   ],
   "source": [
    "df['Safety & Security'].isnull().sum()"
   ]
  },
  {
   "cell_type": "code",
   "execution_count": 59,
   "id": "87a5b0ef",
   "metadata": {},
   "outputs": [],
   "source": [
    "df['Safety & Security']=df['Safety & Security'].fillna(df.groupby(['brand_model','body_type'])['Safety & Security'].transform(lambda x : x.mode()[0]))"
   ]
  },
  {
   "cell_type": "code",
   "execution_count": 60,
   "id": "9c4ac426",
   "metadata": {},
   "outputs": [
    {
     "data": {
      "text/plain": [
       "0"
      ]
     },
     "execution_count": 60,
     "metadata": {},
     "output_type": "execute_result"
    }
   ],
   "source": [
    "df['Safety & Security'].isnull().sum()"
   ]
  },
  {
   "cell_type": "markdown",
   "id": "4b540700",
   "metadata": {},
   "source": [
    "## Extras"
   ]
  },
  {
   "cell_type": "code",
   "execution_count": 61,
   "id": "f20be44e",
   "metadata": {},
   "outputs": [
    {
     "data": {
      "text/plain": [
       "2520"
      ]
     },
     "execution_count": 61,
     "metadata": {},
     "output_type": "execute_result"
    }
   ],
   "source": [
    "df['Extras'].isnull().sum()"
   ]
  },
  {
   "cell_type": "code",
   "execution_count": 62,
   "id": "901a0906",
   "metadata": {},
   "outputs": [],
   "source": [
    "df['Extras']=df['Extras'].fillna(df.groupby(['brand_model'])['Extras'].transform(lambda x : x.mode()[0]))"
   ]
  },
  {
   "cell_type": "code",
   "execution_count": 63,
   "id": "c8dacaef",
   "metadata": {},
   "outputs": [
    {
     "data": {
      "text/plain": [
       "0"
      ]
     },
     "execution_count": 63,
     "metadata": {},
     "output_type": "execute_result"
    }
   ],
   "source": [
    "df['Extras'].isnull().sum()"
   ]
  },
  {
   "cell_type": "markdown",
   "id": "4c5d01a4",
   "metadata": {},
   "source": [
    "## Upholstery_type and Upholstery_color"
   ]
  },
  {
   "cell_type": "code",
   "execution_count": 64,
   "id": "a6f2050c",
   "metadata": {},
   "outputs": [
    {
     "data": {
      "text/plain": [
       "3861"
      ]
     },
     "execution_count": 64,
     "metadata": {},
     "output_type": "execute_result"
    }
   ],
   "source": [
    "df['Upholstery_type'].isnull().sum()"
   ]
  },
  {
   "cell_type": "code",
   "execution_count": 65,
   "id": "d3166a6b",
   "metadata": {},
   "outputs": [],
   "source": [
    "df['Upholstery_type']=df['Upholstery_type'].fillna(df.groupby(['brand_model'])['Upholstery_type'].transform(lambda x : x.mode()[0]))"
   ]
  },
  {
   "cell_type": "code",
   "execution_count": 66,
   "id": "7b437ce6",
   "metadata": {},
   "outputs": [
    {
     "data": {
      "text/plain": [
       "0"
      ]
     },
     "execution_count": 66,
     "metadata": {},
     "output_type": "execute_result"
    }
   ],
   "source": [
    "df['Upholstery_type'].isnull().sum()"
   ]
  },
  {
   "cell_type": "code",
   "execution_count": 67,
   "id": "bab8c166",
   "metadata": {},
   "outputs": [
    {
     "data": {
      "text/plain": [
       "4577"
      ]
     },
     "execution_count": 67,
     "metadata": {},
     "output_type": "execute_result"
    }
   ],
   "source": [
    "df['Upholstery_color'].isnull().sum()"
   ]
  },
  {
   "cell_type": "code",
   "execution_count": 68,
   "id": "460ed474",
   "metadata": {},
   "outputs": [],
   "source": [
    "df['Upholstery_color']=df['Upholstery_color'].fillna(df.groupby(['brand_model','body_type'])['Upholstery_type'].transform(lambda x : x.mode()[0]))"
   ]
  },
  {
   "cell_type": "code",
   "execution_count": 69,
   "id": "c062978b",
   "metadata": {},
   "outputs": [
    {
     "data": {
      "text/plain": [
       "0"
      ]
     },
     "execution_count": 69,
     "metadata": {},
     "output_type": "execute_result"
    }
   ],
   "source": [
    "df['Upholstery_color'].isnull().sum()"
   ]
  },
  {
   "cell_type": "markdown",
   "id": "4ddc32c2",
   "metadata": {},
   "source": [
    "## vat"
   ]
  },
  {
   "cell_type": "code",
   "execution_count": 70,
   "id": "fcbc893c",
   "metadata": {},
   "outputs": [
    {
     "data": {
      "text/plain": [
       "3966"
      ]
     },
     "execution_count": 70,
     "metadata": {},
     "output_type": "execute_result"
    }
   ],
   "source": [
    "df['vat'].isnull().sum()"
   ]
  },
  {
   "cell_type": "code",
   "execution_count": 71,
   "id": "78fc290f",
   "metadata": {},
   "outputs": [
    {
     "data": {
      "text/plain": [
       "VAT deductible      9985\n",
       "NaN                 3966\n",
       "Price negotiable     425\n",
       "Name: vat, dtype: int64"
      ]
     },
     "execution_count": 71,
     "metadata": {},
     "output_type": "execute_result"
    }
   ],
   "source": [
    "df['vat'].value_counts(dropna=False)"
   ]
  },
  {
   "cell_type": "code",
   "execution_count": 72,
   "id": "82cb8f2a",
   "metadata": {},
   "outputs": [],
   "source": [
    "df['vat']=df['vat'].replace(np.nan,'VAT undeductible')"
   ]
  },
  {
   "cell_type": "code",
   "execution_count": 73,
   "id": "8b1d6f67",
   "metadata": {},
   "outputs": [
    {
     "data": {
      "text/plain": [
       "VAT deductible      9985\n",
       "VAT undeductible    3966\n",
       "Price negotiable     425\n",
       "Name: vat, dtype: int64"
      ]
     },
     "execution_count": 73,
     "metadata": {},
     "output_type": "execute_result"
    }
   ],
   "source": [
    "df['vat'].value_counts(dropna=False)"
   ]
  },
  {
   "cell_type": "markdown",
   "id": "3906e9ed",
   "metadata": {},
   "source": [
    "## Warranty"
   ]
  },
  {
   "cell_type": "code",
   "execution_count": 74,
   "id": "ce2a1c24",
   "metadata": {},
   "outputs": [
    {
     "data": {
      "text/plain": [
       "NaN     10100\n",
       "12.0     2224\n",
       "24.0     1032\n",
       "60.0      391\n",
       "36.0      184\n",
       "48.0      133\n",
       "6.0       125\n",
       "72.0       59\n",
       "3.0        33\n",
       "23.0       11\n",
       "18.0       10\n",
       "20.0        7\n",
       "25.0        6\n",
       "2.0         5\n",
       "50.0        4\n",
       "26.0        4\n",
       "16.0        4\n",
       "4.0         3\n",
       "1.0         3\n",
       "19.0        3\n",
       "34.0        3\n",
       "13.0        3\n",
       "28.0        2\n",
       "22.0        2\n",
       "14.0        2\n",
       "11.0        2\n",
       "46.0        2\n",
       "21.0        2\n",
       "9.0         2\n",
       "17.0        2\n",
       "45.0        2\n",
       "33.0        1\n",
       "40.0        1\n",
       "65.0        1\n",
       "10.0        1\n",
       "15.0        1\n",
       "7.0         1\n",
       "8.0         1\n",
       "56.0        1\n",
       "49.0        1\n",
       "47.0        1\n",
       "30.0        1\n",
       "Name: Warranty, dtype: int64"
      ]
     },
     "execution_count": 74,
     "metadata": {},
     "output_type": "execute_result"
    }
   ],
   "source": [
    "df['Warranty'].value_counts(dropna=False)"
   ]
  },
  {
   "cell_type": "code",
   "execution_count": 75,
   "id": "8682552d",
   "metadata": {},
   "outputs": [
    {
     "data": {
      "text/html": [
       "<div>\n",
       "<style scoped>\n",
       "    .dataframe tbody tr th:only-of-type {\n",
       "        vertical-align: middle;\n",
       "    }\n",
       "\n",
       "    .dataframe tbody tr th {\n",
       "        vertical-align: top;\n",
       "    }\n",
       "\n",
       "    .dataframe thead th {\n",
       "        text-align: right;\n",
       "    }\n",
       "</style>\n",
       "<table border=\"1\" class=\"dataframe\">\n",
       "  <thead>\n",
       "    <tr style=\"text-align: right;\">\n",
       "      <th></th>\n",
       "      <th>brand_model</th>\n",
       "      <th>age</th>\n",
       "      <th>Warranty</th>\n",
       "    </tr>\n",
       "  </thead>\n",
       "  <tbody>\n",
       "    <tr>\n",
       "      <th>8</th>\n",
       "      <td>Audi A1</td>\n",
       "      <td>3.0</td>\n",
       "      <td>12.0</td>\n",
       "    </tr>\n",
       "    <tr>\n",
       "      <th>9</th>\n",
       "      <td>Audi A1</td>\n",
       "      <td>2.0</td>\n",
       "      <td>3.0</td>\n",
       "    </tr>\n",
       "    <tr>\n",
       "      <th>13</th>\n",
       "      <td>Audi A1</td>\n",
       "      <td>3.0</td>\n",
       "      <td>12.0</td>\n",
       "    </tr>\n",
       "    <tr>\n",
       "      <th>15</th>\n",
       "      <td>Audi A1</td>\n",
       "      <td>3.0</td>\n",
       "      <td>12.0</td>\n",
       "    </tr>\n",
       "    <tr>\n",
       "      <th>18</th>\n",
       "      <td>Audi A1</td>\n",
       "      <td>3.0</td>\n",
       "      <td>6.0</td>\n",
       "    </tr>\n",
       "    <tr>\n",
       "      <th>20</th>\n",
       "      <td>Audi A1</td>\n",
       "      <td>2.0</td>\n",
       "      <td>12.0</td>\n",
       "    </tr>\n",
       "    <tr>\n",
       "      <th>21</th>\n",
       "      <td>Audi A1</td>\n",
       "      <td>3.0</td>\n",
       "      <td>12.0</td>\n",
       "    </tr>\n",
       "    <tr>\n",
       "      <th>30</th>\n",
       "      <td>Audi A1</td>\n",
       "      <td>3.0</td>\n",
       "      <td>12.0</td>\n",
       "    </tr>\n",
       "    <tr>\n",
       "      <th>31</th>\n",
       "      <td>Audi A1</td>\n",
       "      <td>3.0</td>\n",
       "      <td>12.0</td>\n",
       "    </tr>\n",
       "    <tr>\n",
       "      <th>33</th>\n",
       "      <td>Audi A1</td>\n",
       "      <td>3.0</td>\n",
       "      <td>12.0</td>\n",
       "    </tr>\n",
       "    <tr>\n",
       "      <th>40</th>\n",
       "      <td>Audi A1</td>\n",
       "      <td>3.0</td>\n",
       "      <td>12.0</td>\n",
       "    </tr>\n",
       "    <tr>\n",
       "      <th>47</th>\n",
       "      <td>Audi A1</td>\n",
       "      <td>3.0</td>\n",
       "      <td>12.0</td>\n",
       "    </tr>\n",
       "    <tr>\n",
       "      <th>49</th>\n",
       "      <td>Audi A1</td>\n",
       "      <td>3.0</td>\n",
       "      <td>12.0</td>\n",
       "    </tr>\n",
       "    <tr>\n",
       "      <th>53</th>\n",
       "      <td>Audi A1</td>\n",
       "      <td>3.0</td>\n",
       "      <td>12.0</td>\n",
       "    </tr>\n",
       "    <tr>\n",
       "      <th>60</th>\n",
       "      <td>Audi A1</td>\n",
       "      <td>3.0</td>\n",
       "      <td>12.0</td>\n",
       "    </tr>\n",
       "    <tr>\n",
       "      <th>61</th>\n",
       "      <td>Audi A1</td>\n",
       "      <td>3.0</td>\n",
       "      <td>12.0</td>\n",
       "    </tr>\n",
       "    <tr>\n",
       "      <th>65</th>\n",
       "      <td>Audi A1</td>\n",
       "      <td>3.0</td>\n",
       "      <td>6.0</td>\n",
       "    </tr>\n",
       "    <tr>\n",
       "      <th>66</th>\n",
       "      <td>Audi A1</td>\n",
       "      <td>2.0</td>\n",
       "      <td>12.0</td>\n",
       "    </tr>\n",
       "    <tr>\n",
       "      <th>67</th>\n",
       "      <td>Audi A1</td>\n",
       "      <td>1.0</td>\n",
       "      <td>24.0</td>\n",
       "    </tr>\n",
       "    <tr>\n",
       "      <th>69</th>\n",
       "      <td>Audi A1</td>\n",
       "      <td>1.0</td>\n",
       "      <td>12.0</td>\n",
       "    </tr>\n",
       "    <tr>\n",
       "      <th>70</th>\n",
       "      <td>Audi A1</td>\n",
       "      <td>2.0</td>\n",
       "      <td>24.0</td>\n",
       "    </tr>\n",
       "    <tr>\n",
       "      <th>72</th>\n",
       "      <td>Audi A1</td>\n",
       "      <td>2.0</td>\n",
       "      <td>12.0</td>\n",
       "    </tr>\n",
       "    <tr>\n",
       "      <th>77</th>\n",
       "      <td>Audi A1</td>\n",
       "      <td>3.0</td>\n",
       "      <td>12.0</td>\n",
       "    </tr>\n",
       "    <tr>\n",
       "      <th>81</th>\n",
       "      <td>Audi A1</td>\n",
       "      <td>1.0</td>\n",
       "      <td>50.0</td>\n",
       "    </tr>\n",
       "    <tr>\n",
       "      <th>82</th>\n",
       "      <td>Audi A1</td>\n",
       "      <td>3.0</td>\n",
       "      <td>12.0</td>\n",
       "    </tr>\n",
       "    <tr>\n",
       "      <th>91</th>\n",
       "      <td>Audi A1</td>\n",
       "      <td>1.0</td>\n",
       "      <td>50.0</td>\n",
       "    </tr>\n",
       "    <tr>\n",
       "      <th>93</th>\n",
       "      <td>Audi A1</td>\n",
       "      <td>2.0</td>\n",
       "      <td>6.0</td>\n",
       "    </tr>\n",
       "    <tr>\n",
       "      <th>95</th>\n",
       "      <td>Audi A1</td>\n",
       "      <td>1.0</td>\n",
       "      <td>48.0</td>\n",
       "    </tr>\n",
       "    <tr>\n",
       "      <th>96</th>\n",
       "      <td>Audi A1</td>\n",
       "      <td>1.0</td>\n",
       "      <td>12.0</td>\n",
       "    </tr>\n",
       "    <tr>\n",
       "      <th>97</th>\n",
       "      <td>Audi A1</td>\n",
       "      <td>1.0</td>\n",
       "      <td>12.0</td>\n",
       "    </tr>\n",
       "    <tr>\n",
       "      <th>99</th>\n",
       "      <td>Audi A1</td>\n",
       "      <td>1.0</td>\n",
       "      <td>48.0</td>\n",
       "    </tr>\n",
       "    <tr>\n",
       "      <th>100</th>\n",
       "      <td>Audi A1</td>\n",
       "      <td>1.0</td>\n",
       "      <td>48.0</td>\n",
       "    </tr>\n",
       "    <tr>\n",
       "      <th>101</th>\n",
       "      <td>Audi A1</td>\n",
       "      <td>1.0</td>\n",
       "      <td>12.0</td>\n",
       "    </tr>\n",
       "    <tr>\n",
       "      <th>102</th>\n",
       "      <td>Audi A1</td>\n",
       "      <td>1.0</td>\n",
       "      <td>48.0</td>\n",
       "    </tr>\n",
       "    <tr>\n",
       "      <th>106</th>\n",
       "      <td>Audi A1</td>\n",
       "      <td>1.0</td>\n",
       "      <td>48.0</td>\n",
       "    </tr>\n",
       "    <tr>\n",
       "      <th>111</th>\n",
       "      <td>Audi A1</td>\n",
       "      <td>1.0</td>\n",
       "      <td>24.0</td>\n",
       "    </tr>\n",
       "    <tr>\n",
       "      <th>117</th>\n",
       "      <td>Audi A1</td>\n",
       "      <td>1.0</td>\n",
       "      <td>24.0</td>\n",
       "    </tr>\n",
       "    <tr>\n",
       "      <th>129</th>\n",
       "      <td>Audi A1</td>\n",
       "      <td>1.0</td>\n",
       "      <td>48.0</td>\n",
       "    </tr>\n",
       "    <tr>\n",
       "      <th>132</th>\n",
       "      <td>Audi A1</td>\n",
       "      <td>3.0</td>\n",
       "      <td>6.0</td>\n",
       "    </tr>\n",
       "    <tr>\n",
       "      <th>137</th>\n",
       "      <td>Audi A1</td>\n",
       "      <td>2.0</td>\n",
       "      <td>24.0</td>\n",
       "    </tr>\n",
       "    <tr>\n",
       "      <th>139</th>\n",
       "      <td>Audi A1</td>\n",
       "      <td>1.0</td>\n",
       "      <td>12.0</td>\n",
       "    </tr>\n",
       "    <tr>\n",
       "      <th>142</th>\n",
       "      <td>Audi A1</td>\n",
       "      <td>1.0</td>\n",
       "      <td>36.0</td>\n",
       "    </tr>\n",
       "    <tr>\n",
       "      <th>147</th>\n",
       "      <td>Audi A1</td>\n",
       "      <td>2.0</td>\n",
       "      <td>12.0</td>\n",
       "    </tr>\n",
       "    <tr>\n",
       "      <th>155</th>\n",
       "      <td>Audi A1</td>\n",
       "      <td>3.0</td>\n",
       "      <td>12.0</td>\n",
       "    </tr>\n",
       "    <tr>\n",
       "      <th>157</th>\n",
       "      <td>Audi A1</td>\n",
       "      <td>1.0</td>\n",
       "      <td>20.0</td>\n",
       "    </tr>\n",
       "    <tr>\n",
       "      <th>162</th>\n",
       "      <td>Audi A1</td>\n",
       "      <td>3.0</td>\n",
       "      <td>12.0</td>\n",
       "    </tr>\n",
       "    <tr>\n",
       "      <th>164</th>\n",
       "      <td>Audi A1</td>\n",
       "      <td>3.0</td>\n",
       "      <td>12.0</td>\n",
       "    </tr>\n",
       "    <tr>\n",
       "      <th>168</th>\n",
       "      <td>Audi A1</td>\n",
       "      <td>2.0</td>\n",
       "      <td>12.0</td>\n",
       "    </tr>\n",
       "    <tr>\n",
       "      <th>171</th>\n",
       "      <td>Audi A1</td>\n",
       "      <td>2.0</td>\n",
       "      <td>36.0</td>\n",
       "    </tr>\n",
       "    <tr>\n",
       "      <th>173</th>\n",
       "      <td>Audi A1</td>\n",
       "      <td>2.0</td>\n",
       "      <td>24.0</td>\n",
       "    </tr>\n",
       "  </tbody>\n",
       "</table>\n",
       "</div>"
      ],
      "text/plain": [
       "    brand_model  age  Warranty\n",
       "8       Audi A1  3.0      12.0\n",
       "9       Audi A1  2.0       3.0\n",
       "13      Audi A1  3.0      12.0\n",
       "15      Audi A1  3.0      12.0\n",
       "18      Audi A1  3.0       6.0\n",
       "20      Audi A1  2.0      12.0\n",
       "21      Audi A1  3.0      12.0\n",
       "30      Audi A1  3.0      12.0\n",
       "31      Audi A1  3.0      12.0\n",
       "33      Audi A1  3.0      12.0\n",
       "40      Audi A1  3.0      12.0\n",
       "47      Audi A1  3.0      12.0\n",
       "49      Audi A1  3.0      12.0\n",
       "53      Audi A1  3.0      12.0\n",
       "60      Audi A1  3.0      12.0\n",
       "61      Audi A1  3.0      12.0\n",
       "65      Audi A1  3.0       6.0\n",
       "66      Audi A1  2.0      12.0\n",
       "67      Audi A1  1.0      24.0\n",
       "69      Audi A1  1.0      12.0\n",
       "70      Audi A1  2.0      24.0\n",
       "72      Audi A1  2.0      12.0\n",
       "77      Audi A1  3.0      12.0\n",
       "81      Audi A1  1.0      50.0\n",
       "82      Audi A1  3.0      12.0\n",
       "91      Audi A1  1.0      50.0\n",
       "93      Audi A1  2.0       6.0\n",
       "95      Audi A1  1.0      48.0\n",
       "96      Audi A1  1.0      12.0\n",
       "97      Audi A1  1.0      12.0\n",
       "99      Audi A1  1.0      48.0\n",
       "100     Audi A1  1.0      48.0\n",
       "101     Audi A1  1.0      12.0\n",
       "102     Audi A1  1.0      48.0\n",
       "106     Audi A1  1.0      48.0\n",
       "111     Audi A1  1.0      24.0\n",
       "117     Audi A1  1.0      24.0\n",
       "129     Audi A1  1.0      48.0\n",
       "132     Audi A1  3.0       6.0\n",
       "137     Audi A1  2.0      24.0\n",
       "139     Audi A1  1.0      12.0\n",
       "142     Audi A1  1.0      36.0\n",
       "147     Audi A1  2.0      12.0\n",
       "155     Audi A1  3.0      12.0\n",
       "157     Audi A1  1.0      20.0\n",
       "162     Audi A1  3.0      12.0\n",
       "164     Audi A1  3.0      12.0\n",
       "168     Audi A1  2.0      12.0\n",
       "171     Audi A1  2.0      36.0\n",
       "173     Audi A1  2.0      24.0"
      ]
     },
     "execution_count": 75,
     "metadata": {},
     "output_type": "execute_result"
    }
   ],
   "source": [
    "df.loc[df['Warranty'].notna()][['brand_model','age','Warranty']].iloc[:50]"
   ]
  },
  {
   "cell_type": "code",
   "execution_count": 76,
   "id": "4bf75f61",
   "metadata": {},
   "outputs": [],
   "source": [
    "df.drop(columns='Warranty',inplace=True)\n",
    "##there should be a relation between warranty and age but it doesn't and the data doesn't make sense.\n",
    "##because of this we dropped"
   ]
  },
  {
   "cell_type": "markdown",
   "id": "c9642583",
   "metadata": {},
   "source": [
    "## Body Color Original"
   ]
  },
  {
   "cell_type": "code",
   "execution_count": 77,
   "id": "871a07dc",
   "metadata": {},
   "outputs": [
    {
     "data": {
      "text/plain": [
       "NaN                              3229\n",
       "Onyx Schwarz                      332\n",
       "Mythosschwarz Metallic            223\n",
       "Brillantschwarz                   204\n",
       "Quarz Grau                        199\n",
       "                                 ... \n",
       "silbergrau met.                     1\n",
       "diamant-blau                        1\n",
       "SchneeWeiss/SummitWhite             1\n",
       "Karbonschwarz Metallic              1\n",
       "Perlmutt-Weiß Metallic (Weiß)       1\n",
       "Name: Body Color Original, Length: 1915, dtype: int64"
      ]
     },
     "execution_count": 77,
     "metadata": {},
     "output_type": "execute_result"
    }
   ],
   "source": [
    "df['Body Color Original'].value_counts(dropna=False)"
   ]
  },
  {
   "cell_type": "code",
   "execution_count": 78,
   "id": "b59625e6",
   "metadata": {},
   "outputs": [],
   "source": [
    "##According to my research 'Body Color Original' has no effect on cars price because of that we can drop this column.\n",
    "df.drop(columns='Body Color Original',inplace=True)"
   ]
  },
  {
   "cell_type": "markdown",
   "id": "d65f8de0",
   "metadata": {},
   "source": [
    "## Nr. of Doors"
   ]
  },
  {
   "cell_type": "code",
   "execution_count": 79,
   "id": "e51bcf1d",
   "metadata": {},
   "outputs": [
    {
     "data": {
      "text/plain": [
       "5.0    10477\n",
       "4.0     2813\n",
       "3.0      755\n",
       "2.0      194\n",
       "NaN      135\n",
       "1.0        1\n",
       "7.0        1\n",
       "Name: Nr. of Doors, dtype: int64"
      ]
     },
     "execution_count": 79,
     "metadata": {},
     "output_type": "execute_result"
    }
   ],
   "source": [
    "df['Nr. of Doors'].value_counts(dropna=False)"
   ]
  },
  {
   "cell_type": "code",
   "execution_count": 80,
   "id": "d85c85a5",
   "metadata": {},
   "outputs": [],
   "source": [
    "df['Nr. of Doors']=df['Nr. of Doors'].fillna(df.groupby(['body_type'])['Nr. of Doors'].transform(lambda x: x.mode()[0]))"
   ]
  },
  {
   "cell_type": "code",
   "execution_count": 81,
   "id": "7430c16a",
   "metadata": {},
   "outputs": [
    {
     "data": {
      "text/plain": [
       "5.0    10612\n",
       "4.0     2813\n",
       "3.0      755\n",
       "2.0      194\n",
       "1.0        1\n",
       "7.0        1\n",
       "Name: Nr. of Doors, dtype: int64"
      ]
     },
     "execution_count": 81,
     "metadata": {},
     "output_type": "execute_result"
    }
   ],
   "source": [
    "df['Nr. of Doors'].value_counts(dropna=False)"
   ]
  },
  {
   "cell_type": "markdown",
   "id": "8d327979",
   "metadata": {},
   "source": [
    "## Nr. of Seats"
   ]
  },
  {
   "cell_type": "code",
   "execution_count": 82,
   "id": "3260eb2e",
   "metadata": {},
   "outputs": [
    {
     "data": {
      "text/plain": [
       "5.0    12082\n",
       "4.0     1074\n",
       "NaN      819\n",
       "7.0      311\n",
       "2.0       87\n",
       "6.0        2\n",
       "3.0        1\n",
       "Name: Nr. of Seats, dtype: int64"
      ]
     },
     "execution_count": 82,
     "metadata": {},
     "output_type": "execute_result"
    }
   ],
   "source": [
    "df['Nr. of Seats'].value_counts(dropna=False)"
   ]
  },
  {
   "cell_type": "code",
   "execution_count": 83,
   "id": "4458b78d",
   "metadata": {},
   "outputs": [],
   "source": [
    "df['Nr. of Seats']=df['Nr. of Seats'].fillna(df.groupby(['body_type'])['Nr. of Seats'].transform(lambda x: x.mode()[0]))"
   ]
  },
  {
   "cell_type": "markdown",
   "id": "f63cc427",
   "metadata": {},
   "source": [
    "## Cylinders"
   ]
  },
  {
   "cell_type": "code",
   "execution_count": 84,
   "id": "c7dff6a1",
   "metadata": {},
   "outputs": [
    {
     "data": {
      "text/plain": [
       "4.0    7406\n",
       "NaN    4974\n",
       "3.0    1966\n",
       "5.0      22\n",
       "6.0       3\n",
       "8.0       2\n",
       "2.0       2\n",
       "1.0       1\n",
       "Name: Cylinders, dtype: int64"
      ]
     },
     "execution_count": 84,
     "metadata": {},
     "output_type": "execute_result"
    }
   ],
   "source": [
    "df['Cylinders'].value_counts(dropna=False)"
   ]
  },
  {
   "cell_type": "code",
   "execution_count": 85,
   "id": "75d2527b",
   "metadata": {},
   "outputs": [],
   "source": [
    "df['Cylinders']=df['Cylinders'].fillna(method='ffill')"
   ]
  },
  {
   "cell_type": "markdown",
   "id": "af5e6147",
   "metadata": {},
   "source": [
    "## Drive chain"
   ]
  },
  {
   "cell_type": "code",
   "execution_count": 86,
   "id": "da01334b",
   "metadata": {},
   "outputs": [
    {
     "data": {
      "text/plain": [
       "front    7967\n",
       "NaN      6254\n",
       "4WD       151\n",
       "rear        4\n",
       "Name: Drive chain, dtype: int64"
      ]
     },
     "execution_count": 86,
     "metadata": {},
     "output_type": "execute_result"
    }
   ],
   "source": [
    "df['Drive chain'].value_counts(dropna=False)"
   ]
  },
  {
   "cell_type": "code",
   "execution_count": 87,
   "id": "7678f214",
   "metadata": {},
   "outputs": [],
   "source": [
    "df['Drive chain']=df['Drive chain'].fillna(df.groupby(['body_type'])['Drive chain'].transform(lambda x: x.mode()[0]))"
   ]
  },
  {
   "cell_type": "code",
   "execution_count": 88,
   "id": "c08617eb",
   "metadata": {},
   "outputs": [
    {
     "data": {
      "text/plain": [
       "front    14179\n",
       "4WD        193\n",
       "rear         4\n",
       "Name: Drive chain, dtype: int64"
      ]
     },
     "execution_count": 88,
     "metadata": {},
     "output_type": "execute_result"
    }
   ],
   "source": [
    "df['Drive chain'].value_counts(dropna=False)"
   ]
  },
  {
   "cell_type": "markdown",
   "id": "b06e9b54",
   "metadata": {},
   "source": [
    "## Emission Class"
   ]
  },
  {
   "cell_type": "code",
   "execution_count": 89,
   "id": "b0026290",
   "metadata": {},
   "outputs": [
    {
     "data": {
      "text/plain": [
       "Euro 6    11021\n",
       "NaN        3237\n",
       "Euro 5       78\n",
       "Euro 4       40\n",
       "Name: Emission Class, dtype: int64"
      ]
     },
     "execution_count": 89,
     "metadata": {},
     "output_type": "execute_result"
    }
   ],
   "source": [
    "df[ 'Emission Class'].value_counts(dropna=False)"
   ]
  },
  {
   "cell_type": "code",
   "execution_count": 90,
   "id": "d1e9dec4",
   "metadata": {},
   "outputs": [],
   "source": [
    "df['Emission Class']=df['Emission Class'].fillna(df.groupby(['body_type'])['Emission Class'].transform(lambda x: x.mode()[0]))"
   ]
  },
  {
   "cell_type": "code",
   "execution_count": 91,
   "id": "58d7361e",
   "metadata": {},
   "outputs": [
    {
     "data": {
      "text/plain": [
       "Euro 6    14248\n",
       "Euro 5       78\n",
       "Euro 4       50\n",
       "Name: Emission Class, dtype: int64"
      ]
     },
     "execution_count": 91,
     "metadata": {},
     "output_type": "execute_result"
    }
   ],
   "source": [
    "df[ 'Emission Class'].value_counts(dropna=False)"
   ]
  },
  {
   "cell_type": "code",
   "execution_count": 92,
   "id": "9fcce560",
   "metadata": {},
   "outputs": [],
   "source": [
    "df.drop(columns='Emission Class',inplace=True)\n",
    "##Almost all the column has the same data, so this column  has no effect on the program\n",
    "##so we dropped it"
   ]
  },
  {
   "cell_type": "markdown",
   "id": "fc574cc6",
   "metadata": {},
   "source": [
    "## Gears"
   ]
  },
  {
   "cell_type": "code",
   "execution_count": 93,
   "id": "c282b611",
   "metadata": {},
   "outputs": [
    {
     "data": {
      "text/plain": [
       "6.0     5311\n",
       "NaN     4158\n",
       "5.0     2952\n",
       "7.0     1745\n",
       "8.0      199\n",
       "9.0        4\n",
       "1.0        2\n",
       "3.0        2\n",
       "2.0        1\n",
       "50.0       1\n",
       "4.0        1\n",
       "Name: Gears, dtype: int64"
      ]
     },
     "execution_count": 93,
     "metadata": {},
     "output_type": "execute_result"
    }
   ],
   "source": [
    "df['Gears'].value_counts(dropna=False)"
   ]
  },
  {
   "cell_type": "code",
   "execution_count": 94,
   "id": "19d633e8",
   "metadata": {},
   "outputs": [
    {
     "data": {
      "text/plain": [
       "Index(['brand_model', 'body_type', 'price', 'age', 'km', 'Fuel', 'Type',\n",
       "       'prev_owner', 'Body Color', 'Paint Type', 'Gearing Type', 'hp',\n",
       "       'Consumption_comb', 'Consumption_city', 'Consumption_country',\n",
       "       'Comfort & Convenience', 'Entertainment & Media', 'Safety & Security',\n",
       "       'Extras', 'Upholstery_type', 'Upholstery_color', 'vat', 'Nr. of Doors',\n",
       "       'Nr. of Seats', 'Displacement', 'Cylinders', 'Weight', 'Drive chain',\n",
       "       'CO2 Emission', 'Gears'],\n",
       "      dtype='object')"
      ]
     },
     "execution_count": 94,
     "metadata": {},
     "output_type": "execute_result"
    }
   ],
   "source": [
    "df.columns"
   ]
  },
  {
   "cell_type": "code",
   "execution_count": 95,
   "id": "5bbe0342",
   "metadata": {},
   "outputs": [],
   "source": [
    "df['Gears']=df['Gears'].fillna(df.groupby(['body_type','Gearing Type',])['Gears'].transform(lambda x: x.mode()[0]))"
   ]
  },
  {
   "cell_type": "code",
   "execution_count": 96,
   "id": "1a09c209",
   "metadata": {},
   "outputs": [
    {
     "data": {
      "text/plain": [
       "6.0     7312\n",
       "5.0     4270\n",
       "7.0     2584\n",
       "8.0      199\n",
       "9.0        4\n",
       "1.0        2\n",
       "3.0        2\n",
       "2.0        1\n",
       "50.0       1\n",
       "4.0        1\n",
       "Name: Gears, dtype: int64"
      ]
     },
     "execution_count": 96,
     "metadata": {},
     "output_type": "execute_result"
    }
   ],
   "source": [
    "df['Gears'].value_counts(dropna=False)"
   ]
  },
  {
   "cell_type": "markdown",
   "id": "e927d5c3",
   "metadata": {},
   "source": [
    "# After this point, we will fill the missing data in the numerical categories"
   ]
  },
  {
   "cell_type": "code",
   "execution_count": 97,
   "id": "76e341d5",
   "metadata": {},
   "outputs": [
    {
     "data": {
      "text/plain": [
       "brand_model                 0\n",
       "body_type                   0\n",
       "price                       0\n",
       "age                         0\n",
       "km                        892\n",
       "Fuel                        0\n",
       "Type                        0\n",
       "prev_owner                  0\n",
       "Body Color                  0\n",
       "Paint Type                  0\n",
       "Gearing Type                0\n",
       "hp                          0\n",
       "Consumption_comb         1821\n",
       "Consumption_city         2267\n",
       "Consumption_country      2219\n",
       "Comfort & Convenience       0\n",
       "Entertainment & Media       0\n",
       "Safety & Security           0\n",
       "Extras                      0\n",
       "Upholstery_type             0\n",
       "Upholstery_color            0\n",
       "vat                         0\n",
       "Nr. of Doors                0\n",
       "Nr. of Seats                0\n",
       "Displacement             3016\n",
       "Cylinders                   0\n",
       "Weight                   6306\n",
       "Drive chain                 0\n",
       "CO2 Emission             2204\n",
       "Gears                       0\n",
       "dtype: int64"
      ]
     },
     "execution_count": 97,
     "metadata": {},
     "output_type": "execute_result"
    }
   ],
   "source": [
    "df.isnull().sum()"
   ]
  },
  {
   "cell_type": "markdown",
   "id": "267bb2dc",
   "metadata": {},
   "source": [
    "## km"
   ]
  },
  {
   "cell_type": "code",
   "execution_count": 98,
   "id": "1295acf7",
   "metadata": {},
   "outputs": [
    {
     "data": {
      "text/plain": [
       "892"
      ]
     },
     "execution_count": 98,
     "metadata": {},
     "output_type": "execute_result"
    }
   ],
   "source": [
    "df['km'].isnull().sum()"
   ]
  },
  {
   "cell_type": "code",
   "execution_count": 99,
   "id": "c1626f7f",
   "metadata": {},
   "outputs": [
    {
     "data": {
      "text/plain": [
       "NaN       892\n",
       "10.0      818\n",
       "1.0       308\n",
       "5.0       139\n",
       "50.0      126\n",
       "         ... \n",
       "3339.0      1\n",
       "1988.0      1\n",
       "90.0        1\n",
       "506.0       1\n",
       "57.0        1\n",
       "Name: km, Length: 6674, dtype: int64"
      ]
     },
     "execution_count": 99,
     "metadata": {},
     "output_type": "execute_result"
    }
   ],
   "source": [
    "df['km'].value_counts(dropna=False)"
   ]
  },
  {
   "cell_type": "code",
   "execution_count": 100,
   "id": "9f451a06",
   "metadata": {},
   "outputs": [
    {
     "data": {
      "text/plain": [
       "Sedans           7221\n",
       "Station wagon    3305\n",
       "Compact          2685\n",
       "Van               719\n",
       "Other             272\n",
       "Transporter        86\n",
       "Off-Road           56\n",
       "Coupe              24\n",
       "Convertible         8\n",
       "Name: body_type, dtype: int64"
      ]
     },
     "execution_count": 100,
     "metadata": {},
     "output_type": "execute_result"
    }
   ],
   "source": [
    "df['body_type'].value_counts()"
   ]
  },
  {
   "cell_type": "code",
   "execution_count": 101,
   "id": "26511788",
   "metadata": {},
   "outputs": [],
   "source": [
    "df['km']=df['km'].fillna(df.groupby(['body_type','age'])['km'].transform(lambda x : x.mean()))"
   ]
  },
  {
   "cell_type": "code",
   "execution_count": 102,
   "id": "127ea057",
   "metadata": {},
   "outputs": [
    {
     "data": {
      "text/plain": [
       "0"
      ]
     },
     "execution_count": 102,
     "metadata": {},
     "output_type": "execute_result"
    }
   ],
   "source": [
    "df['km'].isnull().sum()"
   ]
  },
  {
   "cell_type": "code",
   "execution_count": 103,
   "id": "b5462c4b",
   "metadata": {},
   "outputs": [],
   "source": [
    "# When we are filling the missing values in this column, we just looked at the 'body type' and 'age' \n",
    "## because for cars these are more important than brand and they determine how many km we use."
   ]
  },
  {
   "cell_type": "code",
   "execution_count": 104,
   "id": "4914c082",
   "metadata": {},
   "outputs": [
    {
     "data": {
      "text/plain": [
       "brand_model                 0\n",
       "body_type                   0\n",
       "price                       0\n",
       "age                         0\n",
       "km                          0\n",
       "Fuel                        0\n",
       "Type                        0\n",
       "prev_owner                  0\n",
       "Body Color                  0\n",
       "Paint Type                  0\n",
       "Gearing Type                0\n",
       "hp                          0\n",
       "Consumption_comb         1821\n",
       "Consumption_city         2267\n",
       "Consumption_country      2219\n",
       "Comfort & Convenience       0\n",
       "Entertainment & Media       0\n",
       "Safety & Security           0\n",
       "Extras                      0\n",
       "Upholstery_type             0\n",
       "Upholstery_color            0\n",
       "vat                         0\n",
       "Nr. of Doors                0\n",
       "Nr. of Seats                0\n",
       "Displacement             3016\n",
       "Cylinders                   0\n",
       "Weight                   6306\n",
       "Drive chain                 0\n",
       "CO2 Emission             2204\n",
       "Gears                       0\n",
       "dtype: int64"
      ]
     },
     "execution_count": 104,
     "metadata": {},
     "output_type": "execute_result"
    }
   ],
   "source": [
    "df.isnull().sum()"
   ]
  },
  {
   "cell_type": "markdown",
   "id": "1f84216c",
   "metadata": {},
   "source": [
    "## Consumption_comb , Consumption_city and Consumption_country"
   ]
  },
  {
   "cell_type": "code",
   "execution_count": 105,
   "id": "1e0d1eb9",
   "metadata": {},
   "outputs": [
    {
     "data": {
      "text/plain": [
       "1821"
      ]
     },
     "execution_count": 105,
     "metadata": {},
     "output_type": "execute_result"
    }
   ],
   "source": [
    "df['Consumption_comb'].isnull().sum()"
   ]
  },
  {
   "cell_type": "code",
   "execution_count": 106,
   "id": "5d8dce3d",
   "metadata": {},
   "outputs": [
    {
     "data": {
      "text/plain": [
       "2267"
      ]
     },
     "execution_count": 106,
     "metadata": {},
     "output_type": "execute_result"
    }
   ],
   "source": [
    "df['Consumption_city'].isnull().sum()"
   ]
  },
  {
   "cell_type": "code",
   "execution_count": 107,
   "id": "5ab49535",
   "metadata": {},
   "outputs": [
    {
     "data": {
      "text/plain": [
       "2219"
      ]
     },
     "execution_count": 107,
     "metadata": {},
     "output_type": "execute_result"
    }
   ],
   "source": [
    "df['Consumption_country'].isnull().sum()"
   ]
  },
  {
   "cell_type": "code",
   "execution_count": 108,
   "id": "74bb908d",
   "metadata": {},
   "outputs": [
    {
     "data": {
      "text/plain": [
       "NaN     1821\n",
       "5.0      999\n",
       "4.0      957\n",
       "3.9      683\n",
       "5.4      625\n",
       "4.4      605\n",
       "5.6      585\n",
       "4.7      577\n",
       "3.8      556\n",
       "4.8      513\n",
       "4.5      507\n",
       "6.0      489\n",
       "4.2      424\n",
       "5.2      413\n",
       "4.6      377\n",
       "5.3      357\n",
       "4.9      339\n",
       "3.7      334\n",
       "5.7      333\n",
       "5.5      329\n",
       "5.9      309\n",
       "4.3      281\n",
       "3.5      242\n",
       "3.3      220\n",
       "6.2      212\n",
       "3.6      191\n",
       "6.3      155\n",
       "6.6      147\n",
       "5.8      145\n",
       "3.4      104\n",
       "6.8      103\n",
       "6.4       74\n",
       "3.0       71\n",
       "7.4       58\n",
       "7.0       48\n",
       "6.7       40\n",
       "6.5       30\n",
       "3.2       25\n",
       "6.9       24\n",
       "8.3       20\n",
       "7.6       12\n",
       "8.0        7\n",
       "7.2        6\n",
       "7.8        4\n",
       "8.6        4\n",
       "5.1        3\n",
       "8.7        3\n",
       "38.0       2\n",
       "7.9        2\n",
       "7.3        2\n",
       "7.5        1\n",
       "43.0       1\n",
       "9.0        1\n",
       "55.0       1\n",
       "54.0       1\n",
       "2.0        1\n",
       "32.0       1\n",
       "33.0       1\n",
       "46.0       1\n",
       "Name: Consumption_comb, dtype: int64"
      ]
     },
     "execution_count": 108,
     "metadata": {},
     "output_type": "execute_result"
    }
   ],
   "source": [
    "df['Consumption_comb'].value_counts(dropna=False)"
   ]
  },
  {
   "cell_type": "code",
   "execution_count": 109,
   "id": "3585ca77",
   "metadata": {},
   "outputs": [
    {
     "data": {
      "text/plain": [
       "NaN     2267\n",
       "5.0     1073\n",
       "5.8      578\n",
       "4.0      568\n",
       "4.5      548\n",
       "4.3      492\n",
       "7.2      409\n",
       "7.3      401\n",
       "7.0      387\n",
       "4.6      382\n",
       "7.8      380\n",
       "6.8      375\n",
       "5.7      362\n",
       "5.9      342\n",
       "6.0      342\n",
       "5.2      334\n",
       "6.6      319\n",
       "5.4      315\n",
       "4.2      308\n",
       "6.7      304\n",
       "4.7      268\n",
       "6.3      265\n",
       "7.5      250\n",
       "3.9      242\n",
       "6.2      209\n",
       "5.5      207\n",
       "7.6      201\n",
       "7.7      199\n",
       "6.9      195\n",
       "6.5      153\n",
       "7.4      151\n",
       "3.5      149\n",
       "8.2      139\n",
       "8.0      137\n",
       "8.7      124\n",
       "4.4      102\n",
       "7.9      101\n",
       "5.3      101\n",
       "5.6      100\n",
       "6.4       92\n",
       "4.8       60\n",
       "4.9       57\n",
       "8.3       41\n",
       "8.6       41\n",
       "8.5       39\n",
       "9.6       38\n",
       "9.2       32\n",
       "3.7       30\n",
       "3.8       26\n",
       "3.0       26\n",
       "3.4       17\n",
       "9.9       14\n",
       "9.4       14\n",
       "3.3       13\n",
       "2.0       12\n",
       "9.0       11\n",
       "8.4        7\n",
       "9.8        5\n",
       "8.9        4\n",
       "62.0       4\n",
       "9.5        3\n",
       "8.8        2\n",
       "45.0       2\n",
       "43.0       2\n",
       "3.6        2\n",
       "66.0       1\n",
       "64.0       1\n",
       "9.7        1\n",
       "Name: Consumption_city, dtype: int64"
      ]
     },
     "execution_count": 109,
     "metadata": {},
     "output_type": "execute_result"
    }
   ],
   "source": [
    "df['Consumption_city'].value_counts(dropna=False)"
   ]
  },
  {
   "cell_type": "code",
   "execution_count": 110,
   "id": "32087fad",
   "metadata": {},
   "outputs": [
    {
     "data": {
      "text/plain": [
       "NaN     2219\n",
       "4.0     1082\n",
       "4.2     1045\n",
       "3.7     1000\n",
       "4.4      803\n",
       "4.5      726\n",
       "3.8      724\n",
       "3.9      719\n",
       "4.7      579\n",
       "3.5      490\n",
       "3.0      488\n",
       "3.6      476\n",
       "4.6      473\n",
       "4.9      452\n",
       "3.3      423\n",
       "4.3      418\n",
       "3.4      327\n",
       "4.8      325\n",
       "5.0      302\n",
       "5.3      268\n",
       "5.4      213\n",
       "3.2      158\n",
       "5.7      153\n",
       "5.6      150\n",
       "5.2      112\n",
       "6.3       47\n",
       "6.0       39\n",
       "5.5       36\n",
       "5.8       30\n",
       "6.6       19\n",
       "2.9       16\n",
       "6.4       13\n",
       "2.8        9\n",
       "7.7        7\n",
       "7.0        6\n",
       "7.3        4\n",
       "6.5        4\n",
       "44.0       4\n",
       "7.8        2\n",
       "5.9        2\n",
       "35.0       2\n",
       "6.7        2\n",
       "6.9        2\n",
       "37.0       2\n",
       "2.0        1\n",
       "8.0        1\n",
       "8.6        1\n",
       "7.6        1\n",
       "42.0       1\n",
       "Name: Consumption_country, dtype: int64"
      ]
     },
     "execution_count": 110,
     "metadata": {},
     "output_type": "execute_result"
    }
   ],
   "source": [
    "df['Consumption_country'].value_counts(dropna=False)"
   ]
  },
  {
   "cell_type": "code",
   "execution_count": 111,
   "id": "be5885d8",
   "metadata": {
    "scrolled": true
   },
   "outputs": [
    {
     "data": {
      "text/plain": [
       "Index(['brand_model', 'body_type', 'price', 'age', 'km', 'Fuel', 'Type',\n",
       "       'prev_owner', 'Body Color', 'Paint Type', 'Gearing Type', 'hp',\n",
       "       'Consumption_comb', 'Consumption_city', 'Consumption_country',\n",
       "       'Comfort & Convenience', 'Entertainment & Media', 'Safety & Security',\n",
       "       'Extras', 'Upholstery_type', 'Upholstery_color', 'vat', 'Nr. of Doors',\n",
       "       'Nr. of Seats', 'Displacement', 'Cylinders', 'Weight', 'Drive chain',\n",
       "       'CO2 Emission', 'Gears'],\n",
       "      dtype='object')"
      ]
     },
     "execution_count": 111,
     "metadata": {},
     "output_type": "execute_result"
    }
   ],
   "source": [
    "df.columns"
   ]
  },
  {
   "cell_type": "code",
   "execution_count": 112,
   "id": "9d66a2fc",
   "metadata": {},
   "outputs": [],
   "source": [
    "df['Consumption_comb']=df['Consumption_comb'].fillna(df.groupby(['brand_model', 'body_type'])['Consumption_comb'].transform('median'))"
   ]
  },
  {
   "cell_type": "code",
   "execution_count": 113,
   "id": "838aa43d",
   "metadata": {},
   "outputs": [],
   "source": [
    "df['Consumption_city']=df['Consumption_city'].fillna(df.groupby(['brand_model', 'body_type'])['Consumption_city'].transform('median'))"
   ]
  },
  {
   "cell_type": "code",
   "execution_count": 114,
   "id": "33d2df8e",
   "metadata": {},
   "outputs": [],
   "source": [
    "df['Consumption_country']=df['Consumption_country'].fillna(df.groupby(['brand_model', 'body_type'])['Consumption_country'].transform('median'))"
   ]
  },
  {
   "cell_type": "markdown",
   "id": "9c15fcac",
   "metadata": {},
   "source": [
    "##### We filled missing values in this column with median because there are some absurdly high values in the data "
   ]
  },
  {
   "cell_type": "code",
   "execution_count": 115,
   "id": "ced380ef",
   "metadata": {},
   "outputs": [
    {
     "data": {
      "text/plain": [
       "41"
      ]
     },
     "execution_count": 115,
     "metadata": {},
     "output_type": "execute_result"
    }
   ],
   "source": [
    "df['Consumption_comb'].isnull().sum()"
   ]
  },
  {
   "cell_type": "code",
   "execution_count": 116,
   "id": "c88df11a",
   "metadata": {},
   "outputs": [
    {
     "data": {
      "text/plain": [
       "41"
      ]
     },
     "execution_count": 116,
     "metadata": {},
     "output_type": "execute_result"
    }
   ],
   "source": [
    "df['Consumption_city'].isnull().sum()"
   ]
  },
  {
   "cell_type": "code",
   "execution_count": 117,
   "id": "5d34a181",
   "metadata": {},
   "outputs": [
    {
     "data": {
      "text/plain": [
       "41"
      ]
     },
     "execution_count": 117,
     "metadata": {},
     "output_type": "execute_result"
    }
   ],
   "source": [
    "df['Consumption_country'].isnull().sum()"
   ]
  },
  {
   "cell_type": "markdown",
   "id": "5c2252ee",
   "metadata": {},
   "source": [
    "###### there are still some missing data , to fill them we will change the parameter of groupby."
   ]
  },
  {
   "cell_type": "code",
   "execution_count": 118,
   "id": "f4468321",
   "metadata": {},
   "outputs": [],
   "source": [
    "df['Consumption_comb']=df['Consumption_comb'].fillna(df.groupby(['body_type'])['Consumption_comb'].transform('median'))"
   ]
  },
  {
   "cell_type": "code",
   "execution_count": 119,
   "id": "c103b09d",
   "metadata": {},
   "outputs": [],
   "source": [
    "df['Consumption_city']=df['Consumption_city'].fillna(df.groupby(['body_type'])['Consumption_city'].transform('median'))"
   ]
  },
  {
   "cell_type": "code",
   "execution_count": 120,
   "id": "f5b19cbb",
   "metadata": {},
   "outputs": [],
   "source": [
    "df['Consumption_country']=df['Consumption_country'].fillna(df.groupby(['body_type'])['Consumption_country'].transform('median'))"
   ]
  },
  {
   "cell_type": "code",
   "execution_count": 121,
   "id": "55b0095d",
   "metadata": {},
   "outputs": [
    {
     "data": {
      "text/plain": [
       "0"
      ]
     },
     "execution_count": 121,
     "metadata": {},
     "output_type": "execute_result"
    }
   ],
   "source": [
    "df['Consumption_comb'].isnull().sum()"
   ]
  },
  {
   "cell_type": "code",
   "execution_count": 122,
   "id": "43e99a17",
   "metadata": {},
   "outputs": [
    {
     "data": {
      "text/plain": [
       "0"
      ]
     },
     "execution_count": 122,
     "metadata": {},
     "output_type": "execute_result"
    }
   ],
   "source": [
    "df['Consumption_city'].isnull().sum()"
   ]
  },
  {
   "cell_type": "code",
   "execution_count": 123,
   "id": "60bb1774",
   "metadata": {},
   "outputs": [
    {
     "data": {
      "text/plain": [
       "0"
      ]
     },
     "execution_count": 123,
     "metadata": {},
     "output_type": "execute_result"
    }
   ],
   "source": [
    "df['Consumption_country'].isnull().sum()"
   ]
  },
  {
   "cell_type": "code",
   "execution_count": 124,
   "id": "40658b66",
   "metadata": {},
   "outputs": [
    {
     "data": {
      "text/plain": [
       "brand_model                 0\n",
       "body_type                   0\n",
       "price                       0\n",
       "age                         0\n",
       "km                          0\n",
       "Fuel                        0\n",
       "Type                        0\n",
       "prev_owner                  0\n",
       "Body Color                  0\n",
       "Paint Type                  0\n",
       "Gearing Type                0\n",
       "hp                          0\n",
       "Consumption_comb            0\n",
       "Consumption_city            0\n",
       "Consumption_country         0\n",
       "Comfort & Convenience       0\n",
       "Entertainment & Media       0\n",
       "Safety & Security           0\n",
       "Extras                      0\n",
       "Upholstery_type             0\n",
       "Upholstery_color            0\n",
       "vat                         0\n",
       "Nr. of Doors                0\n",
       "Nr. of Seats                0\n",
       "Displacement             3016\n",
       "Cylinders                   0\n",
       "Weight                   6306\n",
       "Drive chain                 0\n",
       "CO2 Emission             2204\n",
       "Gears                       0\n",
       "dtype: int64"
      ]
     },
     "execution_count": 124,
     "metadata": {},
     "output_type": "execute_result"
    }
   ],
   "source": [
    "df.isnull().sum()"
   ]
  },
  {
   "cell_type": "markdown",
   "id": "7265b126",
   "metadata": {},
   "source": [
    "## Displacement\n"
   ]
  },
  {
   "cell_type": "code",
   "execution_count": 125,
   "id": "016066d1",
   "metadata": {},
   "outputs": [
    {
     "data": {
      "text/plain": [
       "3016"
      ]
     },
     "execution_count": 125,
     "metadata": {},
     "output_type": "execute_result"
    }
   ],
   "source": [
    "df['Displacement'].isnull().sum()"
   ]
  },
  {
   "cell_type": "code",
   "execution_count": 126,
   "id": "7489fc00",
   "metadata": {},
   "outputs": [
    {
     "data": {
      "text/plain": [
       "1598.0    4385\n",
       "NaN       3016\n",
       "1398.0    1258\n",
       "1399.0     672\n",
       "1956.0     635\n",
       "1229.0     602\n",
       "1490.0     527\n",
       "1461.0     481\n",
       "1422.0     435\n",
       "1197.0     303\n",
       "1968.0     298\n",
       "1395.0     262\n",
       "1149.0     257\n",
       "1798.0     193\n",
       "1498.0     156\n",
       "1618.0     140\n",
       "1600.0     123\n",
       "1248.0      99\n",
       "1997.0      93\n",
       "1400.0      90\n",
       "1364.0      84\n",
       "1500.0      47\n",
       "2000.0      46\n",
       "1000.0      36\n",
       "1998.0      25\n",
       "2480.0      20\n",
       "1984.0      18\n",
       "1200.0      17\n",
       "1397.0      11\n",
       "1499.0       5\n",
       "1596.0       4\n",
       "1396.0       3\n",
       "1199.0       3\n",
       "1599.0       3\n",
       "1495.0       2\n",
       "1589.0       2\n",
       "1300.0       2\n",
       "1995.0       1\n",
       "1533.0       1\n",
       "6000.0       1\n",
       "1100.0       1\n",
       "1333.0       1\n",
       "1496.0       1\n",
       "1580.0       1\n",
       "1195.0       1\n",
       "1856.0       1\n",
       "2967.0       1\n",
       "1198.0       1\n",
       "1390.0       1\n",
       "1369.0       1\n",
       "1350.0       1\n",
       "1239.0       1\n",
       "1568.0       1\n",
       "1368.0       1\n",
       "5898.0       1\n",
       "1686.0       1\n",
       "1696.0       1\n",
       "1896.0       1\n",
       "1584.0       1\n",
       "1800.0       1\n",
       "Name: Displacement, dtype: int64"
      ]
     },
     "execution_count": 126,
     "metadata": {},
     "output_type": "execute_result"
    }
   ],
   "source": [
    "df['Displacement'].value_counts(dropna=False)"
   ]
  },
  {
   "cell_type": "code",
   "execution_count": 127,
   "id": "290325b5",
   "metadata": {},
   "outputs": [],
   "source": [
    "df['Displacement']=df['Displacement'].fillna(df.groupby(['brand_model', 'body_type','Fuel'])['Displacement'].transform('median'))"
   ]
  },
  {
   "cell_type": "code",
   "execution_count": 128,
   "id": "dbea4c2b",
   "metadata": {},
   "outputs": [
    {
     "data": {
      "text/plain": [
       "16"
      ]
     },
     "execution_count": 128,
     "metadata": {},
     "output_type": "execute_result"
    }
   ],
   "source": [
    "df['Displacement'].isnull().sum()"
   ]
  },
  {
   "cell_type": "code",
   "execution_count": 129,
   "id": "f8a036e1",
   "metadata": {},
   "outputs": [],
   "source": [
    "df['Displacement']=df['Displacement'].fillna(df.groupby(['brand_model', 'body_type'])['Displacement'].transform('median'))"
   ]
  },
  {
   "cell_type": "code",
   "execution_count": 130,
   "id": "f0e640f5",
   "metadata": {},
   "outputs": [
    {
     "data": {
      "text/plain": [
       "2"
      ]
     },
     "execution_count": 130,
     "metadata": {},
     "output_type": "execute_result"
    }
   ],
   "source": [
    "df['Displacement'].isnull().sum()"
   ]
  },
  {
   "cell_type": "code",
   "execution_count": 131,
   "id": "5631467d",
   "metadata": {},
   "outputs": [],
   "source": [
    "df['Displacement']=df['Displacement'].fillna(df.groupby(['body_type'])['Displacement'].transform('median'))"
   ]
  },
  {
   "cell_type": "code",
   "execution_count": 132,
   "id": "8e3f4064",
   "metadata": {},
   "outputs": [
    {
     "data": {
      "text/plain": [
       "0"
      ]
     },
     "execution_count": 132,
     "metadata": {},
     "output_type": "execute_result"
    }
   ],
   "source": [
    "df['Displacement'].isnull().sum()"
   ]
  },
  {
   "cell_type": "code",
   "execution_count": 133,
   "id": "2c423254",
   "metadata": {},
   "outputs": [
    {
     "data": {
      "text/plain": [
       "brand_model                 0\n",
       "body_type                   0\n",
       "price                       0\n",
       "age                         0\n",
       "km                          0\n",
       "Fuel                        0\n",
       "Type                        0\n",
       "prev_owner                  0\n",
       "Body Color                  0\n",
       "Paint Type                  0\n",
       "Gearing Type                0\n",
       "hp                          0\n",
       "Consumption_comb            0\n",
       "Consumption_city            0\n",
       "Consumption_country         0\n",
       "Comfort & Convenience       0\n",
       "Entertainment & Media       0\n",
       "Safety & Security           0\n",
       "Extras                      0\n",
       "Upholstery_type             0\n",
       "Upholstery_color            0\n",
       "vat                         0\n",
       "Nr. of Doors                0\n",
       "Nr. of Seats                0\n",
       "Displacement                0\n",
       "Cylinders                   0\n",
       "Weight                   6306\n",
       "Drive chain                 0\n",
       "CO2 Emission             2204\n",
       "Gears                       0\n",
       "dtype: int64"
      ]
     },
     "execution_count": 133,
     "metadata": {},
     "output_type": "execute_result"
    }
   ],
   "source": [
    "df.isnull().sum()"
   ]
  },
  {
   "cell_type": "markdown",
   "id": "ea746364",
   "metadata": {},
   "source": [
    "## Weight               "
   ]
  },
  {
   "cell_type": "code",
   "execution_count": 134,
   "id": "d0656b9c",
   "metadata": {},
   "outputs": [
    {
     "data": {
      "text/plain": [
       "6306"
      ]
     },
     "execution_count": 134,
     "metadata": {},
     "output_type": "execute_result"
    }
   ],
   "source": [
    "df['Weight'].isnull().sum()"
   ]
  },
  {
   "cell_type": "code",
   "execution_count": 135,
   "id": "d63239d7",
   "metadata": {},
   "outputs": [
    {
     "data": {
      "text/plain": [
       "NaN       6306\n",
       "1163.0     515\n",
       "1360.0     320\n",
       "1165.0     242\n",
       "1335.0     221\n",
       "          ... \n",
       "1213.0       1\n",
       "1960.0       1\n",
       "1258.0       1\n",
       "1167.0       1\n",
       "2037.0       1\n",
       "Name: Weight, Length: 435, dtype: int64"
      ]
     },
     "execution_count": 135,
     "metadata": {},
     "output_type": "execute_result"
    }
   ],
   "source": [
    "df['Weight'].value_counts(dropna=False)"
   ]
  },
  {
   "cell_type": "code",
   "execution_count": 136,
   "id": "174b3237",
   "metadata": {},
   "outputs": [
    {
     "data": {
      "text/plain": [
       "2471.0"
      ]
     },
     "execution_count": 136,
     "metadata": {},
     "output_type": "execute_result"
    }
   ],
   "source": [
    "df['Weight'].max()"
   ]
  },
  {
   "cell_type": "code",
   "execution_count": 137,
   "id": "f513222d",
   "metadata": {},
   "outputs": [
    {
     "data": {
      "text/plain": [
       "1.0"
      ]
     },
     "execution_count": 137,
     "metadata": {},
     "output_type": "execute_result"
    }
   ],
   "source": [
    "df['Weight'].min()"
   ]
  },
  {
   "cell_type": "code",
   "execution_count": 138,
   "id": "6a2748e3",
   "metadata": {},
   "outputs": [
    {
     "data": {
      "text/plain": [
       "count    8070.000000\n",
       "mean     1354.441016\n",
       "std       223.792004\n",
       "min         1.000000\n",
       "25%      1173.000000\n",
       "50%      1293.000000\n",
       "75%      1487.000000\n",
       "max      2471.000000\n",
       "Name: Weight, dtype: float64"
      ]
     },
     "execution_count": 138,
     "metadata": {},
     "output_type": "execute_result"
    }
   ],
   "source": [
    "df['Weight'].describe()"
   ]
  },
  {
   "cell_type": "code",
   "execution_count": 139,
   "id": "621251e4",
   "metadata": {},
   "outputs": [
    {
     "data": {
      "text/html": [
       "<div>\n",
       "<style scoped>\n",
       "    .dataframe tbody tr th:only-of-type {\n",
       "        vertical-align: middle;\n",
       "    }\n",
       "\n",
       "    .dataframe tbody tr th {\n",
       "        vertical-align: top;\n",
       "    }\n",
       "\n",
       "    .dataframe thead th {\n",
       "        text-align: right;\n",
       "    }\n",
       "</style>\n",
       "<table border=\"1\" class=\"dataframe\">\n",
       "  <thead>\n",
       "    <tr style=\"text-align: right;\">\n",
       "      <th></th>\n",
       "      <th></th>\n",
       "      <th>count</th>\n",
       "      <th>mean</th>\n",
       "      <th>std</th>\n",
       "      <th>min</th>\n",
       "      <th>25%</th>\n",
       "      <th>50%</th>\n",
       "      <th>75%</th>\n",
       "      <th>max</th>\n",
       "    </tr>\n",
       "    <tr>\n",
       "      <th>brand_model</th>\n",
       "      <th>body_type</th>\n",
       "      <th></th>\n",
       "      <th></th>\n",
       "      <th></th>\n",
       "      <th></th>\n",
       "      <th></th>\n",
       "      <th></th>\n",
       "      <th></th>\n",
       "      <th></th>\n",
       "    </tr>\n",
       "  </thead>\n",
       "  <tbody>\n",
       "    <tr>\n",
       "      <th rowspan=\"6\" valign=\"top\">Audi A1</th>\n",
       "      <th>Compact</th>\n",
       "      <td>457.0</td>\n",
       "      <td>1173.450766</td>\n",
       "      <td>103.063568</td>\n",
       "      <td>102.0</td>\n",
       "      <td>1135.00</td>\n",
       "      <td>1180.0</td>\n",
       "      <td>1200.00</td>\n",
       "      <td>1792.0</td>\n",
       "    </tr>\n",
       "    <tr>\n",
       "      <th>Coupe</th>\n",
       "      <td>1.0</td>\n",
       "      <td>1010.000000</td>\n",
       "      <td>NaN</td>\n",
       "      <td>1010.0</td>\n",
       "      <td>1010.00</td>\n",
       "      <td>1010.0</td>\n",
       "      <td>1010.00</td>\n",
       "      <td>1010.0</td>\n",
       "    </tr>\n",
       "    <tr>\n",
       "      <th>Other</th>\n",
       "      <td>4.0</td>\n",
       "      <td>1212.500000</td>\n",
       "      <td>36.628768</td>\n",
       "      <td>1165.0</td>\n",
       "      <td>1195.00</td>\n",
       "      <td>1217.5</td>\n",
       "      <td>1235.00</td>\n",
       "      <td>1250.0</td>\n",
       "    </tr>\n",
       "    <tr>\n",
       "      <th>Sedans</th>\n",
       "      <td>882.0</td>\n",
       "      <td>1257.359410</td>\n",
       "      <td>175.323942</td>\n",
       "      <td>1035.0</td>\n",
       "      <td>1144.00</td>\n",
       "      <td>1195.0</td>\n",
       "      <td>1255.00</td>\n",
       "      <td>1720.0</td>\n",
       "    </tr>\n",
       "    <tr>\n",
       "      <th>Station wagon</th>\n",
       "      <td>14.0</td>\n",
       "      <td>1228.571429</td>\n",
       "      <td>113.466847</td>\n",
       "      <td>1125.0</td>\n",
       "      <td>1195.00</td>\n",
       "      <td>1205.0</td>\n",
       "      <td>1215.00</td>\n",
       "      <td>1580.0</td>\n",
       "    </tr>\n",
       "    <tr>\n",
       "      <th>Van</th>\n",
       "      <td>0.0</td>\n",
       "      <td>NaN</td>\n",
       "      <td>NaN</td>\n",
       "      <td>NaN</td>\n",
       "      <td>NaN</td>\n",
       "      <td>NaN</td>\n",
       "      <td>NaN</td>\n",
       "      <td>NaN</td>\n",
       "    </tr>\n",
       "    <tr>\n",
       "      <th>Audi A2</th>\n",
       "      <th>Off-Road</th>\n",
       "      <td>0.0</td>\n",
       "      <td>NaN</td>\n",
       "      <td>NaN</td>\n",
       "      <td>NaN</td>\n",
       "      <td>NaN</td>\n",
       "      <td>NaN</td>\n",
       "      <td>NaN</td>\n",
       "      <td>NaN</td>\n",
       "    </tr>\n",
       "    <tr>\n",
       "      <th rowspan=\"6\" valign=\"top\">Audi A3</th>\n",
       "      <th>Compact</th>\n",
       "      <td>123.0</td>\n",
       "      <td>1321.121951</td>\n",
       "      <td>180.387951</td>\n",
       "      <td>1155.0</td>\n",
       "      <td>1255.00</td>\n",
       "      <td>1280.0</td>\n",
       "      <td>1300.00</td>\n",
       "      <td>1890.0</td>\n",
       "    </tr>\n",
       "    <tr>\n",
       "      <th>Convertible</th>\n",
       "      <td>7.0</td>\n",
       "      <td>1519.285714</td>\n",
       "      <td>129.113276</td>\n",
       "      <td>1355.0</td>\n",
       "      <td>1415.00</td>\n",
       "      <td>1555.0</td>\n",
       "      <td>1605.00</td>\n",
       "      <td>1685.0</td>\n",
       "    </tr>\n",
       "    <tr>\n",
       "      <th>Coupe</th>\n",
       "      <td>3.0</td>\n",
       "      <td>1260.000000</td>\n",
       "      <td>17.320508</td>\n",
       "      <td>1250.0</td>\n",
       "      <td>1250.00</td>\n",
       "      <td>1250.0</td>\n",
       "      <td>1265.00</td>\n",
       "      <td>1280.0</td>\n",
       "    </tr>\n",
       "    <tr>\n",
       "      <th>Other</th>\n",
       "      <td>3.0</td>\n",
       "      <td>1318.333333</td>\n",
       "      <td>100.166528</td>\n",
       "      <td>1205.0</td>\n",
       "      <td>1280.00</td>\n",
       "      <td>1355.0</td>\n",
       "      <td>1375.00</td>\n",
       "      <td>1395.0</td>\n",
       "    </tr>\n",
       "    <tr>\n",
       "      <th>Sedans</th>\n",
       "      <td>1470.0</td>\n",
       "      <td>1401.277551</td>\n",
       "      <td>177.179503</td>\n",
       "      <td>1041.0</td>\n",
       "      <td>1310.00</td>\n",
       "      <td>1355.0</td>\n",
       "      <td>1380.00</td>\n",
       "      <td>1905.0</td>\n",
       "    </tr>\n",
       "    <tr>\n",
       "      <th>Station wagon</th>\n",
       "      <td>113.0</td>\n",
       "      <td>1318.362832</td>\n",
       "      <td>72.430516</td>\n",
       "      <td>1180.0</td>\n",
       "      <td>1265.00</td>\n",
       "      <td>1335.0</td>\n",
       "      <td>1365.00</td>\n",
       "      <td>1585.0</td>\n",
       "    </tr>\n",
       "    <tr>\n",
       "      <th rowspan=\"6\" valign=\"top\">Opel Astra</th>\n",
       "      <th>Compact</th>\n",
       "      <td>76.0</td>\n",
       "      <td>1284.644737</td>\n",
       "      <td>77.816657</td>\n",
       "      <td>1163.0</td>\n",
       "      <td>1235.00</td>\n",
       "      <td>1278.0</td>\n",
       "      <td>1350.00</td>\n",
       "      <td>1503.0</td>\n",
       "    </tr>\n",
       "    <tr>\n",
       "      <th>Coupe</th>\n",
       "      <td>1.0</td>\n",
       "      <td>1350.000000</td>\n",
       "      <td>NaN</td>\n",
       "      <td>1350.0</td>\n",
       "      <td>1350.00</td>\n",
       "      <td>1350.0</td>\n",
       "      <td>1350.00</td>\n",
       "      <td>1350.0</td>\n",
       "    </tr>\n",
       "    <tr>\n",
       "      <th>Off-Road</th>\n",
       "      <td>1.0</td>\n",
       "      <td>1340.000000</td>\n",
       "      <td>NaN</td>\n",
       "      <td>1340.0</td>\n",
       "      <td>1340.00</td>\n",
       "      <td>1340.0</td>\n",
       "      <td>1340.00</td>\n",
       "      <td>1340.0</td>\n",
       "    </tr>\n",
       "    <tr>\n",
       "      <th>Other</th>\n",
       "      <td>54.0</td>\n",
       "      <td>1325.407407</td>\n",
       "      <td>51.711653</td>\n",
       "      <td>1263.0</td>\n",
       "      <td>1278.00</td>\n",
       "      <td>1350.0</td>\n",
       "      <td>1360.00</td>\n",
       "      <td>1503.0</td>\n",
       "    </tr>\n",
       "    <tr>\n",
       "      <th>Sedans</th>\n",
       "      <td>483.0</td>\n",
       "      <td>1329.515528</td>\n",
       "      <td>87.117065</td>\n",
       "      <td>1188.0</td>\n",
       "      <td>1273.00</td>\n",
       "      <td>1308.0</td>\n",
       "      <td>1360.00</td>\n",
       "      <td>1900.0</td>\n",
       "    </tr>\n",
       "    <tr>\n",
       "      <th>Station wagon</th>\n",
       "      <td>558.0</td>\n",
       "      <td>1405.030466</td>\n",
       "      <td>132.526536</td>\n",
       "      <td>1178.0</td>\n",
       "      <td>1328.00</td>\n",
       "      <td>1393.0</td>\n",
       "      <td>1425.00</td>\n",
       "      <td>1985.0</td>\n",
       "    </tr>\n",
       "    <tr>\n",
       "      <th rowspan=\"7\" valign=\"top\">Opel Corsa</th>\n",
       "      <th>Compact</th>\n",
       "      <td>423.0</td>\n",
       "      <td>1172.078014</td>\n",
       "      <td>98.415798</td>\n",
       "      <td>1.0</td>\n",
       "      <td>1141.00</td>\n",
       "      <td>1163.0</td>\n",
       "      <td>1199.00</td>\n",
       "      <td>1665.0</td>\n",
       "    </tr>\n",
       "    <tr>\n",
       "      <th>Coupe</th>\n",
       "      <td>10.0</td>\n",
       "      <td>1203.000000</td>\n",
       "      <td>161.726106</td>\n",
       "      <td>1066.0</td>\n",
       "      <td>1120.00</td>\n",
       "      <td>1159.5</td>\n",
       "      <td>1199.00</td>\n",
       "      <td>1635.0</td>\n",
       "    </tr>\n",
       "    <tr>\n",
       "      <th>Off-Road</th>\n",
       "      <td>3.0</td>\n",
       "      <td>1187.666667</td>\n",
       "      <td>42.723920</td>\n",
       "      <td>1163.0</td>\n",
       "      <td>1163.00</td>\n",
       "      <td>1163.0</td>\n",
       "      <td>1200.00</td>\n",
       "      <td>1237.0</td>\n",
       "    </tr>\n",
       "    <tr>\n",
       "      <th>Other</th>\n",
       "      <td>78.0</td>\n",
       "      <td>1169.333333</td>\n",
       "      <td>18.842937</td>\n",
       "      <td>1141.0</td>\n",
       "      <td>1163.00</td>\n",
       "      <td>1163.0</td>\n",
       "      <td>1163.00</td>\n",
       "      <td>1237.0</td>\n",
       "    </tr>\n",
       "    <tr>\n",
       "      <th>Sedans</th>\n",
       "      <td>617.0</td>\n",
       "      <td>1172.891410</td>\n",
       "      <td>78.838748</td>\n",
       "      <td>1086.0</td>\n",
       "      <td>1162.00</td>\n",
       "      <td>1163.0</td>\n",
       "      <td>1173.00</td>\n",
       "      <td>1960.0</td>\n",
       "    </tr>\n",
       "    <tr>\n",
       "      <th>Transporter</th>\n",
       "      <td>6.0</td>\n",
       "      <td>1181.000000</td>\n",
       "      <td>19.718012</td>\n",
       "      <td>1163.0</td>\n",
       "      <td>1163.00</td>\n",
       "      <td>1181.0</td>\n",
       "      <td>1199.00</td>\n",
       "      <td>1199.0</td>\n",
       "    </tr>\n",
       "    <tr>\n",
       "      <th>Van</th>\n",
       "      <td>1.0</td>\n",
       "      <td>1124.000000</td>\n",
       "      <td>NaN</td>\n",
       "      <td>1124.0</td>\n",
       "      <td>1124.00</td>\n",
       "      <td>1124.0</td>\n",
       "      <td>1124.00</td>\n",
       "      <td>1124.0</td>\n",
       "    </tr>\n",
       "    <tr>\n",
       "      <th rowspan=\"7\" valign=\"top\">Opel Insignia</th>\n",
       "      <th>Compact</th>\n",
       "      <td>19.0</td>\n",
       "      <td>1466.315789</td>\n",
       "      <td>69.121513</td>\n",
       "      <td>1372.0</td>\n",
       "      <td>1422.00</td>\n",
       "      <td>1472.0</td>\n",
       "      <td>1503.00</td>\n",
       "      <td>1613.0</td>\n",
       "    </tr>\n",
       "    <tr>\n",
       "      <th>Coupe</th>\n",
       "      <td>0.0</td>\n",
       "      <td>NaN</td>\n",
       "      <td>NaN</td>\n",
       "      <td>NaN</td>\n",
       "      <td>NaN</td>\n",
       "      <td>NaN</td>\n",
       "      <td>NaN</td>\n",
       "      <td>NaN</td>\n",
       "    </tr>\n",
       "    <tr>\n",
       "      <th>Off-Road</th>\n",
       "      <td>6.0</td>\n",
       "      <td>1508.000000</td>\n",
       "      <td>51.439285</td>\n",
       "      <td>1487.0</td>\n",
       "      <td>1487.00</td>\n",
       "      <td>1487.0</td>\n",
       "      <td>1487.00</td>\n",
       "      <td>1613.0</td>\n",
       "    </tr>\n",
       "    <tr>\n",
       "      <th>Other</th>\n",
       "      <td>39.0</td>\n",
       "      <td>1524.384615</td>\n",
       "      <td>37.475336</td>\n",
       "      <td>1472.0</td>\n",
       "      <td>1503.00</td>\n",
       "      <td>1503.0</td>\n",
       "      <td>1571.00</td>\n",
       "      <td>1623.0</td>\n",
       "    </tr>\n",
       "    <tr>\n",
       "      <th>Sedans</th>\n",
       "      <td>423.0</td>\n",
       "      <td>1547.174941</td>\n",
       "      <td>165.233664</td>\n",
       "      <td>1341.0</td>\n",
       "      <td>1456.00</td>\n",
       "      <td>1503.0</td>\n",
       "      <td>1543.00</td>\n",
       "      <td>2355.0</td>\n",
       "    </tr>\n",
       "    <tr>\n",
       "      <th>Station wagon</th>\n",
       "      <td>722.0</td>\n",
       "      <td>1629.717452</td>\n",
       "      <td>152.680017</td>\n",
       "      <td>1.0</td>\n",
       "      <td>1522.00</td>\n",
       "      <td>1623.0</td>\n",
       "      <td>1701.00</td>\n",
       "      <td>2450.0</td>\n",
       "    </tr>\n",
       "    <tr>\n",
       "      <th>Van</th>\n",
       "      <td>0.0</td>\n",
       "      <td>NaN</td>\n",
       "      <td>NaN</td>\n",
       "      <td>NaN</td>\n",
       "      <td>NaN</td>\n",
       "      <td>NaN</td>\n",
       "      <td>NaN</td>\n",
       "      <td>NaN</td>\n",
       "    </tr>\n",
       "    <tr>\n",
       "      <th rowspan=\"8\" valign=\"top\">Renault Clio</th>\n",
       "      <th>Compact</th>\n",
       "      <td>181.0</td>\n",
       "      <td>1130.701657</td>\n",
       "      <td>76.879339</td>\n",
       "      <td>1052.0</td>\n",
       "      <td>1071.00</td>\n",
       "      <td>1100.0</td>\n",
       "      <td>1165.00</td>\n",
       "      <td>1686.0</td>\n",
       "    </tr>\n",
       "    <tr>\n",
       "      <th>Coupe</th>\n",
       "      <td>0.0</td>\n",
       "      <td>NaN</td>\n",
       "      <td>NaN</td>\n",
       "      <td>NaN</td>\n",
       "      <td>NaN</td>\n",
       "      <td>NaN</td>\n",
       "      <td>NaN</td>\n",
       "      <td>NaN</td>\n",
       "    </tr>\n",
       "    <tr>\n",
       "      <th>Off-Road</th>\n",
       "      <td>2.0</td>\n",
       "      <td>1163.500000</td>\n",
       "      <td>2.121320</td>\n",
       "      <td>1162.0</td>\n",
       "      <td>1162.75</td>\n",
       "      <td>1163.5</td>\n",
       "      <td>1164.25</td>\n",
       "      <td>1165.0</td>\n",
       "    </tr>\n",
       "    <tr>\n",
       "      <th>Other</th>\n",
       "      <td>24.0</td>\n",
       "      <td>1183.041667</td>\n",
       "      <td>94.939559</td>\n",
       "      <td>1090.0</td>\n",
       "      <td>1090.00</td>\n",
       "      <td>1187.0</td>\n",
       "      <td>1300.00</td>\n",
       "      <td>1300.0</td>\n",
       "    </tr>\n",
       "    <tr>\n",
       "      <th>Sedans</th>\n",
       "      <td>569.0</td>\n",
       "      <td>1177.449912</td>\n",
       "      <td>135.352154</td>\n",
       "      <td>900.0</td>\n",
       "      <td>1090.00</td>\n",
       "      <td>1162.0</td>\n",
       "      <td>1228.00</td>\n",
       "      <td>1717.0</td>\n",
       "    </tr>\n",
       "    <tr>\n",
       "      <th>Station wagon</th>\n",
       "      <td>178.0</td>\n",
       "      <td>1188.303371</td>\n",
       "      <td>74.998517</td>\n",
       "      <td>980.0</td>\n",
       "      <td>1141.00</td>\n",
       "      <td>1170.0</td>\n",
       "      <td>1258.75</td>\n",
       "      <td>1711.0</td>\n",
       "    </tr>\n",
       "    <tr>\n",
       "      <th>Transporter</th>\n",
       "      <td>7.0</td>\n",
       "      <td>1172.142857</td>\n",
       "      <td>51.349874</td>\n",
       "      <td>1087.0</td>\n",
       "      <td>1138.50</td>\n",
       "      <td>1209.0</td>\n",
       "      <td>1209.00</td>\n",
       "      <td>1214.0</td>\n",
       "    </tr>\n",
       "    <tr>\n",
       "      <th>Van</th>\n",
       "      <td>0.0</td>\n",
       "      <td>NaN</td>\n",
       "      <td>NaN</td>\n",
       "      <td>NaN</td>\n",
       "      <td>NaN</td>\n",
       "      <td>NaN</td>\n",
       "      <td>NaN</td>\n",
       "      <td>NaN</td>\n",
       "    </tr>\n",
       "    <tr>\n",
       "      <th>Renault Duster</th>\n",
       "      <th>Off-Road</th>\n",
       "      <td>0.0</td>\n",
       "      <td>NaN</td>\n",
       "      <td>NaN</td>\n",
       "      <td>NaN</td>\n",
       "      <td>NaN</td>\n",
       "      <td>NaN</td>\n",
       "      <td>NaN</td>\n",
       "      <td>NaN</td>\n",
       "    </tr>\n",
       "    <tr>\n",
       "      <th rowspan=\"8\" valign=\"top\">Renault Espace</th>\n",
       "      <th>Compact</th>\n",
       "      <td>2.0</td>\n",
       "      <td>1690.500000</td>\n",
       "      <td>98.287843</td>\n",
       "      <td>1621.0</td>\n",
       "      <td>1655.75</td>\n",
       "      <td>1690.5</td>\n",
       "      <td>1725.25</td>\n",
       "      <td>1760.0</td>\n",
       "    </tr>\n",
       "    <tr>\n",
       "      <th>Coupe</th>\n",
       "      <td>0.0</td>\n",
       "      <td>NaN</td>\n",
       "      <td>NaN</td>\n",
       "      <td>NaN</td>\n",
       "      <td>NaN</td>\n",
       "      <td>NaN</td>\n",
       "      <td>NaN</td>\n",
       "      <td>NaN</td>\n",
       "    </tr>\n",
       "    <tr>\n",
       "      <th>Off-Road</th>\n",
       "      <td>4.0</td>\n",
       "      <td>1734.000000</td>\n",
       "      <td>0.000000</td>\n",
       "      <td>1734.0</td>\n",
       "      <td>1734.00</td>\n",
       "      <td>1734.0</td>\n",
       "      <td>1734.00</td>\n",
       "      <td>1734.0</td>\n",
       "    </tr>\n",
       "    <tr>\n",
       "      <th>Other</th>\n",
       "      <td>4.0</td>\n",
       "      <td>1715.500000</td>\n",
       "      <td>74.289972</td>\n",
       "      <td>1635.0</td>\n",
       "      <td>1671.75</td>\n",
       "      <td>1709.0</td>\n",
       "      <td>1752.75</td>\n",
       "      <td>1809.0</td>\n",
       "    </tr>\n",
       "    <tr>\n",
       "      <th>Sedans</th>\n",
       "      <td>2.0</td>\n",
       "      <td>1864.500000</td>\n",
       "      <td>253.851334</td>\n",
       "      <td>1685.0</td>\n",
       "      <td>1774.75</td>\n",
       "      <td>1864.5</td>\n",
       "      <td>1954.25</td>\n",
       "      <td>2044.0</td>\n",
       "    </tr>\n",
       "    <tr>\n",
       "      <th>Station wagon</th>\n",
       "      <td>53.0</td>\n",
       "      <td>1706.735849</td>\n",
       "      <td>58.622374</td>\n",
       "      <td>1609.0</td>\n",
       "      <td>1684.00</td>\n",
       "      <td>1685.0</td>\n",
       "      <td>1734.00</td>\n",
       "      <td>1840.0</td>\n",
       "    </tr>\n",
       "    <tr>\n",
       "      <th>Transporter</th>\n",
       "      <td>49.0</td>\n",
       "      <td>1948.938776</td>\n",
       "      <td>305.564874</td>\n",
       "      <td>1659.0</td>\n",
       "      <td>1734.00</td>\n",
       "      <td>1734.0</td>\n",
       "      <td>2353.00</td>\n",
       "      <td>2410.0</td>\n",
       "    </tr>\n",
       "    <tr>\n",
       "      <th>Van</th>\n",
       "      <td>398.0</td>\n",
       "      <td>1709.462312</td>\n",
       "      <td>114.935870</td>\n",
       "      <td>1515.0</td>\n",
       "      <td>1659.00</td>\n",
       "      <td>1691.0</td>\n",
       "      <td>1734.00</td>\n",
       "      <td>2471.0</td>\n",
       "    </tr>\n",
       "  </tbody>\n",
       "</table>\n",
       "</div>"
      ],
      "text/plain": [
       "                               count         mean         std     min  \\\n",
       "brand_model    body_type                                                \n",
       "Audi A1        Compact         457.0  1173.450766  103.063568   102.0   \n",
       "               Coupe             1.0  1010.000000         NaN  1010.0   \n",
       "               Other             4.0  1212.500000   36.628768  1165.0   \n",
       "               Sedans          882.0  1257.359410  175.323942  1035.0   \n",
       "               Station wagon    14.0  1228.571429  113.466847  1125.0   \n",
       "               Van               0.0          NaN         NaN     NaN   \n",
       "Audi A2        Off-Road          0.0          NaN         NaN     NaN   \n",
       "Audi A3        Compact         123.0  1321.121951  180.387951  1155.0   \n",
       "               Convertible       7.0  1519.285714  129.113276  1355.0   \n",
       "               Coupe             3.0  1260.000000   17.320508  1250.0   \n",
       "               Other             3.0  1318.333333  100.166528  1205.0   \n",
       "               Sedans         1470.0  1401.277551  177.179503  1041.0   \n",
       "               Station wagon   113.0  1318.362832   72.430516  1180.0   \n",
       "Opel Astra     Compact          76.0  1284.644737   77.816657  1163.0   \n",
       "               Coupe             1.0  1350.000000         NaN  1350.0   \n",
       "               Off-Road          1.0  1340.000000         NaN  1340.0   \n",
       "               Other            54.0  1325.407407   51.711653  1263.0   \n",
       "               Sedans          483.0  1329.515528   87.117065  1188.0   \n",
       "               Station wagon   558.0  1405.030466  132.526536  1178.0   \n",
       "Opel Corsa     Compact         423.0  1172.078014   98.415798     1.0   \n",
       "               Coupe            10.0  1203.000000  161.726106  1066.0   \n",
       "               Off-Road          3.0  1187.666667   42.723920  1163.0   \n",
       "               Other            78.0  1169.333333   18.842937  1141.0   \n",
       "               Sedans          617.0  1172.891410   78.838748  1086.0   \n",
       "               Transporter       6.0  1181.000000   19.718012  1163.0   \n",
       "               Van               1.0  1124.000000         NaN  1124.0   \n",
       "Opel Insignia  Compact          19.0  1466.315789   69.121513  1372.0   \n",
       "               Coupe             0.0          NaN         NaN     NaN   \n",
       "               Off-Road          6.0  1508.000000   51.439285  1487.0   \n",
       "               Other            39.0  1524.384615   37.475336  1472.0   \n",
       "               Sedans          423.0  1547.174941  165.233664  1341.0   \n",
       "               Station wagon   722.0  1629.717452  152.680017     1.0   \n",
       "               Van               0.0          NaN         NaN     NaN   \n",
       "Renault Clio   Compact         181.0  1130.701657   76.879339  1052.0   \n",
       "               Coupe             0.0          NaN         NaN     NaN   \n",
       "               Off-Road          2.0  1163.500000    2.121320  1162.0   \n",
       "               Other            24.0  1183.041667   94.939559  1090.0   \n",
       "               Sedans          569.0  1177.449912  135.352154   900.0   \n",
       "               Station wagon   178.0  1188.303371   74.998517   980.0   \n",
       "               Transporter       7.0  1172.142857   51.349874  1087.0   \n",
       "               Van               0.0          NaN         NaN     NaN   \n",
       "Renault Duster Off-Road          0.0          NaN         NaN     NaN   \n",
       "Renault Espace Compact           2.0  1690.500000   98.287843  1621.0   \n",
       "               Coupe             0.0          NaN         NaN     NaN   \n",
       "               Off-Road          4.0  1734.000000    0.000000  1734.0   \n",
       "               Other             4.0  1715.500000   74.289972  1635.0   \n",
       "               Sedans            2.0  1864.500000  253.851334  1685.0   \n",
       "               Station wagon    53.0  1706.735849   58.622374  1609.0   \n",
       "               Transporter      49.0  1948.938776  305.564874  1659.0   \n",
       "               Van             398.0  1709.462312  114.935870  1515.0   \n",
       "\n",
       "                                  25%     50%      75%     max  \n",
       "brand_model    body_type                                        \n",
       "Audi A1        Compact        1135.00  1180.0  1200.00  1792.0  \n",
       "               Coupe          1010.00  1010.0  1010.00  1010.0  \n",
       "               Other          1195.00  1217.5  1235.00  1250.0  \n",
       "               Sedans         1144.00  1195.0  1255.00  1720.0  \n",
       "               Station wagon  1195.00  1205.0  1215.00  1580.0  \n",
       "               Van                NaN     NaN      NaN     NaN  \n",
       "Audi A2        Off-Road           NaN     NaN      NaN     NaN  \n",
       "Audi A3        Compact        1255.00  1280.0  1300.00  1890.0  \n",
       "               Convertible    1415.00  1555.0  1605.00  1685.0  \n",
       "               Coupe          1250.00  1250.0  1265.00  1280.0  \n",
       "               Other          1280.00  1355.0  1375.00  1395.0  \n",
       "               Sedans         1310.00  1355.0  1380.00  1905.0  \n",
       "               Station wagon  1265.00  1335.0  1365.00  1585.0  \n",
       "Opel Astra     Compact        1235.00  1278.0  1350.00  1503.0  \n",
       "               Coupe          1350.00  1350.0  1350.00  1350.0  \n",
       "               Off-Road       1340.00  1340.0  1340.00  1340.0  \n",
       "               Other          1278.00  1350.0  1360.00  1503.0  \n",
       "               Sedans         1273.00  1308.0  1360.00  1900.0  \n",
       "               Station wagon  1328.00  1393.0  1425.00  1985.0  \n",
       "Opel Corsa     Compact        1141.00  1163.0  1199.00  1665.0  \n",
       "               Coupe          1120.00  1159.5  1199.00  1635.0  \n",
       "               Off-Road       1163.00  1163.0  1200.00  1237.0  \n",
       "               Other          1163.00  1163.0  1163.00  1237.0  \n",
       "               Sedans         1162.00  1163.0  1173.00  1960.0  \n",
       "               Transporter    1163.00  1181.0  1199.00  1199.0  \n",
       "               Van            1124.00  1124.0  1124.00  1124.0  \n",
       "Opel Insignia  Compact        1422.00  1472.0  1503.00  1613.0  \n",
       "               Coupe              NaN     NaN      NaN     NaN  \n",
       "               Off-Road       1487.00  1487.0  1487.00  1613.0  \n",
       "               Other          1503.00  1503.0  1571.00  1623.0  \n",
       "               Sedans         1456.00  1503.0  1543.00  2355.0  \n",
       "               Station wagon  1522.00  1623.0  1701.00  2450.0  \n",
       "               Van                NaN     NaN      NaN     NaN  \n",
       "Renault Clio   Compact        1071.00  1100.0  1165.00  1686.0  \n",
       "               Coupe              NaN     NaN      NaN     NaN  \n",
       "               Off-Road       1162.75  1163.5  1164.25  1165.0  \n",
       "               Other          1090.00  1187.0  1300.00  1300.0  \n",
       "               Sedans         1090.00  1162.0  1228.00  1717.0  \n",
       "               Station wagon  1141.00  1170.0  1258.75  1711.0  \n",
       "               Transporter    1138.50  1209.0  1209.00  1214.0  \n",
       "               Van                NaN     NaN      NaN     NaN  \n",
       "Renault Duster Off-Road           NaN     NaN      NaN     NaN  \n",
       "Renault Espace Compact        1655.75  1690.5  1725.25  1760.0  \n",
       "               Coupe              NaN     NaN      NaN     NaN  \n",
       "               Off-Road       1734.00  1734.0  1734.00  1734.0  \n",
       "               Other          1671.75  1709.0  1752.75  1809.0  \n",
       "               Sedans         1774.75  1864.5  1954.25  2044.0  \n",
       "               Station wagon  1684.00  1685.0  1734.00  1840.0  \n",
       "               Transporter    1734.00  1734.0  2353.00  2410.0  \n",
       "               Van            1659.00  1691.0  1734.00  2471.0  "
      ]
     },
     "execution_count": 139,
     "metadata": {},
     "output_type": "execute_result"
    }
   ],
   "source": [
    "df.groupby(['brand_model', 'body_type'])['Weight'].describe()"
   ]
  },
  {
   "cell_type": "code",
   "execution_count": 140,
   "id": "7258d38d",
   "metadata": {},
   "outputs": [
    {
     "data": {
      "text/plain": [
       "6306"
      ]
     },
     "execution_count": 140,
     "metadata": {},
     "output_type": "execute_result"
    }
   ],
   "source": [
    "df['Weight'].isnull().sum()"
   ]
  },
  {
   "cell_type": "code",
   "execution_count": 141,
   "id": "c8768aca",
   "metadata": {},
   "outputs": [],
   "source": [
    "df['Weight']=df['Weight'].fillna(df.groupby(['brand_model', 'body_type'])[ 'Weight'].transform(lambda x: x.mean()))"
   ]
  },
  {
   "cell_type": "code",
   "execution_count": 142,
   "id": "a78bec9d",
   "metadata": {},
   "outputs": [
    {
     "data": {
      "text/plain": [
       "42"
      ]
     },
     "execution_count": 142,
     "metadata": {},
     "output_type": "execute_result"
    }
   ],
   "source": [
    "df['Weight'].isnull().sum()"
   ]
  },
  {
   "cell_type": "code",
   "execution_count": 143,
   "id": "e82cedb1",
   "metadata": {},
   "outputs": [],
   "source": [
    "df['Weight']=df['Weight'].fillna(df.groupby(['body_type'])[ 'Weight'].transform(lambda x: x.mean()))"
   ]
  },
  {
   "cell_type": "code",
   "execution_count": 144,
   "id": "5d90637c",
   "metadata": {},
   "outputs": [
    {
     "data": {
      "text/plain": [
       "0"
      ]
     },
     "execution_count": 144,
     "metadata": {},
     "output_type": "execute_result"
    }
   ],
   "source": [
    "df['Weight'].isnull().sum()"
   ]
  },
  {
   "cell_type": "code",
   "execution_count": 145,
   "id": "ec09d441",
   "metadata": {},
   "outputs": [
    {
     "data": {
      "text/plain": [
       "brand_model                 0\n",
       "body_type                   0\n",
       "price                       0\n",
       "age                         0\n",
       "km                          0\n",
       "Fuel                        0\n",
       "Type                        0\n",
       "prev_owner                  0\n",
       "Body Color                  0\n",
       "Paint Type                  0\n",
       "Gearing Type                0\n",
       "hp                          0\n",
       "Consumption_comb            0\n",
       "Consumption_city            0\n",
       "Consumption_country         0\n",
       "Comfort & Convenience       0\n",
       "Entertainment & Media       0\n",
       "Safety & Security           0\n",
       "Extras                      0\n",
       "Upholstery_type             0\n",
       "Upholstery_color            0\n",
       "vat                         0\n",
       "Nr. of Doors                0\n",
       "Nr. of Seats                0\n",
       "Displacement                0\n",
       "Cylinders                   0\n",
       "Weight                      0\n",
       "Drive chain                 0\n",
       "CO2 Emission             2204\n",
       "Gears                       0\n",
       "dtype: int64"
      ]
     },
     "execution_count": 145,
     "metadata": {},
     "output_type": "execute_result"
    }
   ],
   "source": [
    "df.isnull().sum()"
   ]
  },
  {
   "cell_type": "markdown",
   "id": "46411a10",
   "metadata": {},
   "source": [
    "## CO2 Emission"
   ]
  },
  {
   "cell_type": "code",
   "execution_count": 146,
   "id": "c6f21935",
   "metadata": {},
   "outputs": [
    {
     "data": {
      "text/plain": [
       "2204"
      ]
     },
     "execution_count": 146,
     "metadata": {},
     "output_type": "execute_result"
    }
   ],
   "source": [
    "df['CO2 Emission'].isnull().sum()"
   ]
  },
  {
   "cell_type": "code",
   "execution_count": 147,
   "id": "5dc98181",
   "metadata": {},
   "outputs": [
    {
     "data": {
      "text/plain": [
       "NaN      2204\n",
       "120.0     650\n",
       "97.0      504\n",
       "99.0      477\n",
       "102.0     468\n",
       "         ... \n",
       "165.0       1\n",
       "80.0        1\n",
       "160.0       1\n",
       "990.0       1\n",
       "193.0       1\n",
       "Name: CO2 Emission, Length: 120, dtype: int64"
      ]
     },
     "execution_count": 147,
     "metadata": {},
     "output_type": "execute_result"
    }
   ],
   "source": [
    "df['CO2 Emission'].value_counts(dropna=False)"
   ]
  },
  {
   "cell_type": "code",
   "execution_count": 148,
   "id": "11c57a8c",
   "metadata": {},
   "outputs": [
    {
     "data": {
      "text/html": [
       "<div>\n",
       "<style scoped>\n",
       "    .dataframe tbody tr th:only-of-type {\n",
       "        vertical-align: middle;\n",
       "    }\n",
       "\n",
       "    .dataframe tbody tr th {\n",
       "        vertical-align: top;\n",
       "    }\n",
       "\n",
       "    .dataframe thead th {\n",
       "        text-align: right;\n",
       "    }\n",
       "</style>\n",
       "<table border=\"1\" class=\"dataframe\">\n",
       "  <thead>\n",
       "    <tr style=\"text-align: right;\">\n",
       "      <th></th>\n",
       "      <th></th>\n",
       "      <th>count</th>\n",
       "      <th>mean</th>\n",
       "      <th>std</th>\n",
       "      <th>min</th>\n",
       "      <th>25%</th>\n",
       "      <th>50%</th>\n",
       "      <th>75%</th>\n",
       "      <th>max</th>\n",
       "    </tr>\n",
       "    <tr>\n",
       "      <th>brand_model</th>\n",
       "      <th>body_type</th>\n",
       "      <th></th>\n",
       "      <th></th>\n",
       "      <th></th>\n",
       "      <th></th>\n",
       "      <th></th>\n",
       "      <th></th>\n",
       "      <th></th>\n",
       "      <th></th>\n",
       "    </tr>\n",
       "  </thead>\n",
       "  <tbody>\n",
       "    <tr>\n",
       "      <th rowspan=\"6\" valign=\"top\">Audi A1</th>\n",
       "      <th>Compact</th>\n",
       "      <td>814.0</td>\n",
       "      <td>105.840295</td>\n",
       "      <td>10.569354</td>\n",
       "      <td>90.0</td>\n",
       "      <td>102.00</td>\n",
       "      <td>104.0</td>\n",
       "      <td>110.00</td>\n",
       "      <td>331.0</td>\n",
       "    </tr>\n",
       "    <tr>\n",
       "      <th>Coupe</th>\n",
       "      <td>1.0</td>\n",
       "      <td>97.000000</td>\n",
       "      <td>NaN</td>\n",
       "      <td>97.0</td>\n",
       "      <td>97.00</td>\n",
       "      <td>97.0</td>\n",
       "      <td>97.00</td>\n",
       "      <td>97.0</td>\n",
       "    </tr>\n",
       "    <tr>\n",
       "      <th>Other</th>\n",
       "      <td>8.0</td>\n",
       "      <td>107.375000</td>\n",
       "      <td>11.710038</td>\n",
       "      <td>97.0</td>\n",
       "      <td>99.00</td>\n",
       "      <td>107.0</td>\n",
       "      <td>108.00</td>\n",
       "      <td>134.0</td>\n",
       "    </tr>\n",
       "    <tr>\n",
       "      <th>Sedans</th>\n",
       "      <td>1253.0</td>\n",
       "      <td>103.150838</td>\n",
       "      <td>7.104902</td>\n",
       "      <td>89.0</td>\n",
       "      <td>97.00</td>\n",
       "      <td>102.0</td>\n",
       "      <td>108.00</td>\n",
       "      <td>138.0</td>\n",
       "    </tr>\n",
       "    <tr>\n",
       "      <th>Station wagon</th>\n",
       "      <td>20.0</td>\n",
       "      <td>103.800000</td>\n",
       "      <td>6.501822</td>\n",
       "      <td>91.0</td>\n",
       "      <td>101.00</td>\n",
       "      <td>102.0</td>\n",
       "      <td>109.00</td>\n",
       "      <td>118.0</td>\n",
       "    </tr>\n",
       "    <tr>\n",
       "      <th>Van</th>\n",
       "      <td>0.0</td>\n",
       "      <td>NaN</td>\n",
       "      <td>NaN</td>\n",
       "      <td>NaN</td>\n",
       "      <td>NaN</td>\n",
       "      <td>NaN</td>\n",
       "      <td>NaN</td>\n",
       "      <td>NaN</td>\n",
       "    </tr>\n",
       "    <tr>\n",
       "      <th>Audi A2</th>\n",
       "      <th>Off-Road</th>\n",
       "      <td>0.0</td>\n",
       "      <td>NaN</td>\n",
       "      <td>NaN</td>\n",
       "      <td>NaN</td>\n",
       "      <td>NaN</td>\n",
       "      <td>NaN</td>\n",
       "      <td>NaN</td>\n",
       "      <td>NaN</td>\n",
       "    </tr>\n",
       "    <tr>\n",
       "      <th rowspan=\"6\" valign=\"top\">Audi A3</th>\n",
       "      <th>Compact</th>\n",
       "      <td>97.0</td>\n",
       "      <td>106.216495</td>\n",
       "      <td>10.716252</td>\n",
       "      <td>89.0</td>\n",
       "      <td>101.00</td>\n",
       "      <td>106.0</td>\n",
       "      <td>108.00</td>\n",
       "      <td>189.0</td>\n",
       "    </tr>\n",
       "    <tr>\n",
       "      <th>Convertible</th>\n",
       "      <td>7.0</td>\n",
       "      <td>123.857143</td>\n",
       "      <td>16.727508</td>\n",
       "      <td>99.0</td>\n",
       "      <td>116.50</td>\n",
       "      <td>124.0</td>\n",
       "      <td>129.00</td>\n",
       "      <td>153.0</td>\n",
       "    </tr>\n",
       "    <tr>\n",
       "      <th>Coupe</th>\n",
       "      <td>4.0</td>\n",
       "      <td>100.750000</td>\n",
       "      <td>3.500000</td>\n",
       "      <td>99.0</td>\n",
       "      <td>99.00</td>\n",
       "      <td>99.0</td>\n",
       "      <td>100.75</td>\n",
       "      <td>106.0</td>\n",
       "    </tr>\n",
       "    <tr>\n",
       "      <th>Other</th>\n",
       "      <td>8.0</td>\n",
       "      <td>108.750000</td>\n",
       "      <td>7.814821</td>\n",
       "      <td>99.0</td>\n",
       "      <td>104.25</td>\n",
       "      <td>108.5</td>\n",
       "      <td>112.75</td>\n",
       "      <td>122.0</td>\n",
       "    </tr>\n",
       "    <tr>\n",
       "      <th>Sedans</th>\n",
       "      <td>2105.0</td>\n",
       "      <td>108.922565</td>\n",
       "      <td>22.214864</td>\n",
       "      <td>1.0</td>\n",
       "      <td>103.00</td>\n",
       "      <td>106.0</td>\n",
       "      <td>114.00</td>\n",
       "      <td>990.0</td>\n",
       "    </tr>\n",
       "    <tr>\n",
       "      <th>Station wagon</th>\n",
       "      <td>255.0</td>\n",
       "      <td>110.549020</td>\n",
       "      <td>8.280785</td>\n",
       "      <td>88.0</td>\n",
       "      <td>105.00</td>\n",
       "      <td>110.0</td>\n",
       "      <td>114.00</td>\n",
       "      <td>189.0</td>\n",
       "    </tr>\n",
       "    <tr>\n",
       "      <th rowspan=\"6\" valign=\"top\">Opel Astra</th>\n",
       "      <th>Compact</th>\n",
       "      <td>63.0</td>\n",
       "      <td>107.888889</td>\n",
       "      <td>15.181813</td>\n",
       "      <td>88.0</td>\n",
       "      <td>97.00</td>\n",
       "      <td>104.0</td>\n",
       "      <td>117.00</td>\n",
       "      <td>151.0</td>\n",
       "    </tr>\n",
       "    <tr>\n",
       "      <th>Coupe</th>\n",
       "      <td>2.0</td>\n",
       "      <td>144.000000</td>\n",
       "      <td>14.142136</td>\n",
       "      <td>134.0</td>\n",
       "      <td>139.00</td>\n",
       "      <td>144.0</td>\n",
       "      <td>149.00</td>\n",
       "      <td>154.0</td>\n",
       "    </tr>\n",
       "    <tr>\n",
       "      <th>Off-Road</th>\n",
       "      <td>1.0</td>\n",
       "      <td>128.000000</td>\n",
       "      <td>NaN</td>\n",
       "      <td>128.0</td>\n",
       "      <td>128.00</td>\n",
       "      <td>128.0</td>\n",
       "      <td>128.00</td>\n",
       "      <td>128.0</td>\n",
       "    </tr>\n",
       "    <tr>\n",
       "      <th>Other</th>\n",
       "      <td>47.0</td>\n",
       "      <td>112.085106</td>\n",
       "      <td>13.139436</td>\n",
       "      <td>95.0</td>\n",
       "      <td>97.00</td>\n",
       "      <td>117.0</td>\n",
       "      <td>117.00</td>\n",
       "      <td>146.0</td>\n",
       "    </tr>\n",
       "    <tr>\n",
       "      <th>Sedans</th>\n",
       "      <td>831.0</td>\n",
       "      <td>115.607702</td>\n",
       "      <td>17.121047</td>\n",
       "      <td>0.0</td>\n",
       "      <td>102.00</td>\n",
       "      <td>116.0</td>\n",
       "      <td>128.00</td>\n",
       "      <td>172.0</td>\n",
       "    </tr>\n",
       "    <tr>\n",
       "      <th>Station wagon</th>\n",
       "      <td>974.0</td>\n",
       "      <td>115.791581</td>\n",
       "      <td>17.232426</td>\n",
       "      <td>12.0</td>\n",
       "      <td>99.00</td>\n",
       "      <td>119.0</td>\n",
       "      <td>127.00</td>\n",
       "      <td>174.0</td>\n",
       "    </tr>\n",
       "    <tr>\n",
       "      <th rowspan=\"7\" valign=\"top\">Opel Corsa</th>\n",
       "      <th>Compact</th>\n",
       "      <td>1012.0</td>\n",
       "      <td>130.466403</td>\n",
       "      <td>13.772629</td>\n",
       "      <td>12.0</td>\n",
       "      <td>123.00</td>\n",
       "      <td>131.0</td>\n",
       "      <td>140.00</td>\n",
       "      <td>170.0</td>\n",
       "    </tr>\n",
       "    <tr>\n",
       "      <th>Coupe</th>\n",
       "      <td>10.0</td>\n",
       "      <td>112.400000</td>\n",
       "      <td>14.214234</td>\n",
       "      <td>82.0</td>\n",
       "      <td>104.00</td>\n",
       "      <td>116.5</td>\n",
       "      <td>124.00</td>\n",
       "      <td>124.0</td>\n",
       "    </tr>\n",
       "    <tr>\n",
       "      <th>Off-Road</th>\n",
       "      <td>3.0</td>\n",
       "      <td>119.666667</td>\n",
       "      <td>0.577350</td>\n",
       "      <td>119.0</td>\n",
       "      <td>119.50</td>\n",
       "      <td>120.0</td>\n",
       "      <td>120.00</td>\n",
       "      <td>120.0</td>\n",
       "    </tr>\n",
       "    <tr>\n",
       "      <th>Other</th>\n",
       "      <td>75.0</td>\n",
       "      <td>123.693333</td>\n",
       "      <td>9.566232</td>\n",
       "      <td>100.0</td>\n",
       "      <td>120.00</td>\n",
       "      <td>120.0</td>\n",
       "      <td>128.00</td>\n",
       "      <td>165.0</td>\n",
       "    </tr>\n",
       "    <tr>\n",
       "      <th>Sedans</th>\n",
       "      <td>711.0</td>\n",
       "      <td>125.666667</td>\n",
       "      <td>11.667941</td>\n",
       "      <td>82.0</td>\n",
       "      <td>120.00</td>\n",
       "      <td>124.0</td>\n",
       "      <td>130.00</td>\n",
       "      <td>158.0</td>\n",
       "    </tr>\n",
       "    <tr>\n",
       "      <th>Transporter</th>\n",
       "      <td>6.0</td>\n",
       "      <td>112.166667</td>\n",
       "      <td>12.967909</td>\n",
       "      <td>100.0</td>\n",
       "      <td>100.25</td>\n",
       "      <td>112.5</td>\n",
       "      <td>124.00</td>\n",
       "      <td>124.0</td>\n",
       "    </tr>\n",
       "    <tr>\n",
       "      <th>Van</th>\n",
       "      <td>0.0</td>\n",
       "      <td>NaN</td>\n",
       "      <td>NaN</td>\n",
       "      <td>NaN</td>\n",
       "      <td>NaN</td>\n",
       "      <td>NaN</td>\n",
       "      <td>NaN</td>\n",
       "      <td>NaN</td>\n",
       "    </tr>\n",
       "    <tr>\n",
       "      <th rowspan=\"7\" valign=\"top\">Opel Insignia</th>\n",
       "      <th>Compact</th>\n",
       "      <td>17.0</td>\n",
       "      <td>128.529412</td>\n",
       "      <td>15.914293</td>\n",
       "      <td>99.0</td>\n",
       "      <td>114.00</td>\n",
       "      <td>130.0</td>\n",
       "      <td>140.00</td>\n",
       "      <td>153.0</td>\n",
       "    </tr>\n",
       "    <tr>\n",
       "      <th>Coupe</th>\n",
       "      <td>0.0</td>\n",
       "      <td>NaN</td>\n",
       "      <td>NaN</td>\n",
       "      <td>NaN</td>\n",
       "      <td>NaN</td>\n",
       "      <td>NaN</td>\n",
       "      <td>NaN</td>\n",
       "      <td>NaN</td>\n",
       "    </tr>\n",
       "    <tr>\n",
       "      <th>Off-Road</th>\n",
       "      <td>3.0</td>\n",
       "      <td>154.666667</td>\n",
       "      <td>20.647841</td>\n",
       "      <td>131.0</td>\n",
       "      <td>147.50</td>\n",
       "      <td>164.0</td>\n",
       "      <td>166.50</td>\n",
       "      <td>169.0</td>\n",
       "    </tr>\n",
       "    <tr>\n",
       "      <th>Other</th>\n",
       "      <td>38.0</td>\n",
       "      <td>112.315789</td>\n",
       "      <td>21.129082</td>\n",
       "      <td>5.0</td>\n",
       "      <td>114.00</td>\n",
       "      <td>114.0</td>\n",
       "      <td>114.00</td>\n",
       "      <td>150.0</td>\n",
       "    </tr>\n",
       "    <tr>\n",
       "      <th>Sedans</th>\n",
       "      <td>640.0</td>\n",
       "      <td>131.612500</td>\n",
       "      <td>17.884515</td>\n",
       "      <td>13.0</td>\n",
       "      <td>120.75</td>\n",
       "      <td>134.0</td>\n",
       "      <td>141.00</td>\n",
       "      <td>197.0</td>\n",
       "    </tr>\n",
       "    <tr>\n",
       "      <th>Station wagon</th>\n",
       "      <td>1264.0</td>\n",
       "      <td>138.039557</td>\n",
       "      <td>18.334924</td>\n",
       "      <td>0.0</td>\n",
       "      <td>131.75</td>\n",
       "      <td>139.5</td>\n",
       "      <td>147.00</td>\n",
       "      <td>253.0</td>\n",
       "    </tr>\n",
       "    <tr>\n",
       "      <th>Van</th>\n",
       "      <td>0.0</td>\n",
       "      <td>NaN</td>\n",
       "      <td>NaN</td>\n",
       "      <td>NaN</td>\n",
       "      <td>NaN</td>\n",
       "      <td>NaN</td>\n",
       "      <td>NaN</td>\n",
       "      <td>NaN</td>\n",
       "    </tr>\n",
       "    <tr>\n",
       "      <th rowspan=\"8\" valign=\"top\">Renault Clio</th>\n",
       "      <th>Compact</th>\n",
       "      <td>288.0</td>\n",
       "      <td>116.274306</td>\n",
       "      <td>13.229854</td>\n",
       "      <td>82.0</td>\n",
       "      <td>113.00</td>\n",
       "      <td>120.0</td>\n",
       "      <td>120.00</td>\n",
       "      <td>140.0</td>\n",
       "    </tr>\n",
       "    <tr>\n",
       "      <th>Coupe</th>\n",
       "      <td>1.0</td>\n",
       "      <td>140.000000</td>\n",
       "      <td>NaN</td>\n",
       "      <td>140.0</td>\n",
       "      <td>140.00</td>\n",
       "      <td>140.0</td>\n",
       "      <td>140.00</td>\n",
       "      <td>140.0</td>\n",
       "    </tr>\n",
       "    <tr>\n",
       "      <th>Off-Road</th>\n",
       "      <td>1.0</td>\n",
       "      <td>125.000000</td>\n",
       "      <td>NaN</td>\n",
       "      <td>125.0</td>\n",
       "      <td>125.00</td>\n",
       "      <td>125.0</td>\n",
       "      <td>125.00</td>\n",
       "      <td>125.0</td>\n",
       "    </tr>\n",
       "    <tr>\n",
       "      <th>Other</th>\n",
       "      <td>36.0</td>\n",
       "      <td>115.777778</td>\n",
       "      <td>12.073847</td>\n",
       "      <td>85.0</td>\n",
       "      <td>114.00</td>\n",
       "      <td>120.0</td>\n",
       "      <td>126.00</td>\n",
       "      <td>127.0</td>\n",
       "    </tr>\n",
       "    <tr>\n",
       "      <th>Sedans</th>\n",
       "      <td>656.0</td>\n",
       "      <td>111.160061</td>\n",
       "      <td>17.642514</td>\n",
       "      <td>82.0</td>\n",
       "      <td>92.00</td>\n",
       "      <td>113.0</td>\n",
       "      <td>127.00</td>\n",
       "      <td>140.0</td>\n",
       "    </tr>\n",
       "    <tr>\n",
       "      <th>Station wagon</th>\n",
       "      <td>215.0</td>\n",
       "      <td>109.469767</td>\n",
       "      <td>18.458283</td>\n",
       "      <td>82.0</td>\n",
       "      <td>86.00</td>\n",
       "      <td>118.0</td>\n",
       "      <td>127.00</td>\n",
       "      <td>140.0</td>\n",
       "    </tr>\n",
       "    <tr>\n",
       "      <th>Transporter</th>\n",
       "      <td>9.0</td>\n",
       "      <td>99.333333</td>\n",
       "      <td>19.487175</td>\n",
       "      <td>85.0</td>\n",
       "      <td>85.00</td>\n",
       "      <td>85.0</td>\n",
       "      <td>118.00</td>\n",
       "      <td>128.0</td>\n",
       "    </tr>\n",
       "    <tr>\n",
       "      <th>Van</th>\n",
       "      <td>0.0</td>\n",
       "      <td>NaN</td>\n",
       "      <td>NaN</td>\n",
       "      <td>NaN</td>\n",
       "      <td>NaN</td>\n",
       "      <td>NaN</td>\n",
       "      <td>NaN</td>\n",
       "      <td>NaN</td>\n",
       "    </tr>\n",
       "    <tr>\n",
       "      <th>Renault Duster</th>\n",
       "      <th>Off-Road</th>\n",
       "      <td>33.0</td>\n",
       "      <td>171.666667</td>\n",
       "      <td>34.375379</td>\n",
       "      <td>1.0</td>\n",
       "      <td>150.00</td>\n",
       "      <td>186.0</td>\n",
       "      <td>186.00</td>\n",
       "      <td>186.0</td>\n",
       "    </tr>\n",
       "    <tr>\n",
       "      <th rowspan=\"8\" valign=\"top\">Renault Espace</th>\n",
       "      <th>Compact</th>\n",
       "      <td>3.0</td>\n",
       "      <td>137.666667</td>\n",
       "      <td>16.623277</td>\n",
       "      <td>120.0</td>\n",
       "      <td>130.00</td>\n",
       "      <td>140.0</td>\n",
       "      <td>146.50</td>\n",
       "      <td>153.0</td>\n",
       "    </tr>\n",
       "    <tr>\n",
       "      <th>Coupe</th>\n",
       "      <td>0.0</td>\n",
       "      <td>NaN</td>\n",
       "      <td>NaN</td>\n",
       "      <td>NaN</td>\n",
       "      <td>NaN</td>\n",
       "      <td>NaN</td>\n",
       "      <td>NaN</td>\n",
       "      <td>NaN</td>\n",
       "    </tr>\n",
       "    <tr>\n",
       "      <th>Off-Road</th>\n",
       "      <td>5.0</td>\n",
       "      <td>120.600000</td>\n",
       "      <td>1.341641</td>\n",
       "      <td>120.0</td>\n",
       "      <td>120.00</td>\n",
       "      <td>120.0</td>\n",
       "      <td>120.00</td>\n",
       "      <td>123.0</td>\n",
       "    </tr>\n",
       "    <tr>\n",
       "      <th>Other</th>\n",
       "      <td>5.0</td>\n",
       "      <td>133.600000</td>\n",
       "      <td>21.090282</td>\n",
       "      <td>120.0</td>\n",
       "      <td>120.00</td>\n",
       "      <td>120.0</td>\n",
       "      <td>140.00</td>\n",
       "      <td>168.0</td>\n",
       "    </tr>\n",
       "    <tr>\n",
       "      <th>Sedans</th>\n",
       "      <td>8.0</td>\n",
       "      <td>136.000000</td>\n",
       "      <td>18.935982</td>\n",
       "      <td>116.0</td>\n",
       "      <td>123.00</td>\n",
       "      <td>131.0</td>\n",
       "      <td>142.50</td>\n",
       "      <td>172.0</td>\n",
       "    </tr>\n",
       "    <tr>\n",
       "      <th>Station wagon</th>\n",
       "      <td>58.0</td>\n",
       "      <td>136.482759</td>\n",
       "      <td>16.475651</td>\n",
       "      <td>116.0</td>\n",
       "      <td>123.00</td>\n",
       "      <td>139.0</td>\n",
       "      <td>153.00</td>\n",
       "      <td>168.0</td>\n",
       "    </tr>\n",
       "    <tr>\n",
       "      <th>Transporter</th>\n",
       "      <td>50.0</td>\n",
       "      <td>120.940000</td>\n",
       "      <td>5.519576</td>\n",
       "      <td>116.0</td>\n",
       "      <td>120.00</td>\n",
       "      <td>120.0</td>\n",
       "      <td>120.00</td>\n",
       "      <td>140.0</td>\n",
       "    </tr>\n",
       "    <tr>\n",
       "      <th>Van</th>\n",
       "      <td>535.0</td>\n",
       "      <td>134.499065</td>\n",
       "      <td>18.347751</td>\n",
       "      <td>116.0</td>\n",
       "      <td>120.00</td>\n",
       "      <td>123.0</td>\n",
       "      <td>152.00</td>\n",
       "      <td>194.0</td>\n",
       "    </tr>\n",
       "  </tbody>\n",
       "</table>\n",
       "</div>"
      ],
      "text/plain": [
       "                               count        mean        std    min     25%  \\\n",
       "brand_model    body_type                                                     \n",
       "Audi A1        Compact         814.0  105.840295  10.569354   90.0  102.00   \n",
       "               Coupe             1.0   97.000000        NaN   97.0   97.00   \n",
       "               Other             8.0  107.375000  11.710038   97.0   99.00   \n",
       "               Sedans         1253.0  103.150838   7.104902   89.0   97.00   \n",
       "               Station wagon    20.0  103.800000   6.501822   91.0  101.00   \n",
       "               Van               0.0         NaN        NaN    NaN     NaN   \n",
       "Audi A2        Off-Road          0.0         NaN        NaN    NaN     NaN   \n",
       "Audi A3        Compact          97.0  106.216495  10.716252   89.0  101.00   \n",
       "               Convertible       7.0  123.857143  16.727508   99.0  116.50   \n",
       "               Coupe             4.0  100.750000   3.500000   99.0   99.00   \n",
       "               Other             8.0  108.750000   7.814821   99.0  104.25   \n",
       "               Sedans         2105.0  108.922565  22.214864    1.0  103.00   \n",
       "               Station wagon   255.0  110.549020   8.280785   88.0  105.00   \n",
       "Opel Astra     Compact          63.0  107.888889  15.181813   88.0   97.00   \n",
       "               Coupe             2.0  144.000000  14.142136  134.0  139.00   \n",
       "               Off-Road          1.0  128.000000        NaN  128.0  128.00   \n",
       "               Other            47.0  112.085106  13.139436   95.0   97.00   \n",
       "               Sedans          831.0  115.607702  17.121047    0.0  102.00   \n",
       "               Station wagon   974.0  115.791581  17.232426   12.0   99.00   \n",
       "Opel Corsa     Compact        1012.0  130.466403  13.772629   12.0  123.00   \n",
       "               Coupe            10.0  112.400000  14.214234   82.0  104.00   \n",
       "               Off-Road          3.0  119.666667   0.577350  119.0  119.50   \n",
       "               Other            75.0  123.693333   9.566232  100.0  120.00   \n",
       "               Sedans          711.0  125.666667  11.667941   82.0  120.00   \n",
       "               Transporter       6.0  112.166667  12.967909  100.0  100.25   \n",
       "               Van               0.0         NaN        NaN    NaN     NaN   \n",
       "Opel Insignia  Compact          17.0  128.529412  15.914293   99.0  114.00   \n",
       "               Coupe             0.0         NaN        NaN    NaN     NaN   \n",
       "               Off-Road          3.0  154.666667  20.647841  131.0  147.50   \n",
       "               Other            38.0  112.315789  21.129082    5.0  114.00   \n",
       "               Sedans          640.0  131.612500  17.884515   13.0  120.75   \n",
       "               Station wagon  1264.0  138.039557  18.334924    0.0  131.75   \n",
       "               Van               0.0         NaN        NaN    NaN     NaN   \n",
       "Renault Clio   Compact         288.0  116.274306  13.229854   82.0  113.00   \n",
       "               Coupe             1.0  140.000000        NaN  140.0  140.00   \n",
       "               Off-Road          1.0  125.000000        NaN  125.0  125.00   \n",
       "               Other            36.0  115.777778  12.073847   85.0  114.00   \n",
       "               Sedans          656.0  111.160061  17.642514   82.0   92.00   \n",
       "               Station wagon   215.0  109.469767  18.458283   82.0   86.00   \n",
       "               Transporter       9.0   99.333333  19.487175   85.0   85.00   \n",
       "               Van               0.0         NaN        NaN    NaN     NaN   \n",
       "Renault Duster Off-Road         33.0  171.666667  34.375379    1.0  150.00   \n",
       "Renault Espace Compact           3.0  137.666667  16.623277  120.0  130.00   \n",
       "               Coupe             0.0         NaN        NaN    NaN     NaN   \n",
       "               Off-Road          5.0  120.600000   1.341641  120.0  120.00   \n",
       "               Other             5.0  133.600000  21.090282  120.0  120.00   \n",
       "               Sedans            8.0  136.000000  18.935982  116.0  123.00   \n",
       "               Station wagon    58.0  136.482759  16.475651  116.0  123.00   \n",
       "               Transporter      50.0  120.940000   5.519576  116.0  120.00   \n",
       "               Van             535.0  134.499065  18.347751  116.0  120.00   \n",
       "\n",
       "                                50%     75%    max  \n",
       "brand_model    body_type                            \n",
       "Audi A1        Compact        104.0  110.00  331.0  \n",
       "               Coupe           97.0   97.00   97.0  \n",
       "               Other          107.0  108.00  134.0  \n",
       "               Sedans         102.0  108.00  138.0  \n",
       "               Station wagon  102.0  109.00  118.0  \n",
       "               Van              NaN     NaN    NaN  \n",
       "Audi A2        Off-Road         NaN     NaN    NaN  \n",
       "Audi A3        Compact        106.0  108.00  189.0  \n",
       "               Convertible    124.0  129.00  153.0  \n",
       "               Coupe           99.0  100.75  106.0  \n",
       "               Other          108.5  112.75  122.0  \n",
       "               Sedans         106.0  114.00  990.0  \n",
       "               Station wagon  110.0  114.00  189.0  \n",
       "Opel Astra     Compact        104.0  117.00  151.0  \n",
       "               Coupe          144.0  149.00  154.0  \n",
       "               Off-Road       128.0  128.00  128.0  \n",
       "               Other          117.0  117.00  146.0  \n",
       "               Sedans         116.0  128.00  172.0  \n",
       "               Station wagon  119.0  127.00  174.0  \n",
       "Opel Corsa     Compact        131.0  140.00  170.0  \n",
       "               Coupe          116.5  124.00  124.0  \n",
       "               Off-Road       120.0  120.00  120.0  \n",
       "               Other          120.0  128.00  165.0  \n",
       "               Sedans         124.0  130.00  158.0  \n",
       "               Transporter    112.5  124.00  124.0  \n",
       "               Van              NaN     NaN    NaN  \n",
       "Opel Insignia  Compact        130.0  140.00  153.0  \n",
       "               Coupe            NaN     NaN    NaN  \n",
       "               Off-Road       164.0  166.50  169.0  \n",
       "               Other          114.0  114.00  150.0  \n",
       "               Sedans         134.0  141.00  197.0  \n",
       "               Station wagon  139.5  147.00  253.0  \n",
       "               Van              NaN     NaN    NaN  \n",
       "Renault Clio   Compact        120.0  120.00  140.0  \n",
       "               Coupe          140.0  140.00  140.0  \n",
       "               Off-Road       125.0  125.00  125.0  \n",
       "               Other          120.0  126.00  127.0  \n",
       "               Sedans         113.0  127.00  140.0  \n",
       "               Station wagon  118.0  127.00  140.0  \n",
       "               Transporter     85.0  118.00  128.0  \n",
       "               Van              NaN     NaN    NaN  \n",
       "Renault Duster Off-Road       186.0  186.00  186.0  \n",
       "Renault Espace Compact        140.0  146.50  153.0  \n",
       "               Coupe            NaN     NaN    NaN  \n",
       "               Off-Road       120.0  120.00  123.0  \n",
       "               Other          120.0  140.00  168.0  \n",
       "               Sedans         131.0  142.50  172.0  \n",
       "               Station wagon  139.0  153.00  168.0  \n",
       "               Transporter    120.0  120.00  140.0  \n",
       "               Van            123.0  152.00  194.0  "
      ]
     },
     "execution_count": 148,
     "metadata": {},
     "output_type": "execute_result"
    }
   ],
   "source": [
    "df.groupby(['brand_model', 'body_type'])['CO2 Emission'].describe()"
   ]
  },
  {
   "cell_type": "code",
   "execution_count": 149,
   "id": "6a0acd99",
   "metadata": {},
   "outputs": [
    {
     "data": {
      "text/plain": [
       "Index(['brand_model', 'body_type', 'price', 'age', 'km', 'Fuel', 'Type',\n",
       "       'prev_owner', 'Body Color', 'Paint Type', 'Gearing Type', 'hp',\n",
       "       'Consumption_comb', 'Consumption_city', 'Consumption_country',\n",
       "       'Comfort & Convenience', 'Entertainment & Media', 'Safety & Security',\n",
       "       'Extras', 'Upholstery_type', 'Upholstery_color', 'vat', 'Nr. of Doors',\n",
       "       'Nr. of Seats', 'Displacement', 'Cylinders', 'Weight', 'Drive chain',\n",
       "       'CO2 Emission', 'Gears'],\n",
       "      dtype='object')"
      ]
     },
     "execution_count": 149,
     "metadata": {},
     "output_type": "execute_result"
    }
   ],
   "source": [
    "df.columns"
   ]
  },
  {
   "cell_type": "code",
   "execution_count": 150,
   "id": "77ec974c",
   "metadata": {},
   "outputs": [],
   "source": [
    "df['CO2 Emission']=df['CO2 Emission'].fillna(df.groupby(['brand_model', 'body_type'])['CO2 Emission'].transform('median'))"
   ]
  },
  {
   "cell_type": "code",
   "execution_count": 151,
   "id": "84ad9bd7",
   "metadata": {},
   "outputs": [
    {
     "data": {
      "text/plain": [
       "8"
      ]
     },
     "execution_count": 151,
     "metadata": {},
     "output_type": "execute_result"
    }
   ],
   "source": [
    "df['CO2 Emission'].isnull().sum()"
   ]
  },
  {
   "cell_type": "code",
   "execution_count": 152,
   "id": "fe24c23e",
   "metadata": {},
   "outputs": [],
   "source": [
    "df['CO2 Emission']=df['CO2 Emission'].fillna(df.groupby(['brand_model'])['CO2 Emission'].transform('median'))"
   ]
  },
  {
   "cell_type": "code",
   "execution_count": 153,
   "id": "b4a62fb2",
   "metadata": {},
   "outputs": [
    {
     "data": {
      "text/plain": [
       "1"
      ]
     },
     "execution_count": 153,
     "metadata": {},
     "output_type": "execute_result"
    }
   ],
   "source": [
    "df['CO2 Emission'].isnull().sum()"
   ]
  },
  {
   "cell_type": "code",
   "execution_count": 154,
   "id": "9f7b7dd8",
   "metadata": {},
   "outputs": [],
   "source": [
    "df['CO2 Emission']=df['CO2 Emission'].fillna(df['CO2 Emission'].median())"
   ]
  },
  {
   "cell_type": "code",
   "execution_count": 155,
   "id": "bf773b0d",
   "metadata": {},
   "outputs": [
    {
     "data": {
      "text/plain": [
       "0"
      ]
     },
     "execution_count": 155,
     "metadata": {},
     "output_type": "execute_result"
    }
   ],
   "source": [
    "df['CO2 Emission'].isnull().sum()"
   ]
  },
  {
   "cell_type": "code",
   "execution_count": 156,
   "id": "df958009",
   "metadata": {},
   "outputs": [
    {
     "data": {
      "text/plain": [
       "brand_model              0\n",
       "body_type                0\n",
       "price                    0\n",
       "age                      0\n",
       "km                       0\n",
       "Fuel                     0\n",
       "Type                     0\n",
       "prev_owner               0\n",
       "Body Color               0\n",
       "Paint Type               0\n",
       "Gearing Type             0\n",
       "hp                       0\n",
       "Consumption_comb         0\n",
       "Consumption_city         0\n",
       "Consumption_country      0\n",
       "Comfort & Convenience    0\n",
       "Entertainment & Media    0\n",
       "Safety & Security        0\n",
       "Extras                   0\n",
       "Upholstery_type          0\n",
       "Upholstery_color         0\n",
       "vat                      0\n",
       "Nr. of Doors             0\n",
       "Nr. of Seats             0\n",
       "Displacement             0\n",
       "Cylinders                0\n",
       "Weight                   0\n",
       "Drive chain              0\n",
       "CO2 Emission             0\n",
       "Gears                    0\n",
       "dtype: int64"
      ]
     },
     "execution_count": 156,
     "metadata": {},
     "output_type": "execute_result"
    }
   ],
   "source": [
    "df.isnull().sum()"
   ]
  },
  {
   "cell_type": "markdown",
   "id": "27e3c4e5",
   "metadata": {},
   "source": [
    "###### Dataset has been cleaned from all missing values"
   ]
  },
  {
   "cell_type": "code",
   "execution_count": 157,
   "id": "44f39471",
   "metadata": {},
   "outputs": [],
   "source": [
    "df.to_csv(\"missing_scout_auto.csv\", index=False)"
   ]
  },
  {
   "cell_type": "code",
   "execution_count": null,
   "id": "de8be260",
   "metadata": {},
   "outputs": [],
   "source": []
  }
 ],
 "metadata": {
  "kernelspec": {
   "display_name": "Python 3 (ipykernel)",
   "language": "python",
   "name": "python3"
  },
  "language_info": {
   "codemirror_mode": {
    "name": "ipython",
    "version": 3
   },
   "file_extension": ".py",
   "mimetype": "text/x-python",
   "name": "python",
   "nbconvert_exporter": "python",
   "pygments_lexer": "ipython3",
   "version": "3.9.7"
  }
 },
 "nbformat": 4,
 "nbformat_minor": 5
}
