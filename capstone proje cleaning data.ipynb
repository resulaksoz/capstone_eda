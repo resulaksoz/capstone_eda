{
 "cells": [
  {
   "cell_type": "code",
   "execution_count": 1,
   "id": "0966619b",
   "metadata": {},
   "outputs": [],
   "source": [
    "import pandas as pd\n",
    "import numpy as np\n"
   ]
  },
  {
   "cell_type": "code",
   "execution_count": 2,
   "id": "006bef7c",
   "metadata": {},
   "outputs": [
    {
     "data": {
      "text/html": [
       "<div>\n",
       "<style scoped>\n",
       "    .dataframe tbody tr th:only-of-type {\n",
       "        vertical-align: middle;\n",
       "    }\n",
       "\n",
       "    .dataframe tbody tr th {\n",
       "        vertical-align: top;\n",
       "    }\n",
       "\n",
       "    .dataframe thead th {\n",
       "        text-align: right;\n",
       "    }\n",
       "</style>\n",
       "<table border=\"1\" class=\"dataframe\">\n",
       "  <thead>\n",
       "    <tr style=\"text-align: right;\">\n",
       "      <th></th>\n",
       "      <th>url</th>\n",
       "      <th>make_model</th>\n",
       "      <th>short_description</th>\n",
       "      <th>body_type</th>\n",
       "      <th>price</th>\n",
       "      <th>vat</th>\n",
       "      <th>km</th>\n",
       "      <th>registration</th>\n",
       "      <th>prev_owner</th>\n",
       "      <th>kW</th>\n",
       "      <th>...</th>\n",
       "      <th>description</th>\n",
       "      <th>Emission Label</th>\n",
       "      <th>Gears</th>\n",
       "      <th>Country version</th>\n",
       "      <th>Electricity consumption</th>\n",
       "      <th>Last Service Date</th>\n",
       "      <th>Other Fuel Types</th>\n",
       "      <th>Availability</th>\n",
       "      <th>Last Timing Belt Service Date</th>\n",
       "      <th>Available from</th>\n",
       "    </tr>\n",
       "  </thead>\n",
       "  <tbody>\n",
       "    <tr>\n",
       "      <th>0</th>\n",
       "      <td>https://www.autoscout24.com//offers/audi-a1-sp...</td>\n",
       "      <td>Audi A1</td>\n",
       "      <td>Sportback 1.4 TDI S-tronic Xenon Navi Klima</td>\n",
       "      <td>Sedans</td>\n",
       "      <td>15770</td>\n",
       "      <td>VAT deductible</td>\n",
       "      <td>56,013 km</td>\n",
       "      <td>01/2016</td>\n",
       "      <td>2 previous owners</td>\n",
       "      <td>NaN</td>\n",
       "      <td>...</td>\n",
       "      <td>[\\n, Sicherheit:,  , Deaktivierung für Beifahr...</td>\n",
       "      <td>NaN</td>\n",
       "      <td>NaN</td>\n",
       "      <td>NaN</td>\n",
       "      <td>NaN</td>\n",
       "      <td>NaN</td>\n",
       "      <td>NaN</td>\n",
       "      <td>NaN</td>\n",
       "      <td>NaN</td>\n",
       "      <td>NaN</td>\n",
       "    </tr>\n",
       "    <tr>\n",
       "      <th>1</th>\n",
       "      <td>https://www.autoscout24.com//offers/audi-a1-1-...</td>\n",
       "      <td>Audi A1</td>\n",
       "      <td>1.8 TFSI sport</td>\n",
       "      <td>Sedans</td>\n",
       "      <td>14500</td>\n",
       "      <td>Price negotiable</td>\n",
       "      <td>80,000 km</td>\n",
       "      <td>03/2017</td>\n",
       "      <td>None</td>\n",
       "      <td>NaN</td>\n",
       "      <td>...</td>\n",
       "      <td>[\\nLangstreckenfahrzeug daher die hohe Kilomet...</td>\n",
       "      <td>[\\n4 (Green)\\n]</td>\n",
       "      <td>[\\n7\\n]</td>\n",
       "      <td>NaN</td>\n",
       "      <td>NaN</td>\n",
       "      <td>NaN</td>\n",
       "      <td>NaN</td>\n",
       "      <td>NaN</td>\n",
       "      <td>NaN</td>\n",
       "      <td>NaN</td>\n",
       "    </tr>\n",
       "    <tr>\n",
       "      <th>2</th>\n",
       "      <td>https://www.autoscout24.com//offers/audi-a1-sp...</td>\n",
       "      <td>Audi A1</td>\n",
       "      <td>Sportback 1.6 TDI S tronic Einparkhilfe plus+m...</td>\n",
       "      <td>Sedans</td>\n",
       "      <td>14640</td>\n",
       "      <td>VAT deductible</td>\n",
       "      <td>83,450 km</td>\n",
       "      <td>02/2016</td>\n",
       "      <td>1 previous owner</td>\n",
       "      <td>NaN</td>\n",
       "      <td>...</td>\n",
       "      <td>[\\n, Fahrzeug-Nummer: AM-95365,  , Ehem. UPE 2...</td>\n",
       "      <td>[\\n4 (Green)\\n]</td>\n",
       "      <td>NaN</td>\n",
       "      <td>NaN</td>\n",
       "      <td>NaN</td>\n",
       "      <td>NaN</td>\n",
       "      <td>NaN</td>\n",
       "      <td>NaN</td>\n",
       "      <td>NaN</td>\n",
       "      <td>NaN</td>\n",
       "    </tr>\n",
       "    <tr>\n",
       "      <th>3</th>\n",
       "      <td>https://www.autoscout24.com//offers/audi-a1-1-...</td>\n",
       "      <td>Audi A1</td>\n",
       "      <td>1.4 TDi Design S tronic</td>\n",
       "      <td>Sedans</td>\n",
       "      <td>14500</td>\n",
       "      <td>None</td>\n",
       "      <td>73,000 km</td>\n",
       "      <td>08/2016</td>\n",
       "      <td>1 previous owner</td>\n",
       "      <td>NaN</td>\n",
       "      <td>...</td>\n",
       "      <td>[\\nAudi A1: , - 1e eigenaar , - Perfecte staat...</td>\n",
       "      <td>NaN</td>\n",
       "      <td>[\\n6\\n]</td>\n",
       "      <td>NaN</td>\n",
       "      <td>NaN</td>\n",
       "      <td>NaN</td>\n",
       "      <td>NaN</td>\n",
       "      <td>NaN</td>\n",
       "      <td>NaN</td>\n",
       "      <td>NaN</td>\n",
       "    </tr>\n",
       "    <tr>\n",
       "      <th>4</th>\n",
       "      <td>https://www.autoscout24.com//offers/audi-a1-sp...</td>\n",
       "      <td>Audi A1</td>\n",
       "      <td>Sportback 1.4 TDI S-Tronic S-Line Ext. admired...</td>\n",
       "      <td>Sedans</td>\n",
       "      <td>16790</td>\n",
       "      <td>None</td>\n",
       "      <td>16,200 km</td>\n",
       "      <td>05/2016</td>\n",
       "      <td>1 previous owner</td>\n",
       "      <td>NaN</td>\n",
       "      <td>...</td>\n",
       "      <td>[\\n, Technik &amp; Sicherheit:, Xenon plus, Klimaa...</td>\n",
       "      <td>NaN</td>\n",
       "      <td>NaN</td>\n",
       "      <td>[\\nGermany\\n]</td>\n",
       "      <td>NaN</td>\n",
       "      <td>NaN</td>\n",
       "      <td>NaN</td>\n",
       "      <td>NaN</td>\n",
       "      <td>NaN</td>\n",
       "      <td>NaN</td>\n",
       "    </tr>\n",
       "  </tbody>\n",
       "</table>\n",
       "<p>5 rows × 54 columns</p>\n",
       "</div>"
      ],
      "text/plain": [
       "                                                 url make_model  \\\n",
       "0  https://www.autoscout24.com//offers/audi-a1-sp...    Audi A1   \n",
       "1  https://www.autoscout24.com//offers/audi-a1-1-...    Audi A1   \n",
       "2  https://www.autoscout24.com//offers/audi-a1-sp...    Audi A1   \n",
       "3  https://www.autoscout24.com//offers/audi-a1-1-...    Audi A1   \n",
       "4  https://www.autoscout24.com//offers/audi-a1-sp...    Audi A1   \n",
       "\n",
       "                                   short_description body_type  price  \\\n",
       "0        Sportback 1.4 TDI S-tronic Xenon Navi Klima    Sedans  15770   \n",
       "1                                     1.8 TFSI sport    Sedans  14500   \n",
       "2  Sportback 1.6 TDI S tronic Einparkhilfe plus+m...    Sedans  14640   \n",
       "3                            1.4 TDi Design S tronic    Sedans  14500   \n",
       "4  Sportback 1.4 TDI S-Tronic S-Line Ext. admired...    Sedans  16790   \n",
       "\n",
       "                vat         km registration         prev_owner  kW  ...  \\\n",
       "0    VAT deductible  56,013 km      01/2016  2 previous owners NaN  ...   \n",
       "1  Price negotiable  80,000 km      03/2017               None NaN  ...   \n",
       "2    VAT deductible  83,450 km      02/2016   1 previous owner NaN  ...   \n",
       "3              None  73,000 km      08/2016   1 previous owner NaN  ...   \n",
       "4              None  16,200 km      05/2016   1 previous owner NaN  ...   \n",
       "\n",
       "                                         description   Emission Label  \\\n",
       "0  [\\n, Sicherheit:,  , Deaktivierung für Beifahr...              NaN   \n",
       "1  [\\nLangstreckenfahrzeug daher die hohe Kilomet...  [\\n4 (Green)\\n]   \n",
       "2  [\\n, Fahrzeug-Nummer: AM-95365,  , Ehem. UPE 2...  [\\n4 (Green)\\n]   \n",
       "3  [\\nAudi A1: , - 1e eigenaar , - Perfecte staat...              NaN   \n",
       "4  [\\n, Technik & Sicherheit:, Xenon plus, Klimaa...              NaN   \n",
       "\n",
       "     Gears Country version Electricity consumption Last Service Date  \\\n",
       "0      NaN             NaN                     NaN               NaN   \n",
       "1  [\\n7\\n]             NaN                     NaN               NaN   \n",
       "2      NaN             NaN                     NaN               NaN   \n",
       "3  [\\n6\\n]             NaN                     NaN               NaN   \n",
       "4      NaN   [\\nGermany\\n]                     NaN               NaN   \n",
       "\n",
       "  Other Fuel Types Availability Last Timing Belt Service Date Available from  \n",
       "0              NaN          NaN                           NaN            NaN  \n",
       "1              NaN          NaN                           NaN            NaN  \n",
       "2              NaN          NaN                           NaN            NaN  \n",
       "3              NaN          NaN                           NaN            NaN  \n",
       "4              NaN          NaN                           NaN            NaN  \n",
       "\n",
       "[5 rows x 54 columns]"
      ]
     },
     "execution_count": 2,
     "metadata": {},
     "output_type": "execute_result"
    }
   ],
   "source": [
    "\n",
    "df = pd.read_json(\"scout_car.json\",lines=True)\n",
    "df.head(5)"
   ]
  },
  {
   "cell_type": "code",
   "execution_count": 3,
   "id": "c74682e1",
   "metadata": {},
   "outputs": [
    {
     "name": "stdout",
     "output_type": "stream",
     "text": [
      "<class 'pandas.core.frame.DataFrame'>\n",
      "RangeIndex: 15919 entries, 0 to 15918\n",
      "Data columns (total 54 columns):\n",
      " #   Column                         Non-Null Count  Dtype  \n",
      "---  ------                         --------------  -----  \n",
      " 0   url                            15919 non-null  object \n",
      " 1   make_model                     15919 non-null  object \n",
      " 2   short_description              15873 non-null  object \n",
      " 3   body_type                      15859 non-null  object \n",
      " 4   price                          15919 non-null  int64  \n",
      " 5   vat                            11406 non-null  object \n",
      " 6   km                             15919 non-null  object \n",
      " 7   registration                   15919 non-null  object \n",
      " 8   prev_owner                     9091 non-null   object \n",
      " 9   kW                             0 non-null      float64\n",
      " 10  hp                             15919 non-null  object \n",
      " 11  Type                           15917 non-null  object \n",
      " 12  Previous Owners                9279 non-null   object \n",
      " 13  Next Inspection                3535 non-null   object \n",
      " 14  Inspection new                 3932 non-null   object \n",
      " 15  Warranty                       10499 non-null  object \n",
      " 16  Full Service                   8215 non-null   object \n",
      " 17  Non-smoking Vehicle            7177 non-null   object \n",
      " 18  null                           15919 non-null  object \n",
      " 19  Make                           15919 non-null  object \n",
      " 20  Model                          15919 non-null  object \n",
      " 21  Offer Number                   12744 non-null  object \n",
      " 22  First Registration             14322 non-null  object \n",
      " 23  Body Color                     15322 non-null  object \n",
      " 24  Paint Type                     10147 non-null  object \n",
      " 25  Body Color Original            12160 non-null  object \n",
      " 26  Upholstery                     12199 non-null  object \n",
      " 27  Body                           15859 non-null  object \n",
      " 28  Nr. of Doors                   15707 non-null  object \n",
      " 29  Nr. of Seats                   14942 non-null  object \n",
      " 30  Model Code                     4978 non-null   object \n",
      " 31  Gearing Type                   15919 non-null  object \n",
      " 32  Displacement                   15423 non-null  object \n",
      " 33  Cylinders                      10239 non-null  object \n",
      " 34  Weight                         8945 non-null   object \n",
      " 35  Drive chain                    9061 non-null   object \n",
      " 36  Fuel                           15919 non-null  object \n",
      " 37  Consumption                    14013 non-null  object \n",
      " 38  CO2 Emission                   14111 non-null  object \n",
      " 39  Emission Class                 12898 non-null  object \n",
      " 40  \n",
      "Comfort & Convenience\n",
      "        14999 non-null  object \n",
      " 41  \n",
      "Entertainment & Media\n",
      "        14545 non-null  object \n",
      " 42  \n",
      "Extras\n",
      "                       12957 non-null  object \n",
      " 43  \n",
      "Safety & Security\n",
      "            14937 non-null  object \n",
      " 44  description                    15919 non-null  object \n",
      " 45  Emission Label                 3985 non-null   object \n",
      " 46  Gears                          11207 non-null  object \n",
      " 47  Country version                7586 non-null   object \n",
      " 48  Electricity consumption        137 non-null    object \n",
      " 49  Last Service Date              566 non-null    object \n",
      " 50  Other Fuel Types               880 non-null    object \n",
      " 51  Availability                   635 non-null    object \n",
      " 52  Last Timing Belt Service Date  16 non-null     object \n",
      " 53  Available from                 272 non-null    object \n",
      "dtypes: float64(1), int64(1), object(52)\n",
      "memory usage: 6.6+ MB\n"
     ]
    }
   ],
   "source": [
    "df.info()"
   ]
  },
  {
   "cell_type": "code",
   "execution_count": 4,
   "id": "ef515f92",
   "metadata": {},
   "outputs": [
    {
     "data": {
      "text/plain": [
       "url                                0.000000\n",
       "make_model                         0.000000\n",
       "short_description                  0.288963\n",
       "body_type                          0.376908\n",
       "price                              0.000000\n",
       "vat                               28.349771\n",
       "km                                 0.000000\n",
       "registration                       0.000000\n",
       "prev_owner                        42.892141\n",
       "kW                               100.000000\n",
       "hp                                 0.000000\n",
       "Type                               0.012564\n",
       "Previous Owners                   41.711163\n",
       "Next Inspection                   77.793831\n",
       "Inspection new                    75.299956\n",
       "Warranty                          34.047365\n",
       "Full Service                      48.395000\n",
       "Non-smoking Vehicle               54.915510\n",
       "null                               0.000000\n",
       "Make                               0.000000\n",
       "Model                              0.000000\n",
       "Offer Number                      19.944720\n",
       "First Registration                10.032037\n",
       "Body Color                         3.750236\n",
       "Paint Type                        36.258559\n",
       "Body Color Original               23.613292\n",
       "Upholstery                        23.368302\n",
       "Body                               0.376908\n",
       "Nr. of Doors                       1.331742\n",
       "Nr. of Seats                       6.137320\n",
       "Model Code                        68.729192\n",
       "Gearing Type                       0.000000\n",
       "Displacement                       3.115774\n",
       "Cylinders                         35.680633\n",
       "Weight                            43.809285\n",
       "Drive chain                       43.080596\n",
       "Fuel                               0.000000\n",
       "Consumption                       11.973114\n",
       "CO2 Emission                      11.357497\n",
       "Emission Class                    18.977323\n",
       "\\nComfort & Convenience\\n          5.779257\n",
       "\\nEntertainment & Media\\n          8.631195\n",
       "\\nExtras\\n                        18.606696\n",
       "\\nSafety & Security\\n              6.168729\n",
       "description                        0.000000\n",
       "Emission Label                    74.967021\n",
       "Gears                             29.599849\n",
       "Country version                   52.346253\n",
       "Electricity consumption           99.139393\n",
       "Last Service Date                 96.444500\n",
       "Other Fuel Types                  94.472015\n",
       "Availability                      96.011056\n",
       "Last Timing Belt Service Date     99.899491\n",
       "Available from                    98.291350\n",
       "dtype: float64"
      ]
     },
     "execution_count": 4,
     "metadata": {},
     "output_type": "execute_result"
    }
   ],
   "source": [
    "df.isnull().sum()*100/len(df) #First of all, we learn the ratio of empty values in the columns."
   ]
  },
  {
   "cell_type": "code",
   "execution_count": 5,
   "id": "f30726be",
   "metadata": {},
   "outputs": [],
   "source": [
    "df.drop(columns=['kW','Electricity consumption', 'Last Service Date', 'Other Fuel Types',    \n",
    "                'Availability', 'Last Timing Belt Service Date', 'Available from'],inplace=True) \n",
    "##We dropped those colons from dataset,becaues they were almost completely empty."
   ]
  },
  {
   "cell_type": "code",
   "execution_count": 6,
   "id": "98687195",
   "metadata": {},
   "outputs": [
    {
     "data": {
      "text/plain": [
       "Index(['url', 'make_model', 'short_description', 'body_type', 'price', 'vat',\n",
       "       'km', 'registration', 'prev_owner', 'hp', 'Type', 'Previous Owners',\n",
       "       'Next Inspection', 'Inspection new', 'Warranty', 'Full Service',\n",
       "       'Non-smoking Vehicle', 'null', 'Make', 'Model', 'Offer Number',\n",
       "       'First Registration', 'Body Color', 'Paint Type', 'Body Color Original',\n",
       "       'Upholstery', 'Body', 'Nr. of Doors', 'Nr. of Seats', 'Model Code',\n",
       "       'Gearing Type', 'Displacement', 'Cylinders', 'Weight', 'Drive chain',\n",
       "       'Fuel', 'Consumption', 'CO2 Emission', 'Emission Class',\n",
       "       '\\nComfort & Convenience\\n', '\\nEntertainment & Media\\n', '\\nExtras\\n',\n",
       "       '\\nSafety & Security\\n', 'description', 'Emission Label', 'Gears',\n",
       "       'Country version'],\n",
       "      dtype='object')"
      ]
     },
     "execution_count": 6,
     "metadata": {},
     "output_type": "execute_result"
    }
   ],
   "source": [
    "df.columns"
   ]
  },
  {
   "cell_type": "markdown",
   "id": "2eaa0ecb",
   "metadata": {},
   "source": [
    "# url"
   ]
  },
  {
   "cell_type": "code",
   "execution_count": 7,
   "id": "10cfb350",
   "metadata": {},
   "outputs": [
    {
     "data": {
      "text/plain": [
       "'https://www.autoscout24.com//offers/audi-a1-sportback-1-4-tdi-s-tronic-xenon-navi-klima-diesel-black-bdab349a-caa5-41b0-98eb-c1345b84445e'"
      ]
     },
     "execution_count": 7,
     "metadata": {},
     "output_type": "execute_result"
    }
   ],
   "source": [
    "df['url'][0]"
   ]
  },
  {
   "cell_type": "code",
   "execution_count": 8,
   "id": "e882f55c",
   "metadata": {},
   "outputs": [
    {
     "data": {
      "text/plain": [
       "15919"
      ]
     },
     "execution_count": 8,
     "metadata": {},
     "output_type": "execute_result"
    }
   ],
   "source": [
    "df.url.str.contains('autoscout24').sum() \n",
    "##All the data is from the same website and the url also specifies the model. \n",
    "##Since there is already a model column in the data, we dropped this column."
   ]
  },
  {
   "cell_type": "code",
   "execution_count": 9,
   "id": "9a1c76b4",
   "metadata": {},
   "outputs": [],
   "source": [
    "df.drop(columns='url',inplace=True)"
   ]
  },
  {
   "cell_type": "markdown",
   "id": "a81d58eb",
   "metadata": {},
   "source": [
    "# make_model"
   ]
  },
  {
   "cell_type": "code",
   "execution_count": 10,
   "id": "ddfc5315",
   "metadata": {},
   "outputs": [
    {
     "data": {
      "text/plain": [
       "0"
      ]
     },
     "execution_count": 10,
     "metadata": {},
     "output_type": "execute_result"
    }
   ],
   "source": [
    "df['make_model'].isnull().sum() #There is no missing data in this colomn."
   ]
  },
  {
   "cell_type": "code",
   "execution_count": 11,
   "id": "63cd5981",
   "metadata": {
    "scrolled": true
   },
   "outputs": [
    {
     "data": {
      "text/plain": [
       "Audi A3           3097\n",
       "Audi A1           2614\n",
       "Opel Insignia     2598\n",
       "Opel Astra        2526\n",
       "Opel Corsa        2219\n",
       "Renault Clio      1839\n",
       "Renault Espace     991\n",
       "Renault Duster      34\n",
       "Audi A2              1\n",
       "Name: make_model, dtype: int64"
      ]
     },
     "execution_count": 11,
     "metadata": {},
     "output_type": "execute_result"
    }
   ],
   "source": [
    "df['make_model'].value_counts() \n",
    "## I decided that it would be more appropriate to divide this part into two as brands and models."
   ]
  },
  {
   "cell_type": "code",
   "execution_count": 12,
   "id": "444213d8",
   "metadata": {},
   "outputs": [],
   "source": [
    "df['brand']=df['make_model'].str.split(' ').str[0]\n",
    "df['model']=df['make_model'].str.split(' ').str[1]"
   ]
  },
  {
   "cell_type": "code",
   "execution_count": 13,
   "id": "3a5014cc",
   "metadata": {},
   "outputs": [],
   "source": [
    "df.drop(columns='make_model',inplace=True)##We have dropped this column because we have taken the necessary actions."
   ]
  },
  {
   "cell_type": "markdown",
   "id": "15778ac8",
   "metadata": {},
   "source": [
    "# short_description"
   ]
  },
  {
   "cell_type": "code",
   "execution_count": 14,
   "id": "0865234c",
   "metadata": {},
   "outputs": [
    {
     "data": {
      "text/plain": [
       "46"
      ]
     },
     "execution_count": 14,
     "metadata": {},
     "output_type": "execute_result"
    }
   ],
   "source": [
    "df['short_description'].isnull().sum()\n"
   ]
  },
  {
   "cell_type": "code",
   "execution_count": 15,
   "id": "341f1fb9",
   "metadata": {},
   "outputs": [
    {
     "data": {
      "text/plain": [
       "5272                           Sedán 35 TDI S tronic 110kW\n",
       "14199             1.5 DCI 90 CV ENERGY BUSINESS NAVIGATORE\n",
       "8437              E 1.4 ON Easytr. *IntelliLink*Sitzh*PDC*\n",
       "8391            E drive 1.4 AT OPC-Line *5 Jahre Garantie*\n",
       "5190              SPB 30 TDI S tronic Business - Pra.66650\n",
       "11686    B ST Edition CDTi Freispr., Navi, Parkpilot v+...\n",
       "2566          Sportback 25 TFSI 95PS 5-Gang Navi Klima PDC\n",
       "8631     E Selection 1.2 Klimaanlage Allwetterreifen ES...\n",
       "12092                                Sports Tourer Edition\n",
       "3649                        Sportback 2.5 TFSI RS3 quattro\n",
       "12862       Sports Tourer Business Edition 2.0 CDTI EU6d-T\n",
       "7249                                   K 1,4 Turbo Dynamic\n",
       "10721                          2.0CDTI Excellence Aut. 170\n",
       "614                       Sportback Sport 1.4 TFSI 125 PS,\n",
       "9731     1.2 69cv B-COLOR - 5Porte - C.LEGA 16'' KM 35.152\n",
       "4721               SB Design FULL LED Scheinwerfer MY2018!\n",
       "6957                                     1.6 CDTI TEMP SHZ\n",
       "14671                                          Life TCe 75\n",
       "939               Adrenalin 1.0 TFSI 70kW (95CV) Sportback\n",
       "6453     1,0 Turbo ecoflex Direct Injection Cool&Sound St.\n",
       "Name: short_description, dtype: object"
      ]
     },
     "execution_count": 15,
     "metadata": {},
     "output_type": "execute_result"
    }
   ],
   "source": [
    "df.sample(20)['short_description']"
   ]
  },
  {
   "cell_type": "code",
   "execution_count": 16,
   "id": "0e64f692",
   "metadata": {},
   "outputs": [],
   "source": [
    "df.drop(columns='short_description',inplace=True)\n",
    "##Although this column contains a lot of information, \n",
    "##we also drop this colon because the information is scattered, complex and repeated in other colons."
   ]
  },
  {
   "cell_type": "markdown",
   "id": "06f59784",
   "metadata": {},
   "source": [
    "# body_type"
   ]
  },
  {
   "cell_type": "code",
   "execution_count": 17,
   "id": "dd7c36ad",
   "metadata": {},
   "outputs": [
    {
     "data": {
      "text/plain": [
       "60"
      ]
     },
     "execution_count": 17,
     "metadata": {},
     "output_type": "execute_result"
    }
   ],
   "source": [
    "df['body_type'].isnull().sum()"
   ]
  },
  {
   "cell_type": "code",
   "execution_count": 18,
   "id": "eeabe7ee",
   "metadata": {},
   "outputs": [
    {
     "data": {
      "text/plain": [
       "Sedans           7903\n",
       "Station wagon    3553\n",
       "Compact          3153\n",
       "Van               783\n",
       "Other             290\n",
       "Transporter        88\n",
       "Off-Road           56\n",
       "Coupe              25\n",
       "Convertible         8\n",
       "Name: body_type, dtype: int64"
      ]
     },
     "execution_count": 18,
     "metadata": {},
     "output_type": "execute_result"
    }
   ],
   "source": [
    "df['body_type'].value_counts()"
   ]
  },
  {
   "cell_type": "code",
   "execution_count": 19,
   "id": "9b528b81",
   "metadata": {},
   "outputs": [
    {
     "data": {
      "text/plain": [
       "6497     Station wagon\n",
       "52              Sedans\n",
       "13699           Sedans\n",
       "15532              Van\n",
       "2060           Compact\n",
       "9224           Compact\n",
       "4876            Sedans\n",
       "6020     Station wagon\n",
       "8567           Compact\n",
       "15387              Van\n",
       "13714           Sedans\n",
       "3433            Sedans\n",
       "2009            Sedans\n",
       "6170     Station wagon\n",
       "538            Compact\n",
       "14369           Sedans\n",
       "14921         Off-Road\n",
       "4577            Sedans\n",
       "10907           Sedans\n",
       "12887    Station wagon\n",
       "Name: body_type, dtype: object"
      ]
     },
     "execution_count": 19,
     "metadata": {},
     "output_type": "execute_result"
    }
   ],
   "source": [
    "df['body_type'].sample(20)\n",
    "##Since there is no information pollution in this part, we do not make changes on it."
   ]
  },
  {
   "cell_type": "markdown",
   "id": "af80a108",
   "metadata": {},
   "source": [
    "# price"
   ]
  },
  {
   "cell_type": "code",
   "execution_count": 20,
   "id": "7ec737af",
   "metadata": {},
   "outputs": [
    {
     "data": {
      "text/plain": [
       "0"
      ]
     },
     "execution_count": 20,
     "metadata": {},
     "output_type": "execute_result"
    }
   ],
   "source": [
    "df['price'].isnull().sum()\n",
    "##There is no missing value"
   ]
  },
  {
   "cell_type": "code",
   "execution_count": 21,
   "id": "5cb89635",
   "metadata": {},
   "outputs": [
    {
     "data": {
      "text/plain": [
       "8594        13\n",
       "8828       120\n",
       "6066       255\n",
       "8829       331\n",
       "8827      4950\n",
       "         ...  \n",
       "15828    64332\n",
       "3587     64900\n",
       "3649     67600\n",
       "15826    68320\n",
       "3648     74600\n",
       "Name: price, Length: 15919, dtype: int64"
      ]
     },
     "execution_count": 21,
     "metadata": {},
     "output_type": "execute_result"
    }
   ],
   "source": [
    "df['price'].sort_values()\n",
    "## Even though there are some inconsistent numbers,data in this column is clean."
   ]
  },
  {
   "cell_type": "markdown",
   "id": "5a562e1a",
   "metadata": {},
   "source": [
    "# vat"
   ]
  },
  {
   "cell_type": "code",
   "execution_count": 22,
   "id": "d0d0509e",
   "metadata": {},
   "outputs": [
    {
     "data": {
      "text/plain": [
       "4513"
      ]
     },
     "execution_count": 22,
     "metadata": {},
     "output_type": "execute_result"
    }
   ],
   "source": [
    "df['vat'].isnull().sum()\n",
    "## Almost 25% of the data is missing."
   ]
  },
  {
   "cell_type": "code",
   "execution_count": 23,
   "id": "098f94fb",
   "metadata": {},
   "outputs": [
    {
     "data": {
      "text/plain": [
       "VAT deductible      10980\n",
       "NaN                  4513\n",
       "Price negotiable      426\n",
       "Name: vat, dtype: int64"
      ]
     },
     "execution_count": 23,
     "metadata": {},
     "output_type": "execute_result"
    }
   ],
   "source": [
    "df['vat'].value_counts(dropna=False)"
   ]
  },
  {
   "cell_type": "code",
   "execution_count": 24,
   "id": "c7e3efed",
   "metadata": {},
   "outputs": [
    {
     "data": {
      "text/plain": [
       "11270              None\n",
       "2729               None\n",
       "10504    VAT deductible\n",
       "5202     VAT deductible\n",
       "10311    VAT deductible\n",
       "7922     VAT deductible\n",
       "5364     VAT deductible\n",
       "6939     VAT deductible\n",
       "11747              None\n",
       "10921              None\n",
       "4651     VAT deductible\n",
       "10906    VAT deductible\n",
       "2529     VAT deductible\n",
       "8183     VAT deductible\n",
       "2586               None\n",
       "15558    VAT deductible\n",
       "7602     VAT deductible\n",
       "8922     VAT deductible\n",
       "14813    VAT deductible\n",
       "14850    VAT deductible\n",
       "Name: vat, dtype: object"
      ]
     },
     "execution_count": 24,
     "metadata": {},
     "output_type": "execute_result"
    }
   ],
   "source": [
    "df.sample(20)['vat']\n",
    "##Even though there are some missing,there is no need to take any action for now."
   ]
  },
  {
   "cell_type": "markdown",
   "id": "861668e7",
   "metadata": {},
   "source": [
    "# km"
   ]
  },
  {
   "cell_type": "code",
   "execution_count": 25,
   "id": "9d7116ea",
   "metadata": {},
   "outputs": [
    {
     "data": {
      "text/plain": [
       "0"
      ]
     },
     "execution_count": 25,
     "metadata": {},
     "output_type": "execute_result"
    }
   ],
   "source": [
    "df['km'].isnull().sum()"
   ]
  },
  {
   "cell_type": "code",
   "execution_count": 26,
   "id": "376c4f31",
   "metadata": {},
   "outputs": [
    {
     "data": {
      "text/plain": [
       "5312           1 km\n",
       "8173          10 km\n",
       "5109          10 km\n",
       "13073     21,210 km\n",
       "13466     49,178 km\n",
       "12880          - km\n",
       "269        9,998 km\n",
       "231       25,000 km\n",
       "8732      55,000 km\n",
       "11267     14,069 km\n",
       "7675         300 km\n",
       "4570      19,440 km\n",
       "4375     131,900 km\n",
       "10330         10 km\n",
       "3713      45,846 km\n",
       "6399     229,500 km\n",
       "11243     45,848 km\n",
       "2143          10 km\n",
       "13433     23,724 km\n",
       "74         6,396 km\n",
       "Name: km, dtype: object"
      ]
     },
     "execution_count": 26,
     "metadata": {},
     "output_type": "execute_result"
    }
   ],
   "source": [
    "df.sample(20)['km']"
   ]
  },
  {
   "cell_type": "code",
   "execution_count": 27,
   "id": "47c5f182",
   "metadata": {
    "scrolled": true
   },
   "outputs": [
    {
     "data": {
      "text/plain": [
       "10 km        1045\n",
       "- km         1024\n",
       "1 km          367\n",
       "5 km          170\n",
       "50 km         148\n",
       "             ... \n",
       "67,469 km       1\n",
       "43,197 km       1\n",
       "10,027 km       1\n",
       "35,882 km       1\n",
       "57 km           1\n",
       "Name: km, Length: 6690, dtype: int64"
      ]
     },
     "execution_count": 27,
     "metadata": {},
     "output_type": "execute_result"
    }
   ],
   "source": [
    "df['km'].value_counts()"
   ]
  },
  {
   "cell_type": "code",
   "execution_count": 28,
   "id": "1d4a4272",
   "metadata": {},
   "outputs": [],
   "source": [
    "df['km']=df['km'].str.replace(',','').str.strip('km').str.strip('-').str.strip().replace(' ',np.nan)\n",
    "##In this part, we have completely converted the data into numerical data by removing the redundancy."
   ]
  },
  {
   "cell_type": "code",
   "execution_count": null,
   "id": "5b0c0f3d",
   "metadata": {},
   "outputs": [],
   "source": []
  },
  {
   "cell_type": "markdown",
   "id": "7ec225af",
   "metadata": {},
   "source": [
    "# registration"
   ]
  },
  {
   "cell_type": "code",
   "execution_count": 29,
   "id": "c880e85c",
   "metadata": {},
   "outputs": [
    {
     "data": {
      "text/plain": [
       "0"
      ]
     },
     "execution_count": 29,
     "metadata": {},
     "output_type": "execute_result"
    }
   ],
   "source": [
    "df['registration'].isnull().sum()"
   ]
  },
  {
   "cell_type": "code",
   "execution_count": 30,
   "id": "e770cf1a",
   "metadata": {},
   "outputs": [
    {
     "data": {
      "text/plain": [
       "-/-        1597\n",
       "03/2018     695\n",
       "02/2019     585\n",
       "05/2018     572\n",
       "03/2019     543\n",
       "01/2019     541\n",
       "04/2018     541\n",
       "02/2018     539\n",
       "03/2016     536\n",
       "04/2016     532\n",
       "06/2018     532\n",
       "01/2018     511\n",
       "04/2019     506\n",
       "02/2016     472\n",
       "03/2017     471\n",
       "05/2016     459\n",
       "06/2016     452\n",
       "05/2019     440\n",
       "06/2017     409\n",
       "05/2017     404\n",
       "07/2018     396\n",
       "04/2017     380\n",
       "01/2016     376\n",
       "02/2017     368\n",
       "01/2017     306\n",
       "08/2018     285\n",
       "06/2019     224\n",
       "07/2017     215\n",
       "11/2017     180\n",
       "07/2016     176\n",
       "10/2016     160\n",
       "10/2017     154\n",
       "09/2017     149\n",
       "11/2016     142\n",
       "09/2018     141\n",
       "09/2016     141\n",
       "12/2016     134\n",
       "12/2017     123\n",
       "08/2017     114\n",
       "11/2018     110\n",
       "12/2018     103\n",
       "10/2018      97\n",
       "08/2016      94\n",
       "07/2019       6\n",
       "09/2019       5\n",
       "08/2019       1\n",
       "11/2019       1\n",
       "12/2019       1\n",
       "Name: registration, dtype: int64"
      ]
     },
     "execution_count": 30,
     "metadata": {},
     "output_type": "execute_result"
    }
   ],
   "source": [
    "df['registration'].value_counts()"
   ]
  },
  {
   "cell_type": "code",
   "execution_count": 31,
   "id": "ab0e7037",
   "metadata": {},
   "outputs": [],
   "source": [
    "df['registration']=df['registration'].str.extract('(\\d{4})')\n",
    "## With this code we got rid of months and made it more convenient to calculate age"
   ]
  },
  {
   "cell_type": "code",
   "execution_count": 32,
   "id": "576653a0",
   "metadata": {},
   "outputs": [],
   "source": [
    "df['registration']=df['registration'].replace('-/- ',np.nan)\n",
    "## We regulated the missing values."
   ]
  },
  {
   "cell_type": "code",
   "execution_count": 33,
   "id": "20c4d1fb",
   "metadata": {},
   "outputs": [],
   "source": [
    "df['registration']=df['registration'].astype('float')\n",
    "## We are changing data type so we can calculate the 'age'"
   ]
  },
  {
   "cell_type": "code",
   "execution_count": 34,
   "id": "af34bb4d",
   "metadata": {},
   "outputs": [],
   "source": [
    "df['age']=df['registration'].transform(lambda x: 2019-x)"
   ]
  },
  {
   "cell_type": "code",
   "execution_count": 35,
   "id": "47ca90ff",
   "metadata": {},
   "outputs": [],
   "source": [
    "df.drop(columns='registration',inplace=True)\n",
    "## Since we have created the age column, we dropped the 'registration' "
   ]
  },
  {
   "cell_type": "markdown",
   "id": "617545b7",
   "metadata": {},
   "source": [
    "# prev_owner"
   ]
  },
  {
   "cell_type": "code",
   "execution_count": 36,
   "id": "a00e69d5",
   "metadata": {},
   "outputs": [
    {
     "data": {
      "text/plain": [
       "6828"
      ]
     },
     "execution_count": 36,
     "metadata": {},
     "output_type": "execute_result"
    }
   ],
   "source": [
    "df['prev_owner'].isnull().sum()"
   ]
  },
  {
   "cell_type": "code",
   "execution_count": 37,
   "id": "0f7acb74",
   "metadata": {},
   "outputs": [
    {
     "data": {
      "text/plain": [
       "1 previous owner     8294\n",
       "NaN                  6828\n",
       "2 previous owners     778\n",
       "3 previous owners      17\n",
       "4 previous owners       2\n",
       "Name: prev_owner, dtype: int64"
      ]
     },
     "execution_count": 37,
     "metadata": {},
     "output_type": "execute_result"
    }
   ],
   "source": [
    "df['prev_owner'].value_counts(dropna=False)\n",
    "## There are a lot of missing value,however we will deal that problem later."
   ]
  },
  {
   "cell_type": "code",
   "execution_count": 38,
   "id": "e3d20679",
   "metadata": {},
   "outputs": [],
   "source": [
    "df['prev_owner']=df['prev_owner'].str.extract('(\\d)')\n",
    "## We turned object data to numerical data."
   ]
  },
  {
   "cell_type": "markdown",
   "id": "13ed19ae",
   "metadata": {},
   "source": [
    "# hp"
   ]
  },
  {
   "cell_type": "code",
   "execution_count": 39,
   "id": "931fab02",
   "metadata": {},
   "outputs": [
    {
     "data": {
      "text/plain": [
       "0"
      ]
     },
     "execution_count": 39,
     "metadata": {},
     "output_type": "execute_result"
    }
   ],
   "source": [
    "df['hp'].isnull().sum()"
   ]
  },
  {
   "cell_type": "code",
   "execution_count": 40,
   "id": "5ccb464d",
   "metadata": {},
   "outputs": [
    {
     "data": {
      "text/plain": [
       "85 kW     2542\n",
       "66 kW     2122\n",
       "81 kW     1402\n",
       "100 kW    1308\n",
       "110 kW    1112\n",
       "          ... \n",
       "84 kW        1\n",
       "195 kW       1\n",
       "44 kW        1\n",
       "239 kW       1\n",
       "9 kW         1\n",
       "Name: hp, Length: 81, dtype: int64"
      ]
     },
     "execution_count": 40,
     "metadata": {},
     "output_type": "execute_result"
    }
   ],
   "source": [
    "df['hp'].value_counts(dropna=False)"
   ]
  },
  {
   "cell_type": "code",
   "execution_count": 41,
   "id": "595dae3a",
   "metadata": {},
   "outputs": [
    {
     "data": {
      "text/plain": [
       "88"
      ]
     },
     "execution_count": 41,
     "metadata": {},
     "output_type": "execute_result"
    }
   ],
   "source": [
    "df['hp'].str.contains('-').sum()\n",
    "# there are some missing values but not much."
   ]
  },
  {
   "cell_type": "code",
   "execution_count": 42,
   "id": "aefa180d",
   "metadata": {},
   "outputs": [],
   "source": [
    "df['hp']=df['hp'].str.strip('kW').str.strip().replace('-',np.nan)\n",
    "## We regulated data and changed the missing values."
   ]
  },
  {
   "cell_type": "markdown",
   "id": "b22b3f1a",
   "metadata": {},
   "source": [
    "# Type"
   ]
  },
  {
   "cell_type": "code",
   "execution_count": 43,
   "id": "f72d8f52",
   "metadata": {},
   "outputs": [
    {
     "data": {
      "text/plain": [
       "0    [, Used, , Diesel (Particulate Filter)]\n",
       "1                       [, Used, , Gasoline]\n",
       "2    [, Used, , Diesel (Particulate Filter)]\n",
       "3    [, Used, , Diesel (Particulate Filter)]\n",
       "4    [, Used, , Diesel (Particulate Filter)]\n",
       "5    [, Used, , Diesel (Particulate Filter)]\n",
       "6    [, Used, , Diesel (Particulate Filter)]\n",
       "7    [, Used, , Diesel (Particulate Filter)]\n",
       "8    [, Used, , Diesel (Particulate Filter)]\n",
       "9                       [, Used, , Gasoline]\n",
       "Name: Type, dtype: object"
      ]
     },
     "execution_count": 43,
     "metadata": {},
     "output_type": "execute_result"
    }
   ],
   "source": [
    "df.iloc[:10]['Type']\n",
    "## There is already column in the dataset about fuel-type thus in this column we are just going to take car type."
   ]
  },
  {
   "cell_type": "code",
   "execution_count": 44,
   "id": "6255a80f",
   "metadata": {},
   "outputs": [],
   "source": [
    "df['Type']=df['Type'].str[1]"
   ]
  },
  {
   "cell_type": "code",
   "execution_count": 45,
   "id": "d81decac",
   "metadata": {},
   "outputs": [
    {
     "data": {
      "text/plain": [
       "Used              11096\n",
       "New                1650\n",
       "Pre-registered     1364\n",
       "Employee's car     1011\n",
       "Demonstration       796\n",
       "NaN                   2\n",
       "Name: Type, dtype: int64"
      ]
     },
     "execution_count": 45,
     "metadata": {},
     "output_type": "execute_result"
    }
   ],
   "source": [
    "df['Type'].value_counts(dropna=False)"
   ]
  },
  {
   "cell_type": "markdown",
   "id": "6ca247c6",
   "metadata": {},
   "source": [
    "# Previous Owners"
   ]
  },
  {
   "cell_type": "code",
   "execution_count": 46,
   "id": "66fe21c4",
   "metadata": {},
   "outputs": [
    {
     "data": {
      "text/html": [
       "<div>\n",
       "<style scoped>\n",
       "    .dataframe tbody tr th:only-of-type {\n",
       "        vertical-align: middle;\n",
       "    }\n",
       "\n",
       "    .dataframe tbody tr th {\n",
       "        vertical-align: top;\n",
       "    }\n",
       "\n",
       "    .dataframe thead th {\n",
       "        text-align: right;\n",
       "    }\n",
       "</style>\n",
       "<table border=\"1\" class=\"dataframe\">\n",
       "  <thead>\n",
       "    <tr style=\"text-align: right;\">\n",
       "      <th></th>\n",
       "      <th>Previous Owners</th>\n",
       "      <th>prev_owner</th>\n",
       "    </tr>\n",
       "  </thead>\n",
       "  <tbody>\n",
       "    <tr>\n",
       "      <th>0</th>\n",
       "      <td>\\n2\\n</td>\n",
       "      <td>2</td>\n",
       "    </tr>\n",
       "    <tr>\n",
       "      <th>1</th>\n",
       "      <td>NaN</td>\n",
       "      <td>NaN</td>\n",
       "    </tr>\n",
       "    <tr>\n",
       "      <th>2</th>\n",
       "      <td>\\n1\\n</td>\n",
       "      <td>1</td>\n",
       "    </tr>\n",
       "    <tr>\n",
       "      <th>3</th>\n",
       "      <td>\\n1\\n</td>\n",
       "      <td>1</td>\n",
       "    </tr>\n",
       "    <tr>\n",
       "      <th>4</th>\n",
       "      <td>\\n1\\n</td>\n",
       "      <td>1</td>\n",
       "    </tr>\n",
       "    <tr>\n",
       "      <th>...</th>\n",
       "      <td>...</td>\n",
       "      <td>...</td>\n",
       "    </tr>\n",
       "    <tr>\n",
       "      <th>15914</th>\n",
       "      <td>NaN</td>\n",
       "      <td>NaN</td>\n",
       "    </tr>\n",
       "    <tr>\n",
       "      <th>15915</th>\n",
       "      <td>[\\n1\\n, \\n, 7.4 l/100 km (comb), \\n, 9.2 l/100...</td>\n",
       "      <td>1</td>\n",
       "    </tr>\n",
       "    <tr>\n",
       "      <th>15916</th>\n",
       "      <td>[\\n1\\n, \\n139 g CO2/km (comb)\\n]</td>\n",
       "      <td>1</td>\n",
       "    </tr>\n",
       "    <tr>\n",
       "      <th>15917</th>\n",
       "      <td>NaN</td>\n",
       "      <td>NaN</td>\n",
       "    </tr>\n",
       "    <tr>\n",
       "      <th>15918</th>\n",
       "      <td>\\n1\\n</td>\n",
       "      <td>1</td>\n",
       "    </tr>\n",
       "  </tbody>\n",
       "</table>\n",
       "<p>15919 rows × 2 columns</p>\n",
       "</div>"
      ],
      "text/plain": [
       "                                         Previous Owners prev_owner\n",
       "0                                                  \\n2\\n          2\n",
       "1                                                    NaN        NaN\n",
       "2                                                  \\n1\\n          1\n",
       "3                                                  \\n1\\n          1\n",
       "4                                                  \\n1\\n          1\n",
       "...                                                  ...        ...\n",
       "15914                                                NaN        NaN\n",
       "15915  [\\n1\\n, \\n, 7.4 l/100 km (comb), \\n, 9.2 l/100...          1\n",
       "15916                   [\\n1\\n, \\n139 g CO2/km (comb)\\n]          1\n",
       "15917                                                NaN        NaN\n",
       "15918                                              \\n1\\n          1\n",
       "\n",
       "[15919 rows x 2 columns]"
      ]
     },
     "execution_count": 46,
     "metadata": {},
     "output_type": "execute_result"
    }
   ],
   "source": [
    "df[['Previous Owners','prev_owner']]\n"
   ]
  },
  {
   "cell_type": "code",
   "execution_count": 47,
   "id": "3c7b3a6d",
   "metadata": {},
   "outputs": [],
   "source": [
    "df.drop(columns='Previous Owners',inplace=True)\n",
    "## There is already 'prev_owner' column,which is same with 'Previous Owners' ,so we are dropping this column."
   ]
  },
  {
   "cell_type": "markdown",
   "id": "a590da4b",
   "metadata": {},
   "source": [
    "# Next Inspection"
   ]
  },
  {
   "cell_type": "code",
   "execution_count": 48,
   "id": "c51d1611",
   "metadata": {},
   "outputs": [
    {
     "data": {
      "text/plain": [
       "nan                                           12384\n",
       "\\n04/2022\\n                                      62\n",
       "\\n03/2021\\n                                      38\n",
       "\\n03/2022\\n                                      36\n",
       "\\n06/2021\\n                                      34\n",
       "                                              ...  \n",
       "['\\n12/2018\\n', '\\n97 g CO2/km (comb)\\n']         1\n",
       "['\\n03/2022\\n', '\\n1 (No sticker)\\n']             1\n",
       "['\\n05/2021\\n', '\\n93 g CO2/km (comb)\\n']         1\n",
       "['\\n06/2021\\n', '\\n93 g CO2/km (comb)\\n']         1\n",
       "['\\n01/2022\\n', '\\n168 g CO2/km (comb)\\n']        1\n",
       "Name: Next Inspection, Length: 1400, dtype: int64"
      ]
     },
     "execution_count": 48,
     "metadata": {},
     "output_type": "execute_result"
    }
   ],
   "source": [
    "df['Next Inspection'].astype('str').value_counts(dropna=False)\n",
    "##because of list values,this code will raise a error"
   ]
  },
  {
   "cell_type": "code",
   "execution_count": 49,
   "id": "aa21ca7a",
   "metadata": {},
   "outputs": [],
   "source": [
    "df['Next Inspection']=df['Next Inspection'].transform(lambda x: x[0] if type(x)==list else x)   \n",
    "## First we deleted the list format and unnecessary information in the data "
   ]
  },
  {
   "cell_type": "code",
   "execution_count": 50,
   "id": "e27e35db",
   "metadata": {},
   "outputs": [
    {
     "data": {
      "text/plain": [
       "NaN            12384\n",
       "\\n06/2021\\n      471\n",
       "\\n03/2021\\n      210\n",
       "\\n05/2021\\n      180\n",
       "\\n04/2021\\n      171\n",
       "               ...  \n",
       "\\n05/2014\\n        1\n",
       "\\n04/2016\\n        1\n",
       "\\n01/1955\\n        1\n",
       "\\n01/2018\\n        1\n",
       "\\n11/2022\\n        1\n",
       "Name: Next Inspection, Length: 78, dtype: int64"
      ]
     },
     "execution_count": 50,
     "metadata": {},
     "output_type": "execute_result"
    }
   ],
   "source": [
    "df['Next Inspection'].value_counts(dropna=False)\n",
    "#in this column,there are many missing values but right now we are just cleaning the data "
   ]
  },
  {
   "cell_type": "code",
   "execution_count": 51,
   "id": "6793db8a",
   "metadata": {},
   "outputs": [],
   "source": [
    "df['Next Inspection']=df['Next Inspection'].str.extract('(\\d{4})')"
   ]
  },
  {
   "cell_type": "code",
   "execution_count": 52,
   "id": "13832a05",
   "metadata": {},
   "outputs": [
    {
     "data": {
      "text/plain": [
       "NaN     12384\n",
       "2021     1601\n",
       "2020      694\n",
       "2022      688\n",
       "2019      438\n",
       "2023       47\n",
       "2018       38\n",
       "2017       13\n",
       "2016        6\n",
       "2001        5\n",
       "1999        1\n",
       "1955        1\n",
       "2014        1\n",
       "1921        1\n",
       "2024        1\n",
       "Name: Next Inspection, dtype: int64"
      ]
     },
     "execution_count": 52,
     "metadata": {},
     "output_type": "execute_result"
    }
   ],
   "source": [
    "df['Next Inspection'].value_counts(dropna=False)\n",
    "## we cleaned the data,but there are too many missing values so we will drop it."
   ]
  },
  {
   "cell_type": "code",
   "execution_count": 53,
   "id": "7084e73e",
   "metadata": {},
   "outputs": [],
   "source": [
    "df.drop(columns='Next Inspection',inplace=True)"
   ]
  },
  {
   "cell_type": "markdown",
   "id": "2ecbaf1c",
   "metadata": {},
   "source": [
    "# Inspection new"
   ]
  },
  {
   "cell_type": "code",
   "execution_count": 54,
   "id": "9dcc0aa3",
   "metadata": {},
   "outputs": [
    {
     "data": {
      "text/plain": [
       "nan                                                                                                            11987\n",
       "['\\nYes\\n', '\\nEuro 6\\n']                                                                                        523\n",
       "\\nYes\\n                                                                                                          362\n",
       "['\\nYes\\n', '\\n102 g CO2/km (comb)\\n']                                                                           174\n",
       "['\\nYes\\n', '\\n4 (Green)\\n']                                                                                     166\n",
       "                                                                                                               ...  \n",
       "['\\nYes\\n', '\\n', '6 l/100 km (comb)', '\\n', '8 l/100 km (city)', '\\n', '4.9 l/100 km (country)', '\\n']            1\n",
       "['\\nYes\\n', '\\n', '6.8 l/100 km (comb)', '\\n', '8.5 l/100 km (city)', '\\n', '6.1 l/100 km (country)', '\\n']        1\n",
       "['\\nYes\\n', '\\n', '4.1 l/100 km (comb)', '\\n', '7.5 l/100 km (city)', '\\n', '5.2 l/100 km (country)', '\\n']        1\n",
       "['\\nYes\\n', '\\n', '5.2 l/100 km (comb)', '\\n', '6.8 l/100 km (city)', '\\n', '4.3 l/100 km (country)', '\\n']        1\n",
       "['\\nYes\\n', '\\n172 g CO2/km (comb)\\n']                                                                             1\n",
       "Name: Inspection new, Length: 203, dtype: int64"
      ]
     },
     "execution_count": 54,
     "metadata": {},
     "output_type": "execute_result"
    }
   ],
   "source": [
    "df['Inspection new'].astype('str').value_counts(dropna=False)\n"
   ]
  },
  {
   "cell_type": "code",
   "execution_count": 55,
   "id": "e98f6c5f",
   "metadata": {},
   "outputs": [],
   "source": [
    "df['Inspection new']=df['Inspection new'].transform(lambda x: x[0] if type(x)==list else x)\n",
    "## In this column,there are information about 'Fuel Consumption' and 'CO2 Emission' \n",
    "##  since there is already columns about these information, we are just going to take   beginning of rows."
   ]
  },
  {
   "cell_type": "code",
   "execution_count": 56,
   "id": "b082c028",
   "metadata": {},
   "outputs": [
    {
     "data": {
      "text/plain": [
       "NaN        11987\n",
       "\\nYes\\n     3932\n",
       "Name: Inspection new, dtype: int64"
      ]
     },
     "execution_count": 56,
     "metadata": {},
     "output_type": "execute_result"
    }
   ],
   "source": [
    "df['Inspection new'].value_counts(dropna=False)"
   ]
  },
  {
   "cell_type": "code",
   "execution_count": 57,
   "id": "3d6834e2",
   "metadata": {},
   "outputs": [],
   "source": [
    "df['Inspection new']=df['Inspection new'].str.strip('\\n')"
   ]
  },
  {
   "cell_type": "code",
   "execution_count": 58,
   "id": "ced01a84",
   "metadata": {},
   "outputs": [
    {
     "data": {
      "text/plain": [
       "NaN    11987\n",
       "Yes     3932\n",
       "Name: Inspection new, dtype: int64"
      ]
     },
     "execution_count": 58,
     "metadata": {},
     "output_type": "execute_result"
    }
   ],
   "source": [
    "df['Inspection new'].value_counts(dropna=False)\n",
    "##There is too many missing values so  I decided to drop this column."
   ]
  },
  {
   "cell_type": "code",
   "execution_count": 59,
   "id": "77bdb20e",
   "metadata": {},
   "outputs": [],
   "source": [
    "df.drop(columns='Inspection new',inplace=True)"
   ]
  },
  {
   "cell_type": "markdown",
   "id": "c2225bc8",
   "metadata": {},
   "source": [
    "# Warranty"
   ]
  },
  {
   "cell_type": "code",
   "execution_count": 60,
   "id": "a263b127",
   "metadata": {
    "scrolled": true
   },
   "outputs": [
    {
     "data": {
      "text/plain": [
       "4262                         [\\n, \\n, \\nEuro 6\\n]\n",
       "15786                  [\\n, \\n, \\nEuro 6d-TEMP\\n]\n",
       "14938    [\\n12 months\\n, \\n123 g CO2/km (comb)\\n]\n",
       "1972                                           \\n\n",
       "11778                                         NaN\n",
       "4944                  [\\n12 months\\n, \\nEuro 6\\n]\n",
       "10582                                         NaN\n",
       "5563                                           \\n\n",
       "15086                                         NaN\n",
       "1868                                \\n48 months\\n\n",
       "11994                                    [\\n, \\n]\n",
       "11524                                         NaN\n",
       "11017                                         NaN\n",
       "8932                                          NaN\n",
       "6228                                          NaN\n",
       "Name: Warranty, dtype: object"
      ]
     },
     "execution_count": 60,
     "metadata": {},
     "output_type": "execute_result"
    }
   ],
   "source": [
    "df.sample(15)['Warranty']"
   ]
  },
  {
   "cell_type": "code",
   "execution_count": 61,
   "id": "dd8ee8e5",
   "metadata": {},
   "outputs": [
    {
     "data": {
      "text/plain": [
       "nan                                                                                                                5420\n",
       "['\\n', '\\n', '\\nEuro 6\\n']                                                                                         1868\n",
       "\\n12 months\\n                                                                                                      1177\n",
       "\\n                                                                                                                  979\n",
       "\\n24 months\\n                                                                                                       566\n",
       "                                                                                                                   ... \n",
       "['\\n72 months\\n', '\\n125 g CO2/km (comb)\\n']                                                                          1\n",
       "['\\n60 months\\n', '\\n14 g CO2/km (comb)\\n']                                                                           1\n",
       "['\\n24 months\\n', '\\n121 g CO2/km (comb)\\n']                                                                          1\n",
       "['\\n12 months\\n', '\\nEuro 6d\\n']                                                                                      1\n",
       "['\\n36 months\\n', '\\n', '7.4 l/100 km (comb)', '\\n', '9.6 l/100 km (city)', '\\n', '6 l/100 km (country)', '\\n']       1\n",
       "Name: Warranty, Length: 516, dtype: int64"
      ]
     },
     "execution_count": 61,
     "metadata": {},
     "output_type": "execute_result"
    }
   ],
   "source": [
    "df['Warranty'].astype('str').value_counts(dropna=False)"
   ]
  },
  {
   "cell_type": "code",
   "execution_count": 62,
   "id": "7836c997",
   "metadata": {},
   "outputs": [],
   "source": [
    "df['Warranty']=df['Warranty'].transform(lambda x: x[0] if type(x)==list else x)"
   ]
  },
  {
   "cell_type": "code",
   "execution_count": 63,
   "id": "6538bb18",
   "metadata": {},
   "outputs": [
    {
     "data": {
      "text/plain": [
       "\\n               5645\n",
       "NaN              5420\n",
       "\\n12 months\\n    2594\n",
       "\\n24 months\\n    1118\n",
       "\\n60 months\\n     401\n",
       "\\n36 months\\n     279\n",
       "\\n48 months\\n     149\n",
       "\\n6 months\\n      125\n",
       "\\n72 months\\n      59\n",
       "\\n3 months\\n       33\n",
       "\\n23 months\\n      11\n",
       "\\n18 months\\n      10\n",
       "\\n20 months\\n       7\n",
       "\\n25 months\\n       6\n",
       "\\n2 months\\n        5\n",
       "\\n50 months\\n       4\n",
       "\\n26 months\\n       4\n",
       "\\n16 months\\n       4\n",
       "\\n1 months\\n        3\n",
       "\\n19 months\\n       3\n",
       "\\n4 months\\n        3\n",
       "\\n34 months\\n       3\n",
       "\\n13 months\\n       3\n",
       "\\n17 months\\n       2\n",
       "\\n45 months\\n       2\n",
       "\\n9 months\\n        2\n",
       "\\n21 months\\n       2\n",
       "\\n14 months\\n       2\n",
       "\\n28 months\\n       2\n",
       "\\n11 months\\n       2\n",
       "\\n22 months\\n       2\n",
       "\\n46 months\\n       2\n",
       "\\n10 months\\n       1\n",
       "\\n8 months\\n        1\n",
       "\\n7 months\\n        1\n",
       "\\n15 months\\n       1\n",
       "                    1\n",
       "\\n56 months\\n       1\n",
       "\\n49 months\\n       1\n",
       "\\n65 months\\n       1\n",
       "\\n47 months\\n       1\n",
       "\\n33 months\\n       1\n",
       "\\n40 months\\n       1\n",
       "\\n30 months\\n       1\n",
       "Name: Warranty, dtype: int64"
      ]
     },
     "execution_count": 63,
     "metadata": {},
     "output_type": "execute_result"
    }
   ],
   "source": [
    "df['Warranty'].value_counts(dropna=False)"
   ]
  },
  {
   "cell_type": "code",
   "execution_count": 64,
   "id": "f4351033",
   "metadata": {},
   "outputs": [],
   "source": [
    "df['Warranty']=df['Warranty'].str.strip('\\n').str.strip(' ').replace('',np.nan).str.strip('months')"
   ]
  },
  {
   "cell_type": "code",
   "execution_count": 65,
   "id": "b0aad46e",
   "metadata": {},
   "outputs": [
    {
     "data": {
      "text/plain": [
       "NaN    11066\n",
       "12      2594\n",
       "24      1118\n",
       "60       401\n",
       "36       279\n",
       "48       149\n",
       "6        125\n",
       "72        59\n",
       "3         33\n",
       "23        11\n",
       "18        10\n",
       "20         7\n",
       "25         6\n",
       "2          5\n",
       "50         4\n",
       "26         4\n",
       "16         4\n",
       "4          3\n",
       "1          3\n",
       "19         3\n",
       "34         3\n",
       "13         3\n",
       "28         2\n",
       "22         2\n",
       "14         2\n",
       "11         2\n",
       "46         2\n",
       "21         2\n",
       "9          2\n",
       "17         2\n",
       "45         2\n",
       "33         1\n",
       "40         1\n",
       "65         1\n",
       "10         1\n",
       "15         1\n",
       "7          1\n",
       "8          1\n",
       "56         1\n",
       "49         1\n",
       "47         1\n",
       "30         1\n",
       "Name: Warranty, dtype: int64"
      ]
     },
     "execution_count": 65,
     "metadata": {},
     "output_type": "execute_result"
    }
   ],
   "source": [
    "df['Warranty'].value_counts(dropna=False)\n",
    "## Even thought there are  a lot of missing values,data has been cleaned."
   ]
  },
  {
   "cell_type": "markdown",
   "id": "8cf04375",
   "metadata": {},
   "source": [
    "# Full Service"
   ]
  },
  {
   "cell_type": "code",
   "execution_count": 66,
   "id": "f00c23e4",
   "metadata": {},
   "outputs": [
    {
     "data": {
      "text/plain": [
       "nan                                                                                                             7704\n",
       "['\\n', '\\n', '\\n4 (Green)\\n']                                                                                   2235\n",
       "['\\n', '\\n', '\\nEuro 6\\n']                                                                                      2097\n",
       "['\\n', '\\n']                                                                                                    1702\n",
       "['\\n', '\\n', '\\nEuro 6d-TEMP\\n']                                                                                 399\n",
       "                                                                                                                ... \n",
       "['\\n', '\\n', '\\n80 g CO2/km (comb)\\n']                                                                             1\n",
       "['\\n', '\\n', '\\n84 g CO2/km (comb)\\n']                                                                             1\n",
       "['\\n', '\\n', '\\n', '6 l/100 km (comb)', '\\n', '8 l/100 km (city)', '\\n', '4.9 l/100 km (country)', '\\n']           1\n",
       "['\\n', '\\n', '\\n', '4.9 l/100 km (comb)', '\\n', '6.2 l/100 km (city)', '\\n', '4.1 l/100 km (country)', '\\n']       1\n",
       "['\\n', '\\n', '\\nEuro 4\\n']                                                                                         1\n",
       "Name: Full Service, Length: 123, dtype: int64"
      ]
     },
     "execution_count": 66,
     "metadata": {},
     "output_type": "execute_result"
    }
   ],
   "source": [
    "df['Full Service'].astype('str').value_counts(dropna=False)"
   ]
  },
  {
   "cell_type": "code",
   "execution_count": 67,
   "id": "39c361ce",
   "metadata": {},
   "outputs": [],
   "source": [
    "df.drop(columns='Full Service',inplace=True)\n",
    "##Almost all of data has no meaning,data with any meaning is repeated in other columns.\n",
    "##Because of this ,we dropped this column."
   ]
  },
  {
   "cell_type": "markdown",
   "id": "35237b4e",
   "metadata": {},
   "source": [
    "# Non-smoking Vehicle"
   ]
  },
  {
   "cell_type": "code",
   "execution_count": 68,
   "id": "e2a43c2d",
   "metadata": {},
   "outputs": [
    {
     "data": {
      "text/plain": [
       "nan                                                                                                             8742\n",
       "['\\n', '\\n']                                                                                                    3647\n",
       "['\\n', '\\n', '\\n4 (Green)\\n']                                                                                   1240\n",
       "['\\n', '\\n', '\\nEuro 6\\n']                                                                                      1127\n",
       "['\\n', '\\n', '\\nEuro 6d-TEMP\\n']                                                                                 345\n",
       "                                                                                                                ... \n",
       "['\\n', '\\n', '\\n', '5.6 l/100 km (comb)', '\\n', '7.3 l/100 km (city)', '\\n', '4.7 l/100 km (country)', '\\n']       1\n",
       "['\\n', '\\n', '\\n122 g CO2/km (comb)\\n']                                                                            1\n",
       "['\\n', '\\n', '\\n158 g CO2/km (comb)\\n']                                                                            1\n",
       "['\\n', '\\n', '\\n150 g CO2/km (comb)\\n']                                                                            1\n",
       "['\\n', '\\n', '\\n175 g CO2/km (comb)\\n']                                                                            1\n",
       "Name: Non-smoking Vehicle, Length: 95, dtype: int64"
      ]
     },
     "execution_count": 68,
     "metadata": {},
     "output_type": "execute_result"
    }
   ],
   "source": [
    "df['Non-smoking Vehicle'].astype('str').value_counts(dropna=False)"
   ]
  },
  {
   "cell_type": "code",
   "execution_count": 69,
   "id": "de0ecae0",
   "metadata": {},
   "outputs": [],
   "source": [
    "df.drop(columns='Non-smoking Vehicle',inplace=True)\n",
    "##There is no meaningful data in this column so we dropped it."
   ]
  },
  {
   "cell_type": "markdown",
   "id": "34ba9a13",
   "metadata": {},
   "source": [
    "# null"
   ]
  },
  {
   "cell_type": "code",
   "execution_count": 70,
   "id": "d2ed1b5c",
   "metadata": {},
   "outputs": [
    {
     "data": {
      "text/plain": [
       "[]    15919\n",
       "Name: null, dtype: int64"
      ]
     },
     "execution_count": 70,
     "metadata": {},
     "output_type": "execute_result"
    }
   ],
   "source": [
    "df['null'].astype('str').value_counts(dropna=False)"
   ]
  },
  {
   "cell_type": "code",
   "execution_count": 71,
   "id": "af199e33",
   "metadata": {},
   "outputs": [],
   "source": [
    "df.drop(columns='null',inplace=True)\n",
    "##Data completely empty,so we droppe"
   ]
  },
  {
   "cell_type": "markdown",
   "id": "bde6656f",
   "metadata": {},
   "source": [
    "# Make and Model"
   ]
  },
  {
   "cell_type": "code",
   "execution_count": 72,
   "id": "fd5dddc0",
   "metadata": {},
   "outputs": [
    {
     "data": {
      "text/html": [
       "<div>\n",
       "<style scoped>\n",
       "    .dataframe tbody tr th:only-of-type {\n",
       "        vertical-align: middle;\n",
       "    }\n",
       "\n",
       "    .dataframe tbody tr th {\n",
       "        vertical-align: top;\n",
       "    }\n",
       "\n",
       "    .dataframe thead th {\n",
       "        text-align: right;\n",
       "    }\n",
       "</style>\n",
       "<table border=\"1\" class=\"dataframe\">\n",
       "  <thead>\n",
       "    <tr style=\"text-align: right;\">\n",
       "      <th></th>\n",
       "      <th>Make</th>\n",
       "      <th>Model</th>\n",
       "      <th>brand</th>\n",
       "      <th>model</th>\n",
       "    </tr>\n",
       "  </thead>\n",
       "  <tbody>\n",
       "    <tr>\n",
       "      <th>3154</th>\n",
       "      <td>\\nAudi\\n</td>\n",
       "      <td>[\\n, A3, \\n]</td>\n",
       "      <td>Audi</td>\n",
       "      <td>A3</td>\n",
       "    </tr>\n",
       "    <tr>\n",
       "      <th>15875</th>\n",
       "      <td>\\nRenault\\n</td>\n",
       "      <td>[\\n, Espace, \\n]</td>\n",
       "      <td>Renault</td>\n",
       "      <td>Espace</td>\n",
       "    </tr>\n",
       "    <tr>\n",
       "      <th>5360</th>\n",
       "      <td>\\nAudi\\n</td>\n",
       "      <td>[\\n, A3, \\n]</td>\n",
       "      <td>Audi</td>\n",
       "      <td>A3</td>\n",
       "    </tr>\n",
       "    <tr>\n",
       "      <th>14289</th>\n",
       "      <td>\\nRenault\\n</td>\n",
       "      <td>[\\n, Clio, \\n]</td>\n",
       "      <td>Renault</td>\n",
       "      <td>Clio</td>\n",
       "    </tr>\n",
       "    <tr>\n",
       "      <th>6923</th>\n",
       "      <td>\\nOpel\\n</td>\n",
       "      <td>[\\n, Astra, \\n]</td>\n",
       "      <td>Opel</td>\n",
       "      <td>Astra</td>\n",
       "    </tr>\n",
       "    <tr>\n",
       "      <th>13482</th>\n",
       "      <td>\\nRenault\\n</td>\n",
       "      <td>[\\n, Clio, \\n]</td>\n",
       "      <td>Renault</td>\n",
       "      <td>Clio</td>\n",
       "    </tr>\n",
       "    <tr>\n",
       "      <th>1030</th>\n",
       "      <td>\\nAudi\\n</td>\n",
       "      <td>[\\n, A1, \\n]</td>\n",
       "      <td>Audi</td>\n",
       "      <td>A1</td>\n",
       "    </tr>\n",
       "    <tr>\n",
       "      <th>5537</th>\n",
       "      <td>\\nAudi\\n</td>\n",
       "      <td>[\\n, A3, \\n]</td>\n",
       "      <td>Audi</td>\n",
       "      <td>A3</td>\n",
       "    </tr>\n",
       "    <tr>\n",
       "      <th>9990</th>\n",
       "      <td>\\nOpel\\n</td>\n",
       "      <td>[\\n, Corsa, \\n]</td>\n",
       "      <td>Opel</td>\n",
       "      <td>Corsa</td>\n",
       "    </tr>\n",
       "    <tr>\n",
       "      <th>3121</th>\n",
       "      <td>\\nAudi\\n</td>\n",
       "      <td>[\\n, A3, \\n]</td>\n",
       "      <td>Audi</td>\n",
       "      <td>A3</td>\n",
       "    </tr>\n",
       "  </tbody>\n",
       "</table>\n",
       "</div>"
      ],
      "text/plain": [
       "              Make             Model    brand   model\n",
       "3154      \\nAudi\\n      [\\n, A3, \\n]     Audi      A3\n",
       "15875  \\nRenault\\n  [\\n, Espace, \\n]  Renault  Espace\n",
       "5360      \\nAudi\\n      [\\n, A3, \\n]     Audi      A3\n",
       "14289  \\nRenault\\n    [\\n, Clio, \\n]  Renault    Clio\n",
       "6923      \\nOpel\\n   [\\n, Astra, \\n]     Opel   Astra\n",
       "13482  \\nRenault\\n    [\\n, Clio, \\n]  Renault    Clio\n",
       "1030      \\nAudi\\n      [\\n, A1, \\n]     Audi      A1\n",
       "5537      \\nAudi\\n      [\\n, A3, \\n]     Audi      A3\n",
       "9990      \\nOpel\\n   [\\n, Corsa, \\n]     Opel   Corsa\n",
       "3121      \\nAudi\\n      [\\n, A3, \\n]     Audi      A3"
      ]
     },
     "execution_count": 72,
     "metadata": {},
     "output_type": "execute_result"
    }
   ],
   "source": [
    "df[['Make', 'Model','brand','model']].sample(10)"
   ]
  },
  {
   "cell_type": "code",
   "execution_count": 73,
   "id": "74c61d30",
   "metadata": {},
   "outputs": [],
   "source": [
    "df.drop(columns=['Make', 'Model'],inplace=True)\n",
    "## We already created 'brand' and 'model' columns ,\n",
    "##which have the same information 'Make' and 'Model' has , so we dropped these columns."
   ]
  },
  {
   "cell_type": "markdown",
   "id": "ecfb7e29",
   "metadata": {},
   "source": [
    "# Offer Number"
   ]
  },
  {
   "cell_type": "code",
   "execution_count": 74,
   "id": "75cd580d",
   "metadata": {},
   "outputs": [
    {
     "data": {
      "text/plain": [
       "nan                                                 3175\n",
       "['\\nLT67679\\n']                                       27\n",
       "['\\nUN89904\\n']                                       27\n",
       "['\\nXJ38068\\n']                                       27\n",
       "['\\nJV03654\\n']                                       27\n",
       "                                                    ... \n",
       "['\\n160_dcbb6c3e-a6da-43a3-8754-ccd994cec93b\\n']       1\n",
       "['\\n6701576\\n']                                        1\n",
       "['\\n6701569\\n']                                        1\n",
       "['\\n158121\\n']                                         1\n",
       "['\\nRe_30000008029\\n']                                 1\n",
       "Name: Offer Number, Length: 11441, dtype: int64"
      ]
     },
     "execution_count": 74,
     "metadata": {},
     "output_type": "execute_result"
    }
   ],
   "source": [
    "df['Offer Number'].astype('str').value_counts(dropna=False)"
   ]
  },
  {
   "cell_type": "code",
   "execution_count": 75,
   "id": "45043444",
   "metadata": {},
   "outputs": [],
   "source": [
    "df.drop(columns='Offer Number',inplace=True)\n",
    "## In this column,there is no offer numbers just ID number, so we dropped it."
   ]
  },
  {
   "cell_type": "markdown",
   "id": "d56088c0",
   "metadata": {},
   "source": [
    "# First Registration"
   ]
  },
  {
   "cell_type": "code",
   "execution_count": 76,
   "id": "ee4a0a5b",
   "metadata": {},
   "outputs": [
    {
     "data": {
      "text/html": [
       "<div>\n",
       "<style scoped>\n",
       "    .dataframe tbody tr th:only-of-type {\n",
       "        vertical-align: middle;\n",
       "    }\n",
       "\n",
       "    .dataframe tbody tr th {\n",
       "        vertical-align: top;\n",
       "    }\n",
       "\n",
       "    .dataframe thead th {\n",
       "        text-align: right;\n",
       "    }\n",
       "</style>\n",
       "<table border=\"1\" class=\"dataframe\">\n",
       "  <thead>\n",
       "    <tr style=\"text-align: right;\">\n",
       "      <th></th>\n",
       "      <th>First Registration</th>\n",
       "      <th>age</th>\n",
       "    </tr>\n",
       "  </thead>\n",
       "  <tbody>\n",
       "    <tr>\n",
       "      <th>0</th>\n",
       "      <td>[\\n, 2016, \\n]</td>\n",
       "      <td>3.0</td>\n",
       "    </tr>\n",
       "    <tr>\n",
       "      <th>1</th>\n",
       "      <td>[\\n, 2017, \\n]</td>\n",
       "      <td>2.0</td>\n",
       "    </tr>\n",
       "    <tr>\n",
       "      <th>2</th>\n",
       "      <td>[\\n, 2016, \\n]</td>\n",
       "      <td>3.0</td>\n",
       "    </tr>\n",
       "    <tr>\n",
       "      <th>3</th>\n",
       "      <td>[\\n, 2016, \\n]</td>\n",
       "      <td>3.0</td>\n",
       "    </tr>\n",
       "    <tr>\n",
       "      <th>4</th>\n",
       "      <td>[\\n, 2016, \\n]</td>\n",
       "      <td>3.0</td>\n",
       "    </tr>\n",
       "    <tr>\n",
       "      <th>...</th>\n",
       "      <td>...</td>\n",
       "      <td>...</td>\n",
       "    </tr>\n",
       "    <tr>\n",
       "      <th>15914</th>\n",
       "      <td>NaN</td>\n",
       "      <td>NaN</td>\n",
       "    </tr>\n",
       "    <tr>\n",
       "      <th>15915</th>\n",
       "      <td>[\\n, 2019, \\n]</td>\n",
       "      <td>0.0</td>\n",
       "    </tr>\n",
       "    <tr>\n",
       "      <th>15916</th>\n",
       "      <td>[\\n, 2019, \\n]</td>\n",
       "      <td>0.0</td>\n",
       "    </tr>\n",
       "    <tr>\n",
       "      <th>15917</th>\n",
       "      <td>[\\n, 2019, \\n]</td>\n",
       "      <td>0.0</td>\n",
       "    </tr>\n",
       "    <tr>\n",
       "      <th>15918</th>\n",
       "      <td>[\\n, 2019, \\n]</td>\n",
       "      <td>0.0</td>\n",
       "    </tr>\n",
       "  </tbody>\n",
       "</table>\n",
       "<p>15919 rows × 2 columns</p>\n",
       "</div>"
      ],
      "text/plain": [
       "      First Registration  age\n",
       "0         [\\n, 2016, \\n]  3.0\n",
       "1         [\\n, 2017, \\n]  2.0\n",
       "2         [\\n, 2016, \\n]  3.0\n",
       "3         [\\n, 2016, \\n]  3.0\n",
       "4         [\\n, 2016, \\n]  3.0\n",
       "...                  ...  ...\n",
       "15914                NaN  NaN\n",
       "15915     [\\n, 2019, \\n]  0.0\n",
       "15916     [\\n, 2019, \\n]  0.0\n",
       "15917     [\\n, 2019, \\n]  0.0\n",
       "15918     [\\n, 2019, \\n]  0.0\n",
       "\n",
       "[15919 rows x 2 columns]"
      ]
     },
     "execution_count": 76,
     "metadata": {},
     "output_type": "execute_result"
    }
   ],
   "source": [
    "df[['First Registration','age']]"
   ]
  },
  {
   "cell_type": "code",
   "execution_count": 77,
   "id": "0a69bdb7",
   "metadata": {},
   "outputs": [],
   "source": [
    "df.drop(columns='First Registration',inplace=True)\n",
    "## We dropped it , because 'First Registration' and 'registration' are same columns."
   ]
  },
  {
   "cell_type": "markdown",
   "id": "c7179b41",
   "metadata": {},
   "source": [
    "# Body Color"
   ]
  },
  {
   "cell_type": "code",
   "execution_count": 78,
   "id": "2578d6c2",
   "metadata": {},
   "outputs": [
    {
     "data": {
      "text/plain": [
       "['\\n', 'Black', '\\n']     3745\n",
       "['\\n', 'Grey', '\\n']      3505\n",
       "['\\n', 'White', '\\n']     3406\n",
       "['\\n', 'Silver', '\\n']    1647\n",
       "['\\n', 'Blue', '\\n']      1431\n",
       "['\\n', 'Red', '\\n']        957\n",
       "nan                        597\n",
       "['\\n', 'Brown', '\\n']      289\n",
       "['\\n', 'Green', '\\n']      154\n",
       "['\\n', 'Beige', '\\n']      108\n",
       "['\\n', 'Yellow', '\\n']      51\n",
       "['\\n', 'Violet', '\\n']      18\n",
       "['\\n', 'Bronze', '\\n']       6\n",
       "['\\n', 'Orange', '\\n']       3\n",
       "['\\n', 'Gold', '\\n']         2\n",
       "Name: Body Color, dtype: int64"
      ]
     },
     "execution_count": 78,
     "metadata": {},
     "output_type": "execute_result"
    }
   ],
   "source": [
    "df['Body Color'].astype('str').value_counts(dropna=False)"
   ]
  },
  {
   "cell_type": "code",
   "execution_count": 79,
   "id": "e5ffc65a",
   "metadata": {},
   "outputs": [],
   "source": [
    "df['Body Color']=df['Body Color'].transform(lambda x : x[1] if type(x)==list else x)"
   ]
  },
  {
   "cell_type": "code",
   "execution_count": 80,
   "id": "f8837554",
   "metadata": {},
   "outputs": [
    {
     "data": {
      "text/plain": [
       "Black     3745\n",
       "Grey      3505\n",
       "White     3406\n",
       "Silver    1647\n",
       "Blue      1431\n",
       "Red        957\n",
       "NaN        597\n",
       "Brown      289\n",
       "Green      154\n",
       "Beige      108\n",
       "Yellow      51\n",
       "Violet      18\n",
       "Bronze       6\n",
       "Orange       3\n",
       "Gold         2\n",
       "Name: Body Color, dtype: int64"
      ]
     },
     "execution_count": 80,
     "metadata": {},
     "output_type": "execute_result"
    }
   ],
   "source": [
    "df['Body Color'].value_counts(dropna=False)\n",
    "## we Cleaned the data."
   ]
  },
  {
   "cell_type": "markdown",
   "id": "939261a6",
   "metadata": {},
   "source": [
    "# Paint Type"
   ]
  },
  {
   "cell_type": "code",
   "execution_count": 81,
   "id": "94c6f353",
   "metadata": {},
   "outputs": [
    {
     "data": {
      "text/plain": [
       "['\\nMetallic\\n']       9794\n",
       "nan                    5772\n",
       "['\\nUni/basic\\n']       347\n",
       "['\\nPerl effect\\n']       6\n",
       "Name: Paint Type, dtype: int64"
      ]
     },
     "execution_count": 81,
     "metadata": {},
     "output_type": "execute_result"
    }
   ],
   "source": [
    "df['Paint Type'].astype('str').value_counts(dropna=False)"
   ]
  },
  {
   "cell_type": "code",
   "execution_count": 82,
   "id": "53d85fab",
   "metadata": {},
   "outputs": [
    {
     "data": {
      "text/plain": [
       "Metallic       9794\n",
       "NaN            5772\n",
       "Uni/basic       347\n",
       "Perl effect       6\n",
       "Name: Paint Type, dtype: int64"
      ]
     },
     "execution_count": 82,
     "metadata": {},
     "output_type": "execute_result"
    }
   ],
   "source": [
    "df['Paint Type'].transform(lambda x : x[0] if type(x)==list else x).str.strip('\\n').value_counts(dropna=False)"
   ]
  },
  {
   "cell_type": "code",
   "execution_count": 83,
   "id": "02dc843a",
   "metadata": {},
   "outputs": [],
   "source": [
    "df['Paint Type']=df['Paint Type'].transform(lambda x : x[0] if type(x)==list else x).str.strip('\\n')\n",
    "## We regulated the data from list type and cleaned it from unnecessary burdens."
   ]
  },
  {
   "cell_type": "markdown",
   "id": "a5c90535",
   "metadata": {},
   "source": [
    "# Body Color Original"
   ]
  },
  {
   "cell_type": "code",
   "execution_count": 84,
   "id": "96236b82",
   "metadata": {},
   "outputs": [
    {
     "ename": "TypeError",
     "evalue": "unhashable type: 'list'",
     "output_type": "error",
     "traceback": [
      "\u001b[1;31m---------------------------------------------------------------------------\u001b[0m",
      "\u001b[1;31mTypeError\u001b[0m                                 Traceback (most recent call last)",
      "\u001b[1;32mpandas\\_libs\\hashtable_class_helper.pxi\u001b[0m in \u001b[0;36mpandas._libs.hashtable.PyObjectHashTable.map_locations\u001b[1;34m()\u001b[0m\n",
      "\u001b[1;31mTypeError\u001b[0m: unhashable type: 'list'"
     ]
    },
    {
     "name": "stderr",
     "output_type": "stream",
     "text": [
      "Exception ignored in: 'pandas._libs.index.IndexEngine._call_map_locations'\n",
      "Traceback (most recent call last):\n",
      "  File \"pandas\\_libs\\hashtable_class_helper.pxi\", line 5231, in pandas._libs.hashtable.PyObjectHashTable.map_locations\n",
      "TypeError: unhashable type: 'list'\n"
     ]
    },
    {
     "data": {
      "text/plain": [
       "NaN                                    3759\n",
       "[\\nOnyx Schwarz\\n]                      338\n",
       "[\\nBianco\\n]                            282\n",
       "[\\nMythosschwarz Metallic\\n]            238\n",
       "[\\nBrillantschwarz\\n]                   216\n",
       "                                       ... \n",
       "[\\nRouge-Braun (G0Y)\\n]                   1\n",
       "[\\nVARI COLRI DISPONIBILI\\n]              1\n",
       "[\\nKokosnussbraun Metallic\\n]             1\n",
       "[\\nFarbe frei wählbar\\n]                  1\n",
       "[\\nPerlmutt-Weiß Metallic (Weiß)\\n]       1\n",
       "Name: Body Color Original, Length: 1928, dtype: int64"
      ]
     },
     "execution_count": 84,
     "metadata": {},
     "output_type": "execute_result"
    }
   ],
   "source": [
    "df['Body Color Original'].value_counts(dropna=False)"
   ]
  },
  {
   "cell_type": "code",
   "execution_count": 85,
   "id": "243c235e",
   "metadata": {},
   "outputs": [
    {
     "data": {
      "text/html": [
       "<div>\n",
       "<style scoped>\n",
       "    .dataframe tbody tr th:only-of-type {\n",
       "        vertical-align: middle;\n",
       "    }\n",
       "\n",
       "    .dataframe tbody tr th {\n",
       "        vertical-align: top;\n",
       "    }\n",
       "\n",
       "    .dataframe thead th {\n",
       "        text-align: right;\n",
       "    }\n",
       "</style>\n",
       "<table border=\"1\" class=\"dataframe\">\n",
       "  <thead>\n",
       "    <tr style=\"text-align: right;\">\n",
       "      <th></th>\n",
       "      <th>Body Color Original</th>\n",
       "      <th>Paint Type</th>\n",
       "    </tr>\n",
       "  </thead>\n",
       "  <tbody>\n",
       "    <tr>\n",
       "      <th>6224</th>\n",
       "      <td>NaN</td>\n",
       "      <td>NaN</td>\n",
       "    </tr>\n",
       "    <tr>\n",
       "      <th>14011</th>\n",
       "      <td>[\\nBLANC GLACIER\\n]</td>\n",
       "      <td>Metallic</td>\n",
       "    </tr>\n",
       "    <tr>\n",
       "      <th>1432</th>\n",
       "      <td>[\\nScubablau\\n]</td>\n",
       "      <td>Metallic</td>\n",
       "    </tr>\n",
       "    <tr>\n",
       "      <th>15754</th>\n",
       "      <td>[\\nNero\\n]</td>\n",
       "      <td>Metallic</td>\n",
       "    </tr>\n",
       "    <tr>\n",
       "      <th>14002</th>\n",
       "      <td>NaN</td>\n",
       "      <td>NaN</td>\n",
       "    </tr>\n",
       "    <tr>\n",
       "      <th>4948</th>\n",
       "      <td>NaN</td>\n",
       "      <td>Metallic</td>\n",
       "    </tr>\n",
       "    <tr>\n",
       "      <th>10066</th>\n",
       "      <td>[\\nArktis Blau\\n]</td>\n",
       "      <td>Metallic</td>\n",
       "    </tr>\n",
       "    <tr>\n",
       "      <th>9174</th>\n",
       "      <td>NaN</td>\n",
       "      <td>Metallic</td>\n",
       "    </tr>\n",
       "    <tr>\n",
       "      <th>1870</th>\n",
       "      <td>NaN</td>\n",
       "      <td>Metallic</td>\n",
       "    </tr>\n",
       "    <tr>\n",
       "      <th>14777</th>\n",
       "      <td>NaN</td>\n",
       "      <td>NaN</td>\n",
       "    </tr>\n",
       "  </tbody>\n",
       "</table>\n",
       "</div>"
      ],
      "text/plain": [
       "       Body Color Original Paint Type\n",
       "6224                   NaN        NaN\n",
       "14011  [\\nBLANC GLACIER\\n]   Metallic\n",
       "1432       [\\nScubablau\\n]   Metallic\n",
       "15754           [\\nNero\\n]   Metallic\n",
       "14002                  NaN        NaN\n",
       "4948                   NaN   Metallic\n",
       "10066    [\\nArktis Blau\\n]   Metallic\n",
       "9174                   NaN   Metallic\n",
       "1870                   NaN   Metallic\n",
       "14777                  NaN        NaN"
      ]
     },
     "execution_count": 85,
     "metadata": {},
     "output_type": "execute_result"
    }
   ],
   "source": [
    "df[['Body Color Original','Paint Type']].sample(10)"
   ]
  },
  {
   "cell_type": "code",
   "execution_count": 86,
   "id": "a2fe9830",
   "metadata": {},
   "outputs": [],
   "source": [
    "df['Body Color Original']=df['Body Color Original'].transform(lambda x : x[0] if type(x)==list else x).str.strip('\\n')"
   ]
  },
  {
   "cell_type": "code",
   "execution_count": 87,
   "id": "f5e97686",
   "metadata": {},
   "outputs": [
    {
     "data": {
      "text/plain": [
       "NaN                              3759\n",
       "Onyx Schwarz                      338\n",
       "Bianco                            282\n",
       "Mythosschwarz Metallic            238\n",
       "Brillantschwarz                   216\n",
       "                                 ... \n",
       "Rouge-Braun (G0Y)                   1\n",
       "VARI COLRI DISPONIBILI              1\n",
       "Kokosnussbraun Metallic             1\n",
       "Farbe frei wählbar                  1\n",
       "Perlmutt-Weiß Metallic (Weiß)       1\n",
       "Name: Body Color Original, Length: 1928, dtype: int64"
      ]
     },
     "execution_count": 87,
     "metadata": {},
     "output_type": "execute_result"
    }
   ],
   "source": [
    "df['Body Color Original'].value_counts(dropna=False)\n",
    "#we cleaned data extra burdens."
   ]
  },
  {
   "cell_type": "markdown",
   "id": "afef3370",
   "metadata": {},
   "source": [
    "# Upholstery"
   ]
  },
  {
   "cell_type": "code",
   "execution_count": 88,
   "id": "24b609ea",
   "metadata": {},
   "outputs": [
    {
     "ename": "TypeError",
     "evalue": "unhashable type: 'list'",
     "output_type": "error",
     "traceback": [
      "\u001b[1;31m---------------------------------------------------------------------------\u001b[0m",
      "\u001b[1;31mTypeError\u001b[0m                                 Traceback (most recent call last)",
      "\u001b[1;32mpandas\\_libs\\hashtable_class_helper.pxi\u001b[0m in \u001b[0;36mpandas._libs.hashtable.PyObjectHashTable.map_locations\u001b[1;34m()\u001b[0m\n",
      "\u001b[1;31mTypeError\u001b[0m: unhashable type: 'list'"
     ]
    },
    {
     "name": "stderr",
     "output_type": "stream",
     "text": [
      "Exception ignored in: 'pandas._libs.index.IndexEngine._call_map_locations'\n",
      "Traceback (most recent call last):\n",
      "  File \"pandas\\_libs\\hashtable_class_helper.pxi\", line 5231, in pandas._libs.hashtable.PyObjectHashTable.map_locations\n",
      "TypeError: unhashable type: 'list'\n"
     ]
    },
    {
     "data": {
      "text/plain": [
       "[\\nCloth, Black\\n]           5821\n",
       "NaN                          3720\n",
       "[\\nPart leather, Black\\n]    1121\n",
       "[\\nCloth\\n]                  1005\n",
       "[\\nCloth, Grey\\n]             891\n",
       "[\\nCloth, Other\\n]            639\n",
       "[\\nFull leather, Black\\n]     575\n",
       "[\\nBlack\\n]                   491\n",
       "[\\nGrey\\n]                    273\n",
       "[\\nOther, Other\\n]            182\n",
       "[\\nPart leather\\n]            140\n",
       "[\\nFull leather\\n]            139\n",
       "[\\nFull leather, Brown\\n]     116\n",
       "[\\nPart leather, Grey\\n]      116\n",
       "[\\nOther, Black\\n]            110\n",
       "[\\nFull leather, Other\\n]      72\n",
       "[\\nFull leather, Grey\\n]       67\n",
       "[\\nPart leather, Other\\n]      65\n",
       "[\\nOther\\n]                    56\n",
       "[\\nPart leather, Brown\\n]      50\n",
       "[\\nalcantara, Black\\n]         47\n",
       "[\\nVelour, Black\\n]            36\n",
       "[\\nFull leather, Beige\\n]      36\n",
       "[\\nCloth, Brown\\n]             28\n",
       "[\\nVelour\\n]                   16\n",
       "[\\nOther, Grey\\n]              15\n",
       "[\\nCloth, Beige\\n]             13\n",
       "[\\nBrown\\n]                    12\n",
       "[\\nCloth, Blue\\n]              12\n",
       "[\\nVelour, Grey\\n]              8\n",
       "[\\nCloth, White\\n]              8\n",
       "[\\nalcantara, Grey\\n]           6\n",
       "[\\nCloth, Red\\n]                5\n",
       "[\\nOther, Yellow\\n]             4\n",
       "[\\nPart leather, Red\\n]         3\n",
       "[\\nBeige\\n]                     3\n",
       "[\\nPart leather, White\\n]       2\n",
       "[\\nFull leather, Blue\\n]        2\n",
       "[\\nalcantara, Other\\n]          2\n",
       "[\\nalcantara\\n]                 2\n",
       "[\\nWhite\\n]                     2\n",
       "[\\nPart leather, Beige\\n]       2\n",
       "[\\nBlue\\n]                      2\n",
       "[\\nCloth, Orange\\n]             1\n",
       "[\\nFull leather, Red\\n]         1\n",
       "[\\nOther, Brown\\n]              1\n",
       "[\\nFull leather, White\\n]       1\n",
       "Name: Upholstery, dtype: int64"
      ]
     },
     "execution_count": 88,
     "metadata": {},
     "output_type": "execute_result"
    }
   ],
   "source": [
    "df['Upholstery'].value_counts(dropna=False)"
   ]
  },
  {
   "cell_type": "code",
   "execution_count": 89,
   "id": "cf2cff68",
   "metadata": {},
   "outputs": [],
   "source": [
    "df['Upholstery']=df['Upholstery'].str[0].str.strip('\\n').str.split(',')"
   ]
  },
  {
   "cell_type": "code",
   "execution_count": 90,
   "id": "9512072f",
   "metadata": {
    "scrolled": true
   },
   "outputs": [
    {
     "data": {
      "text/plain": [
       "['Cloth', ' Black']           5821\n",
       "nan                           3720\n",
       "['Part leather', ' Black']    1121\n",
       "['Cloth']                     1005\n",
       "['Cloth', ' Grey']             891\n",
       "['Cloth', ' Other']            639\n",
       "['Full leather', ' Black']     575\n",
       "['Black']                      491\n",
       "['Grey']                       273\n",
       "['Other', ' Other']            182\n",
       "['Part leather']               140\n",
       "['Full leather']               139\n",
       "['Full leather', ' Brown']     116\n",
       "['Part leather', ' Grey']      116\n",
       "['Other', ' Black']            110\n",
       "['Full leather', ' Other']      72\n",
       "['Full leather', ' Grey']       67\n",
       "['Part leather', ' Other']      65\n",
       "['Other']                       56\n",
       "['Part leather', ' Brown']      50\n",
       "['alcantara', ' Black']         47\n",
       "['Velour', ' Black']            36\n",
       "['Full leather', ' Beige']      36\n",
       "['Cloth', ' Brown']             28\n",
       "['Velour']                      16\n",
       "['Other', ' Grey']              15\n",
       "['Cloth', ' Beige']             13\n",
       "['Brown']                       12\n",
       "['Cloth', ' Blue']              12\n",
       "['Velour', ' Grey']              8\n",
       "['Cloth', ' White']              8\n",
       "['alcantara', ' Grey']           6\n",
       "['Cloth', ' Red']                5\n",
       "['Other', ' Yellow']             4\n",
       "['Part leather', ' Red']         3\n",
       "['Beige']                        3\n",
       "['Part leather', ' White']       2\n",
       "['Full leather', ' Blue']        2\n",
       "['alcantara', ' Other']          2\n",
       "['alcantara']                    2\n",
       "['White']                        2\n",
       "['Part leather', ' Beige']       2\n",
       "['Blue']                         2\n",
       "['Cloth', ' Orange']             1\n",
       "['Full leather', ' Red']         1\n",
       "['Other', ' Brown']              1\n",
       "['Full leather', ' White']       1\n",
       "Name: Upholstery, dtype: int64"
      ]
     },
     "execution_count": 90,
     "metadata": {},
     "output_type": "execute_result"
    }
   ],
   "source": [
    "df['Upholstery'].astype('str').value_counts()"
   ]
  },
  {
   "cell_type": "code",
   "execution_count": 91,
   "id": "5306f53c",
   "metadata": {},
   "outputs": [],
   "source": [
    "Upholstery_type=['Cloth','Full leather','alcantara','Part leather','Velour','Other']\n",
    "def u_type(x):\n",
    "    if type(x)==list and len(x)==2:\n",
    "        return x[0]\n",
    "    elif type(x)==list and len(x)==1 and x[0] in Upholstery_type:\n",
    "        return x[0]\n",
    "    else:\n",
    "        return np.nan\n",
    "    \n",
    "    "
   ]
  },
  {
   "cell_type": "code",
   "execution_count": 92,
   "id": "7f9a41df",
   "metadata": {},
   "outputs": [],
   "source": [
    "df['Upholstery_type']=df['Upholstery'].transform(u_type)"
   ]
  },
  {
   "cell_type": "code",
   "execution_count": 93,
   "id": "208b8541",
   "metadata": {},
   "outputs": [
    {
     "data": {
      "text/plain": [
       "Cloth           8423\n",
       "NaN             4503\n",
       "Part leather    1499\n",
       "Full leather    1009\n",
       "Other            368\n",
       "Velour            60\n",
       "alcantara         57\n",
       "Name: Upholstery_type, dtype: int64"
      ]
     },
     "execution_count": 93,
     "metadata": {},
     "output_type": "execute_result"
    }
   ],
   "source": [
    "df['Upholstery_type'].value_counts(dropna=False)"
   ]
  },
  {
   "cell_type": "code",
   "execution_count": 94,
   "id": "63ee0b31",
   "metadata": {},
   "outputs": [],
   "source": [
    "Upholstery_color=['Black','Grey','Other','Brown','Beige','Blue','White','Red','Yellow']\n",
    "def c_type(x):\n",
    "    if type(x)==list and len(x)==2:\n",
    "        return x[1]\n",
    "    elif type(x)==list and len(x)==1 and x[0] in Upholstery_color:\n",
    "        return x[0]\n",
    "    else:\n",
    "        return np.nan\n",
    "    "
   ]
  },
  {
   "cell_type": "code",
   "execution_count": 95,
   "id": "9f6cfe80",
   "metadata": {},
   "outputs": [],
   "source": [
    "df['Upholstery_color']=df['Upholstery'].transform(c_type).str.strip()"
   ]
  },
  {
   "cell_type": "code",
   "execution_count": 96,
   "id": "d4d23b23",
   "metadata": {},
   "outputs": [
    {
     "data": {
      "text/html": [
       "<div>\n",
       "<style scoped>\n",
       "    .dataframe tbody tr th:only-of-type {\n",
       "        vertical-align: middle;\n",
       "    }\n",
       "\n",
       "    .dataframe tbody tr th {\n",
       "        vertical-align: top;\n",
       "    }\n",
       "\n",
       "    .dataframe thead th {\n",
       "        text-align: right;\n",
       "    }\n",
       "</style>\n",
       "<table border=\"1\" class=\"dataframe\">\n",
       "  <thead>\n",
       "    <tr style=\"text-align: right;\">\n",
       "      <th></th>\n",
       "      <th>Upholstery_type</th>\n",
       "      <th>Upholstery_color</th>\n",
       "    </tr>\n",
       "  </thead>\n",
       "  <tbody>\n",
       "    <tr>\n",
       "      <th>0</th>\n",
       "      <td>Cloth</td>\n",
       "      <td>Black</td>\n",
       "    </tr>\n",
       "    <tr>\n",
       "      <th>1</th>\n",
       "      <td>Cloth</td>\n",
       "      <td>Grey</td>\n",
       "    </tr>\n",
       "    <tr>\n",
       "      <th>2</th>\n",
       "      <td>Cloth</td>\n",
       "      <td>Black</td>\n",
       "    </tr>\n",
       "    <tr>\n",
       "      <th>3</th>\n",
       "      <td>NaN</td>\n",
       "      <td>NaN</td>\n",
       "    </tr>\n",
       "    <tr>\n",
       "      <th>4</th>\n",
       "      <td>Cloth</td>\n",
       "      <td>Black</td>\n",
       "    </tr>\n",
       "    <tr>\n",
       "      <th>...</th>\n",
       "      <td>...</td>\n",
       "      <td>...</td>\n",
       "    </tr>\n",
       "    <tr>\n",
       "      <th>15914</th>\n",
       "      <td>NaN</td>\n",
       "      <td>NaN</td>\n",
       "    </tr>\n",
       "    <tr>\n",
       "      <th>15915</th>\n",
       "      <td>Cloth</td>\n",
       "      <td>NaN</td>\n",
       "    </tr>\n",
       "    <tr>\n",
       "      <th>15916</th>\n",
       "      <td>Full leather</td>\n",
       "      <td>Black</td>\n",
       "    </tr>\n",
       "    <tr>\n",
       "      <th>15917</th>\n",
       "      <td>Part leather</td>\n",
       "      <td>NaN</td>\n",
       "    </tr>\n",
       "    <tr>\n",
       "      <th>15918</th>\n",
       "      <td>Full leather</td>\n",
       "      <td>Brown</td>\n",
       "    </tr>\n",
       "  </tbody>\n",
       "</table>\n",
       "<p>15919 rows × 2 columns</p>\n",
       "</div>"
      ],
      "text/plain": [
       "      Upholstery_type Upholstery_color\n",
       "0               Cloth            Black\n",
       "1               Cloth             Grey\n",
       "2               Cloth            Black\n",
       "3                 NaN              NaN\n",
       "4               Cloth            Black\n",
       "...               ...              ...\n",
       "15914             NaN              NaN\n",
       "15915           Cloth              NaN\n",
       "15916    Full leather            Black\n",
       "15917    Part leather              NaN\n",
       "15918    Full leather            Brown\n",
       "\n",
       "[15919 rows x 2 columns]"
      ]
     },
     "execution_count": 96,
     "metadata": {},
     "output_type": "execute_result"
    }
   ],
   "source": [
    "df[['Upholstery_type','Upholstery_color']]"
   ]
  },
  {
   "cell_type": "code",
   "execution_count": 97,
   "id": "5f0010f6",
   "metadata": {},
   "outputs": [],
   "source": [
    "df.drop(columns='Upholstery',inplace=True)\n",
    "##since we created new 2 columns and separated the info, this column is no longer necessary, so dropped it"
   ]
  },
  {
   "cell_type": "markdown",
   "id": "f5c02909",
   "metadata": {},
   "source": [
    "# Body"
   ]
  },
  {
   "cell_type": "code",
   "execution_count": 98,
   "id": "14619bd6",
   "metadata": {},
   "outputs": [
    {
     "data": {
      "text/html": [
       "<div>\n",
       "<style scoped>\n",
       "    .dataframe tbody tr th:only-of-type {\n",
       "        vertical-align: middle;\n",
       "    }\n",
       "\n",
       "    .dataframe tbody tr th {\n",
       "        vertical-align: top;\n",
       "    }\n",
       "\n",
       "    .dataframe thead th {\n",
       "        text-align: right;\n",
       "    }\n",
       "</style>\n",
       "<table border=\"1\" class=\"dataframe\">\n",
       "  <thead>\n",
       "    <tr style=\"text-align: right;\">\n",
       "      <th></th>\n",
       "      <th>Body</th>\n",
       "      <th>body_type</th>\n",
       "    </tr>\n",
       "  </thead>\n",
       "  <tbody>\n",
       "    <tr>\n",
       "      <th>0</th>\n",
       "      <td>[\\n, Sedans, \\n]</td>\n",
       "      <td>Sedans</td>\n",
       "    </tr>\n",
       "    <tr>\n",
       "      <th>1</th>\n",
       "      <td>[\\n, Sedans, \\n]</td>\n",
       "      <td>Sedans</td>\n",
       "    </tr>\n",
       "    <tr>\n",
       "      <th>2</th>\n",
       "      <td>[\\n, Sedans, \\n]</td>\n",
       "      <td>Sedans</td>\n",
       "    </tr>\n",
       "    <tr>\n",
       "      <th>3</th>\n",
       "      <td>[\\n, Sedans, \\n]</td>\n",
       "      <td>Sedans</td>\n",
       "    </tr>\n",
       "    <tr>\n",
       "      <th>4</th>\n",
       "      <td>[\\n, Sedans, \\n]</td>\n",
       "      <td>Sedans</td>\n",
       "    </tr>\n",
       "    <tr>\n",
       "      <th>...</th>\n",
       "      <td>...</td>\n",
       "      <td>...</td>\n",
       "    </tr>\n",
       "    <tr>\n",
       "      <th>15914</th>\n",
       "      <td>[\\n, Van, \\n]</td>\n",
       "      <td>Van</td>\n",
       "    </tr>\n",
       "    <tr>\n",
       "      <th>15915</th>\n",
       "      <td>[\\n, Van, \\n]</td>\n",
       "      <td>Van</td>\n",
       "    </tr>\n",
       "    <tr>\n",
       "      <th>15916</th>\n",
       "      <td>[\\n, Van, \\n]</td>\n",
       "      <td>Van</td>\n",
       "    </tr>\n",
       "    <tr>\n",
       "      <th>15917</th>\n",
       "      <td>[\\n, Van, \\n]</td>\n",
       "      <td>Van</td>\n",
       "    </tr>\n",
       "    <tr>\n",
       "      <th>15918</th>\n",
       "      <td>[\\n, Van, \\n]</td>\n",
       "      <td>Van</td>\n",
       "    </tr>\n",
       "  </tbody>\n",
       "</table>\n",
       "<p>15919 rows × 2 columns</p>\n",
       "</div>"
      ],
      "text/plain": [
       "                   Body body_type\n",
       "0      [\\n, Sedans, \\n]    Sedans\n",
       "1      [\\n, Sedans, \\n]    Sedans\n",
       "2      [\\n, Sedans, \\n]    Sedans\n",
       "3      [\\n, Sedans, \\n]    Sedans\n",
       "4      [\\n, Sedans, \\n]    Sedans\n",
       "...                 ...       ...\n",
       "15914     [\\n, Van, \\n]       Van\n",
       "15915     [\\n, Van, \\n]       Van\n",
       "15916     [\\n, Van, \\n]       Van\n",
       "15917     [\\n, Van, \\n]       Van\n",
       "15918     [\\n, Van, \\n]       Van\n",
       "\n",
       "[15919 rows x 2 columns]"
      ]
     },
     "execution_count": 98,
     "metadata": {},
     "output_type": "execute_result"
    }
   ],
   "source": [
    "df[['Body','body_type']]"
   ]
  },
  {
   "cell_type": "code",
   "execution_count": 99,
   "id": "9f1d2105",
   "metadata": {},
   "outputs": [
    {
     "data": {
      "text/plain": [
       "['\\n', 'Sedans', '\\n']           7903\n",
       "['\\n', 'Station wagon', '\\n']    3553\n",
       "['\\n', 'Compact', '\\n']          3153\n",
       "['\\n', 'Van', '\\n']               783\n",
       "['\\n', 'Other', '\\n']             290\n",
       "['\\n', 'Transporter', '\\n']        88\n",
       "nan                                60\n",
       "['\\n', 'Off-Road', '\\n']           56\n",
       "['\\n', 'Coupe', '\\n']              25\n",
       "['\\n', 'Convertible', '\\n']         8\n",
       "Name: Body, dtype: int64"
      ]
     },
     "execution_count": 99,
     "metadata": {},
     "output_type": "execute_result"
    }
   ],
   "source": [
    "df['Body'].astype('str').value_counts()"
   ]
  },
  {
   "cell_type": "code",
   "execution_count": 100,
   "id": "906869e8",
   "metadata": {},
   "outputs": [
    {
     "data": {
      "text/plain": [
       "Sedans           7903\n",
       "Station wagon    3553\n",
       "Compact          3153\n",
       "Van               783\n",
       "Other             290\n",
       "Transporter        88\n",
       "Off-Road           56\n",
       "Coupe              25\n",
       "Convertible         8\n",
       "Name: body_type, dtype: int64"
      ]
     },
     "execution_count": 100,
     "metadata": {},
     "output_type": "execute_result"
    }
   ],
   "source": [
    "df['body_type'].value_counts()"
   ]
  },
  {
   "cell_type": "code",
   "execution_count": 101,
   "id": "687ceba2",
   "metadata": {},
   "outputs": [],
   "source": [
    "df.drop(columns='Body',inplace=True)\n",
    "##There is column with same info ,because of it we dropped it"
   ]
  },
  {
   "cell_type": "markdown",
   "id": "e9a18096",
   "metadata": {},
   "source": [
    "# Nr. of Doors"
   ]
  },
  {
   "cell_type": "code",
   "execution_count": 102,
   "id": "45e5fb02",
   "metadata": {},
   "outputs": [
    {
     "data": {
      "text/plain": [
       "['\\n5\\n']    11575\n",
       "['\\n4\\n']     3079\n",
       "['\\n3\\n']      832\n",
       "['\\n2\\n']      219\n",
       "nan            212\n",
       "['\\n1\\n']        1\n",
       "['\\n7\\n']        1\n",
       "Name: Nr. of Doors, dtype: int64"
      ]
     },
     "execution_count": 102,
     "metadata": {},
     "output_type": "execute_result"
    }
   ],
   "source": [
    "df['Nr. of Doors'].astype('str').value_counts(dropna=False)"
   ]
  },
  {
   "cell_type": "code",
   "execution_count": 103,
   "id": "2d6865be",
   "metadata": {},
   "outputs": [],
   "source": [
    "df['Nr. of Doors']=df['Nr. of Doors'].str[0].str.strip('\\n')"
   ]
  },
  {
   "cell_type": "code",
   "execution_count": 104,
   "id": "dc7adc96",
   "metadata": {},
   "outputs": [
    {
     "data": {
      "text/plain": [
       "5      11575\n",
       "4       3079\n",
       "3        832\n",
       "2        219\n",
       "NaN      212\n",
       "1          1\n",
       "7          1\n",
       "Name: Nr. of Doors, dtype: int64"
      ]
     },
     "execution_count": 104,
     "metadata": {},
     "output_type": "execute_result"
    }
   ],
   "source": [
    "df['Nr. of Doors'].value_counts(dropna=False)\n",
    "## We cleaned the column."
   ]
  },
  {
   "cell_type": "markdown",
   "id": "48c32292",
   "metadata": {},
   "source": [
    "# Nr. of Seats"
   ]
  },
  {
   "cell_type": "code",
   "execution_count": 105,
   "id": "4a068c2b",
   "metadata": {},
   "outputs": [
    {
     "data": {
      "text/plain": [
       "['\\n5\\n']    13336\n",
       "['\\n4\\n']     1125\n",
       "nan            977\n",
       "['\\n7\\n']      362\n",
       "['\\n2\\n']      116\n",
       "['\\n6\\n']        2\n",
       "['\\n3\\n']        1\n",
       "Name: Nr. of Seats, dtype: int64"
      ]
     },
     "execution_count": 105,
     "metadata": {},
     "output_type": "execute_result"
    }
   ],
   "source": [
    "df['Nr. of Seats'].astype('str').value_counts()"
   ]
  },
  {
   "cell_type": "code",
   "execution_count": 106,
   "id": "5de3100e",
   "metadata": {},
   "outputs": [],
   "source": [
    "df['Nr. of Seats']=df['Nr. of Seats'].str[0].str.strip('\\n')\n",
    "## We cleaned the column."
   ]
  },
  {
   "cell_type": "markdown",
   "id": "fdd9aadc",
   "metadata": {},
   "source": [
    "# Model Code"
   ]
  },
  {
   "cell_type": "code",
   "execution_count": 107,
   "id": "bb86d132",
   "metadata": {},
   "outputs": [
    {
     "data": {
      "text/plain": [
       "nan                 10941\n",
       "['\\n0035/BCB\\n']      268\n",
       "['\\n0588/BNO\\n']      245\n",
       "['\\n0588/BDB\\n']      206\n",
       "['\\n0588/BHX\\n']      188\n",
       "                    ...  \n",
       "['\\n0035/AVN\\n']        1\n",
       "['\\n0035/BEM\\n']        1\n",
       "['\\n0035/BAG\\n']        1\n",
       "['\\n0035/BAA\\n']        1\n",
       "['\\n3333/BKG\\n']        1\n",
       "Name: Model Code, Length: 233, dtype: int64"
      ]
     },
     "execution_count": 107,
     "metadata": {},
     "output_type": "execute_result"
    }
   ],
   "source": [
    "df['Model Code'].astype('str').value_counts(dropna=False)"
   ]
  },
  {
   "cell_type": "code",
   "execution_count": 108,
   "id": "341d3059",
   "metadata": {},
   "outputs": [],
   "source": [
    "df.drop(columns='Model Code',inplace=True)\n",
    "## This column mostly has missing values and some unnecessary ID,so we can drop it"
   ]
  },
  {
   "cell_type": "markdown",
   "id": "c09af25a",
   "metadata": {},
   "source": [
    "# Gearing Type"
   ]
  },
  {
   "cell_type": "code",
   "execution_count": 109,
   "id": "e288c42f",
   "metadata": {},
   "outputs": [
    {
     "data": {
      "text/plain": [
       "0"
      ]
     },
     "execution_count": 109,
     "metadata": {},
     "output_type": "execute_result"
    }
   ],
   "source": [
    "df['Gearing Type'].isnull().sum()"
   ]
  },
  {
   "cell_type": "code",
   "execution_count": 110,
   "id": "60dd8465",
   "metadata": {},
   "outputs": [],
   "source": [
    "df['Gearing Type']=df['Gearing Type'].str[1]"
   ]
  },
  {
   "cell_type": "code",
   "execution_count": 111,
   "id": "7a3268f8",
   "metadata": {},
   "outputs": [
    {
     "data": {
      "text/plain": [
       "Manual            8153\n",
       "Automatic         7297\n",
       "Semi-automatic     469\n",
       "Name: Gearing Type, dtype: int64"
      ]
     },
     "execution_count": 111,
     "metadata": {},
     "output_type": "execute_result"
    }
   ],
   "source": [
    "df['Gearing Type'].value_counts()\n",
    "## We cleaned the column."
   ]
  },
  {
   "cell_type": "markdown",
   "id": "7551a40e",
   "metadata": {},
   "source": [
    "# Displacement"
   ]
  },
  {
   "cell_type": "code",
   "execution_count": 112,
   "id": "bf2891ea",
   "metadata": {},
   "outputs": [
    {
     "data": {
      "text/plain": [
       "496"
      ]
     },
     "execution_count": 112,
     "metadata": {},
     "output_type": "execute_result"
    }
   ],
   "source": [
    "df['Displacement'].isnull().sum()"
   ]
  },
  {
   "cell_type": "code",
   "execution_count": 113,
   "id": "2bdb4bc3",
   "metadata": {},
   "outputs": [
    {
     "data": {
      "text/plain": [
       "['\\n1,598 cc\\n']    4761\n",
       "['\\n999 cc\\n']      2438\n",
       "['\\n1,398 cc\\n']    1314\n",
       "['\\n1,399 cc\\n']     749\n",
       "['\\n1,229 cc\\n']     677\n",
       "                    ... \n",
       "['\\n122 cc\\n']         1\n",
       "['\\n1,198 cc\\n']       1\n",
       "['\\n1,195 cc\\n']       1\n",
       "['\\n2,967 cc\\n']       1\n",
       "['\\n1,800 cc\\n']       1\n",
       "Name: Displacement, Length: 78, dtype: int64"
      ]
     },
     "execution_count": 113,
     "metadata": {},
     "output_type": "execute_result"
    }
   ],
   "source": [
    "df['Displacement'].astype('str').value_counts(dropna=False)"
   ]
  },
  {
   "cell_type": "code",
   "execution_count": 114,
   "id": "53542561",
   "metadata": {},
   "outputs": [],
   "source": [
    "df['Displacement']=df['Displacement'].str[0].str.replace(',','').str.extract('(\\d{4}\\s\\w{2})')"
   ]
  },
  {
   "cell_type": "code",
   "execution_count": 115,
   "id": "38aad86d",
   "metadata": {},
   "outputs": [],
   "source": [
    "df['Displacement']=df['Displacement'].str.strip(' cc')"
   ]
  },
  {
   "cell_type": "code",
   "execution_count": 116,
   "id": "c3e54eaf",
   "metadata": {},
   "outputs": [
    {
     "data": {
      "text/plain": [
       "1598    4761\n",
       "NaN     3437\n",
       "1398    1314\n",
       "1399     749\n",
       "1229     677\n",
       "1956     670\n",
       "1461     595\n",
       "1490     559\n",
       "1422     467\n",
       "1197     353\n",
       "1395     320\n",
       "1968     301\n",
       "1149     288\n",
       "1618     212\n",
       "1798     210\n",
       "1498     196\n",
       "1600     130\n",
       "1248     110\n",
       "1997     103\n",
       "1364     102\n",
       "1400      90\n",
       "1500      50\n",
       "2000      46\n",
       "1000      40\n",
       "1998      25\n",
       "2480      20\n",
       "1200      18\n",
       "1984      18\n",
       "1397      11\n",
       "1499       5\n",
       "1596       4\n",
       "1396       3\n",
       "1199       3\n",
       "1599       3\n",
       "1495       2\n",
       "1589       2\n",
       "1300       2\n",
       "1995       1\n",
       "1533       1\n",
       "6000       1\n",
       "1100       1\n",
       "1333       1\n",
       "1496       1\n",
       "1580       1\n",
       "1195       1\n",
       "1856       1\n",
       "2967       1\n",
       "1198       1\n",
       "1390       1\n",
       "1369       1\n",
       "1350       1\n",
       "1239       1\n",
       "1568       1\n",
       "1368       1\n",
       "5898       1\n",
       "1686       1\n",
       "1696       1\n",
       "1896       1\n",
       "1584       1\n",
       "1800       1\n",
       "Name: Displacement, dtype: int64"
      ]
     },
     "execution_count": 116,
     "metadata": {},
     "output_type": "execute_result"
    }
   ],
   "source": [
    "df['Displacement'].value_counts(dropna=False)\n"
   ]
  },
  {
   "cell_type": "markdown",
   "id": "3f90bd16",
   "metadata": {},
   "source": [
    "# Cylinders"
   ]
  },
  {
   "cell_type": "code",
   "execution_count": 117,
   "id": "19ac5673",
   "metadata": {},
   "outputs": [
    {
     "data": {
      "text/plain": [
       "['\\n4\\n']    8105\n",
       "nan          5680\n",
       "['\\n3\\n']    2104\n",
       "['\\n5\\n']      22\n",
       "['\\n6\\n']       3\n",
       "['\\n8\\n']       2\n",
       "['\\n2\\n']       2\n",
       "['\\n1\\n']       1\n",
       "Name: Cylinders, dtype: int64"
      ]
     },
     "execution_count": 117,
     "metadata": {},
     "output_type": "execute_result"
    }
   ],
   "source": [
    "df['Cylinders'].astype('str').value_counts(dropna=False)"
   ]
  },
  {
   "cell_type": "code",
   "execution_count": 118,
   "id": "2961b49c",
   "metadata": {},
   "outputs": [],
   "source": [
    "df['Cylinders']=df['Cylinders'].str[0].str.extract('(\\d)')"
   ]
  },
  {
   "cell_type": "code",
   "execution_count": 119,
   "id": "4da9a68f",
   "metadata": {},
   "outputs": [
    {
     "data": {
      "text/plain": [
       "4      8105\n",
       "NaN    5680\n",
       "3      2104\n",
       "5        22\n",
       "6         3\n",
       "8         2\n",
       "2         2\n",
       "1         1\n",
       "Name: Cylinders, dtype: int64"
      ]
     },
     "execution_count": 119,
     "metadata": {},
     "output_type": "execute_result"
    }
   ],
   "source": [
    "df['Cylinders'].value_counts(dropna=False)\n",
    "## We cleaned the column from extras."
   ]
  },
  {
   "cell_type": "markdown",
   "id": "698ca9d5",
   "metadata": {},
   "source": [
    "# Weight"
   ]
  },
  {
   "cell_type": "code",
   "execution_count": 120,
   "id": "204f3124",
   "metadata": {},
   "outputs": [
    {
     "data": {
      "text/plain": [
       "nan                 6974\n",
       "['\\n1,163 kg\\n']     574\n",
       "['\\n1,360 kg\\n']     356\n",
       "['\\n1,165 kg\\n']     301\n",
       "['\\n1,335 kg\\n']     242\n",
       "                    ... \n",
       "['\\n1,960 kg\\n']       1\n",
       "['\\n1,258 kg\\n']       1\n",
       "['\\n1,167 kg\\n']       1\n",
       "['\\n1,331 kg\\n']       1\n",
       "['\\n2,037 kg\\n']       1\n",
       "Name: Weight, Length: 435, dtype: int64"
      ]
     },
     "execution_count": 120,
     "metadata": {},
     "output_type": "execute_result"
    }
   ],
   "source": [
    "df['Weight'].astype('str').value_counts(dropna=False)"
   ]
  },
  {
   "cell_type": "code",
   "execution_count": 121,
   "id": "4374066e",
   "metadata": {},
   "outputs": [],
   "source": [
    "df['Weight']=df['Weight'].str[0].str.replace(',','').str.extract('(\\d+)')"
   ]
  },
  {
   "cell_type": "code",
   "execution_count": 122,
   "id": "e98c94a0",
   "metadata": {},
   "outputs": [],
   "source": [
    "df['Weight']=df['Weight'].astype('float')"
   ]
  },
  {
   "cell_type": "code",
   "execution_count": 123,
   "id": "8b1de8f0",
   "metadata": {},
   "outputs": [
    {
     "data": {
      "text/plain": [
       "8355       1.0\n",
       "12779      1.0\n",
       "1143     102.0\n",
       "8857     840.0\n",
       "14313    900.0\n",
       "Name: Weight, dtype: float64"
      ]
     },
     "execution_count": 123,
     "metadata": {},
     "output_type": "execute_result"
    }
   ],
   "source": [
    "df['Weight'].sort_values().head()\n"
   ]
  },
  {
   "cell_type": "code",
   "execution_count": 124,
   "id": "ec213e07",
   "metadata": {},
   "outputs": [
    {
     "data": {
      "text/plain": [
       "NaN       6974\n",
       "1163.0     574\n",
       "1360.0     356\n",
       "1165.0     301\n",
       "1335.0     242\n",
       "          ... \n",
       "1960.0       1\n",
       "1258.0       1\n",
       "1167.0       1\n",
       "1331.0       1\n",
       "2037.0       1\n",
       "Name: Weight, Length: 435, dtype: int64"
      ]
     },
     "execution_count": 124,
     "metadata": {},
     "output_type": "execute_result"
    }
   ],
   "source": [
    "df['Weight'].value_counts(dropna=False)\n",
    "##Data finally clean."
   ]
  },
  {
   "cell_type": "markdown",
   "id": "4a555e0b",
   "metadata": {},
   "source": [
    "# Drive chain"
   ]
  },
  {
   "cell_type": "code",
   "execution_count": 125,
   "id": "5dd7779e",
   "metadata": {},
   "outputs": [
    {
     "data": {
      "text/plain": [
       "['\\nfront\\n']    8886\n",
       "nan              6858\n",
       "['\\n4WD\\n']       171\n",
       "['\\nrear\\n']        4\n",
       "Name: Drive chain, dtype: int64"
      ]
     },
     "execution_count": 125,
     "metadata": {},
     "output_type": "execute_result"
    }
   ],
   "source": [
    "df['Drive chain'].astype('str').value_counts(dropna=False)"
   ]
  },
  {
   "cell_type": "code",
   "execution_count": 126,
   "id": "f8d47078",
   "metadata": {},
   "outputs": [],
   "source": [
    "df['Drive chain']=df['Drive chain'].str[0].str.strip('\\n')"
   ]
  },
  {
   "cell_type": "code",
   "execution_count": 127,
   "id": "28ab5c93",
   "metadata": {},
   "outputs": [
    {
     "data": {
      "text/plain": [
       "front    8886\n",
       "4WD       171\n",
       "rear        4\n",
       "Name: Drive chain, dtype: int64"
      ]
     },
     "execution_count": 127,
     "metadata": {},
     "output_type": "execute_result"
    }
   ],
   "source": [
    "df['Drive chain'].value_counts()\n",
    "## we cleaned the data."
   ]
  },
  {
   "cell_type": "markdown",
   "id": "05865ed8",
   "metadata": {},
   "source": [
    "# Fuel"
   ]
  },
  {
   "cell_type": "code",
   "execution_count": 128,
   "id": "6def00a0",
   "metadata": {},
   "outputs": [
    {
     "data": {
      "text/plain": [
       "['\\n', 'Diesel (Particulate Filter)', '\\n']                                                                                  4315\n",
       "['\\n', 'Super 95', '\\n']                                                                                                     3338\n",
       "['\\n', 'Gasoline', '\\n']                                                                                                     3175\n",
       "['\\n', 'Diesel', '\\n']                                                                                                       2984\n",
       "['\\n', 'Super 95 / Regular/Benzine 91', '\\n']                                                                                 424\n",
       "                                                                                                                             ... \n",
       "['\\n', 'Regular/Benzine 91 / Super 95 / Regular/Benzine E10 91', '\\n']                                                          1\n",
       "['\\n', 'Super Plus 98 / Super E10 95', '\\n']                                                                                    1\n",
       "['\\n', 'Regular/Benzine 91 / Super 95 / Regular/Benzine E10 91 / Super E10 95 / Super Plus 98 / Super Plus E10 98', '\\n']       1\n",
       "['\\n', 'Regular/Benzine 91 / Super Plus 98 / Regular/Benzine E10 91 / Super 95 / Super E10 95 / Super Plus E10 98', '\\n']       1\n",
       "['\\n', 'Super Plus 98 / Super 95 / Super Plus E10 98', '\\n']                                                                    1\n",
       "Name: Fuel, Length: 77, dtype: int64"
      ]
     },
     "execution_count": 128,
     "metadata": {},
     "output_type": "execute_result"
    }
   ],
   "source": [
    "df['Fuel'].astype('str').value_counts(dropna=False)"
   ]
  },
  {
   "cell_type": "code",
   "execution_count": 129,
   "id": "da056d47",
   "metadata": {},
   "outputs": [
    {
     "data": {
      "text/plain": [
       "0                          Diesel (Particulate Filter)\n",
       "1                                             Gasoline\n",
       "2                          Diesel (Particulate Filter)\n",
       "3                          Diesel (Particulate Filter)\n",
       "4                          Diesel (Particulate Filter)\n",
       "                             ...                      \n",
       "15914                      Diesel (Particulate Filter)\n",
       "15915    Super 95 / Super Plus 98 (Particulate Filter)\n",
       "15916                                           Diesel\n",
       "15917                                           Diesel\n",
       "15918                                         Super 95\n",
       "Name: Fuel, Length: 15919, dtype: object"
      ]
     },
     "execution_count": 129,
     "metadata": {},
     "output_type": "execute_result"
    }
   ],
   "source": [
    "df['Fuel'].transform(lambda x: x[1] if type(x)==list else x)"
   ]
  },
  {
   "cell_type": "code",
   "execution_count": 130,
   "id": "ee904633",
   "metadata": {
    "scrolled": true
   },
   "outputs": [],
   "source": [
    "df['Fuel']=df['Fuel'].str[1].str.split(' ').str[0]"
   ]
  },
  {
   "cell_type": "code",
   "execution_count": 131,
   "id": "2b0fa4d5",
   "metadata": {
    "scrolled": true
   },
   "outputs": [
    {
     "data": {
      "text/plain": [
       "Diesel               7299\n",
       "Super                4790\n",
       "Gasoline             3252\n",
       "Regular/Benzine       503\n",
       "CNG                    36\n",
       "LPG                    16\n",
       "Liquid                 10\n",
       "Others                  6\n",
       "Electric/Gasoline       4\n",
       "Biogas                  1\n",
       "Domestic                1\n",
       "Electric                1\n",
       "Name: Fuel, dtype: int64"
      ]
     },
     "execution_count": 131,
     "metadata": {},
     "output_type": "execute_result"
    }
   ],
   "source": [
    "df['Fuel'].value_counts(dropna=False)"
   ]
  },
  {
   "cell_type": "code",
   "execution_count": 132,
   "id": "eebbe826",
   "metadata": {},
   "outputs": [],
   "source": [
    "def fuel_type(x):\n",
    "    if x=='Diesel':\n",
    "        return 'Diesel'\n",
    "    elif x=='Super' or x=='Gasoline' or x=='Regular/Benzine':\n",
    "        return 'Benzine'\n",
    "    elif x=='CNG' or x=='Liquid' or x=='LPG':\n",
    "        return 'LPG'\n",
    "    else:\n",
    "        return 'Other'\n",
    "    "
   ]
  },
  {
   "cell_type": "code",
   "execution_count": 133,
   "id": "577e3cde",
   "metadata": {},
   "outputs": [],
   "source": [
    "df['Fuel']=df['Fuel'].transform(fuel_type)"
   ]
  },
  {
   "cell_type": "code",
   "execution_count": 134,
   "id": "af4f80e6",
   "metadata": {},
   "outputs": [
    {
     "data": {
      "text/plain": [
       "Benzine    8545\n",
       "Diesel     7299\n",
       "LPG          62\n",
       "Other        13\n",
       "Name: Fuel, dtype: int64"
      ]
     },
     "execution_count": 134,
     "metadata": {},
     "output_type": "execute_result"
    }
   ],
   "source": [
    "df['Fuel'].value_counts(dropna=False)\n",
    "## We cleaned the data."
   ]
  },
  {
   "cell_type": "markdown",
   "id": "075ecc1a",
   "metadata": {},
   "source": [
    "# Consumption"
   ]
  },
  {
   "cell_type": "code",
   "execution_count": 135,
   "id": "f10930d1",
   "metadata": {},
   "outputs": [
    {
     "data": {
      "text/plain": [
       "nan                                                                                                 1906\n",
       "[['3.9 l/100 km (comb)'], ['4.1 l/100 km (city)'], ['3.7 l/100 km (country)']]                       304\n",
       "[['4.2 l/100 km (comb)'], ['5 l/100 km (city)'], ['3.7 l/100 km (country)']]                         276\n",
       "[['5.4 l/100 km (comb)'], ['6.8 l/100 km (city)'], ['4.5 l/100 km (country)']]                       257\n",
       "[['3.8 l/100 km (comb)'], ['4.3 l/100 km (city)'], ['3.5 l/100 km (country)']]                       253\n",
       "                                                                                                    ... \n",
       "[['4.2 l/100 km (comb)'], ['5.3 l/100 km (city)'], ['3.6 l/100 km (country)']]                         1\n",
       "['\\n', '5.1 l/100 km (comb)', '\\n', '6.4 l/100 km (city)', '\\n', '4.3 l/100 km (country)', '\\n']       1\n",
       "[['4.6 l/100 km (comb)'], ['5.4 l/100 km (city)'], ['6.7 l/100 km (country)']]                         1\n",
       "['\\n', '6.3 l/100 km (comb)', '\\n', '\\n', '\\n']                                                        1\n",
       "['\\n', '7.4 l/100 km (comb)', '\\n', '9.6 l/100 km (city)', '\\n', '6 l/100 km (country)', '\\n']         1\n",
       "Name: Consumption, Length: 882, dtype: int64"
      ]
     },
     "execution_count": 135,
     "metadata": {},
     "output_type": "execute_result"
    }
   ],
   "source": [
    "df['Consumption'].astype('str').value_counts(dropna=False)"
   ]
  },
  {
   "cell_type": "code",
   "execution_count": 136,
   "id": "c9f58d12",
   "metadata": {},
   "outputs": [],
   "source": [
    "def comb_finder(x):\n",
    "    if type(x)==list and len(x)==3:\n",
    "        return x[0]\n",
    "    elif type(x)==list and len(x)==7:\n",
    "        return x[1]\n",
    "    else :\n",
    "        return np.nan"
   ]
  },
  {
   "cell_type": "code",
   "execution_count": 137,
   "id": "49b0eb46",
   "metadata": {},
   "outputs": [],
   "source": [
    "df['Consumption_comb']=df['Consumption'].apply(comb_finder)"
   ]
  },
  {
   "cell_type": "code",
   "execution_count": 138,
   "id": "5c39131c",
   "metadata": {},
   "outputs": [],
   "source": [
    "def exit_list(x):\n",
    "    if type(x)==list and len(x)>0:\n",
    "        return x[0]\n",
    "    elif type(x)==list and len(x)==0:\n",
    "        return np.nan\n",
    "    else:\n",
    "        return x"
   ]
  },
  {
   "cell_type": "code",
   "execution_count": 139,
   "id": "e29fbcec",
   "metadata": {},
   "outputs": [],
   "source": [
    "df['Consumption_comb']=df['Consumption_comb'].apply(exit_list)"
   ]
  },
  {
   "cell_type": "code",
   "execution_count": 140,
   "id": "789e4693",
   "metadata": {},
   "outputs": [],
   "source": [
    "df['Consumption_comb']=df['Consumption_comb'].str.strip('l/100 km (comb)').str.strip('.').str.strip('kg').replace('',np.nan).astype('float')"
   ]
  },
  {
   "cell_type": "code",
   "execution_count": 141,
   "id": "65f57df7",
   "metadata": {},
   "outputs": [
    {
     "data": {
      "text/plain": [
       "NaN     2085\n",
       "5.0     1204\n",
       "4.0     1057\n",
       "5.4      764\n",
       "3.9      733\n",
       "4.4      623\n",
       "5.6      618\n",
       "4.7      601\n",
       "3.8      586\n",
       "4.8      546\n",
       "4.5      523\n",
       "6.0      506\n",
       "5.2      454\n",
       "4.2      435\n",
       "4.6      426\n",
       "4.9      392\n",
       "5.3      380\n",
       "5.5      380\n",
       "3.7      369\n",
       "5.9      368\n",
       "5.7      342\n",
       "4.3      307\n",
       "3.3      307\n",
       "3.5      288\n",
       "6.2      216\n",
       "3.6      194\n",
       "6.3      180\n",
       "5.8      163\n",
       "6.6      148\n",
       "6.8      136\n",
       "3.4      106\n",
       "3.0       76\n",
       "6.4       75\n",
       "7.4       66\n",
       "7.0       48\n",
       "6.5       43\n",
       "6.7       43\n",
       "6.9       27\n",
       "3.2       25\n",
       "8.3       20\n",
       "7.6       14\n",
       "8.0        7\n",
       "7.2        6\n",
       "7.8        6\n",
       "8.6        4\n",
       "5.1        3\n",
       "8.7        3\n",
       "7.9        3\n",
       "38.0       2\n",
       "7.3        2\n",
       "7.5        1\n",
       "43.0       1\n",
       "9.0        1\n",
       "55.0       1\n",
       "54.0       1\n",
       "2.0        1\n",
       "32.0       1\n",
       "33.0       1\n",
       "46.0       1\n",
       "Name: Consumption_comb, dtype: int64"
      ]
     },
     "execution_count": 141,
     "metadata": {},
     "output_type": "execute_result"
    }
   ],
   "source": [
    "df['Consumption_comb'].value_counts(dropna=False)"
   ]
  },
  {
   "cell_type": "code",
   "execution_count": 142,
   "id": "0dba59f9",
   "metadata": {},
   "outputs": [],
   "source": [
    "def city_finder(x):\n",
    "    if type(x)==list and len(x)==3:\n",
    "        return x[1]\n",
    "    elif type(x)==list and len(x)==7:\n",
    "        return x[3]\n",
    "    else :\n",
    "        return np.nan"
   ]
  },
  {
   "cell_type": "code",
   "execution_count": 143,
   "id": "092da3da",
   "metadata": {},
   "outputs": [],
   "source": [
    "df['Consumption_city']=df['Consumption'].apply(city_finder)"
   ]
  },
  {
   "cell_type": "code",
   "execution_count": 144,
   "id": "3078cfca",
   "metadata": {},
   "outputs": [],
   "source": [
    "df['Consumption_city']=df['Consumption_city'].apply(exit_list)"
   ]
  },
  {
   "cell_type": "code",
   "execution_count": 145,
   "id": "f6823d27",
   "metadata": {},
   "outputs": [],
   "source": [
    "df['Consumption_city']=df['Consumption_city'].str.strip('l/100 km (city)').str.strip('.').str.strip('kg').replace('',np.nan).astype('float')"
   ]
  },
  {
   "cell_type": "code",
   "execution_count": 146,
   "id": "2cd17109",
   "metadata": {},
   "outputs": [
    {
     "data": {
      "text/plain": [
       "NaN     2466\n",
       "5.0     1153\n",
       "5.8      633\n",
       "4.0      621\n",
       "4.5      580\n",
       "        ... \n",
       "43.0       2\n",
       "3.6        2\n",
       "66.0       1\n",
       "64.0       1\n",
       "9.7        1\n",
       "Name: Consumption_city, Length: 68, dtype: int64"
      ]
     },
     "execution_count": 146,
     "metadata": {},
     "output_type": "execute_result"
    }
   ],
   "source": [
    "df['Consumption_city'].value_counts(dropna=False)"
   ]
  },
  {
   "cell_type": "code",
   "execution_count": 147,
   "id": "dc882d23",
   "metadata": {},
   "outputs": [],
   "source": [
    "def country_finder(x):\n",
    "    if type(x)==list and len(x)==3:\n",
    "        return x[2]\n",
    "    elif type(x)==list and len(x)==7:\n",
    "        return x[5]\n",
    "    else :\n",
    "        return np.nan"
   ]
  },
  {
   "cell_type": "code",
   "execution_count": 148,
   "id": "c4744d4a",
   "metadata": {},
   "outputs": [],
   "source": [
    "df['Consumption_country']=df['Consumption'].apply(country_finder)"
   ]
  },
  {
   "cell_type": "code",
   "execution_count": 149,
   "id": "99fd4437",
   "metadata": {},
   "outputs": [],
   "source": [
    "df['Consumption_country']=df['Consumption_country'].apply(exit_list)"
   ]
  },
  {
   "cell_type": "code",
   "execution_count": 150,
   "id": "e0c6c329",
   "metadata": {},
   "outputs": [],
   "source": [
    "df['Consumption_country']=df['Consumption_country'].str.strip('l/100 km (country)').str.strip('.').str.strip('kg').replace('',np.nan).astype('float')"
   ]
  },
  {
   "cell_type": "code",
   "execution_count": 151,
   "id": "e30584f2",
   "metadata": {},
   "outputs": [],
   "source": [
    "df.drop(columns='Consumption',inplace=True)\n",
    "## we separated the info and created 3 new columns ,therefore we dropped original column."
   ]
  },
  {
   "cell_type": "markdown",
   "id": "ae528379",
   "metadata": {},
   "source": [
    "# CO2 Emission"
   ]
  },
  {
   "cell_type": "code",
   "execution_count": 152,
   "id": "50d1343f",
   "metadata": {
    "scrolled": true
   },
   "outputs": [
    {
     "data": {
      "text/plain": [
       "nan                              1808\n",
       "['\\n120 g CO2/km (comb)\\n']       740\n",
       "[[], [], []]                      628\n",
       "['\\n99 g CO2/km (comb)\\n']        545\n",
       "['\\n97 g CO2/km (comb)\\n']        537\n",
       "                                 ... \n",
       "['\\n14 g CO2/km (comb)\\n']          1\n",
       "['\\n1,060 g CO2/km (comb)\\n']       1\n",
       "['\\n51 g CO2/km (comb)\\n']          1\n",
       "['\\n165 g CO2/km (comb)\\n']         1\n",
       "['\\n193 g CO2/km (comb)\\n']         1\n",
       "Name: CO2 Emission, Length: 124, dtype: int64"
      ]
     },
     "execution_count": 152,
     "metadata": {},
     "output_type": "execute_result"
    }
   ],
   "source": [
    "df['CO2 Emission'].astype('str').value_counts(dropna=False)"
   ]
  },
  {
   "cell_type": "code",
   "execution_count": 153,
   "id": "2402caef",
   "metadata": {},
   "outputs": [
    {
     "data": {
      "text/plain": [
       "1400     [\\n97 g CO2/km (comb)\\n]\n",
       "1401    [\\n104 g CO2/km (comb)\\n]\n",
       "1402     [\\n98 g CO2/km (comb)\\n]\n",
       "1403     [\\n97 g CO2/km (comb)\\n]\n",
       "1404    [\\n102 g CO2/km (comb)\\n]\n",
       "1405    [\\n104 g CO2/km (comb)\\n]\n",
       "1406     [\\n97 g CO2/km (comb)\\n]\n",
       "1407    [\\n115 g CO2/km (comb)\\n]\n",
       "1408    [\\n102 g CO2/km (comb)\\n]\n",
       "1409     [\\n99 g CO2/km (comb)\\n]\n",
       "1410    [\\n102 g CO2/km (comb)\\n]\n",
       "1411    [\\n102 g CO2/km (comb)\\n]\n",
       "1412     [\\n97 g CO2/km (comb)\\n]\n",
       "1413    [\\n102 g CO2/km (comb)\\n]\n",
       "1414    [\\n102 g CO2/km (comb)\\n]\n",
       "1415    [\\n102 g CO2/km (comb)\\n]\n",
       "1416     [\\n97 g CO2/km (comb)\\n]\n",
       "1417     [\\n97 g CO2/km (comb)\\n]\n",
       "1418     [\\n97 g CO2/km (comb)\\n]\n",
       "1419     [\\n97 g CO2/km (comb)\\n]\n",
       "1420     [\\n97 g CO2/km (comb)\\n]\n",
       "1421                          NaN\n",
       "1422     [\\n97 g CO2/km (comb)\\n]\n",
       "1423     [\\n97 g CO2/km (comb)\\n]\n",
       "1424    [\\n102 g CO2/km (comb)\\n]\n",
       "1425     [\\n97 g CO2/km (comb)\\n]\n",
       "1426     [\\n97 g CO2/km (comb)\\n]\n",
       "1427                          NaN\n",
       "1428     [\\n97 g CO2/km (comb)\\n]\n",
       "1429     [\\n97 g CO2/km (comb)\\n]\n",
       "1430     [\\n97 g CO2/km (comb)\\n]\n",
       "1431     [\\n97 g CO2/km (comb)\\n]\n",
       "1432     [\\n97 g CO2/km (comb)\\n]\n",
       "1433     [\\n97 g CO2/km (comb)\\n]\n",
       "1434    [\\n104 g CO2/km (comb)\\n]\n",
       "1435     [\\n98 g CO2/km (comb)\\n]\n",
       "1436    [\\n102 g CO2/km (comb)\\n]\n",
       "1437    [\\n102 g CO2/km (comb)\\n]\n",
       "1438    [\\n102 g CO2/km (comb)\\n]\n",
       "1439    [\\n109 g CO2/km (comb)\\n]\n",
       "1440    [\\n104 g CO2/km (comb)\\n]\n",
       "1441    [\\n104 g CO2/km (comb)\\n]\n",
       "1442     [\\n97 g CO2/km (comb)\\n]\n",
       "1443    [\\n102 g CO2/km (comb)\\n]\n",
       "1444    [\\n102 g CO2/km (comb)\\n]\n",
       "1445                          NaN\n",
       "1446    [\\n102 g CO2/km (comb)\\n]\n",
       "1447    [\\n102 g CO2/km (comb)\\n]\n",
       "1448    [\\n102 g CO2/km (comb)\\n]\n",
       "1449    [\\n102 g CO2/km (comb)\\n]\n",
       "Name: CO2 Emission, dtype: object"
      ]
     },
     "execution_count": 153,
     "metadata": {},
     "output_type": "execute_result"
    }
   ],
   "source": [
    "df['CO2 Emission'].iloc[1400:1450]"
   ]
  },
  {
   "cell_type": "code",
   "execution_count": 154,
   "id": "8528368c",
   "metadata": {},
   "outputs": [],
   "source": [
    "def exit_list(x):\n",
    "    if type(x)==list and len(x)==1:\n",
    "        return x[0]\n",
    "    elif type(x)==list and len(x)==2:\n",
    "        return x[1]\n",
    "    elif type(x)==list and len(x)==3:\n",
    "        return np.nan\n",
    "    else:\n",
    "        return x"
   ]
  },
  {
   "cell_type": "code",
   "execution_count": 155,
   "id": "a6ef5ec2",
   "metadata": {},
   "outputs": [],
   "source": [
    "df['CO2 Emission']=df['CO2 Emission'].transform(exit_list).str.strip('\\n').str.extract('(\\d+)')"
   ]
  },
  {
   "cell_type": "code",
   "execution_count": 156,
   "id": "116ce1b6",
   "metadata": {},
   "outputs": [],
   "source": [
    "#df['CO2 Emission']=df['CO2 Emission'].str.strip('\\n').str.strip('g CO2/km (comb)').str.replace(',','').astype(float)"
   ]
  },
  {
   "cell_type": "code",
   "execution_count": 157,
   "id": "e8a626ad",
   "metadata": {},
   "outputs": [
    {
     "data": {
      "text/plain": [
       "8549     137\n",
       "12749    133\n",
       "13732    127\n",
       "4657     103\n",
       "6351     128\n",
       "13918    NaN\n",
       "1585     109\n",
       "11696    136\n",
       "5282     103\n",
       "5384     118\n",
       "10531    129\n",
       "14684    113\n",
       "3716     103\n",
       "10709    169\n",
       "11959    NaN\n",
       "6937      93\n",
       "277      102\n",
       "12148    129\n",
       "4263     106\n",
       "1492     107\n",
       "2993      99\n",
       "1914     110\n",
       "8200     133\n",
       "8300     137\n",
       "12230    139\n",
       "3940     NaN\n",
       "7124     104\n",
       "6481     103\n",
       "14304    133\n",
       "2667      99\n",
       "Name: CO2 Emission, dtype: object"
      ]
     },
     "execution_count": 157,
     "metadata": {},
     "output_type": "execute_result"
    }
   ],
   "source": [
    "df['CO2 Emission'].sample(30)\n",
    "## We cleaned the data for further processing"
   ]
  },
  {
   "cell_type": "markdown",
   "id": "834fbfb9",
   "metadata": {},
   "source": [
    "# Emission Class"
   ]
  },
  {
   "cell_type": "code",
   "execution_count": 158,
   "id": "ab741b4c",
   "metadata": {},
   "outputs": [
    {
     "data": {
      "text/plain": [
       "['\\nEuro 6\\n']          10139\n",
       "nan                      3021\n",
       "['\\nEuro 6d-TEMP\\n']     1845\n",
       "[[], [], []]              607\n",
       "['\\nEuro 6c\\n']           127\n",
       "['\\nEuro 5\\n']             78\n",
       "['\\nEuro 6d\\n']            62\n",
       "['\\nEuro 4\\n']             40\n",
       "Name: Emission Class, dtype: int64"
      ]
     },
     "execution_count": 158,
     "metadata": {},
     "output_type": "execute_result"
    }
   ],
   "source": [
    "df['Emission Class'].astype('str').value_counts(dropna=False)"
   ]
  },
  {
   "cell_type": "code",
   "execution_count": 159,
   "id": "ad1f83d8",
   "metadata": {},
   "outputs": [],
   "source": [
    "def exit_list(x):\n",
    "    if type(x)==list and len(x)==1:\n",
    "        return x[0]\n",
    "    elif type(x)==list and len(x)==2:\n",
    "        return x[1]\n",
    "    elif type(x)==list and len(x)==3:\n",
    "        return np.nan\n",
    "    else:\n",
    "        return x"
   ]
  },
  {
   "cell_type": "code",
   "execution_count": 160,
   "id": "b2ef65d2",
   "metadata": {},
   "outputs": [],
   "source": [
    "df['Emission Class']=df['Emission Class'].apply(exit_list).str.strip('\\n').replace(['Euro 6d-TEMP','Euro 6c','Euro 6d'],'Euro 6')"
   ]
  },
  {
   "cell_type": "code",
   "execution_count": 161,
   "id": "62e005af",
   "metadata": {},
   "outputs": [
    {
     "data": {
      "text/plain": [
       "Euro 6    12173\n",
       "NaN        3628\n",
       "Euro 5       78\n",
       "Euro 4       40\n",
       "Name: Emission Class, dtype: int64"
      ]
     },
     "execution_count": 161,
     "metadata": {},
     "output_type": "execute_result"
    }
   ],
   "source": [
    "df['Emission Class'].value_counts(dropna=False)\n",
    "##Data has been cleaned."
   ]
  },
  {
   "cell_type": "markdown",
   "id": "d722160b",
   "metadata": {},
   "source": [
    "# Comfort & Convenience"
   ]
  },
  {
   "cell_type": "code",
   "execution_count": 162,
   "id": "0f16bc69",
   "metadata": {},
   "outputs": [
    {
     "data": {
      "text/plain": [
       "nan                                                                                                                                                                                                                                                                                                                                                                                                                                                                                                                                                                        920\n",
       "['Air conditioning', 'Electrical side mirrors', 'Hill Holder', 'Power windows']                                                                                                                                                                                                                                                                                                                                                                                                                                                                                            216\n",
       "['Air conditioning', 'Electrical side mirrors', 'Power windows']                                                                                                                                                                                                                                                                                                                                                                                                                                                                                                           134\n",
       "['Air conditioning', 'Power windows']                                                                                                                                                                                                                                                                                                                                                                                                                                                                                                                                      130\n",
       "['Air conditioning', 'Armrest', 'Automatic climate control', 'Cruise control', 'Electrical side mirrors', 'Leather steering wheel', 'Light sensor', 'Lumbar support', 'Multi-function steering wheel', 'Navigation system', 'Park Distance Control', 'Parking assist system sensors front', 'Parking assist system sensors rear', 'Power windows', 'Rain sensor', 'Seat heating', 'Start-stop system']                                                                                                                                                                     105\n",
       "                                                                                                                                                                                                                                                                                                                                                                                                                                                                                                                                                                          ... \n",
       "['Air conditioning', 'Cruise control', 'Electrical side mirrors', 'Hill Holder', 'Leather steering wheel', 'Light sensor', 'Multi-function steering wheel', 'Navigation system', 'Park Distance Control', 'Parking assist system sensors rear', 'Power windows', 'Rain sensor', 'Split rear seats', 'Start-stop system', 'Tinted windows']                                                                                                                                                                                                                                   1\n",
       "['Air conditioning', 'Armrest', 'Automatic climate control', 'Cruise control', 'Electrical side mirrors', 'Heated steering wheel', 'Hill Holder', 'Leather steering wheel', 'Light sensor', 'Lumbar support', 'Multi-function steering wheel', 'Navigation system', 'Park Distance Control', 'Parking assist system camera', 'Parking assist system sensors front', 'Parking assist system sensors rear', 'Power windows', 'Rain sensor', 'Seat heating', 'Sunroof']                                                                                                         1\n",
       "['Air conditioning', 'Armrest', 'Cruise control', 'Electrical side mirrors', 'Heated steering wheel', 'Hill Holder', 'Leather steering wheel', 'Light sensor', 'Multi-function steering wheel', 'Park Distance Control', 'Parking assist system camera', 'Parking assist system sensors front', 'Parking assist system sensors rear', 'Power windows', 'Rain sensor', 'Seat heating', 'Split rear seats', 'Start-stop system', 'Tinted windows']                                                                                                                             1\n",
       "['Air conditioning', 'Automatic climate control', 'Cruise control', 'Electrical side mirrors', 'Leather steering wheel', 'Light sensor', 'Multi-function steering wheel', 'Park Distance Control', 'Parking assist system sensors front', 'Parking assist system sensors rear', 'Power windows', 'Rain sensor', 'Seat heating']                                                                                                                                                                                                                                              1\n",
       "['Air conditioning', 'Automatic climate control', 'Cruise control', 'Electrically heated windshield', 'Electrical side mirrors', 'Electric tailgate', 'Heads-up display', 'Heated steering wheel', 'Hill Holder', 'Keyless central door lock', 'Leather steering wheel', 'Light sensor', 'Lumbar support', 'Navigation system', 'Park Distance Control', 'Parking assist system camera', 'Parking assist system self-steering', 'Parking assist system sensors front', 'Parking assist system sensors rear', 'Power windows', 'Rain sensor', 'Seat heating', 'Sunroof']      1\n",
       "Name: \\nComfort & Convenience\\n, Length: 6199, dtype: int64"
      ]
     },
     "execution_count": 162,
     "metadata": {},
     "output_type": "execute_result"
    }
   ],
   "source": [
    "df['\\nComfort & Convenience\\n'].astype(str).value_counts(dropna=False)"
   ]
  },
  {
   "cell_type": "code",
   "execution_count": 163,
   "id": "12940069",
   "metadata": {},
   "outputs": [
    {
     "name": "stderr",
     "output_type": "stream",
     "text": [
      "C:\\Users\\90543\\AppData\\Local\\Temp/ipykernel_5300/2511376170.py:1: FutureWarning: The default value of regex will change from True to False in a future version. In addition, single character regular expressions will *not* be treated as literal strings when regex=True.\n",
      "  df['Comfort & Convenience']=df['\\nComfort & Convenience\\n'].astype('str').str.replace('[','').str.replace(']','').str.replace(\"'\",'')\n"
     ]
    }
   ],
   "source": [
    "df['Comfort & Convenience']=df['\\nComfort & Convenience\\n'].astype('str').str.replace('[','').str.replace(']','').str.replace(\"'\",'')"
   ]
  },
  {
   "cell_type": "code",
   "execution_count": 164,
   "id": "8eb1fd7e",
   "metadata": {},
   "outputs": [
    {
     "data": {
      "text/plain": [
       "nan                                                                                                                                                                                                                                                                                                                                                                                                                                                                                                                        920\n",
       "Air conditioning, Electrical side mirrors, Hill Holder, Power windows                                                                                                                                                                                                                                                                                                                                                                                                                                                      216\n",
       "Air conditioning, Electrical side mirrors, Power windows                                                                                                                                                                                                                                                                                                                                                                                                                                                                   134\n",
       "Air conditioning, Power windows                                                                                                                                                                                                                                                                                                                                                                                                                                                                                            130\n",
       "Air conditioning, Armrest, Automatic climate control, Cruise control, Electrical side mirrors, Leather steering wheel, Light sensor, Lumbar support, Multi-function steering wheel, Navigation system, Park Distance Control, Parking assist system sensors front, Parking assist system sensors rear, Power windows, Rain sensor, Seat heating, Start-stop system                                                                                                                                                         105\n",
       "                                                                                                                                                                                                                                                                                                                                                                                                                                                                                                                          ... \n",
       "Air conditioning, Cruise control, Electrical side mirrors, Hill Holder, Leather steering wheel, Light sensor, Multi-function steering wheel, Navigation system, Park Distance Control, Parking assist system sensors rear, Power windows, Rain sensor, Split rear seats, Start-stop system, Tinted windows                                                                                                                                                                                                                   1\n",
       "Air conditioning, Armrest, Automatic climate control, Cruise control, Electrical side mirrors, Heated steering wheel, Hill Holder, Leather steering wheel, Light sensor, Lumbar support, Multi-function steering wheel, Navigation system, Park Distance Control, Parking assist system camera, Parking assist system sensors front, Parking assist system sensors rear, Power windows, Rain sensor, Seat heating, Sunroof                                                                                                   1\n",
       "Air conditioning, Armrest, Cruise control, Electrical side mirrors, Heated steering wheel, Hill Holder, Leather steering wheel, Light sensor, Multi-function steering wheel, Park Distance Control, Parking assist system camera, Parking assist system sensors front, Parking assist system sensors rear, Power windows, Rain sensor, Seat heating, Split rear seats, Start-stop system, Tinted windows                                                                                                                     1\n",
       "Air conditioning, Automatic climate control, Cruise control, Electrical side mirrors, Leather steering wheel, Light sensor, Multi-function steering wheel, Park Distance Control, Parking assist system sensors front, Parking assist system sensors rear, Power windows, Rain sensor, Seat heating                                                                                                                                                                                                                          1\n",
       "Air conditioning, Automatic climate control, Cruise control, Electrically heated windshield, Electrical side mirrors, Electric tailgate, Heads-up display, Heated steering wheel, Hill Holder, Keyless central door lock, Leather steering wheel, Light sensor, Lumbar support, Navigation system, Park Distance Control, Parking assist system camera, Parking assist system self-steering, Parking assist system sensors front, Parking assist system sensors rear, Power windows, Rain sensor, Seat heating, Sunroof      1\n",
       "Name: Comfort & Convenience, Length: 6199, dtype: int64"
      ]
     },
     "execution_count": 164,
     "metadata": {},
     "output_type": "execute_result"
    }
   ],
   "source": [
    "df['Comfort & Convenience'].value_counts(dropna=False)\n",
    "# We cleaned data for more processing in the future and we will drop the old column."
   ]
  },
  {
   "cell_type": "code",
   "execution_count": 165,
   "id": "29743233",
   "metadata": {},
   "outputs": [],
   "source": [
    "df.drop(columns='\\nComfort & Convenience\\n',inplace=True)"
   ]
  },
  {
   "cell_type": "markdown",
   "id": "2da765fb",
   "metadata": {},
   "source": [
    "# Entertainment & Media"
   ]
  },
  {
   "cell_type": "code",
   "execution_count": 166,
   "id": "5333150b",
   "metadata": {},
   "outputs": [
    {
     "data": {
      "text/plain": [
       "nan                                                                                                                             1374\n",
       "['Bluetooth', 'Hands-free equipment', 'On-board computer', 'Radio', 'USB']                                                      1282\n",
       "['Bluetooth', 'Hands-free equipment', 'MP3', 'On-board computer', 'Radio', 'USB']                                                982\n",
       "['Bluetooth', 'CD player', 'Hands-free equipment', 'MP3', 'On-board computer', 'Radio', 'USB']                                   783\n",
       "['On-board computer', 'Radio']                                                                                                   487\n",
       "                                                                                                                                ... \n",
       "['Bluetooth', 'CD player', 'Digital radio', 'Hands-free equipment', 'Radio']                                                       1\n",
       "['CD player', 'Hands-free equipment', 'MP3', 'Radio', 'USB']                                                                       1\n",
       "['MP3', 'Radio', 'Sound system', 'USB']                                                                                            1\n",
       "['Bluetooth', 'MP3', 'On-board computer', 'Radio', 'Television', 'USB']                                                            1\n",
       "['Bluetooth', 'CD player', 'Hands-free equipment', 'MP3', 'On-board computer', 'Radio', 'Sound system', 'Television', 'USB']       1\n",
       "Name: \\nEntertainment & Media\\n, Length: 347, dtype: int64"
      ]
     },
     "execution_count": 166,
     "metadata": {},
     "output_type": "execute_result"
    }
   ],
   "source": [
    "df['\\nEntertainment & Media\\n'].astype('str').value_counts(dropna=False)"
   ]
  },
  {
   "cell_type": "code",
   "execution_count": 167,
   "id": "2fc3cb70",
   "metadata": {},
   "outputs": [
    {
     "name": "stderr",
     "output_type": "stream",
     "text": [
      "C:\\Users\\90543\\AppData\\Local\\Temp/ipykernel_5300/1237862579.py:1: FutureWarning: The default value of regex will change from True to False in a future version. In addition, single character regular expressions will *not* be treated as literal strings when regex=True.\n",
      "  df['Entertainment & Media']=df['\\nEntertainment & Media\\n'].astype('str').str.replace('[','').str.replace(']','').str.replace(\"'\",'')\n"
     ]
    }
   ],
   "source": [
    "df['Entertainment & Media']=df['\\nEntertainment & Media\\n'].astype('str').str.replace('[','').str.replace(']','').str.replace(\"'\",'')"
   ]
  },
  {
   "cell_type": "code",
   "execution_count": 168,
   "id": "330f3ea3",
   "metadata": {},
   "outputs": [
    {
     "data": {
      "text/plain": [
       "nan                                                                                                         1374\n",
       "Bluetooth, Hands-free equipment, On-board computer, Radio, USB                                              1282\n",
       "Bluetooth, Hands-free equipment, MP3, On-board computer, Radio, USB                                          982\n",
       "Bluetooth, CD player, Hands-free equipment, MP3, On-board computer, Radio, USB                               783\n",
       "On-board computer, Radio                                                                                     487\n",
       "                                                                                                            ... \n",
       "Bluetooth, CD player, Digital radio, Hands-free equipment, Radio                                               1\n",
       "CD player, Hands-free equipment, MP3, Radio, USB                                                               1\n",
       "MP3, Radio, Sound system, USB                                                                                  1\n",
       "Bluetooth, MP3, On-board computer, Radio, Television, USB                                                      1\n",
       "Bluetooth, CD player, Hands-free equipment, MP3, On-board computer, Radio, Sound system, Television, USB       1\n",
       "Name: Entertainment & Media, Length: 347, dtype: int64"
      ]
     },
     "execution_count": 168,
     "metadata": {},
     "output_type": "execute_result"
    }
   ],
   "source": [
    "df['Entertainment & Media'].value_counts(dropna=False)\n",
    "# We cleaned the old column and created a new column so we can drop old column."
   ]
  },
  {
   "cell_type": "code",
   "execution_count": 169,
   "id": "1d83fac4",
   "metadata": {},
   "outputs": [],
   "source": [
    "df.drop(columns='\\nEntertainment & Media\\n',inplace=True)"
   ]
  },
  {
   "cell_type": "markdown",
   "id": "e93fddf3",
   "metadata": {},
   "source": [
    "# Extras"
   ]
  },
  {
   "cell_type": "code",
   "execution_count": 170,
   "id": "775d70b5",
   "metadata": {},
   "outputs": [
    {
     "data": {
      "text/plain": [
       "['Alloy wheels']                                                                                                                 3245\n",
       "nan                                                                                                                              2962\n",
       "['Alloy wheels', 'Touch screen']                                                                                                  697\n",
       "['Alloy wheels', 'Voice Control']                                                                                                 577\n",
       "['Alloy wheels', 'Touch screen', 'Voice Control']                                                                                 541\n",
       "                                                                                                                                 ... \n",
       "['Alloy wheels', 'Catalytic Converter', 'Shift paddles', 'Sport package', 'Sport seats', 'Sport suspension', 'Voice Control']       1\n",
       "['Alloy wheels', 'Catalytic Converter', 'Roof rack', 'Sport package', 'Sport seats', 'Trailer hitch']                               1\n",
       "['Alloy wheels', 'Catalytic Converter', 'Ski bag', 'Sport package', 'Voice Control']                                                1\n",
       "['Catalytic Converter', 'Roof rack', 'Sport seats', 'Sport suspension']                                                             1\n",
       "['Alloy wheels', 'Shift paddles', 'Ski bag', 'Sport seats', 'Sport suspension', 'Touch screen', 'Voice Control']                    1\n",
       "Name: \\nExtras\\n, Length: 660, dtype: int64"
      ]
     },
     "execution_count": 170,
     "metadata": {},
     "output_type": "execute_result"
    }
   ],
   "source": [
    "df['\\nExtras\\n'].astype('str').value_counts(dropna=False)"
   ]
  },
  {
   "cell_type": "code",
   "execution_count": 171,
   "id": "5abd9fe0",
   "metadata": {},
   "outputs": [
    {
     "name": "stderr",
     "output_type": "stream",
     "text": [
      "C:\\Users\\90543\\AppData\\Local\\Temp/ipykernel_5300/603647440.py:1: FutureWarning: The default value of regex will change from True to False in a future version. In addition, single character regular expressions will *not* be treated as literal strings when regex=True.\n",
      "  df['Extras']=df['\\nExtras\\n'].astype('str').str.replace('[','').str.replace(']','').str.replace(\"'\",'')\n"
     ]
    }
   ],
   "source": [
    "df['Extras']=df['\\nExtras\\n'].astype('str').str.replace('[','').str.replace(']','').str.replace(\"'\",'')\n",
    "# We cleaned the data."
   ]
  },
  {
   "cell_type": "code",
   "execution_count": 172,
   "id": "b05cde02",
   "metadata": {},
   "outputs": [],
   "source": [
    "df.drop(columns='\\nExtras\\n',inplace=True)\n",
    "#We created new one, so we dropped old column."
   ]
  },
  {
   "cell_type": "markdown",
   "id": "a5e4a268",
   "metadata": {},
   "source": [
    "# Safety & Security"
   ]
  },
  {
   "cell_type": "code",
   "execution_count": 173,
   "id": "ab324e2b",
   "metadata": {},
   "outputs": [
    {
     "data": {
      "text/plain": [
       "nan                                                                                                                                                                                                                                                                                                                                                                                                                      982\n",
       "['ABS', 'Central door lock', 'Daytime running lights', 'Driver-side airbag', 'Electronic stability control', 'Fog lights', 'Immobilizer', 'Isofix', 'Passenger-side airbag', 'Power steering', 'Side airbag', 'Tire pressure monitoring system', 'Traction control']                                                                                                                                                     538\n",
       "['ABS', 'Central door lock', 'Daytime running lights', 'Driver-side airbag', 'Electronic stability control', 'Immobilizer', 'Isofix', 'Passenger-side airbag', 'Power steering', 'Side airbag', 'Tire pressure monitoring system', 'Traction control']                                                                                                                                                                   480\n",
       "['ABS', 'Central door lock', 'Daytime running lights', 'Driver-side airbag', 'Electronic stability control', 'Immobilizer', 'Isofix', 'Passenger-side airbag', 'Power steering', 'Side airbag', 'Tire pressure monitoring system', 'Traction control', 'Xenon headlights']                                                                                                                                               275\n",
       "['ABS', 'Central door lock', 'Daytime running lights', 'Driver-side airbag', 'Electronic stability control', 'Fog lights', 'Immobilizer', 'Isofix', 'LED Daytime Running Lights', 'Passenger-side airbag', 'Power steering', 'Side airbag', 'Tire pressure monitoring system', 'Traction control']                                                                                                                       272\n",
       "                                                                                                                                                                                                                                                                                                                                                                                                                        ... \n",
       "['ABS', 'Central door lock', 'Electronic stability control', 'Immobilizer', 'Isofix', 'Passenger-side airbag', 'Power steering', 'Side airbag']                                                                                                                                                                                                                                                                            1\n",
       "['ABS', 'Adaptive Cruise Control', 'Central door lock', 'Daytime running lights', 'Driver-side airbag', 'Electronic stability control', 'Emergency brake assistant', 'Immobilizer', 'Isofix', 'Passenger-side airbag', 'Power steering', 'Side airbag', 'Tire pressure monitoring system', 'Traction control']                                                                                                             1\n",
       "['ABS', 'Adaptive Cruise Control', 'Alarm system', 'Central door lock', 'Driver-side airbag', 'Electronic stability control', 'Fog lights', 'Immobilizer', 'Isofix', 'Lane departure warning system', 'LED Daytime Running Lights', 'Passenger-side airbag', 'Power steering', 'Side airbag', 'Tire pressure monitoring system', 'Traction control', 'Xenon headlights']                                                   1\n",
       "['ABS', 'Adaptive Cruise Control', 'Central door lock', 'Daytime running lights', 'Driver-side airbag', 'Electronic stability control', 'Fog lights', 'Immobilizer', 'Isofix', 'Power steering', 'Tire pressure monitoring system', 'Traction control']                                                                                                                                                                    1\n",
       "['ABS', 'Adaptive Cruise Control', 'Central door lock', 'Daytime running lights', 'Driver-side airbag', 'Electronic stability control', 'Emergency brake assistant', 'Fog lights', 'Immobilizer', 'Isofix', 'Lane departure warning system', 'LED Daytime Running Lights', 'LED Headlights', 'Passenger-side airbag', 'Power steering', 'Side airbag', 'Tire pressure monitoring system', 'Traffic sign recognition']      1\n",
       "Name: \\nSafety & Security\\n, Length: 4444, dtype: int64"
      ]
     },
     "execution_count": 173,
     "metadata": {},
     "output_type": "execute_result"
    }
   ],
   "source": [
    "df['\\nSafety & Security\\n'].astype('str').value_counts(dropna=False)"
   ]
  },
  {
   "cell_type": "code",
   "execution_count": 174,
   "id": "2ab601a3",
   "metadata": {},
   "outputs": [
    {
     "name": "stderr",
     "output_type": "stream",
     "text": [
      "C:\\Users\\90543\\AppData\\Local\\Temp/ipykernel_5300/1247230620.py:1: FutureWarning: The default value of regex will change from True to False in a future version. In addition, single character regular expressions will *not* be treated as literal strings when regex=True.\n",
      "  df['Safety & Security']=df['\\nSafety & Security\\n'].astype('str').str.replace('[','').str.replace(']','').str.replace(\"'\",'')\n"
     ]
    }
   ],
   "source": [
    "df['Safety & Security']=df['\\nSafety & Security\\n'].astype('str').str.replace('[','').str.replace(']','').str.replace(\"'\",'')"
   ]
  },
  {
   "cell_type": "code",
   "execution_count": 175,
   "id": "fbd56d3f",
   "metadata": {},
   "outputs": [
    {
     "data": {
      "text/plain": [
       "nan                                                                                                                                                                                                                                                                                                                                                                                982\n",
       "ABS, Central door lock, Daytime running lights, Driver-side airbag, Electronic stability control, Fog lights, Immobilizer, Isofix, Passenger-side airbag, Power steering, Side airbag, Tire pressure monitoring system, Traction control                                                                                                                                           538\n",
       "ABS, Central door lock, Daytime running lights, Driver-side airbag, Electronic stability control, Immobilizer, Isofix, Passenger-side airbag, Power steering, Side airbag, Tire pressure monitoring system, Traction control                                                                                                                                                       480\n",
       "ABS, Central door lock, Daytime running lights, Driver-side airbag, Electronic stability control, Immobilizer, Isofix, Passenger-side airbag, Power steering, Side airbag, Tire pressure monitoring system, Traction control, Xenon headlights                                                                                                                                     275\n",
       "ABS, Central door lock, Daytime running lights, Driver-side airbag, Electronic stability control, Fog lights, Immobilizer, Isofix, LED Daytime Running Lights, Passenger-side airbag, Power steering, Side airbag, Tire pressure monitoring system, Traction control                                                                                                               272\n",
       "                                                                                                                                                                                                                                                                                                                                                                                  ... \n",
       "ABS, Central door lock, Electronic stability control, Immobilizer, Isofix, Passenger-side airbag, Power steering, Side airbag                                                                                                                                                                                                                                                        1\n",
       "ABS, Adaptive Cruise Control, Central door lock, Daytime running lights, Driver-side airbag, Electronic stability control, Emergency brake assistant, Immobilizer, Isofix, Passenger-side airbag, Power steering, Side airbag, Tire pressure monitoring system, Traction control                                                                                                     1\n",
       "ABS, Adaptive Cruise Control, Alarm system, Central door lock, Driver-side airbag, Electronic stability control, Fog lights, Immobilizer, Isofix, Lane departure warning system, LED Daytime Running Lights, Passenger-side airbag, Power steering, Side airbag, Tire pressure monitoring system, Traction control, Xenon headlights                                                 1\n",
       "ABS, Adaptive Cruise Control, Central door lock, Daytime running lights, Driver-side airbag, Electronic stability control, Fog lights, Immobilizer, Isofix, Power steering, Tire pressure monitoring system, Traction control                                                                                                                                                        1\n",
       "ABS, Adaptive Cruise Control, Central door lock, Daytime running lights, Driver-side airbag, Electronic stability control, Emergency brake assistant, Fog lights, Immobilizer, Isofix, Lane departure warning system, LED Daytime Running Lights, LED Headlights, Passenger-side airbag, Power steering, Side airbag, Tire pressure monitoring system, Traffic sign recognition      1\n",
       "Name: Safety & Security, Length: 4444, dtype: int64"
      ]
     },
     "execution_count": 175,
     "metadata": {},
     "output_type": "execute_result"
    }
   ],
   "source": [
    "df['Safety & Security'].value_counts(dropna=False)"
   ]
  },
  {
   "cell_type": "code",
   "execution_count": 176,
   "id": "e93cd289",
   "metadata": {},
   "outputs": [],
   "source": [
    "df.drop(columns='\\nSafety & Security\\n',inplace=True)\n",
    "#data has been cleaned and new column has been created."
   ]
  },
  {
   "cell_type": "markdown",
   "id": "23dbb388",
   "metadata": {},
   "source": [
    "# description"
   ]
  },
  {
   "cell_type": "code",
   "execution_count": 177,
   "id": "b574b393",
   "metadata": {},
   "outputs": [
    {
     "data": {
      "text/plain": [
       "0        [\\n, Sicherheit:,  , Deaktivierung für Beifahr...\n",
       "1        [\\nLangstreckenfahrzeug daher die hohe Kilomet...\n",
       "2        [\\n, Fahrzeug-Nummer: AM-95365,  , Ehem. UPE 2...\n",
       "3        [\\nAudi A1: , - 1e eigenaar , - Perfecte staat...\n",
       "4        [\\n, Technik & Sicherheit:, Xenon plus, Klimaa...\n",
       "                               ...                        \n",
       "15914    [\\nVettura visionabile nella sede in Via Roma ...\n",
       "15915    [\\nDach: Panorama-Glas-Schiebedach, Lackierung...\n",
       "15916    [\\n, Getriebe:,  Automatik, Technik:,  Bordcom...\n",
       "15917    [\\nDEK:[2691331], Renault Espace Blue dCi 200C...\n",
       "15918    [\\n, Sicherheit Airbags:,  , Seitenairbag,  , ...\n",
       "Name: description, Length: 15919, dtype: object"
      ]
     },
     "execution_count": 177,
     "metadata": {},
     "output_type": "execute_result"
    }
   ],
   "source": [
    "df['description']"
   ]
  },
  {
   "cell_type": "code",
   "execution_count": 178,
   "id": "c11bc5a8",
   "metadata": {},
   "outputs": [],
   "source": [
    "df.drop(columns='description',inplace=True)\n",
    "# We dropped this column because this column not only in german ,also unnecessary."
   ]
  },
  {
   "cell_type": "markdown",
   "id": "1874d324",
   "metadata": {},
   "source": [
    "# Emission Label"
   ]
  },
  {
   "cell_type": "code",
   "execution_count": 179,
   "id": "da42fa15",
   "metadata": {},
   "outputs": [
    {
     "data": {
      "text/plain": [
       "nan                       11934\n",
       "['\\n4 (Green)\\n']          3553\n",
       "['\\n1 (No sticker)\\n']      381\n",
       "[[], [], []]                 40\n",
       "['\\n5 (Blue)\\n']              8\n",
       "['\\n3 (Yellow)\\n']            2\n",
       "['\\n2 (Red)\\n']               1\n",
       "Name: Emission Label, dtype: int64"
      ]
     },
     "execution_count": 179,
     "metadata": {},
     "output_type": "execute_result"
    }
   ],
   "source": [
    "df['Emission Label'].astype('str').value_counts(dropna=False)"
   ]
  },
  {
   "cell_type": "code",
   "execution_count": 180,
   "id": "d2e2dcdb",
   "metadata": {},
   "outputs": [],
   "source": [
    "df.drop(columns='Emission Label',inplace=True)\n",
    "#we also dropped this column as it has too much missing  and meaningless value."
   ]
  },
  {
   "cell_type": "markdown",
   "id": "c6cfa6f9",
   "metadata": {},
   "source": [
    "# Gears"
   ]
  },
  {
   "cell_type": "code",
   "execution_count": 181,
   "id": "224a0159",
   "metadata": {},
   "outputs": [
    {
     "data": {
      "text/plain": [
       "['\\n6\\n']     5822\n",
       "nan           4712\n",
       "['\\n5\\n']     3239\n",
       "['\\n7\\n']     1908\n",
       "['\\n8\\n']      224\n",
       "['\\n9\\n']        6\n",
       "['\\n1\\n']        2\n",
       "['\\n3\\n']        2\n",
       "['\\n4\\n']        2\n",
       "['\\n2\\n']        1\n",
       "['\\n50\\n']       1\n",
       "Name: Gears, dtype: int64"
      ]
     },
     "execution_count": 181,
     "metadata": {},
     "output_type": "execute_result"
    }
   ],
   "source": [
    "df['Gears'].astype('str').value_counts(dropna=False)"
   ]
  },
  {
   "cell_type": "code",
   "execution_count": 182,
   "id": "37225e64",
   "metadata": {},
   "outputs": [],
   "source": [
    "df['Gears']=df['Gears'].str[0].str.strip('\\n')"
   ]
  },
  {
   "cell_type": "code",
   "execution_count": 183,
   "id": "e89bf32e",
   "metadata": {},
   "outputs": [
    {
     "data": {
      "text/plain": [
       "6      5822\n",
       "NaN    4712\n",
       "5      3239\n",
       "7      1908\n",
       "8       224\n",
       "9         6\n",
       "1         2\n",
       "3         2\n",
       "4         2\n",
       "2         1\n",
       "50        1\n",
       "Name: Gears, dtype: int64"
      ]
     },
     "execution_count": 183,
     "metadata": {},
     "output_type": "execute_result"
    }
   ],
   "source": [
    "df['Gears'].value_counts(dropna=False)\n",
    "# We cleaned the data."
   ]
  },
  {
   "cell_type": "markdown",
   "id": "b666302e",
   "metadata": {},
   "source": [
    "# Country version"
   ]
  },
  {
   "cell_type": "code",
   "execution_count": 184,
   "id": "b2818046",
   "metadata": {},
   "outputs": [
    {
     "data": {
      "text/plain": [
       "nan                       8333\n",
       "['\\nGermany\\n']           4502\n",
       "['\\nItaly\\n']             1038\n",
       "['\\nEuropean Union\\n']     507\n",
       "['\\nNetherlands\\n']        464\n",
       "['\\nSpain\\n']              325\n",
       "['\\nBelgium\\n']            314\n",
       "['\\nAustria\\n']            208\n",
       "['\\nCzech Republic\\n']      52\n",
       "['\\nPoland\\n']              49\n",
       "['\\nFrance\\n']              38\n",
       "['\\nDenmark\\n']             33\n",
       "['\\nHungary\\n']             28\n",
       "['\\nJapan\\n']                8\n",
       "['\\nSlovakia\\n']             4\n",
       "['\\nCroatia\\n']              4\n",
       "['\\nSweden\\n']               3\n",
       "['\\nRomania\\n']              2\n",
       "['\\nBulgaria\\n']             2\n",
       "['\\nLuxembourg\\n']           1\n",
       "['\\nSwitzerland\\n']          1\n",
       "['\\nSlovenia\\n']             1\n",
       "['\\nEgypt\\n']                1\n",
       "['\\nSerbia\\n']               1\n",
       "Name: Country version, dtype: int64"
      ]
     },
     "execution_count": 184,
     "metadata": {},
     "output_type": "execute_result"
    }
   ],
   "source": [
    "df['Country version'].astype('str').value_counts(dropna=False)"
   ]
  },
  {
   "cell_type": "code",
   "execution_count": 185,
   "id": "2eee2680",
   "metadata": {},
   "outputs": [],
   "source": [
    "df.drop(columns='Country version',inplace=True)\n",
    "#  half of data missing and other half  all from European Union >>\n",
    "# >>>> so maybe we deopped this column"
   ]
  },
  {
   "cell_type": "code",
   "execution_count": 194,
   "id": "7b723e89",
   "metadata": {},
   "outputs": [
    {
     "data": {
      "text/plain": [
       "Index(['body_type', 'price', 'vat', 'km', 'prev_owner', 'hp', 'Type',\n",
       "       'Warranty', 'Body Color', 'Paint Type', 'Body Color Original',\n",
       "       'Nr. of Doors', 'Nr. of Seats', 'Gearing Type', 'Displacement',\n",
       "       'Cylinders', 'Weight', 'Drive chain', 'Fuel', 'CO2 Emission',\n",
       "       'Emission Class', 'Gears', 'age', 'Upholstery_type', 'Upholstery_color',\n",
       "       'Consumption_comb', 'Consumption_city', 'Consumption_country',\n",
       "       'Comfort & Convenience', 'Entertainment & Media', 'Extras',\n",
       "       'Safety & Security', 'brand_model'],\n",
       "      dtype='object')"
      ]
     },
     "execution_count": 194,
     "metadata": {},
     "output_type": "execute_result"
    }
   ],
   "source": [
    "df.columns"
   ]
  },
  {
   "cell_type": "code",
   "execution_count": 195,
   "id": "8dd087c4",
   "metadata": {},
   "outputs": [],
   "source": [
    "df=df[['brand_model','body_type', 'price', 'age', 'km', 'Fuel', 'Type', 'prev_owner',\n",
    "       'Body Color', 'Paint Type', 'Gearing Type', 'hp', 'Consumption_comb',\n",
    "       'Consumption_city', 'Consumption_country', \n",
    "        'Comfort & Convenience', 'Entertainment & Media',\n",
    "        'Safety & Security','Extras','Upholstery_type','Upholstery_color', 'vat', 'Warranty', 'Body Color Original',\n",
    "       'Nr. of Doors', 'Nr. of Seats', 'Displacement', 'Cylinders', 'Weight',\n",
    "       'Drive chain', 'CO2 Emission', 'Emission Class', 'Gears'\n",
    "       ]]"
   ]
  },
  {
   "cell_type": "code",
   "execution_count": 196,
   "id": "7db917a6",
   "metadata": {},
   "outputs": [
    {
     "name": "stdout",
     "output_type": "stream",
     "text": [
      "<class 'pandas.core.frame.DataFrame'>\n",
      "RangeIndex: 15919 entries, 0 to 15918\n",
      "Data columns (total 33 columns):\n",
      " #   Column                 Non-Null Count  Dtype  \n",
      "---  ------                 --------------  -----  \n",
      " 0   brand_model            15919 non-null  object \n",
      " 1   body_type              15859 non-null  object \n",
      " 2   price                  15919 non-null  int64  \n",
      " 3   age                    14322 non-null  float64\n",
      " 4   km                     15919 non-null  object \n",
      " 5   Fuel                   15919 non-null  object \n",
      " 6   Type                   15917 non-null  object \n",
      " 7   prev_owner             9091 non-null   object \n",
      " 8   Body Color             15322 non-null  object \n",
      " 9   Paint Type             10147 non-null  object \n",
      " 10  Gearing Type           15919 non-null  object \n",
      " 11  hp                     15831 non-null  object \n",
      " 12  Consumption_comb       13834 non-null  float64\n",
      " 13  Consumption_city       13453 non-null  float64\n",
      " 14  Consumption_country    13501 non-null  float64\n",
      " 15  Comfort & Convenience  15919 non-null  object \n",
      " 16  Entertainment & Media  15919 non-null  object \n",
      " 17  Safety & Security      15919 non-null  object \n",
      " 18  Extras                 15919 non-null  object \n",
      " 19  Upholstery_type        11416 non-null  object \n",
      " 20  Upholstery_color       10897 non-null  object \n",
      " 21  vat                    11406 non-null  object \n",
      " 22  Warranty               4853 non-null   object \n",
      " 23  Body Color Original    12160 non-null  object \n",
      " 24  Nr. of Doors           15707 non-null  object \n",
      " 25  Nr. of Seats           14942 non-null  object \n",
      " 26  Displacement           12482 non-null  object \n",
      " 27  Cylinders              10239 non-null  object \n",
      " 28  Weight                 8945 non-null   float64\n",
      " 29  Drive chain            9061 non-null   object \n",
      " 30  CO2 Emission           13483 non-null  object \n",
      " 31  Emission Class         12291 non-null  object \n",
      " 32  Gears                  11207 non-null  object \n",
      "dtypes: float64(5), int64(1), object(27)\n",
      "memory usage: 4.0+ MB\n"
     ]
    }
   ],
   "source": [
    "df.info()"
   ]
  },
  {
   "cell_type": "code",
   "execution_count": 197,
   "id": "fbf95ba7",
   "metadata": {},
   "outputs": [
    {
     "data": {
      "text/plain": [
       "brand_model                  0\n",
       "body_type                   60\n",
       "price                        0\n",
       "age                       1597\n",
       "km                           0\n",
       "Fuel                         0\n",
       "Type                         2\n",
       "prev_owner                6828\n",
       "Body Color                 597\n",
       "Paint Type                5772\n",
       "Gearing Type                 0\n",
       "hp                          88\n",
       "Consumption_comb          2085\n",
       "Consumption_city          2466\n",
       "Consumption_country       2418\n",
       "Comfort & Convenience        0\n",
       "Entertainment & Media        0\n",
       "Safety & Security            0\n",
       "Extras                       0\n",
       "Upholstery_type           4503\n",
       "Upholstery_color          5022\n",
       "vat                       4513\n",
       "Warranty                 11066\n",
       "Body Color Original       3759\n",
       "Nr. of Doors               212\n",
       "Nr. of Seats               977\n",
       "Displacement              3437\n",
       "Cylinders                 5680\n",
       "Weight                    6974\n",
       "Drive chain               6858\n",
       "CO2 Emission              2436\n",
       "Emission Class            3628\n",
       "Gears                     4712\n",
       "dtype: int64"
      ]
     },
     "execution_count": 197,
     "metadata": {},
     "output_type": "execute_result"
    }
   ],
   "source": [
    "df.isnull().sum()"
   ]
  },
  {
   "cell_type": "code",
   "execution_count": 199,
   "id": "c7f8b097",
   "metadata": {},
   "outputs": [
    {
     "data": {
      "text/html": [
       "<div>\n",
       "<style scoped>\n",
       "    .dataframe tbody tr th:only-of-type {\n",
       "        vertical-align: middle;\n",
       "    }\n",
       "\n",
       "    .dataframe tbody tr th {\n",
       "        vertical-align: top;\n",
       "    }\n",
       "\n",
       "    .dataframe thead th {\n",
       "        text-align: right;\n",
       "    }\n",
       "</style>\n",
       "<table border=\"1\" class=\"dataframe\">\n",
       "  <thead>\n",
       "    <tr style=\"text-align: right;\">\n",
       "      <th></th>\n",
       "      <th>14429</th>\n",
       "      <th>2154</th>\n",
       "      <th>2602</th>\n",
       "    </tr>\n",
       "  </thead>\n",
       "  <tbody>\n",
       "    <tr>\n",
       "      <th>brand_model</th>\n",
       "      <td>Renault Clio</td>\n",
       "      <td>Audi A1</td>\n",
       "      <td>Audi A1</td>\n",
       "    </tr>\n",
       "    <tr>\n",
       "      <th>body_type</th>\n",
       "      <td>Sedans</td>\n",
       "      <td>Compact</td>\n",
       "      <td>Sedans</td>\n",
       "    </tr>\n",
       "    <tr>\n",
       "      <th>price</th>\n",
       "      <td>21900</td>\n",
       "      <td>24930</td>\n",
       "      <td>21850</td>\n",
       "    </tr>\n",
       "    <tr>\n",
       "      <th>age</th>\n",
       "      <td>1.0</td>\n",
       "      <td>0.0</td>\n",
       "      <td>NaN</td>\n",
       "    </tr>\n",
       "    <tr>\n",
       "      <th>km</th>\n",
       "      <td>18900</td>\n",
       "      <td>3200</td>\n",
       "      <td></td>\n",
       "    </tr>\n",
       "    <tr>\n",
       "      <th>Fuel</th>\n",
       "      <td>Benzine</td>\n",
       "      <td>Benzine</td>\n",
       "      <td>Benzine</td>\n",
       "    </tr>\n",
       "    <tr>\n",
       "      <th>Type</th>\n",
       "      <td>Used</td>\n",
       "      <td>Demonstration</td>\n",
       "      <td>New</td>\n",
       "    </tr>\n",
       "    <tr>\n",
       "      <th>prev_owner</th>\n",
       "      <td>1</td>\n",
       "      <td>1</td>\n",
       "      <td>NaN</td>\n",
       "    </tr>\n",
       "    <tr>\n",
       "      <th>Body Color</th>\n",
       "      <td>White</td>\n",
       "      <td>Grey</td>\n",
       "      <td>White</td>\n",
       "    </tr>\n",
       "    <tr>\n",
       "      <th>Paint Type</th>\n",
       "      <td>Metallic</td>\n",
       "      <td>Metallic</td>\n",
       "      <td>Uni/basic</td>\n",
       "    </tr>\n",
       "    <tr>\n",
       "      <th>Gearing Type</th>\n",
       "      <td>Automatic</td>\n",
       "      <td>Automatic</td>\n",
       "      <td>Manual</td>\n",
       "    </tr>\n",
       "    <tr>\n",
       "      <th>hp</th>\n",
       "      <td>162</td>\n",
       "      <td>85</td>\n",
       "      <td>85</td>\n",
       "    </tr>\n",
       "    <tr>\n",
       "      <th>Consumption_comb</th>\n",
       "      <td>5.9</td>\n",
       "      <td>4.8</td>\n",
       "      <td>4.8</td>\n",
       "    </tr>\n",
       "    <tr>\n",
       "      <th>Consumption_city</th>\n",
       "      <td>7.6</td>\n",
       "      <td>5.8</td>\n",
       "      <td>5.9</td>\n",
       "    </tr>\n",
       "    <tr>\n",
       "      <th>Consumption_country</th>\n",
       "      <td>5.0</td>\n",
       "      <td>4.2</td>\n",
       "      <td>4.0</td>\n",
       "    </tr>\n",
       "    <tr>\n",
       "      <th>Comfort &amp; Convenience</th>\n",
       "      <td>Air conditioning, Armrest, Automatic climate c...</td>\n",
       "      <td>Air conditioning, Armrest, Automatic climate c...</td>\n",
       "      <td>Air conditioning, Armrest, Electrical side mir...</td>\n",
       "    </tr>\n",
       "    <tr>\n",
       "      <th>Entertainment &amp; Media</th>\n",
       "      <td>Bluetooth, CD player, Hands-free equipment, MP...</td>\n",
       "      <td>Bluetooth, Hands-free equipment, MP3, On-board...</td>\n",
       "      <td>Bluetooth, MP3, On-board computer, Radio, USB</td>\n",
       "    </tr>\n",
       "    <tr>\n",
       "      <th>Safety &amp; Security</th>\n",
       "      <td>ABS, Alarm system, Central door lock, Central ...</td>\n",
       "      <td>ABS, Central door lock, Driver-side airbag, El...</td>\n",
       "      <td>ABS, Central door lock, Central door lock with...</td>\n",
       "    </tr>\n",
       "    <tr>\n",
       "      <th>Extras</th>\n",
       "      <td>Alloy wheels, Catalytic Converter, Shift paddl...</td>\n",
       "      <td>Catalytic Converter, Sport package, Sport susp...</td>\n",
       "      <td>Alloy wheels, Touch screen</td>\n",
       "    </tr>\n",
       "    <tr>\n",
       "      <th>Upholstery_type</th>\n",
       "      <td>Cloth</td>\n",
       "      <td>Cloth</td>\n",
       "      <td>Cloth</td>\n",
       "    </tr>\n",
       "    <tr>\n",
       "      <th>Upholstery_color</th>\n",
       "      <td>Black</td>\n",
       "      <td>Black</td>\n",
       "      <td>Grey</td>\n",
       "    </tr>\n",
       "    <tr>\n",
       "      <th>vat</th>\n",
       "      <td>None</td>\n",
       "      <td>VAT deductible</td>\n",
       "      <td>VAT deductible</td>\n",
       "    </tr>\n",
       "    <tr>\n",
       "      <th>Warranty</th>\n",
       "      <td>48</td>\n",
       "      <td>NaN</td>\n",
       "      <td>24</td>\n",
       "    </tr>\n",
       "    <tr>\n",
       "      <th>Body Color Original</th>\n",
       "      <td>NaN</td>\n",
       "      <td>Manhattangrau Metallic</td>\n",
       "      <td>Bianco</td>\n",
       "    </tr>\n",
       "    <tr>\n",
       "      <th>Nr. of Doors</th>\n",
       "      <td>5</td>\n",
       "      <td>4</td>\n",
       "      <td>5</td>\n",
       "    </tr>\n",
       "    <tr>\n",
       "      <th>Nr. of Seats</th>\n",
       "      <td>5</td>\n",
       "      <td>4</td>\n",
       "      <td>5</td>\n",
       "    </tr>\n",
       "    <tr>\n",
       "      <th>Displacement</th>\n",
       "      <td>1618</td>\n",
       "      <td>NaN</td>\n",
       "      <td>NaN</td>\n",
       "    </tr>\n",
       "    <tr>\n",
       "      <th>Cylinders</th>\n",
       "      <td>4</td>\n",
       "      <td>NaN</td>\n",
       "      <td>3</td>\n",
       "    </tr>\n",
       "    <tr>\n",
       "      <th>Weight</th>\n",
       "      <td>1279.0</td>\n",
       "      <td>NaN</td>\n",
       "      <td>1180.0</td>\n",
       "    </tr>\n",
       "    <tr>\n",
       "      <th>Drive chain</th>\n",
       "      <td>front</td>\n",
       "      <td>front</td>\n",
       "      <td>front</td>\n",
       "    </tr>\n",
       "    <tr>\n",
       "      <th>CO2 Emission</th>\n",
       "      <td>135</td>\n",
       "      <td>108</td>\n",
       "      <td>108</td>\n",
       "    </tr>\n",
       "    <tr>\n",
       "      <th>Emission Class</th>\n",
       "      <td>Euro 6</td>\n",
       "      <td>Euro 6</td>\n",
       "      <td>Euro 6</td>\n",
       "    </tr>\n",
       "    <tr>\n",
       "      <th>Gears</th>\n",
       "      <td>6</td>\n",
       "      <td>NaN</td>\n",
       "      <td>6</td>\n",
       "    </tr>\n",
       "  </tbody>\n",
       "</table>\n",
       "</div>"
      ],
      "text/plain": [
       "                                                                   14429  \\\n",
       "brand_model                                                 Renault Clio   \n",
       "body_type                                                         Sedans   \n",
       "price                                                              21900   \n",
       "age                                                                  1.0   \n",
       "km                                                                 18900   \n",
       "Fuel                                                             Benzine   \n",
       "Type                                                                Used   \n",
       "prev_owner                                                             1   \n",
       "Body Color                                                         White   \n",
       "Paint Type                                                      Metallic   \n",
       "Gearing Type                                                   Automatic   \n",
       "hp                                                                   162   \n",
       "Consumption_comb                                                     5.9   \n",
       "Consumption_city                                                     7.6   \n",
       "Consumption_country                                                  5.0   \n",
       "Comfort & Convenience  Air conditioning, Armrest, Automatic climate c...   \n",
       "Entertainment & Media  Bluetooth, CD player, Hands-free equipment, MP...   \n",
       "Safety & Security      ABS, Alarm system, Central door lock, Central ...   \n",
       "Extras                 Alloy wheels, Catalytic Converter, Shift paddl...   \n",
       "Upholstery_type                                                    Cloth   \n",
       "Upholstery_color                                                   Black   \n",
       "vat                                                                 None   \n",
       "Warranty                                                             48    \n",
       "Body Color Original                                                  NaN   \n",
       "Nr. of Doors                                                           5   \n",
       "Nr. of Seats                                                           5   \n",
       "Displacement                                                        1618   \n",
       "Cylinders                                                              4   \n",
       "Weight                                                            1279.0   \n",
       "Drive chain                                                        front   \n",
       "CO2 Emission                                                         135   \n",
       "Emission Class                                                    Euro 6   \n",
       "Gears                                                                  6   \n",
       "\n",
       "                                                                   2154   \\\n",
       "brand_model                                                      Audi A1   \n",
       "body_type                                                        Compact   \n",
       "price                                                              24930   \n",
       "age                                                                  0.0   \n",
       "km                                                                  3200   \n",
       "Fuel                                                             Benzine   \n",
       "Type                                                       Demonstration   \n",
       "prev_owner                                                             1   \n",
       "Body Color                                                          Grey   \n",
       "Paint Type                                                      Metallic   \n",
       "Gearing Type                                                   Automatic   \n",
       "hp                                                                    85   \n",
       "Consumption_comb                                                     4.8   \n",
       "Consumption_city                                                     5.8   \n",
       "Consumption_country                                                  4.2   \n",
       "Comfort & Convenience  Air conditioning, Armrest, Automatic climate c...   \n",
       "Entertainment & Media  Bluetooth, Hands-free equipment, MP3, On-board...   \n",
       "Safety & Security      ABS, Central door lock, Driver-side airbag, El...   \n",
       "Extras                 Catalytic Converter, Sport package, Sport susp...   \n",
       "Upholstery_type                                                    Cloth   \n",
       "Upholstery_color                                                   Black   \n",
       "vat                                                       VAT deductible   \n",
       "Warranty                                                             NaN   \n",
       "Body Color Original                               Manhattangrau Metallic   \n",
       "Nr. of Doors                                                           4   \n",
       "Nr. of Seats                                                           4   \n",
       "Displacement                                                         NaN   \n",
       "Cylinders                                                            NaN   \n",
       "Weight                                                               NaN   \n",
       "Drive chain                                                        front   \n",
       "CO2 Emission                                                         108   \n",
       "Emission Class                                                    Euro 6   \n",
       "Gears                                                                NaN   \n",
       "\n",
       "                                                                   2602   \n",
       "brand_model                                                      Audi A1  \n",
       "body_type                                                         Sedans  \n",
       "price                                                              21850  \n",
       "age                                                                  NaN  \n",
       "km                                                                        \n",
       "Fuel                                                             Benzine  \n",
       "Type                                                                 New  \n",
       "prev_owner                                                           NaN  \n",
       "Body Color                                                         White  \n",
       "Paint Type                                                     Uni/basic  \n",
       "Gearing Type                                                      Manual  \n",
       "hp                                                                    85  \n",
       "Consumption_comb                                                     4.8  \n",
       "Consumption_city                                                     5.9  \n",
       "Consumption_country                                                  4.0  \n",
       "Comfort & Convenience  Air conditioning, Armrest, Electrical side mir...  \n",
       "Entertainment & Media      Bluetooth, MP3, On-board computer, Radio, USB  \n",
       "Safety & Security      ABS, Central door lock, Central door lock with...  \n",
       "Extras                                        Alloy wheels, Touch screen  \n",
       "Upholstery_type                                                    Cloth  \n",
       "Upholstery_color                                                    Grey  \n",
       "vat                                                       VAT deductible  \n",
       "Warranty                                                             24   \n",
       "Body Color Original                                               Bianco  \n",
       "Nr. of Doors                                                           5  \n",
       "Nr. of Seats                                                           5  \n",
       "Displacement                                                         NaN  \n",
       "Cylinders                                                              3  \n",
       "Weight                                                            1180.0  \n",
       "Drive chain                                                        front  \n",
       "CO2 Emission                                                         108  \n",
       "Emission Class                                                    Euro 6  \n",
       "Gears                                                                  6  "
      ]
     },
     "execution_count": 199,
     "metadata": {},
     "output_type": "execute_result"
    }
   ],
   "source": [
    "df.sample(3).T"
   ]
  },
  {
   "cell_type": "code",
   "execution_count": 200,
   "id": "1d588060",
   "metadata": {},
   "outputs": [],
   "source": [
    "df.to_csv('clean_scout_auto.csv',index=False)"
   ]
  },
  {
   "cell_type": "code",
   "execution_count": null,
   "id": "8f8696d7",
   "metadata": {},
   "outputs": [],
   "source": []
  }
 ],
 "metadata": {
  "kernelspec": {
   "display_name": "Python 3 (ipykernel)",
   "language": "python",
   "name": "python3"
  },
  "language_info": {
   "codemirror_mode": {
    "name": "ipython",
    "version": 3
   },
   "file_extension": ".py",
   "mimetype": "text/x-python",
   "name": "python",
   "nbconvert_exporter": "python",
   "pygments_lexer": "ipython3",
   "version": "3.9.7"
  }
 },
 "nbformat": 4,
 "nbformat_minor": 5
}
